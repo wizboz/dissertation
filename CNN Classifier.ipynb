{
  "cells": [
    {
      "cell_type": "markdown",
      "source": [
        "#### Prelude"
      ],
      "metadata": {
        "id": "dWkJiY0Ss_Lq"
      }
    },
    {
      "cell_type": "code",
      "execution_count": null,
      "metadata": {
        "id": "t7URsZFp5Xip"
      },
      "outputs": [],
      "source": [
        "!pip install torch torchaudio datasets"
      ]
    },
    {
      "cell_type": "code",
      "execution_count": null,
      "metadata": {
        "id": "J6JmX-UuWK9J",
        "colab": {
          "base_uri": "https://localhost:8080/"
        },
        "outputId": "7bb146f7-521a-43c7-870d-ddfcb8d7fadd"
      },
      "outputs": [
        {
          "output_type": "stream",
          "name": "stdout",
          "text": [
            "Token will not been saved to git credential helper. Pass `add_to_git_credential=True` if you want to set the git credential as well.\n",
            "Token is valid (permission: write).\n",
            "Your token has been saved to /root/.cache/huggingface/token\n",
            "Login successful\n"
          ]
        }
      ],
      "source": [
        "import torch\n",
        "import librosa\n",
        "import os\n",
        "import numpy as np\n",
        "import random\n",
        "import torchaudio\n",
        "import torch.nn as nn\n",
        "import torch.nn.functional as F\n",
        "import torch.optim as optim\n",
        "from sklearn.utils.class_weight import compute_class_weight\n",
        "from tqdm.notebook import tqdm\n",
        "from torch.utils.data import DataLoader\n",
        "from typing import List, Dict, Tuple\n",
        "from torch import Tensor\n",
        "from datasets import Audio, Dataset, load_dataset\n",
        "from huggingface_hub import login\n",
        "\n",
        "my_token = \"REDACTED\"\n",
        "\n",
        "assert my_token != \"REDACTED\", \"Please provide a huggingface token.\"\n",
        "login(token=my_token)"
      ]
    },
    {
      "cell_type": "code",
      "execution_count": null,
      "metadata": {
        "colab": {
          "base_uri": "https://localhost:8080/"
        },
        "id": "MrZd3zjc7Dg_",
        "outputId": "573f5229-5484-44b7-94f3-82b99b162111"
      },
      "outputs": [
        {
          "output_type": "stream",
          "name": "stdout",
          "text": [
            "Using GPU\n"
          ]
        }
      ],
      "source": [
        "if torch.cuda.is_available():\n",
        "    dev = \"cuda:0\"\n",
        "    print(\"Using GPU\")\n",
        "else:\n",
        "    print(\"No GPU, training may be slow\")\n",
        "    dev = \"cpu\""
      ]
    },
    {
      "cell_type": "markdown",
      "source": [
        "### Preprocessing"
      ],
      "metadata": {
        "id": "6WSl0UPTs-PS"
      }
    },
    {
      "cell_type": "code",
      "source": [
        "MIN_SECONDS = 3\n",
        "# Determine classes\n",
        "accents = {\"United States English\": 0,\n",
        "               \"England English\": 1,\n",
        "               \"India and South Asia (India, Pakistan, Sri Lanka)\": 2}\n",
        "sampling_rate = 16_000\n",
        "\n",
        "\n",
        "def process_data(dataset: Dataset, filter: bool = True, mspec_only: bool = False) -> Dataset:\n",
        "    \"\"\"Preprocessing data pipeline.\n",
        "\n",
        "    Note that the dataset is not modified in place.\n",
        "    \"\"\"\n",
        "\n",
        "    def encode_accent(example):\n",
        "        example['accent'] = accents[example['accent']]\n",
        "        return example\n",
        "\n",
        "    def trim_audio(example):\n",
        "        example[\"audio\"][\"array\"], index = librosa.effects.trim(y=example[\"audio\"][\"array\"])\n",
        "        return batch\n",
        "\n",
        "    def crop_audio(batch):\n",
        "        batch[\"audio\"][\"array\"] = batch[\"audio\"][\"array\"][:MIN_SECONDS * sampling_rate]\n",
        "        return batch\n",
        "\n",
        "    def extract_features(example):\n",
        "        audio = example[\"audio\"]\n",
        "        example[\"mspec\"] = librosa.feature.melspectrogram(y=audio[\"array\"], sr=audio[\"sampling_rate\"], n_mels=64, power=1.0).astype(\"double\")\n",
        "        if not mspec_only:\n",
        "          example[\"log_mspec\"] = librosa.amplitude_to_db(example[\"mspec\"])\n",
        "          example[\"mfcc\"] = librosa.feature.mfcc(y=audio[\"array\"], n_mfcc=13, sr=audio[\"sampling_rate\"]).astype(\"double\")\n",
        "        return example\n",
        "\n",
        "    def add_noise(example, STD_n=0.001):\n",
        "        noise = np.random.normal(0, STD_n, example[\"audio\"][\"array\"].shape[0])\n",
        "        example[\"audio\"][\"array\"] = example[\"audio\"][\"array\"]+ noise\n",
        "        return example\n",
        "\n",
        "    def balance_data(example):\n",
        "        return example[\"accent\"] != \"United States English\" or random.randint(0, 2) == 0\n",
        "\n",
        "    # Remove columns other than audio and accent\n",
        "    # n.b. using a list rather than a set so that caching works\n",
        "    dataset = dataset.select_columns([\"audio\", \"accent\"])\n",
        "    # Fix sampling rate\n",
        "    dataset = dataset.cast_column(\"audio\", Audio(sampling_rate=sampling_rate))\n",
        "\n",
        "    # Remove unwanted accents\n",
        "    dataset = dataset.filter(lambda x: x[\"accent\"] in accents)\n",
        "\n",
        "    if filter:\n",
        "      # Remove a third of US accent samples to balance the data\n",
        "\n",
        "      # Set the random seed here so that filtered data is consistent,\n",
        "      # meaning that the Hugging Face library can use the same cache\n",
        "      # between runs.\n",
        "      random.seed(a=1)\n",
        "      dataset = dataset.filter(balance_data)\n",
        "\n",
        "    # Trim silence at beginning and end of clip\n",
        "    dataset = dataset.map(trim_audio)\n",
        "\n",
        "    # Filter out short clips\n",
        "    # n.b. this has to be done *after* trimming\n",
        "    dataset = dataset.filter(lambda clip: clip[\"audio\"][\"array\"].shape[0] > MIN_SECONDS * sampling_rate)\n",
        "\n",
        "    # Trim anything past MIN_SECONDS\n",
        "    dataset = dataset.map(crop_audio)\n",
        "\n",
        "    # Encode labels\n",
        "    dataset = dataset.map(encode_accent)\n",
        "\n",
        "    # Add gaussian noise\n",
        "    dataset = dataset.map(add_noise)\n",
        "\n",
        "    # Feature Extraction\n",
        "    dataset = dataset.map(extract_features)\n",
        "\n",
        "    # Remove raw audio column now that we've computed MFCCs and MSpecs\n",
        "    dataset = dataset.remove_columns([\"audio\"])\n",
        "\n",
        "    # Shuffle data\n",
        "    # Use seed to ensure consistent shuffle\n",
        "    dataset = dataset.shuffle(seed=42)\n",
        "\n",
        "    # Convert into pytorch tensors and move to GPU if applicable\n",
        "    dataset = dataset.with_format(\"torch\", device=dev)\n",
        "\n",
        "    return dataset"
      ],
      "metadata": {
        "id": "YQ9xCwqOMToS"
      },
      "execution_count": null,
      "outputs": []
    },
    {
      "cell_type": "code",
      "source": [
        "# Load Common Voice dataset from Hugging Face\n",
        "dataset = load_dataset(\"mozilla-foundation/common_voice_13_0\", \"en\", split=\"train\", cache_dir=\"cache\")\n",
        "\n",
        "dataset = process_data(dataset)\n",
        "\n",
        "# Batching\n",
        "dataloader = DataLoader(dataset, batch_size=64)\n",
        "\n",
        "# Compute class weights based on data\n",
        "weights = compute_class_weight(\"balanced\", classes=[0, 1, 2], y=dataset[\"train\"].select_columns([\"accent\"]).to_pandas()[\"accent\"])"
      ],
      "metadata": {
        "id": "05XK_JplPSCL"
      },
      "execution_count": null,
      "outputs": []
    },
    {
      "cell_type": "code",
      "source": [
        "# Load Validation set\n",
        "val = load_dataset(\"mozilla-foundation/common_voice_13_0\", \"en\", split=\"validation\", cache_dir=\"cache\")\n",
        "\n",
        "val = process_data(val, filter=False)\n",
        "\n",
        "# Batching\n",
        "valloader = DataLoader(val, batch_size=32)"
      ],
      "metadata": {
        "id": "3mK63OYjQTjj"
      },
      "execution_count": null,
      "outputs": []
    },
    {
      "cell_type": "code",
      "source": [
        "# Load test set\n",
        "test = load_dataset(\"mozilla-foundation/common_voice_13_0\", \"en\", split=\"test\", cache_dir=\"cache\")\n",
        "\n",
        "test = process_data(test, filter=False, mspec_only=True)\n",
        "\n",
        "# Batching\n",
        "testloader = DataLoader(test, batch_size=32)"
      ],
      "metadata": {
        "id": "rC3tue06J1jl"
      },
      "execution_count": null,
      "outputs": []
    },
    {
      "cell_type": "markdown",
      "source": [
        "#### Data Exploration"
      ],
      "metadata": {
        "id": "C5foJlKf4rx1"
      }
    },
    {
      "cell_type": "code",
      "source": [
        "# Load .tsv file for Common Voice\n",
        "filename = \"/content/drive/MyDrive/Diss/CV13/train.tsv\"\n",
        "data = pd.read_csv(filename, sep='\\t')"
      ],
      "metadata": {
        "id": "riq57g4JpnUD"
      },
      "execution_count": null,
      "outputs": []
    },
    {
      "cell_type": "code",
      "source": [
        "# Drop items with no accent value\n",
        "data = data.dropna(subset=[\"accents\"])"
      ],
      "metadata": {
        "id": "ZMnI-Z8Upxn4"
      },
      "execution_count": null,
      "outputs": []
    },
    {
      "cell_type": "code",
      "source": [
        "# Top 30 accents based on number of samples\n",
        "accents = data[\"accents\"].value_counts()\n",
        "accents[0:30]"
      ],
      "metadata": {
        "colab": {
          "base_uri": "https://localhost:8080/"
        },
        "id": "ucWWU4YRU5gD",
        "outputId": "c64316df-bffa-4e8c-a96c-f1fb115be622"
      },
      "execution_count": null,
      "outputs": [
        {
          "output_type": "execute_result",
          "data": {
            "text/plain": [
              "United States English                                               262964\n",
              "England English                                                      80966\n",
              "India and South Asia (India, Pakistan, Sri Lanka)                    80488\n",
              "Canadian English                                                     49129\n",
              "German English,Non native speaker                                    44314\n",
              "Australian English                                                   34095\n",
              "Scottish English                                                     11435\n",
              "Northern Irish                                                        8671\n",
              "Irish English                                                         6527\n",
              "New Zealand English                                                   5675\n",
              "Southern African (South Africa, Zimbabwe, Namibia)                    4565\n",
              "Filipino                                                              4024\n",
              "Hong Kong English                                                     2989\n",
              "Singaporean English                                                   2804\n",
              "Liverpool English,Lancashire English,England English                  2574\n",
              "England English,New Zealand English                                   2076\n",
              "Transatlantic English,United States English                           1185\n",
              "Malaysian English                                                     1055\n",
              "United States English,Midwestern,Low,Demure                            985\n",
              "Welsh English                                                          798\n",
              "United States English,England English                                  594\n",
              "southern United States,United States English                           489\n",
              "Academic southern English,England English                              412\n",
              "United States English,southern United States,New Orleans dialect       333\n",
              "United States English,Midwestern,Minnesotan                            328\n",
              "West Indies and Bermuda (Bahamas, Bermuda, Jamaica, Trinidad)          312\n",
              "Nepali                                                                 300\n",
              "East African Khoja                                                     271\n",
              "New Zealand English,England English                                    252\n",
              "Unite States Midwest,United States English                             238\n",
              "Name: accents, dtype: int64"
            ]
          },
          "metadata": {},
          "execution_count": 25
        }
      ]
    },
    {
      "cell_type": "code",
      "source": [
        "# Top 30 samples based on number of unique speakers\n",
        "data = data.drop_duplicates(subset=\"client_id\", keep=\"last\")\n",
        "unique_accents = data[\"accents\"].value_counts()\n",
        "unique_accents[0:30]"
      ],
      "metadata": {
        "colab": {
          "base_uri": "https://localhost:8080/"
        },
        "id": "YdIKE-nbisWj",
        "outputId": "defd8dc7-672f-4e4c-bdd2-4fa619e95f49"
      },
      "execution_count": null,
      "outputs": [
        {
          "output_type": "execute_result",
          "data": {
            "text/plain": [
              "United States English                                                      4772\n",
              "England English                                                            1405\n",
              "India and South Asia (India, Pakistan, Sri Lanka)                          1168\n",
              "Canadian English                                                            596\n",
              "Australian English                                                          408\n",
              "Southern African (South Africa, Zimbabwe, Namibia)                          142\n",
              "Irish English                                                               111\n",
              "Scottish English                                                            100\n",
              "New Zealand English                                                          96\n",
              "Filipino                                                                     77\n",
              "Hong Kong English                                                            73\n",
              "Malaysian English                                                            59\n",
              "Singaporean English                                                          48\n",
              "Welsh English                                                                44\n",
              "West Indies and Bermuda (Bahamas, Bermuda, Jamaica, Trinidad)                21\n",
              "United States English,England English                                        14\n",
              "England English,United States English                                         9\n",
              "German English                                                                7\n",
              "German                                                                        6\n",
              "United States English,Canadian English                                        5\n",
              "India and South Asia (India, Pakistan, Sri Lanka),England English             4\n",
              "United States English,India and South Asia (India, Pakistan, Sri Lanka)       4\n",
              "Russian                                                                       4\n",
              "French                                                                        4\n",
              "United States English,Midwestern United States English                        3\n",
              "Slavic                                                                        3\n",
              "Northern Irish                                                                3\n",
              "New Zealand English,England English                                           2\n",
              "Eastern European English                                                      2\n",
              "Thai                                                                          2\n",
              "Name: accents, dtype: int64"
            ]
          },
          "metadata": {},
          "execution_count": 26
        }
      ]
    },
    {
      "cell_type": "code",
      "execution_count": null,
      "metadata": {
        "colab": {
          "base_uri": "https://localhost:8080/",
          "height": 467
        },
        "id": "8BOXa7AC5jDV",
        "outputId": "7eee869d-292b-4af4-bc6d-594db46b0088"
      },
      "outputs": [
        {
          "data": {
            "image/png": "[encoded data removed]",
            "text/plain": [
              "<Figure size 1000x500 with 2 Axes>"
            ]
          },
          "metadata": {},
          "output_type": "display_data"
        }
      ],
      "source": [
        "# Display Linear Mel-Spectrogram\n",
        "\n",
        "mspec = dataset[\"mspec\"][0]\n",
        "plt.figure(figsize=(10, 5))\n",
        "librosa.display.specshow(mspec, sr=sampling_rate, x_axis=\"time\", y_axis=\"hz\")\n",
        "plt.colorbar();"
      ]
    },
    {
      "cell_type": "code",
      "source": [
        "dataset.select_columns([\"accent\"]).to_pandas()[\"accent\"].value_counts()"
      ],
      "metadata": {
        "colab": {
          "base_uri": "https://localhost:8080/"
        },
        "id": "bj0UnQksd99B",
        "outputId": "721c5e71-1fc5-4460-c8e9-d820f49d70db"
      },
      "execution_count": null,
      "outputs": [
        {
          "output_type": "execute_result",
          "data": {
            "text/plain": [
              "0    57893\n",
              "1    51962\n",
              "2    32817\n",
              "Name: accent, dtype: int64"
            ]
          },
          "metadata": {},
          "execution_count": 39
        }
      ]
    },
    {
      "cell_type": "code",
      "source": [
        "val.select_columns([\"accent\"]).to_pandas()[\"accent\"].value_counts()"
      ],
      "metadata": {
        "colab": {
          "base_uri": "https://localhost:8080/"
        },
        "id": "lBWLJGMXPZxF",
        "outputId": "767aa487-26af-483a-e4f4-d4a7043eb19e"
      },
      "execution_count": null,
      "outputs": [
        {
          "output_type": "execute_result",
          "data": {
            "text/plain": [
              "0    836\n",
              "1    330\n",
              "2    196\n",
              "Name: accent, dtype: int64"
            ]
          },
          "metadata": {},
          "execution_count": 36
        }
      ]
    },
    {
      "cell_type": "code",
      "source": [
        "test.select_columns([\"accent\"]).to_pandas()[\"accent\"].value_counts()"
      ],
      "metadata": {
        "colab": {
          "base_uri": "https://localhost:8080/"
        },
        "id": "oCMYbf82POBC",
        "outputId": "1870730a-6b95-4117-b094-cb63eb1ad7ee"
      },
      "execution_count": null,
      "outputs": [
        {
          "output_type": "execute_result",
          "data": {
            "text/plain": [
              "0    615\n",
              "2    327\n",
              "1    171\n",
              "Name: accent, dtype: int64"
            ]
          },
          "metadata": {},
          "execution_count": 37
        }
      ]
    },
    {
      "cell_type": "markdown",
      "source": [
        "### Network Design\n"
      ],
      "metadata": {
        "id": "74nkAx4LtKy6"
      }
    },
    {
      "cell_type": "code",
      "source": [
        "import torch.nn as nn\n",
        "import torch.nn.functional as F\n",
        "\n",
        "import torch.optim as optim\n",
        "from tqdm import tqdm"
      ],
      "metadata": {
        "id": "e4GclMb0yx3v"
      },
      "execution_count": null,
      "outputs": []
    },
    {
      "cell_type": "code",
      "source": [
        "# Neural Network 1D\n",
        "\n",
        "def build_1d_net(column: str):\n",
        "    return Net1D(column).to(dev)\n",
        "\n",
        "\n",
        "class Net1D(nn.Module):\n",
        "    def __init__(self, column: str):\n",
        "        super().__init__()\n",
        "        if column =='mfcc':\n",
        "            input_dim = 13 # Use for mfccs\n",
        "        else:\n",
        "            input_dim = 64 # Use for mspecs\n",
        "        self.conv1 = nn.Conv1d(input_dim, 6, 5)\n",
        "        self.bn1 = nn.BatchNorm1d(6)\n",
        "        self.pool1 = nn.MaxPool1d(2, 2)\n",
        "        self.conv2 = nn.Conv1d(6, 16, 5)\n",
        "        self.bn2 = nn.BatchNorm1d(16)\n",
        "        self.pool2 = nn.MaxPool1d(2, 2)\n",
        "        self.drop = nn.Dropout(0.2)\n",
        "        self.fc1 = nn.Linear(816, 120)\n",
        "        self.fc2 = nn.Linear(120, 84)\n",
        "        self.fc3 = nn.Linear(84, 3)\n",
        "\n",
        "    def forward(self, x):\n",
        "        x = self.bn1(F.relu(self.conv1(x)))\n",
        "        x = self.pool1(x)\n",
        "        x = self.bn2(F.relu(self.conv2(x)))\n",
        "        x = self.pool2(x)\n",
        "        x = self.drop(x)\n",
        "        x = torch.flatten(x, 1) # flatten all dimensions except batch\n",
        "        x = F.relu(self.fc1(x))\n",
        "        x = F.relu(self.fc2(x))\n",
        "        x = self.fc3(x)\n",
        "        return x"
      ],
      "metadata": {
        "id": "YZgT3Dmhy5iy"
      },
      "execution_count": null,
      "outputs": []
    },
    {
      "cell_type": "code",
      "source": [
        "# Neural Network 2D\n",
        "\n",
        "def build_2d_net(column: str):\n",
        "    return Net2D(column).to(dev)\n",
        "\n",
        "class Net2D(nn.Module):\n",
        "    def __init__(self, column: str):\n",
        "        super().__init__()\n",
        "        if column =='mfcc':\n",
        "            fc1_dim = 3392 # Use for mfccs\n",
        "        else:\n",
        "            fc1_dim = 47488 # Use for mspecs\n",
        "        self.conv1 = nn.Conv2d(1, 32, (3, 3))\n",
        "        self.bn1 = nn.BatchNorm2d(32)\n",
        "        self.pool1 = nn.MaxPool2d(2, 2)\n",
        "        self.conv2 = nn.Conv2d(32, 64, (3, 3))\n",
        "        self.bn2 = nn.BatchNorm2d(64)\n",
        "        self.pool2 = nn.MaxPool2d(2, 2)\n",
        "        self.fc1 = nn.Linear(fc1_dim, 120)\n",
        "        self.fc2 = nn.Linear(120, 84)\n",
        "        self.fc3 = nn.Linear(84, 3)\n",
        "        self.drop = nn.Dropout(0.2)\n",
        "\n",
        "    def forward(self, x):\n",
        "        # Add channel dimension\n",
        "        x = x.unsqueeze(1)\n",
        "        x = self.bn1(F.relu(self.conv1(x)))\n",
        "        x = self.pool1(x)\n",
        "        x = self.bn2(F.relu(self.conv2(x)))\n",
        "        x = self.pool2(x)\n",
        "        x = torch.flatten(x, 1) # flatten all dimensions except batch\n",
        "        x = F.relu(self.fc1(x))\n",
        "        x = F.relu(self.fc2(x))\n",
        "        x = self.drop(x)\n",
        "        x = self.fc3(x)\n",
        "        return x"
      ],
      "metadata": {
        "id": "G47WsMYUy7r4"
      },
      "execution_count": null,
      "outputs": []
    },
    {
      "cell_type": "code",
      "source": [
        "# Training\n",
        "\n",
        "def train_model(model: nn.Module, column: str, epochs: int = 50, lr: float = 0.001, evalloader: DataLoader = valloader):\n",
        "\n",
        "    criterion = nn.CrossEntropyLoss(weight=torch.from_numpy(weights).float().to(dev))\n",
        "    optimizer = optim.Adam(model.parameters(), lr=lr)\n",
        "\n",
        "    val_loss = []\n",
        "    val_accuracy = []\n",
        "    train_loss = []\n",
        "    train_accuracy = []\n",
        "\n",
        "    for epoch in range(epochs):\n",
        "        # Measure loss on training set\n",
        "        train_correct = 0\n",
        "        train_total = 0\n",
        "        train_running_loss = 0.0\n",
        "        for i, data in enumerate(tqdm(dataloader)):\n",
        "            # zero the parameter gradients\n",
        "            optimizer.zero_grad()\n",
        "\n",
        "            outputs, labels, inputs = generate_outputs(model, column, data)\n",
        "\n",
        "            # forward + backward + optimize\n",
        "            loss = criterion(outputs, labels)\n",
        "            loss.backward()\n",
        "            optimizer.step()\n",
        "\n",
        "            batch_correct, batch_total = calculate_accuracy(outputs, labels)\n",
        "            train_running_loss += loss.item()\n",
        "            train_correct += batch_correct\n",
        "            train_total += batch_total\n",
        "        train_loss.append(train_running_loss)\n",
        "        train_accuracy.append(train_correct / train_total)\n",
        "\n",
        "        # Measure loss on validation set\n",
        "        val_correct = 0\n",
        "        val_total = 0\n",
        "        val_running_loss = 0.0\n",
        "        for batch in tqdm(evalloader):\n",
        "            val_outputs, val_labels, _ = generate_outputs(model, column, batch)\n",
        "            batch_val_correct, batch_val_total = calculate_accuracy(val_outputs, val_labels)\n",
        "            val_correct += batch_val_correct\n",
        "            val_total += batch_val_total\n",
        "            val_running_loss += criterion(val_outputs, val_labels).item()\n",
        "        val_loss.append(val_running_loss)\n",
        "        val_accuracy.append(val_correct / val_total)\n",
        "\n",
        "        print(f\"[{epoch + 1}] validation loss,  validation accuracy: {val_running_loss:.3f}, {val_correct / val_total}. train loss, train accuracy: {train_running_loss:.3f}, {train_correct / train_total}\")\n",
        "\n",
        "    print(\"Finished Training\")\n",
        "    print(train_loss, train_accuracy, val_loss, val_accuracy)\n",
        "    return model\n",
        "\n",
        "\n",
        "def generate_outputs(model, column, data):\n",
        "    inputs, labels = data[column].float(), data[\"accent\"]\n",
        "    outputs = model(inputs)\n",
        "    return outputs, labels, inputs\n",
        "\n",
        "def calculate_predictions(outputs):\n",
        "    _, predicted = torch.max(outputs.data, 1)\n",
        "    return predicted\n",
        "\n",
        "def calculate_accuracy(outputs, labels):\n",
        "    predicted = calculate_predictions(outputs)\n",
        "    total = labels.size(0)\n",
        "    correct = (predicted == labels).sum().item()\n",
        "    return correct, total"
      ],
      "metadata": {
        "id": "k0DrGUqHUYTU"
      },
      "execution_count": null,
      "outputs": []
    },
    {
      "cell_type": "markdown",
      "source": [
        "### Experiment 1: Input Features and Model Dimension"
      ],
      "metadata": {
        "id": "EVE9fYiRvmip"
      }
    },
    {
      "cell_type": "markdown",
      "source": [
        "#### MFCCs"
      ],
      "metadata": {
        "id": "IuLQzPAcF12U"
      }
    },
    {
      "cell_type": "code",
      "execution_count": null,
      "metadata": {
        "colab": {
          "base_uri": "https://localhost:8080/",
          "referenced_widgets": [
            "b06f74c78d1144d6b3e6a62369588ef9",
            "5a181747c219493a8b8714fb96fc1d51",
            "14caca576b6948abb2b16c2ca9a712dd",
            "a9f272bcef6c497a9a93c686db10986f",
            "00962a53490342e298dccb04a81f109c",
            "6571b20a4ec04553ba433a0c3b745faa",
            "0d21952997fc4dc9bf9fb335a56b1ef8",
            "b4aeeb9bac7f4e4f8a946b33794a3aa3",
            "720ac4ef7b8f429889aaad30f966314e",
            "f682cb62d02d4c299a25296cc153bb9b",
            "bcff0deb154a4c739c25b3361fee7ccb",
            "dbb9b5b196f44a16a20f1c1832d03924",
            "fc357de17837416f89d38361d4032cc0",
            "310238d39d794e9c9fc938e0be6d8e92",
            "fd458c19a74b424695549bd0ef05f287",
            "3ed0fbb1196f45f78ec489a5f136a48a",
            "eba94c9c9bc14ba8914a817f39d1d6c6",
            "96f32b6ad9524a0588c7b54e9faaa264",
            "7031cf704d9741d2815fb4b32ad278aa",
            "6cda277c8ada485fa4ed6670f3968844"
          ]
        },
        "outputId": "cc9948f1-61cf-482e-f115-95d3ccdf04da",
        "id": "KJaAJnhQr9Y6"
      },
      "outputs": [
        {
          "data": {
            "application/vnd.jupyter.widget-view+json": {
              "model_id": "b06f74c78d1144d6b3e6a62369588ef9",
              "version_major": 2,
              "version_minor": 0
            },
            "text/plain": [
              "  0%|          | 0/2230 [00:00<?, ?it/s]"
            ]
          },
          "metadata": {},
          "output_type": "display_data"
        },
        {
          "data": {
            "application/vnd.jupyter.widget-view+json": {
              "model_id": "5a181747c219493a8b8714fb96fc1d51",
              "version_major": 2,
              "version_minor": 0
            },
            "text/plain": [
              "  0%|          | 0/22 [00:00<?, ?it/s]"
            ]
          },
          "metadata": {},
          "output_type": "display_data"
        },
        {
          "name": "stdout",
          "output_type": "stream",
          "text": [
            "[1] validation loss,  validation accuracy: 23.359, 0.48091042584434657. train loss, train accuracy: 2031.402, 0.5589674217786251\n"
          ]
        },
        {
          "data": {
            "application/vnd.jupyter.widget-view+json": {
              "model_id": "14caca576b6948abb2b16c2ca9a712dd",
              "version_major": 2,
              "version_minor": 0
            },
            "text/plain": [
              "  0%|          | 0/2230 [00:00<?, ?it/s]"
            ]
          },
          "metadata": {},
          "output_type": "display_data"
        },
        {
          "data": {
            "application/vnd.jupyter.widget-view+json": {
              "model_id": "a9f272bcef6c497a9a93c686db10986f",
              "version_major": 2,
              "version_minor": 0
            },
            "text/plain": [
              "  0%|          | 0/22 [00:00<?, ?it/s]"
            ]
          },
          "metadata": {},
          "output_type": "display_data"
        },
        {
          "name": "stdout",
          "output_type": "stream",
          "text": [
            "[2] validation loss,  validation accuracy: 23.456, 0.4720998531571219. train loss, train accuracy: 1887.714, 0.602024223393518\n"
          ]
        },
        {
          "data": {
            "application/vnd.jupyter.widget-view+json": {
              "model_id": "00962a53490342e298dccb04a81f109c",
              "version_major": 2,
              "version_minor": 0
            },
            "text/plain": [
              "  0%|          | 0/2230 [00:00<?, ?it/s]"
            ]
          },
          "metadata": {},
          "output_type": "display_data"
        },
        {
          "data": {
            "application/vnd.jupyter.widget-view+json": {
              "model_id": "6571b20a4ec04553ba433a0c3b745faa",
              "version_major": 2,
              "version_minor": 0
            },
            "text/plain": [
              "  0%|          | 0/22 [00:00<?, ?it/s]"
            ]
          },
          "metadata": {},
          "output_type": "display_data"
        },
        {
          "name": "stdout",
          "output_type": "stream",
          "text": [
            "[3] validation loss,  validation accuracy: 23.588, 0.45961820851688695. train loss, train accuracy: 1834.921, 0.6136452842884378\n"
          ]
        },
        {
          "data": {
            "application/vnd.jupyter.widget-view+json": {
              "model_id": "0d21952997fc4dc9bf9fb335a56b1ef8",
              "version_major": 2,
              "version_minor": 0
            },
            "text/plain": [
              "  0%|          | 0/2230 [00:00<?, ?it/s]"
            ]
          },
          "metadata": {},
          "output_type": "display_data"
        },
        {
          "data": {
            "application/vnd.jupyter.widget-view+json": {
              "model_id": "b4aeeb9bac7f4e4f8a946b33794a3aa3",
              "version_major": 2,
              "version_minor": 0
            },
            "text/plain": [
              "  0%|          | 0/22 [00:00<?, ?it/s]"
            ]
          },
          "metadata": {},
          "output_type": "display_data"
        },
        {
          "name": "stdout",
          "output_type": "stream",
          "text": [
            "[4] validation loss,  validation accuracy: 23.890, 0.4552129221732746. train loss, train accuracy: 1796.395, 0.6242430189525625\n"
          ]
        },
        {
          "data": {
            "application/vnd.jupyter.widget-view+json": {
              "model_id": "720ac4ef7b8f429889aaad30f966314e",
              "version_major": 2,
              "version_minor": 0
            },
            "text/plain": [
              "  0%|          | 0/2230 [00:00<?, ?it/s]"
            ]
          },
          "metadata": {},
          "output_type": "display_data"
        },
        {
          "data": {
            "application/vnd.jupyter.widget-view+json": {
              "model_id": "f682cb62d02d4c299a25296cc153bb9b",
              "version_major": 2,
              "version_minor": 0
            },
            "text/plain": [
              "  0%|          | 0/22 [00:00<?, ?it/s]"
            ]
          },
          "metadata": {},
          "output_type": "display_data"
        },
        {
          "name": "stdout",
          "output_type": "stream",
          "text": [
            "[5] validation loss,  validation accuracy: 24.000, 0.461086637298091. train loss, train accuracy: 1768.474, 0.629394695525401\n"
          ]
        },
        {
          "data": {
            "application/vnd.jupyter.widget-view+json": {
              "model_id": "bcff0deb154a4c739c25b3361fee7ccb",
              "version_major": 2,
              "version_minor": 0
            },
            "text/plain": [
              "  0%|          | 0/2230 [00:00<?, ?it/s]"
            ]
          },
          "metadata": {},
          "output_type": "display_data"
        },
        {
          "data": {
            "application/vnd.jupyter.widget-view+json": {
              "model_id": "dbb9b5b196f44a16a20f1c1832d03924",
              "version_major": 2,
              "version_minor": 0
            },
            "text/plain": [
              "  0%|          | 0/22 [00:00<?, ?it/s]"
            ]
          },
          "metadata": {},
          "output_type": "display_data"
        },
        {
          "name": "stdout",
          "output_type": "stream",
          "text": [
            "[6] validation loss,  validation accuracy: 24.148, 0.460352422907489. train loss, train accuracy: 1747.121, 0.6345814175171022\n"
          ]
        },
        {
          "data": {
            "application/vnd.jupyter.widget-view+json": {
              "model_id": "fc357de17837416f89d38361d4032cc0",
              "version_major": 2,
              "version_minor": 0
            },
            "text/plain": [
              "  0%|          | 0/2230 [00:00<?, ?it/s]"
            ]
          },
          "metadata": {},
          "output_type": "display_data"
        },
        {
          "data": {
            "application/vnd.jupyter.widget-view+json": {
              "model_id": "310238d39d794e9c9fc938e0be6d8e92",
              "version_major": 2,
              "version_minor": 0
            },
            "text/plain": [
              "  0%|          | 0/22 [00:00<?, ?it/s]"
            ]
          },
          "metadata": {},
          "output_type": "display_data"
        },
        {
          "name": "stdout",
          "output_type": "stream",
          "text": [
            "[7] validation loss,  validation accuracy: 24.003, 0.473568281938326. train loss, train accuracy: 1721.514, 0.6405181114724683\n"
          ]
        },
        {
          "data": {
            "application/vnd.jupyter.widget-view+json": {
              "model_id": "fd458c19a74b424695549bd0ef05f287",
              "version_major": 2,
              "version_minor": 0
            },
            "text/plain": [
              "  0%|          | 0/2230 [00:00<?, ?it/s]"
            ]
          },
          "metadata": {},
          "output_type": "display_data"
        },
        {
          "data": {
            "application/vnd.jupyter.widget-view+json": {
              "model_id": "3ed0fbb1196f45f78ec489a5f136a48a",
              "version_major": 2,
              "version_minor": 0
            },
            "text/plain": [
              "  0%|          | 0/22 [00:00<?, ?it/s]"
            ]
          },
          "metadata": {},
          "output_type": "display_data"
        },
        {
          "name": "stdout",
          "output_type": "stream",
          "text": [
            "[8] validation loss,  validation accuracy: 24.425, 0.47430249632892807. train loss, train accuracy: 1703.922, 0.646153414825614\n"
          ]
        },
        {
          "data": {
            "application/vnd.jupyter.widget-view+json": {
              "model_id": "eba94c9c9bc14ba8914a817f39d1d6c6",
              "version_major": 2,
              "version_minor": 0
            },
            "text/plain": [
              "  0%|          | 0/2230 [00:00<?, ?it/s]"
            ]
          },
          "metadata": {},
          "output_type": "display_data"
        },
        {
          "data": {
            "application/vnd.jupyter.widget-view+json": {
              "model_id": "96f32b6ad9524a0588c7b54e9faaa264",
              "version_major": 2,
              "version_minor": 0
            },
            "text/plain": [
              "  0%|          | 0/22 [00:00<?, ?it/s]"
            ]
          },
          "metadata": {},
          "output_type": "display_data"
        },
        {
          "name": "stdout",
          "output_type": "stream",
          "text": [
            "[9] validation loss,  validation accuracy: 24.501, 0.4618208516886931. train loss, train accuracy: 1689.493, 0.6479407311876192\n"
          ]
        },
        {
          "data": {
            "application/vnd.jupyter.widget-view+json": {
              "model_id": "7031cf704d9741d2815fb4b32ad278aa",
              "version_major": 2,
              "version_minor": 0
            },
            "text/plain": [
              "  0%|          | 0/2230 [00:00<?, ?it/s]"
            ]
          },
          "metadata": {},
          "output_type": "display_data"
        },
        {
          "data": {
            "application/vnd.jupyter.widget-view+json": {
              "model_id": "6cda277c8ada485fa4ed6670f3968844",
              "version_major": 2,
              "version_minor": 0
            },
            "text/plain": [
              "  0%|          | 0/22 [00:00<?, ?it/s]"
            ]
          },
          "metadata": {},
          "output_type": "display_data"
        },
        {
          "name": "stdout",
          "output_type": "stream",
          "text": [
            "[10] validation loss,  validation accuracy: 24.781, 0.48604992657856094. train loss, train accuracy: 1673.490, 0.6510247280475496\n",
            "Finished Training\n"
          ]
        },
        {
          "data": {
            "text/plain": [
              "([2031.402475118637,\n",
              "  1887.7138754725456,\n",
              "  1834.9213252067566,\n",
              "  1796.3947339057922,\n",
              "  1768.4738354682922,\n",
              "  1747.1206159591675,\n",
              "  1721.5141465067863,\n",
              "  1703.9215866327286,\n",
              "  1689.4926107525826,\n",
              "  1673.4904533028603],\n",
              " [0.5589674217786251,\n",
              "  0.602024223393518,\n",
              "  0.6136452842884378,\n",
              "  0.6242430189525625,\n",
              "  0.629394695525401,\n",
              "  0.6345814175171022,\n",
              "  0.6405181114724683,\n",
              "  0.646153414825614,\n",
              "  0.6479407311876192,\n",
              "  0.6510247280475496],\n",
              " [23.359007596969604,\n",
              "  23.45583140850067,\n",
              "  23.587631583213806,\n",
              "  23.890394389629364,\n",
              "  23.99955177307129,\n",
              "  24.147662103176117,\n",
              "  24.00338113307953,\n",
              "  24.425440192222595,\n",
              "  24.501083433628082,\n",
              "  24.780794322490692],\n",
              " [0.48091042584434657,\n",
              "  0.4720998531571219,\n",
              "  0.45961820851688695,\n",
              "  0.4552129221732746,\n",
              "  0.461086637298091,\n",
              "  0.460352422907489,\n",
              "  0.473568281938326,\n",
              "  0.47430249632892807,\n",
              "  0.4618208516886931,\n",
              "  0.48604992657856094])"
            ]
          },
          "execution_count": 68,
          "metadata": {},
          "output_type": "execute_result"
        }
      ],
      "source": [
        "net1 = build_1d_net(\"mfcc\")\n",
        "\n",
        "net1 = train_model(net1, \"mfcc\", epochs=10)"
      ]
    },
    {
      "cell_type": "code",
      "execution_count": null,
      "metadata": {
        "colab": {
          "base_uri": "https://localhost:8080/",
          "height": 1000,
          "referenced_widgets": [
            "54db1a793a4c4dfbb05f130f196c3a7a",
            "32a470fc6fd64114b62ad44ac3d2c58e",
            "4199f943a4ff4618be924d85b499350a",
            "2674dfb062a641a1ba6f8b2901319ff5",
            "6340beebb4d14b4f8bcd27c3e89b14f7",
            "63650203edae45ca992dea9545f56559",
            "465ac37814854c55b830c15fdf9c10e6",
            "311e5cb934b6450a99cc63bb0398c18d",
            "d23b1f35e813465882786c9a9fea6183",
            "3c502c263d3943f0b9f5dbc643602ffa",
            "8b8530a33f13407bbd29deafdc6f7fa0",
            "e87bd7e3b57242c6ae50a0067bc7e259",
            "e30383a2d18b4409a2b47f7e28d98911",
            "a977953e4ba547608c3d204d2edc8e22",
            "6fba8c04f5ee410386e631ae20800e3b",
            "3f329a7a9b58440cbdbf4d343d0bf75e",
            "02790ed1f34f4cd1b7bfc25d251b635a",
            "c63a0533c9984c3d913a1a04d1d45cd1",
            "9c572e120c8347f29f2468690334bf98",
            "5de51bce2d474cceb4a39358d4250cf2"
          ]
        },
        "outputId": "7ea5e576-b935-4851-c93a-4b84f25ec54b",
        "id": "S76EdFOLsFJ8"
      },
      "outputs": [
        {
          "data": {
            "application/vnd.jupyter.widget-view+json": {
              "model_id": "54db1a793a4c4dfbb05f130f196c3a7a",
              "version_major": 2,
              "version_minor": 0
            },
            "text/plain": [
              "  0%|          | 0/2230 [00:00<?, ?it/s]"
            ]
          },
          "metadata": {},
          "output_type": "display_data"
        },
        {
          "data": {
            "application/vnd.jupyter.widget-view+json": {
              "model_id": "32a470fc6fd64114b62ad44ac3d2c58e",
              "version_major": 2,
              "version_minor": 0
            },
            "text/plain": [
              "  0%|          | 0/22 [00:00<?, ?it/s]"
            ]
          },
          "metadata": {},
          "output_type": "display_data"
        },
        {
          "name": "stdout",
          "output_type": "stream",
          "text": [
            "[1] validation loss,  validation accuracy: 21.283, 0.4985315712187959. train loss, train accuracy: 1892.553, 0.5978958730514747\n"
          ]
        },
        {
          "data": {
            "application/vnd.jupyter.widget-view+json": {
              "model_id": "4199f943a4ff4618be924d85b499350a",
              "version_major": 2,
              "version_minor": 0
            },
            "text/plain": [
              "  0%|          | 0/2230 [00:00<?, ?it/s]"
            ]
          },
          "metadata": {},
          "output_type": "display_data"
        },
        {
          "data": {
            "application/vnd.jupyter.widget-view+json": {
              "model_id": "2674dfb062a641a1ba6f8b2901319ff5",
              "version_major": 2,
              "version_minor": 0
            },
            "text/plain": [
              "  0%|          | 0/22 [00:00<?, ?it/s]"
            ]
          },
          "metadata": {},
          "output_type": "display_data"
        },
        {
          "name": "stdout",
          "output_type": "stream",
          "text": [
            "[2] validation loss,  validation accuracy: 22.301, 0.5124816446402349. train loss, train accuracy: 1625.544, 0.6700263541549849\n"
          ]
        },
        {
          "data": {
            "application/vnd.jupyter.widget-view+json": {
              "model_id": "6340beebb4d14b4f8bcd27c3e89b14f7",
              "version_major": 2,
              "version_minor": 0
            },
            "text/plain": [
              "  0%|          | 0/2230 [00:00<?, ?it/s]"
            ]
          },
          "metadata": {},
          "output_type": "display_data"
        },
        {
          "data": {
            "application/vnd.jupyter.widget-view+json": {
              "model_id": "63650203edae45ca992dea9545f56559",
              "version_major": 2,
              "version_minor": 0
            },
            "text/plain": [
              "  0%|          | 0/22 [00:00<?, ?it/s]"
            ]
          },
          "metadata": {},
          "output_type": "display_data"
        },
        {
          "name": "stdout",
          "output_type": "stream",
          "text": [
            "[3] validation loss,  validation accuracy: 22.681, 0.513215859030837. train loss, train accuracy: 1500.689, 0.6975650442974094\n"
          ]
        },
        {
          "data": {
            "application/vnd.jupyter.widget-view+json": {
              "model_id": "465ac37814854c55b830c15fdf9c10e6",
              "version_major": 2,
              "version_minor": 0
            },
            "text/plain": [
              "  0%|          | 0/2230 [00:00<?, ?it/s]"
            ]
          },
          "metadata": {},
          "output_type": "display_data"
        },
        {
          "data": {
            "application/vnd.jupyter.widget-view+json": {
              "model_id": "311e5cb934b6450a99cc63bb0398c18d",
              "version_major": 2,
              "version_minor": 0
            },
            "text/plain": [
              "  0%|          | 0/22 [00:00<?, ?it/s]"
            ]
          },
          "metadata": {},
          "output_type": "display_data"
        },
        {
          "name": "stdout",
          "output_type": "stream",
          "text": [
            "[4] validation loss,  validation accuracy: 25.690, 0.5022026431718062. train loss, train accuracy: 1391.674, 0.7211576202758775\n"
          ]
        },
        {
          "data": {
            "application/vnd.jupyter.widget-view+json": {
              "model_id": "d23b1f35e813465882786c9a9fea6183",
              "version_major": 2,
              "version_minor": 0
            },
            "text/plain": [
              "  0%|          | 0/2230 [00:00<?, ?it/s]"
            ]
          },
          "metadata": {},
          "output_type": "display_data"
        },
        {
          "data": {
            "application/vnd.jupyter.widget-view+json": {
              "model_id": "3c502c263d3943f0b9f5dbc643602ffa",
              "version_major": 2,
              "version_minor": 0
            },
            "text/plain": [
              "  0%|          | 0/22 [00:00<?, ?it/s]"
            ]
          },
          "metadata": {},
          "output_type": "display_data"
        },
        {
          "name": "stdout",
          "output_type": "stream",
          "text": [
            "[5] validation loss,  validation accuracy: 29.774, 0.5124816446402349. train loss, train accuracy: 1291.130, 0.7403134462263093\n"
          ]
        },
        {
          "data": {
            "application/vnd.jupyter.widget-view+json": {
              "model_id": "8b8530a33f13407bbd29deafdc6f7fa0",
              "version_major": 2,
              "version_minor": 0
            },
            "text/plain": [
              "  0%|          | 0/2230 [00:00<?, ?it/s]"
            ]
          },
          "metadata": {},
          "output_type": "display_data"
        },
        {
          "data": {
            "application/vnd.jupyter.widget-view+json": {
              "model_id": "e87bd7e3b57242c6ae50a0067bc7e259",
              "version_major": 2,
              "version_minor": 0
            },
            "text/plain": [
              "  0%|          | 0/22 [00:00<?, ?it/s]"
            ]
          },
          "metadata": {},
          "output_type": "display_data"
        },
        {
          "name": "stdout",
          "output_type": "stream",
          "text": [
            "[6] validation loss,  validation accuracy: 31.128, 0.5007342143906021. train loss, train accuracy: 1197.833, 0.7581585735112706\n"
          ]
        },
        {
          "data": {
            "application/vnd.jupyter.widget-view+json": {
              "model_id": "e30383a2d18b4409a2b47f7e28d98911",
              "version_major": 2,
              "version_minor": 0
            },
            "text/plain": [
              "  0%|          | 0/2230 [00:00<?, ?it/s]"
            ]
          },
          "metadata": {},
          "output_type": "display_data"
        },
        {
          "data": {
            "application/vnd.jupyter.widget-view+json": {
              "model_id": "a977953e4ba547608c3d204d2edc8e22",
              "version_major": 2,
              "version_minor": 0
            },
            "text/plain": [
              "  0%|          | 0/22 [00:00<?, ?it/s]"
            ]
          },
          "metadata": {},
          "output_type": "display_data"
        },
        {
          "name": "stdout",
          "output_type": "stream",
          "text": [
            "[7] validation loss,  validation accuracy: 32.175, 0.47430249632892807. train loss, train accuracy: 1118.072, 0.7744196478636313\n"
          ]
        },
        {
          "data": {
            "application/vnd.jupyter.widget-view+json": {
              "model_id": "6fba8c04f5ee410386e631ae20800e3b",
              "version_major": 2,
              "version_minor": 0
            },
            "text/plain": [
              "  0%|          | 0/2230 [00:00<?, ?it/s]"
            ]
          },
          "metadata": {},
          "output_type": "display_data"
        },
        {
          "data": {
            "application/vnd.jupyter.widget-view+json": {
              "model_id": "3f329a7a9b58440cbdbf4d343d0bf75e",
              "version_major": 2,
              "version_minor": 0
            },
            "text/plain": [
              "  0%|          | 0/22 [00:00<?, ?it/s]"
            ]
          },
          "metadata": {},
          "output_type": "display_data"
        },
        {
          "name": "stdout",
          "output_type": "stream",
          "text": [
            "[8] validation loss,  validation accuracy: 35.954, 0.4919236417033774. train loss, train accuracy: 1042.271, 0.7892018055399798\n"
          ]
        },
        {
          "data": {
            "application/vnd.jupyter.widget-view+json": {
              "model_id": "02790ed1f34f4cd1b7bfc25d251b635a",
              "version_major": 2,
              "version_minor": 0
            },
            "text/plain": [
              "  0%|          | 0/2230 [00:00<?, ?it/s]"
            ]
          },
          "metadata": {},
          "output_type": "display_data"
        },
        {
          "data": {
            "application/vnd.jupyter.widget-view+json": {
              "model_id": "c63a0533c9984c3d913a1a04d1d45cd1",
              "version_major": 2,
              "version_minor": 0
            },
            "text/plain": [
              "  0%|          | 0/22 [00:00<?, ?it/s]"
            ]
          },
          "metadata": {},
          "output_type": "display_data"
        },
        {
          "name": "stdout",
          "output_type": "stream",
          "text": [
            "[9] validation loss,  validation accuracy: 40.196, 0.4684287812041116. train loss, train accuracy: 980.033, 0.8007808119322642\n"
          ]
        },
        {
          "data": {
            "application/vnd.jupyter.widget-view+json": {
              "model_id": "9c572e120c8347f29f2468690334bf98",
              "version_major": 2,
              "version_minor": 0
            },
            "text/plain": [
              "  0%|          | 0/2230 [00:00<?, ?it/s]"
            ]
          },
          "metadata": {},
          "output_type": "display_data"
        },
        {
          "data": {
            "application/vnd.jupyter.widget-view+json": {
              "model_id": "5de51bce2d474cceb4a39358d4250cf2",
              "version_major": 2,
              "version_minor": 0
            },
            "text/plain": [
              "  0%|          | 0/22 [00:00<?, ?it/s]"
            ]
          },
          "metadata": {},
          "output_type": "display_data"
        },
        {
          "name": "stdout",
          "output_type": "stream",
          "text": [
            "[10] validation loss,  validation accuracy: 42.202, 0.5058737151248165. train loss, train accuracy: 923.301, 0.8129205450263541\n",
            "Finished Training\n"
          ]
        },
        {
          "data": {
            "text/plain": [
              "([1892.5530275702477,\n",
              "  1625.5438874661922,\n",
              "  1500.689269632101,\n",
              "  1391.6741563081741,\n",
              "  1291.1301757991314,\n",
              "  1197.8326736986637,\n",
              "  1118.0721361339092,\n",
              "  1042.2711163908243,\n",
              "  980.032955929637,\n",
              "  923.3014480769634],\n",
              " [0.5978958730514747,\n",
              "  0.6700263541549849,\n",
              "  0.6975650442974094,\n",
              "  0.7211576202758775,\n",
              "  0.7403134462263093,\n",
              "  0.7581585735112706,\n",
              "  0.7744196478636313,\n",
              "  0.7892018055399798,\n",
              "  0.8007808119322642,\n",
              "  0.8129205450263541],\n",
              " [21.28326666355133,\n",
              "  22.30130922794342,\n",
              "  22.68081897497177,\n",
              "  25.689533710479736,\n",
              "  29.773975491523743,\n",
              "  31.12777304649353,\n",
              "  32.175474882125854,\n",
              "  35.95445013046265,\n",
              "  40.1956370472908,\n",
              "  42.202311873435974],\n",
              " [0.4985315712187959,\n",
              "  0.5124816446402349,\n",
              "  0.513215859030837,\n",
              "  0.5022026431718062,\n",
              "  0.5124816446402349,\n",
              "  0.5007342143906021,\n",
              "  0.47430249632892807,\n",
              "  0.4919236417033774,\n",
              "  0.4684287812041116,\n",
              "  0.5058737151248165])"
            ]
          },
          "execution_count": 71,
          "metadata": {},
          "output_type": "execute_result"
        }
      ],
      "source": [
        "net2 = build_2d_net(\"mfcc\")\n",
        "\n",
        "net2 = train_model(net2, \"mfcc\", epochs=10)"
      ]
    },
    {
      "cell_type": "markdown",
      "source": [
        "#### Log MSpec"
      ],
      "metadata": {
        "id": "mLoLTnsLF4SR"
      }
    },
    {
      "cell_type": "code",
      "execution_count": null,
      "metadata": {
        "colab": {
          "base_uri": "https://localhost:8080/",
          "referenced_widgets": [
            "1d4ccde79b584050896aabcd8c471b6e",
            "6ce8e968ca8c45f4b5bc5df82575a69b",
            "a9842ff0fb35453f95cb52e0b7e4d564",
            "2de942ad1286465d993d4e02e768469f",
            "ec55a8318c944b8992ad5e30356c1edc",
            "4cd7470a5ee740369b14adaec4b4076b",
            "86fb8507b2ab44b3ba97c162de784a29",
            "b8faebfd5460456daf2c712c07de0ab7",
            "358c511baea04c37ab68bc3e0599e022",
            "b0371c2f74e64c499b00a818a17c2f7f",
            "8e28eb599c464319ad47da0a741ad008",
            "c2e6af31d0354aad97e74090c1e2f56c",
            "f150cad6001b4b8db0bd8993a3354ae2",
            "45d273ffe5f3415da755bbc98c36386f",
            "545ce38ef0ec479e8a30842f2aa46750",
            "4803093074b74e9884f876adf7822ace",
            "e909f77a4a0c45f6b4001e2635559b7b",
            "fdc1f81635364efe816f47e537d76b27",
            "27b57b992b8c41e287f9b38888708f5a",
            "117d4f84fd1143b88df5351f502cbfe8"
          ]
        },
        "id": "s20lPIogbiBZ",
        "outputId": "cc9948f1-61cf-482e-f115-95d3ccdf04da"
      },
      "outputs": [
        {
          "data": {
            "application/vnd.jupyter.widget-view+json": {
              "model_id": "1d4ccde79b584050896aabcd8c471b6e",
              "version_major": 2,
              "version_minor": 0
            },
            "text/plain": [
              "  0%|          | 0/2230 [00:00<?, ?it/s]"
            ]
          },
          "metadata": {},
          "output_type": "display_data"
        },
        {
          "data": {
            "application/vnd.jupyter.widget-view+json": {
              "model_id": "6ce8e968ca8c45f4b5bc5df82575a69b",
              "version_major": 2,
              "version_minor": 0
            },
            "text/plain": [
              "  0%|          | 0/22 [00:00<?, ?it/s]"
            ]
          },
          "metadata": {},
          "output_type": "display_data"
        },
        {
          "name": "stdout",
          "output_type": "stream",
          "text": [
            "[1] validation loss,  validation accuracy: 22.950, 0.47063142437591776. train loss, train accuracy: 2027.330, 0.5411713580800718\n"
          ]
        },
        {
          "data": {
            "application/vnd.jupyter.widget-view+json": {
              "model_id": "a9842ff0fb35453f95cb52e0b7e4d564",
              "version_major": 2,
              "version_minor": 0
            },
            "text/plain": [
              "  0%|          | 0/2230 [00:00<?, ?it/s]"
            ]
          },
          "metadata": {},
          "output_type": "display_data"
        },
        {
          "data": {
            "application/vnd.jupyter.widget-view+json": {
              "model_id": "2de942ad1286465d993d4e02e768469f",
              "version_major": 2,
              "version_minor": 0
            },
            "text/plain": [
              "  0%|          | 0/22 [00:00<?, ?it/s]"
            ]
          },
          "metadata": {},
          "output_type": "display_data"
        },
        {
          "name": "stdout",
          "output_type": "stream",
          "text": [
            "[2] validation loss,  validation accuracy: 23.096, 0.4955947136563877. train loss, train accuracy: 1814.543, 0.6108837052820455\n"
          ]
        },
        {
          "data": {
            "application/vnd.jupyter.widget-view+json": {
              "model_id": "ec55a8318c944b8992ad5e30356c1edc",
              "version_major": 2,
              "version_minor": 0
            },
            "text/plain": [
              "  0%|          | 0/2230 [00:00<?, ?it/s]"
            ]
          },
          "metadata": {},
          "output_type": "display_data"
        },
        {
          "data": {
            "application/vnd.jupyter.widget-view+json": {
              "model_id": "4cd7470a5ee740369b14adaec4b4076b",
              "version_major": 2,
              "version_minor": 0
            },
            "text/plain": [
              "  0%|          | 0/22 [00:00<?, ?it/s]"
            ]
          },
          "metadata": {},
          "output_type": "display_data"
        },
        {
          "name": "stdout",
          "output_type": "stream",
          "text": [
            "[3] validation loss,  validation accuracy: 22.731, 0.5117474302496329. train loss, train accuracy: 1742.033, 0.6316025569137602\n"
          ]
        },
        {
          "data": {
            "application/vnd.jupyter.widget-view+json": {
              "model_id": "86fb8507b2ab44b3ba97c162de784a29",
              "version_major": 2,
              "version_minor": 0
            },
            "text/plain": [
              "  0%|          | 0/2230 [00:00<?, ?it/s]"
            ]
          },
          "metadata": {},
          "output_type": "display_data"
        },
        {
          "data": {
            "application/vnd.jupyter.widget-view+json": {
              "model_id": "b8faebfd5460456daf2c712c07de0ab7",
              "version_major": 2,
              "version_minor": 0
            },
            "text/plain": [
              "  0%|          | 0/22 [00:00<?, ?it/s]"
            ]
          },
          "metadata": {},
          "output_type": "display_data"
        },
        {
          "name": "stdout",
          "output_type": "stream",
          "text": [
            "[4] validation loss,  validation accuracy: 22.479, 0.5176211453744494. train loss, train accuracy: 1692.404, 0.643826399013121\n"
          ]
        },
        {
          "data": {
            "application/vnd.jupyter.widget-view+json": {
              "model_id": "358c511baea04c37ab68bc3e0599e022",
              "version_major": 2,
              "version_minor": 0
            },
            "text/plain": [
              "  0%|          | 0/2230 [00:00<?, ?it/s]"
            ]
          },
          "metadata": {},
          "output_type": "display_data"
        },
        {
          "data": {
            "application/vnd.jupyter.widget-view+json": {
              "model_id": "b0371c2f74e64c499b00a818a17c2f7f",
              "version_major": 2,
              "version_minor": 0
            },
            "text/plain": [
              "  0%|          | 0/22 [00:00<?, ?it/s]"
            ]
          },
          "metadata": {},
          "output_type": "display_data"
        },
        {
          "name": "stdout",
          "output_type": "stream",
          "text": [
            "[5] validation loss,  validation accuracy: 22.534, 0.5095447870778267. train loss, train accuracy: 1654.247, 0.6542979701693394\n"
          ]
        },
        {
          "data": {
            "application/vnd.jupyter.widget-view+json": {
              "model_id": "8e28eb599c464319ad47da0a741ad008",
              "version_major": 2,
              "version_minor": 0
            },
            "text/plain": [
              "  0%|          | 0/2230 [00:00<?, ?it/s]"
            ]
          },
          "metadata": {},
          "output_type": "display_data"
        },
        {
          "data": {
            "application/vnd.jupyter.widget-view+json": {
              "model_id": "c2e6af31d0354aad97e74090c1e2f56c",
              "version_major": 2,
              "version_minor": 0
            },
            "text/plain": [
              "  0%|          | 0/22 [00:00<?, ?it/s]"
            ]
          },
          "metadata": {},
          "output_type": "display_data"
        },
        {
          "name": "stdout",
          "output_type": "stream",
          "text": [
            "[6] validation loss,  validation accuracy: 23.024, 0.5088105726872246. train loss, train accuracy: 1620.448, 0.6617696534708983\n"
          ]
        },
        {
          "data": {
            "application/vnd.jupyter.widget-view+json": {
              "model_id": "f150cad6001b4b8db0bd8993a3354ae2",
              "version_major": 2,
              "version_minor": 0
            },
            "text/plain": [
              "  0%|          | 0/2230 [00:00<?, ?it/s]"
            ]
          },
          "metadata": {},
          "output_type": "display_data"
        },
        {
          "data": {
            "application/vnd.jupyter.widget-view+json": {
              "model_id": "45d273ffe5f3415da755bbc98c36386f",
              "version_major": 2,
              "version_minor": 0
            },
            "text/plain": [
              "  0%|          | 0/22 [00:00<?, ?it/s]"
            ]
          },
          "metadata": {},
          "output_type": "display_data"
        },
        {
          "name": "stdout",
          "output_type": "stream",
          "text": [
            "[7] validation loss,  validation accuracy: 22.465, 0.5190895741556535. train loss, train accuracy: 1596.836, 0.6666409666928339\n"
          ]
        },
        {
          "data": {
            "application/vnd.jupyter.widget-view+json": {
              "model_id": "545ce38ef0ec479e8a30842f2aa46750",
              "version_major": 2,
              "version_minor": 0
            },
            "text/plain": [
              "  0%|          | 0/2230 [00:00<?, ?it/s]"
            ]
          },
          "metadata": {},
          "output_type": "display_data"
        },
        {
          "data": {
            "application/vnd.jupyter.widget-view+json": {
              "model_id": "4803093074b74e9884f876adf7822ace",
              "version_major": 2,
              "version_minor": 0
            },
            "text/plain": [
              "  0%|          | 0/22 [00:00<?, ?it/s]"
            ]
          },
          "metadata": {},
          "output_type": "display_data"
        },
        {
          "name": "stdout",
          "output_type": "stream",
          "text": [
            "[8] validation loss,  validation accuracy: 23.081, 0.5161527165932452. train loss, train accuracy: 1575.059, 0.6731524055175507\n"
          ]
        },
        {
          "data": {
            "application/vnd.jupyter.widget-view+json": {
              "model_id": "e909f77a4a0c45f6b4001e2635559b7b",
              "version_major": 2,
              "version_minor": 0
            },
            "text/plain": [
              "  0%|          | 0/2230 [00:00<?, ?it/s]"
            ]
          },
          "metadata": {},
          "output_type": "display_data"
        },
        {
          "data": {
            "application/vnd.jupyter.widget-view+json": {
              "model_id": "fdc1f81635364efe816f47e537d76b27",
              "version_major": 2,
              "version_minor": 0
            },
            "text/plain": [
              "  0%|          | 0/22 [00:00<?, ?it/s]"
            ]
          },
          "metadata": {},
          "output_type": "display_data"
        },
        {
          "name": "stdout",
          "output_type": "stream",
          "text": [
            "[9] validation loss,  validation accuracy: 23.049, 0.5227606461086637. train loss, train accuracy: 1555.776, 0.6778555007289447\n"
          ]
        },
        {
          "data": {
            "application/vnd.jupyter.widget-view+json": {
              "model_id": "27b57b992b8c41e287f9b38888708f5a",
              "version_major": 2,
              "version_minor": 0
            },
            "text/plain": [
              "  0%|          | 0/2230 [00:00<?, ?it/s]"
            ]
          },
          "metadata": {},
          "output_type": "display_data"
        },
        {
          "data": {
            "application/vnd.jupyter.widget-view+json": {
              "model_id": "117d4f84fd1143b88df5351f502cbfe8",
              "version_major": 2,
              "version_minor": 0
            },
            "text/plain": [
              "  0%|          | 0/22 [00:00<?, ?it/s]"
            ]
          },
          "metadata": {},
          "output_type": "display_data"
        },
        {
          "name": "stdout",
          "output_type": "stream",
          "text": [
            "[10] validation loss,  validation accuracy: 23.705, 0.5154185022026432. train loss, train accuracy: 1541.036, 0.6800493439497589\n",
            "Finished Training\n"
          ]
        },
        {
          "data": {
            "text/plain": [
              "([2027.3298351168633,\n",
              "  1814.543279826641,\n",
              "  1742.0331949591637,\n",
              "  1692.403606235981,\n",
              "  1654.246504932642,\n",
              "  1620.4483275413513,\n",
              "  1596.8360548317432,\n",
              "  1575.058591812849,\n",
              "  1555.7761256098747,\n",
              "  1541.0360026061535],\n",
              " [0.5411713580800718,\n",
              "  0.6108837052820455,\n",
              "  0.6316025569137602,\n",
              "  0.643826399013121,\n",
              "  0.6542979701693394,\n",
              "  0.6617696534708983,\n",
              "  0.6666409666928339,\n",
              "  0.6731524055175507,\n",
              "  0.6778555007289447,\n",
              "  0.6800493439497589],\n",
              " [22.95020991563797,\n",
              "  23.09557396173477,\n",
              "  22.731460213661194,\n",
              "  22.47877562046051,\n",
              "  22.534360110759735,\n",
              "  23.024313926696777,\n",
              "  22.464654684066772,\n",
              "  23.081133902072906,\n",
              "  23.048945784568787,\n",
              "  23.704729914665222],\n",
              " [0.47063142437591776,\n",
              "  0.4955947136563877,\n",
              "  0.5117474302496329,\n",
              "  0.5176211453744494,\n",
              "  0.5095447870778267,\n",
              "  0.5088105726872246,\n",
              "  0.5190895741556535,\n",
              "  0.5161527165932452,\n",
              "  0.5227606461086637,\n",
              "  0.5154185022026432])"
            ]
          },
          "execution_count": 47,
          "metadata": {},
          "output_type": "execute_result"
        }
      ],
      "source": [
        "net3 = build_1d_net('log_mspec')\n",
        "\n",
        "net3 = train_model(net3, 'log_mspec', epochs=10)"
      ]
    },
    {
      "cell_type": "code",
      "execution_count": null,
      "metadata": {
        "colab": {
          "base_uri": "https://localhost:8080/",
          "height": 1000,
          "referenced_widgets": [
            "0c762783ee1b42618a5690d0194a7ad9",
            "f6cfd5044d1f4b0cae304c57904cf3bb",
            "3c291ac936d24a06a9a99b9b5569aa19",
            "6c4aafce74764de598d9dd87334372f8",
            "612b8af320034d9a803676a1a48ba30f",
            "e1db365b953241d9ab57a24a4fec9248",
            "22f14ffb6e8f4d0590c22ba3cb8d2b0d",
            "a9bfaf0204834e56a8589e119cecb107",
            "9c51dce71eff42ca875fc726b9d109ab",
            "e21a6580ac584978ac6901ffeb0d5cb7",
            "1fc1719868b14bedafe668789fd0f9c0",
            "23f610e5288c419da7ccfc30a361c3fa",
            "d889fa512c0741cc87fc6a4627b29724",
            "ef5171f398744986b46573a46e366c3c",
            "6dd1a7e33fa44ee9929ac21b8eefab7f",
            "b37716b52b1b4d72a1b1910e8269ea9e",
            "47d22850222148058267b381046ef919",
            "8beb435f00984c9c9234644f7604b627",
            "83c6e24f725b416b826cff8d367e79b0",
            "029bf660316c41529407005d5c6187f2"
          ]
        },
        "id": "Klizl5yibYjj",
        "outputId": "7ea5e576-b935-4851-c93a-4b84f25ec54b"
      },
      "outputs": [
        {
          "data": {
            "application/vnd.jupyter.widget-view+json": {
              "model_id": "0c762783ee1b42618a5690d0194a7ad9",
              "version_major": 2,
              "version_minor": 0
            },
            "text/plain": [
              "  0%|          | 0/2230 [00:00<?, ?it/s]"
            ]
          },
          "metadata": {},
          "output_type": "display_data"
        },
        {
          "data": {
            "application/vnd.jupyter.widget-view+json": {
              "model_id": "f6cfd5044d1f4b0cae304c57904cf3bb",
              "version_major": 2,
              "version_minor": 0
            },
            "text/plain": [
              "  0%|          | 0/22 [00:00<?, ?it/s]"
            ]
          },
          "metadata": {},
          "output_type": "display_data"
        },
        {
          "name": "stdout",
          "output_type": "stream",
          "text": [
            "[1] validation loss,  validation accuracy: 22.498, 0.4955947136563877. train loss, train accuracy: 1850.472, 0.591755915666704\n"
          ]
        },
        {
          "data": {
            "application/vnd.jupyter.widget-view+json": {
              "model_id": "3c291ac936d24a06a9a99b9b5569aa19",
              "version_major": 2,
              "version_minor": 0
            },
            "text/plain": [
              "  0%|          | 0/2230 [00:00<?, ?it/s]"
            ]
          },
          "metadata": {},
          "output_type": "display_data"
        },
        {
          "data": {
            "application/vnd.jupyter.widget-view+json": {
              "model_id": "6c4aafce74764de598d9dd87334372f8",
              "version_major": 2,
              "version_minor": 0
            },
            "text/plain": [
              "  0%|          | 0/22 [00:00<?, ?it/s]"
            ]
          },
          "metadata": {},
          "output_type": "display_data"
        },
        {
          "name": "stdout",
          "output_type": "stream",
          "text": [
            "[2] validation loss,  validation accuracy: 22.599, 0.5381791483113069. train loss, train accuracy: 1415.635, 0.7161321072109453\n"
          ]
        },
        {
          "data": {
            "application/vnd.jupyter.widget-view+json": {
              "model_id": "612b8af320034d9a803676a1a48ba30f",
              "version_major": 2,
              "version_minor": 0
            },
            "text/plain": [
              "  0%|          | 0/2230 [00:00<?, ?it/s]"
            ]
          },
          "metadata": {},
          "output_type": "display_data"
        },
        {
          "data": {
            "application/vnd.jupyter.widget-view+json": {
              "model_id": "e1db365b953241d9ab57a24a4fec9248",
              "version_major": 2,
              "version_minor": 0
            },
            "text/plain": [
              "  0%|          | 0/22 [00:00<?, ?it/s]"
            ]
          },
          "metadata": {},
          "output_type": "display_data"
        },
        {
          "name": "stdout",
          "output_type": "stream",
          "text": [
            "[3] validation loss,  validation accuracy: 25.150, 0.5418502202643172. train loss, train accuracy: 1151.643, 0.7735645396433778\n"
          ]
        },
        {
          "data": {
            "application/vnd.jupyter.widget-view+json": {
              "model_id": "22f14ffb6e8f4d0590c22ba3cb8d2b0d",
              "version_major": 2,
              "version_minor": 0
            },
            "text/plain": [
              "  0%|          | 0/2230 [00:00<?, ?it/s]"
            ]
          },
          "metadata": {},
          "output_type": "display_data"
        },
        {
          "data": {
            "application/vnd.jupyter.widget-view+json": {
              "model_id": "a9bfaf0204834e56a8589e119cecb107",
              "version_major": 2,
              "version_minor": 0
            },
            "text/plain": [
              "  0%|          | 0/22 [00:00<?, ?it/s]"
            ]
          },
          "metadata": {},
          "output_type": "display_data"
        },
        {
          "name": "stdout",
          "output_type": "stream",
          "text": [
            "[4] validation loss,  validation accuracy: 30.122, 0.5433186490455213. train loss, train accuracy: 927.462, 0.8213805091398453\n"
          ]
        },
        {
          "data": {
            "application/vnd.jupyter.widget-view+json": {
              "model_id": "9c51dce71eff42ca875fc726b9d109ab",
              "version_major": 2,
              "version_minor": 0
            },
            "text/plain": [
              "  0%|          | 0/2230 [00:00<?, ?it/s]"
            ]
          },
          "metadata": {},
          "output_type": "display_data"
        },
        {
          "data": {
            "application/vnd.jupyter.widget-view+json": {
              "model_id": "e21a6580ac584978ac6901ffeb0d5cb7",
              "version_major": 2,
              "version_minor": 0
            },
            "text/plain": [
              "  0%|          | 0/22 [00:00<?, ?it/s]"
            ]
          },
          "metadata": {},
          "output_type": "display_data"
        },
        {
          "name": "stdout",
          "output_type": "stream",
          "text": [
            "[5] validation loss,  validation accuracy: 32.644, 0.5286343612334802. train loss, train accuracy: 752.854, 0.8565941460132331\n"
          ]
        },
        {
          "data": {
            "application/vnd.jupyter.widget-view+json": {
              "model_id": "1fc1719868b14bedafe668789fd0f9c0",
              "version_major": 2,
              "version_minor": 0
            },
            "text/plain": [
              "  0%|          | 0/2230 [00:00<?, ?it/s]"
            ]
          },
          "metadata": {},
          "output_type": "display_data"
        },
        {
          "data": {
            "application/vnd.jupyter.widget-view+json": {
              "model_id": "23f610e5288c419da7ccfc30a361c3fa",
              "version_major": 2,
              "version_minor": 0
            },
            "text/plain": [
              "  0%|          | 0/22 [00:00<?, ?it/s]"
            ]
          },
          "metadata": {},
          "output_type": "display_data"
        },
        {
          "name": "stdout",
          "output_type": "stream",
          "text": [
            "[6] validation loss,  validation accuracy: 39.498, 0.5176211453744494. train loss, train accuracy: 613.519, 0.8846304811035102\n"
          ]
        },
        {
          "data": {
            "application/vnd.jupyter.widget-view+json": {
              "model_id": "d889fa512c0741cc87fc6a4627b29724",
              "version_major": 2,
              "version_minor": 0
            },
            "text/plain": [
              "  0%|          | 0/2230 [00:00<?, ?it/s]"
            ]
          },
          "metadata": {},
          "output_type": "display_data"
        },
        {
          "data": {
            "application/vnd.jupyter.widget-view+json": {
              "model_id": "ef5171f398744986b46573a46e366c3c",
              "version_major": 2,
              "version_minor": 0
            },
            "text/plain": [
              "  0%|          | 0/22 [00:00<?, ?it/s]"
            ]
          },
          "metadata": {},
          "output_type": "display_data"
        },
        {
          "name": "stdout",
          "output_type": "stream",
          "text": [
            "[7] validation loss,  validation accuracy: 43.562, 0.5066079295154186. train loss, train accuracy: 504.051, 0.9057979140966693\n"
          ]
        },
        {
          "data": {
            "application/vnd.jupyter.widget-view+json": {
              "model_id": "6dd1a7e33fa44ee9929ac21b8eefab7f",
              "version_major": 2,
              "version_minor": 0
            },
            "text/plain": [
              "  0%|          | 0/2230 [00:00<?, ?it/s]"
            ]
          },
          "metadata": {},
          "output_type": "display_data"
        },
        {
          "data": {
            "application/vnd.jupyter.widget-view+json": {
              "model_id": "b37716b52b1b4d72a1b1910e8269ea9e",
              "version_major": 2,
              "version_minor": 0
            },
            "text/plain": [
              "  0%|          | 0/22 [00:00<?, ?it/s]"
            ]
          },
          "metadata": {},
          "output_type": "display_data"
        },
        {
          "name": "stdout",
          "output_type": "stream",
          "text": [
            "[8] validation loss,  validation accuracy: 46.639, 0.527165932452276. train loss, train accuracy: 439.005, 0.9190871369294605\n"
          ]
        },
        {
          "data": {
            "application/vnd.jupyter.widget-view+json": {
              "model_id": "47d22850222148058267b381046ef919",
              "version_major": 2,
              "version_minor": 0
            },
            "text/plain": [
              "  0%|          | 0/2230 [00:00<?, ?it/s]"
            ]
          },
          "metadata": {},
          "output_type": "display_data"
        },
        {
          "data": {
            "application/vnd.jupyter.widget-view+json": {
              "model_id": "8beb435f00984c9c9234644f7604b627",
              "version_major": 2,
              "version_minor": 0
            },
            "text/plain": [
              "  0%|          | 0/22 [00:00<?, ?it/s]"
            ]
          },
          "metadata": {},
          "output_type": "display_data"
        },
        {
          "name": "stdout",
          "output_type": "stream",
          "text": [
            "[9] validation loss,  validation accuracy: 55.392, 0.5029368575624082. train loss, train accuracy: 381.342, 0.9301825165414377\n"
          ]
        },
        {
          "data": {
            "application/vnd.jupyter.widget-view+json": {
              "model_id": "83c6e24f725b416b826cff8d367e79b0",
              "version_major": 2,
              "version_minor": 0
            },
            "text/plain": [
              "  0%|          | 0/2230 [00:00<?, ?it/s]"
            ]
          },
          "metadata": {},
          "output_type": "display_data"
        },
        {
          "data": {
            "application/vnd.jupyter.widget-view+json": {
              "model_id": "029bf660316c41529407005d5c6187f2",
              "version_major": 2,
              "version_minor": 0
            },
            "text/plain": [
              "  0%|          | 0/22 [00:00<?, ?it/s]"
            ]
          },
          "metadata": {},
          "output_type": "display_data"
        },
        {
          "name": "stdout",
          "output_type": "stream",
          "text": [
            "[10] validation loss,  validation accuracy: 57.901, 0.5117474302496329. train loss, train accuracy: 334.630, 0.9388527531681059\n",
            "Finished Training\n"
          ]
        },
        {
          "data": {
            "text/plain": [
              "([1850.4717335104942,\n",
              "  1415.6353498399258,\n",
              "  1151.6425010859966,\n",
              "  927.4622901976109,\n",
              "  752.8543989211321,\n",
              "  613.5193878188729,\n",
              "  504.05112118273973,\n",
              "  439.0054038017988,\n",
              "  381.34183830581605,\n",
              "  334.6298323906958],\n",
              " [0.591755915666704,\n",
              "  0.7161321072109453,\n",
              "  0.7735645396433778,\n",
              "  0.8213805091398453,\n",
              "  0.8565941460132331,\n",
              "  0.8846304811035102,\n",
              "  0.9057979140966693,\n",
              "  0.9190871369294605,\n",
              "  0.9301825165414377,\n",
              "  0.9388527531681059],\n",
              " [22.49761950969696,\n",
              "  22.599190890789032,\n",
              "  25.150100767612457,\n",
              "  30.122468531131744,\n",
              "  32.64408528804779,\n",
              "  39.49849021434784,\n",
              "  43.5616774559021,\n",
              "  46.63922441005707,\n",
              "  55.39181709289551,\n",
              "  57.901381492614746],\n",
              " [0.4955947136563877,\n",
              "  0.5381791483113069,\n",
              "  0.5418502202643172,\n",
              "  0.5433186490455213,\n",
              "  0.5286343612334802,\n",
              "  0.5176211453744494,\n",
              "  0.5066079295154186,\n",
              "  0.527165932452276,\n",
              "  0.5029368575624082,\n",
              "  0.5117474302496329])"
            ]
          },
          "execution_count": 48,
          "metadata": {},
          "output_type": "execute_result"
        }
      ],
      "source": [
        "net4 = build_2d_net('log_mspec')\n",
        "\n",
        "net4 = train_model(net4, 'log_mspec', epochs=10)"
      ]
    },
    {
      "cell_type": "markdown",
      "source": [
        "#### Linear MSpec"
      ],
      "metadata": {
        "id": "H1Qaa7wfF8mB"
      }
    },
    {
      "cell_type": "code",
      "execution_count": null,
      "metadata": {
        "id": "I31-Ydei_m-I",
        "outputId": "d57e3f4c-9d2f-4132-c1d8-67bf661de2c8",
        "colab": {
          "referenced_widgets": [
            "207a94a5a86d4c3698bb7e3383b7ceed",
            "f7d036633ebe4e7e93042493861f4795",
            "21184200f099439bb22a828b0368f763",
            "e25fdba95e7446ca8c22903d1c398bb4",
            "f7104ad2e46248879fe241fedf81ad54",
            "cbfb7f7314e34d77b39f93f7952d1b43",
            "6312688b649643b480521c9b7afb2bc4",
            "3c57d830ed384276aae099669e03a9de",
            "03d62d7185284e2b8cebf1f36861d4e1",
            "90cb10aca6204d969ff855b18a305e3b",
            "56d6dd836c45458da3d457743d66ccb1",
            "280e8739a55b4515852ddfb63e6cda0f",
            "6595f7a5875f4fad95e471aa125fc494",
            "5794985dc8e74253b4f97458ae745a12",
            "9046fae7ad344730b97a84d2363c6a54",
            "58ba0beed17942b692136facecec616d",
            "2c4fb2963b704b379d4b1192f8bd78b2",
            "f8aaab5bfe014d49ab7a8f9c478a7231",
            "3a382fb5cfdd46dd9ec5950a78356b90",
            "dcff74f6069b4e908fed1711b3c37118"
          ]
        }
      },
      "outputs": [
        {
          "data": {
            "application/vnd.jupyter.widget-view+json": {
              "model_id": "207a94a5a86d4c3698bb7e3383b7ceed",
              "version_major": 2,
              "version_minor": 0
            },
            "text/plain": [
              "  0%|          | 0/2230 [00:00<?, ?it/s]"
            ]
          },
          "metadata": {},
          "output_type": "display_data"
        },
        {
          "data": {
            "application/vnd.jupyter.widget-view+json": {
              "model_id": "f7d036633ebe4e7e93042493861f4795",
              "version_major": 2,
              "version_minor": 0
            },
            "text/plain": [
              "  0%|          | 0/22 [00:00<?, ?it/s]"
            ]
          },
          "metadata": {},
          "output_type": "display_data"
        },
        {
          "name": "stdout",
          "output_type": "stream",
          "text": [
            "[1] validation loss,  validation accuracy: 23.314, 0.44052863436123346. train loss, train accuracy: 2118.060, 0.4946941235841651\n"
          ]
        },
        {
          "data": {
            "application/vnd.jupyter.widget-view+json": {
              "model_id": "21184200f099439bb22a828b0368f763",
              "version_major": 2,
              "version_minor": 0
            },
            "text/plain": [
              "  0%|          | 0/2230 [00:00<?, ?it/s]"
            ]
          },
          "metadata": {},
          "output_type": "display_data"
        },
        {
          "data": {
            "application/vnd.jupyter.widget-view+json": {
              "model_id": "e25fdba95e7446ca8c22903d1c398bb4",
              "version_major": 2,
              "version_minor": 0
            },
            "text/plain": [
              "  0%|          | 0/22 [00:00<?, ?it/s]"
            ]
          },
          "metadata": {},
          "output_type": "display_data"
        },
        {
          "name": "stdout",
          "output_type": "stream",
          "text": [
            "[2] validation loss,  validation accuracy: 23.158, 0.4522760646108664. train loss, train accuracy: 1966.875, 0.5487832230570819\n"
          ]
        },
        {
          "data": {
            "application/vnd.jupyter.widget-view+json": {
              "model_id": "f7104ad2e46248879fe241fedf81ad54",
              "version_major": 2,
              "version_minor": 0
            },
            "text/plain": [
              "  0%|          | 0/2230 [00:00<?, ?it/s]"
            ]
          },
          "metadata": {},
          "output_type": "display_data"
        },
        {
          "data": {
            "application/vnd.jupyter.widget-view+json": {
              "model_id": "cbfb7f7314e34d77b39f93f7952d1b43",
              "version_major": 2,
              "version_minor": 0
            },
            "text/plain": [
              "  0%|          | 0/22 [00:00<?, ?it/s]"
            ]
          },
          "metadata": {},
          "output_type": "display_data"
        },
        {
          "name": "stdout",
          "output_type": "stream",
          "text": [
            "[3] validation loss,  validation accuracy: 23.040, 0.48237885462555063. train loss, train accuracy: 1902.173, 0.57161180890434\n"
          ]
        },
        {
          "data": {
            "application/vnd.jupyter.widget-view+json": {
              "model_id": "6312688b649643b480521c9b7afb2bc4",
              "version_major": 2,
              "version_minor": 0
            },
            "text/plain": [
              "  0%|          | 0/2230 [00:00<?, ?it/s]"
            ]
          },
          "metadata": {},
          "output_type": "display_data"
        },
        {
          "data": {
            "application/vnd.jupyter.widget-view+json": {
              "model_id": "3c57d830ed384276aae099669e03a9de",
              "version_major": 2,
              "version_minor": 0
            },
            "text/plain": [
              "  0%|          | 0/22 [00:00<?, ?it/s]"
            ]
          },
          "metadata": {},
          "output_type": "display_data"
        },
        {
          "name": "stdout",
          "output_type": "stream",
          "text": [
            "[4] validation loss,  validation accuracy: 23.535, 0.4566813509544787. train loss, train accuracy: 1857.090, 0.5863519120780532\n"
          ]
        },
        {
          "data": {
            "application/vnd.jupyter.widget-view+json": {
              "model_id": "03d62d7185284e2b8cebf1f36861d4e1",
              "version_major": 2,
              "version_minor": 0
            },
            "text/plain": [
              "  0%|          | 0/2230 [00:00<?, ?it/s]"
            ]
          },
          "metadata": {},
          "output_type": "display_data"
        },
        {
          "data": {
            "application/vnd.jupyter.widget-view+json": {
              "model_id": "90cb10aca6204d969ff855b18a305e3b",
              "version_major": 2,
              "version_minor": 0
            },
            "text/plain": [
              "  0%|          | 0/22 [00:00<?, ?it/s]"
            ]
          },
          "metadata": {},
          "output_type": "display_data"
        },
        {
          "name": "stdout",
          "output_type": "stream",
          "text": [
            "[5] validation loss,  validation accuracy: 23.711, 0.47577092511013214. train loss, train accuracy: 1824.600, 0.5969846921610407\n"
          ]
        },
        {
          "data": {
            "application/vnd.jupyter.widget-view+json": {
              "model_id": "56d6dd836c45458da3d457743d66ccb1",
              "version_major": 2,
              "version_minor": 0
            },
            "text/plain": [
              "  0%|          | 0/2230 [00:00<?, ?it/s]"
            ]
          },
          "metadata": {},
          "output_type": "display_data"
        },
        {
          "data": {
            "application/vnd.jupyter.widget-view+json": {
              "model_id": "280e8739a55b4515852ddfb63e6cda0f",
              "version_major": 2,
              "version_minor": 0
            },
            "text/plain": [
              "  0%|          | 0/22 [00:00<?, ?it/s]"
            ]
          },
          "metadata": {},
          "output_type": "display_data"
        },
        {
          "name": "stdout",
          "output_type": "stream",
          "text": [
            "[6] validation loss,  validation accuracy: 23.901, 0.48384728340675476. train loss, train accuracy: 1795.318, 0.6057039923741169\n"
          ]
        },
        {
          "data": {
            "application/vnd.jupyter.widget-view+json": {
              "model_id": "6595f7a5875f4fad95e471aa125fc494",
              "version_major": 2,
              "version_minor": 0
            },
            "text/plain": [
              "  0%|          | 0/2230 [00:00<?, ?it/s]"
            ]
          },
          "metadata": {},
          "output_type": "display_data"
        },
        {
          "data": {
            "application/vnd.jupyter.widget-view+json": {
              "model_id": "5794985dc8e74253b4f97458ae745a12",
              "version_major": 2,
              "version_minor": 0
            },
            "text/plain": [
              "  0%|          | 0/22 [00:00<?, ?it/s]"
            ]
          },
          "metadata": {},
          "output_type": "display_data"
        },
        {
          "name": "stdout",
          "output_type": "stream",
          "text": [
            "[7] validation loss,  validation accuracy: 24.018, 0.4801762114537445. train loss, train accuracy: 1771.616, 0.6124747672984188\n"
          ]
        },
        {
          "data": {
            "application/vnd.jupyter.widget-view+json": {
              "model_id": "9046fae7ad344730b97a84d2363c6a54",
              "version_major": 2,
              "version_minor": 0
            },
            "text/plain": [
              "  0%|          | 0/2230 [00:00<?, ?it/s]"
            ]
          },
          "metadata": {},
          "output_type": "display_data"
        },
        {
          "data": {
            "application/vnd.jupyter.widget-view+json": {
              "model_id": "58ba0beed17942b692136facecec616d",
              "version_major": 2,
              "version_minor": 0
            },
            "text/plain": [
              "  0%|          | 0/22 [00:00<?, ?it/s]"
            ]
          },
          "metadata": {},
          "output_type": "display_data"
        },
        {
          "name": "stdout",
          "output_type": "stream",
          "text": [
            "[8] validation loss,  validation accuracy: 24.056, 0.4669603524229075. train loss, train accuracy: 1747.369, 0.6180399798138387\n"
          ]
        },
        {
          "data": {
            "application/vnd.jupyter.widget-view+json": {
              "model_id": "2c4fb2963b704b379d4b1192f8bd78b2",
              "version_major": 2,
              "version_minor": 0
            },
            "text/plain": [
              "  0%|          | 0/2230 [00:00<?, ?it/s]"
            ]
          },
          "metadata": {},
          "output_type": "display_data"
        },
        {
          "data": {
            "application/vnd.jupyter.widget-view+json": {
              "model_id": "f8aaab5bfe014d49ab7a8f9c478a7231",
              "version_major": 2,
              "version_minor": 0
            },
            "text/plain": [
              "  0%|          | 0/22 [00:00<?, ?it/s]"
            ]
          },
          "metadata": {},
          "output_type": "display_data"
        },
        {
          "name": "stdout",
          "output_type": "stream",
          "text": [
            "[9] validation loss,  validation accuracy: 24.339, 0.47577092511013214. train loss, train accuracy: 1731.362, 0.622722047773915\n"
          ]
        },
        {
          "data": {
            "application/vnd.jupyter.widget-view+json": {
              "model_id": "3a382fb5cfdd46dd9ec5950a78356b90",
              "version_major": 2,
              "version_minor": 0
            },
            "text/plain": [
              "  0%|          | 0/2230 [00:00<?, ?it/s]"
            ]
          },
          "metadata": {},
          "output_type": "display_data"
        },
        {
          "data": {
            "application/vnd.jupyter.widget-view+json": {
              "model_id": "dcff74f6069b4e908fed1711b3c37118",
              "version_major": 2,
              "version_minor": 0
            },
            "text/plain": [
              "  0%|          | 0/22 [00:00<?, ?it/s]"
            ]
          },
          "metadata": {},
          "output_type": "display_data"
        },
        {
          "name": "stdout",
          "output_type": "stream",
          "text": [
            "[10] validation loss,  validation accuracy: 24.456, 0.473568281938326. train loss, train accuracy: 1710.986, 0.6284064147134687\n",
            "Finished Training\n"
          ]
        },
        {
          "data": {
            "text/plain": [
              "([2118.0598185658455,\n",
              "  1966.87490016222,\n",
              "  1902.1730853915215,\n",
              "  1857.089740216732,\n",
              "  1824.5999776124954,\n",
              "  1795.3181765079498,\n",
              "  1771.6158506274223,\n",
              "  1747.3694624602795,\n",
              "  1731.3619908690453,\n",
              "  1710.9857587218285],\n",
              " [0.4946941235841651,\n",
              "  0.5487832230570819,\n",
              "  0.57161180890434,\n",
              "  0.5863519120780532,\n",
              "  0.5969846921610407,\n",
              "  0.6057039923741169,\n",
              "  0.6124747672984188,\n",
              "  0.6180399798138387,\n",
              "  0.622722047773915,\n",
              "  0.6284064147134687],\n",
              " [23.31442755460739,\n",
              "  23.158280313014984,\n",
              "  23.039598882198334,\n",
              "  23.534822404384613,\n",
              "  23.71084463596344,\n",
              "  23.900904893875122,\n",
              "  24.018145620822906,\n",
              "  24.05577528476715,\n",
              "  24.33888405561447,\n",
              "  24.456442177295685],\n",
              " [0.44052863436123346,\n",
              "  0.4522760646108664,\n",
              "  0.48237885462555063,\n",
              "  0.4566813509544787,\n",
              "  0.47577092511013214,\n",
              "  0.48384728340675476,\n",
              "  0.4801762114537445,\n",
              "  0.4669603524229075,\n",
              "  0.47577092511013214,\n",
              "  0.473568281938326])"
            ]
          },
          "execution_count": 52,
          "metadata": {},
          "output_type": "execute_result"
        }
      ],
      "source": [
        "net5 = build_1d_net('mspec')\n",
        "\n",
        "net5 = train_model(net5, 'mspec', epochs=10)"
      ]
    },
    {
      "cell_type": "code",
      "execution_count": null,
      "metadata": {
        "id": "hv00B2Ug_m-I",
        "outputId": "ae6047b4-eeea-4284-8322-297846818ef6",
        "colab": {
          "referenced_widgets": [
            "152f0175170f41c6bffe964a1905be01",
            "d38aee3b51fb42c8a4dd43c0e0cfa203",
            "c5cb27f1b7fc4ffbaa767bfe3ebe05c4",
            "e5d53acb5154438d885857196009b736",
            "8362feef8ced430586c651df82cd7015",
            "b2e0e23a548240e4820b4f6c479c4002",
            "2c45f89d010c4cd5a33781980d5a2efa",
            "6da4314d379144c291b4073c81de3a8b",
            "b6d2412a716e474eb2cb8aefc3f0cdf5",
            "ed5d871939a5421b9e625ca56b082585",
            "477854560fd441a3a08031539639ecfe",
            "f8ca73dae3b84116be0af529a29ea11c",
            "c0d35ce444974452b89f7ef7424f86d2",
            "82a399a304614b45a11888faac66d101",
            "f228b62fac814a8e974506d8f1298a42",
            "5863b859a7d340c9aa35d13fef5b8643",
            "9cca6eb83f6a43299ab738ed2a7e8a5a",
            "31924c7b0afc4f7b8f744935076df4aa",
            "169b98fb1c844254bd704a68093b170e",
            "53f79d07de804fff8b21d55c6d94abb8"
          ]
        }
      },
      "outputs": [
        {
          "data": {
            "application/vnd.jupyter.widget-view+json": {
              "model_id": "152f0175170f41c6bffe964a1905be01",
              "version_major": 2,
              "version_minor": 0
            },
            "text/plain": [
              "  0%|          | 0/2230 [00:00<?, ?it/s]"
            ]
          },
          "metadata": {},
          "output_type": "display_data"
        },
        {
          "data": {
            "application/vnd.jupyter.widget-view+json": {
              "model_id": "d38aee3b51fb42c8a4dd43c0e0cfa203",
              "version_major": 2,
              "version_minor": 0
            },
            "text/plain": [
              "  0%|          | 0/22 [00:00<?, ?it/s]"
            ]
          },
          "metadata": {},
          "output_type": "display_data"
        },
        {
          "name": "stdout",
          "output_type": "stream",
          "text": [
            "[1] validation loss,  validation accuracy: 22.670, 0.4985315712187959. train loss, train accuracy: 1907.438, 0.5720814175171022\n"
          ]
        },
        {
          "data": {
            "application/vnd.jupyter.widget-view+json": {
              "model_id": "c5cb27f1b7fc4ffbaa767bfe3ebe05c4",
              "version_major": 2,
              "version_minor": 0
            },
            "text/plain": [
              "  0%|          | 0/2230 [00:00<?, ?it/s]"
            ]
          },
          "metadata": {},
          "output_type": "display_data"
        },
        {
          "data": {
            "application/vnd.jupyter.widget-view+json": {
              "model_id": "e5d53acb5154438d885857196009b736",
              "version_major": 2,
              "version_minor": 0
            },
            "text/plain": [
              "  0%|          | 0/22 [00:00<?, ?it/s]"
            ]
          },
          "metadata": {},
          "output_type": "display_data"
        },
        {
          "name": "stdout",
          "output_type": "stream",
          "text": [
            "[2] validation loss,  validation accuracy: 23.700, 0.5234948604992657. train loss, train accuracy: 1498.027, 0.6944950656050242\n"
          ]
        },
        {
          "data": {
            "application/vnd.jupyter.widget-view+json": {
              "model_id": "8362feef8ced430586c651df82cd7015",
              "version_major": 2,
              "version_minor": 0
            },
            "text/plain": [
              "  0%|          | 0/2230 [00:00<?, ?it/s]"
            ]
          },
          "metadata": {},
          "output_type": "display_data"
        },
        {
          "data": {
            "application/vnd.jupyter.widget-view+json": {
              "model_id": "b2e0e23a548240e4820b4f6c479c4002",
              "version_major": 2,
              "version_minor": 0
            },
            "text/plain": [
              "  0%|          | 0/22 [00:00<?, ?it/s]"
            ]
          },
          "metadata": {},
          "output_type": "display_data"
        },
        {
          "name": "stdout",
          "output_type": "stream",
          "text": [
            "[3] validation loss,  validation accuracy: 26.410, 0.5462555066079295. train loss, train accuracy: 1234.126, 0.7537218234832342\n"
          ]
        },
        {
          "data": {
            "application/vnd.jupyter.widget-view+json": {
              "model_id": "2c45f89d010c4cd5a33781980d5a2efa",
              "version_major": 2,
              "version_minor": 0
            },
            "text/plain": [
              "  0%|          | 0/2230 [00:00<?, ?it/s]"
            ]
          },
          "metadata": {},
          "output_type": "display_data"
        },
        {
          "data": {
            "application/vnd.jupyter.widget-view+json": {
              "model_id": "6da4314d379144c291b4073c81de3a8b",
              "version_major": 2,
              "version_minor": 0
            },
            "text/plain": [
              "  0%|          | 0/22 [00:00<?, ?it/s]"
            ]
          },
          "metadata": {},
          "output_type": "display_data"
        },
        {
          "name": "stdout",
          "output_type": "stream",
          "text": [
            "[4] validation loss,  validation accuracy: 31.674, 0.5234948604992657. train loss, train accuracy: 1001.946, 0.8044675899966356\n"
          ]
        },
        {
          "data": {
            "application/vnd.jupyter.widget-view+json": {
              "model_id": "b6d2412a716e474eb2cb8aefc3f0cdf5",
              "version_major": 2,
              "version_minor": 0
            },
            "text/plain": [
              "  0%|          | 0/2230 [00:00<?, ?it/s]"
            ]
          },
          "metadata": {},
          "output_type": "display_data"
        },
        {
          "data": {
            "application/vnd.jupyter.widget-view+json": {
              "model_id": "ed5d871939a5421b9e625ca56b082585",
              "version_major": 2,
              "version_minor": 0
            },
            "text/plain": [
              "  0%|          | 0/22 [00:00<?, ?it/s]"
            ]
          },
          "metadata": {},
          "output_type": "display_data"
        },
        {
          "name": "stdout",
          "output_type": "stream",
          "text": [
            "[5] validation loss,  validation accuracy: 35.658, 0.5220264317180616. train loss, train accuracy: 825.498, 0.8407325894359089\n"
          ]
        },
        {
          "data": {
            "application/vnd.jupyter.widget-view+json": {
              "model_id": "477854560fd441a3a08031539639ecfe",
              "version_major": 2,
              "version_minor": 0
            },
            "text/plain": [
              "  0%|          | 0/2230 [00:00<?, ?it/s]"
            ]
          },
          "metadata": {},
          "output_type": "display_data"
        },
        {
          "data": {
            "application/vnd.jupyter.widget-view+json": {
              "model_id": "f8ca73dae3b84116be0af529a29ea11c",
              "version_major": 2,
              "version_minor": 0
            },
            "text/plain": [
              "  0%|          | 0/22 [00:00<?, ?it/s]"
            ]
          },
          "metadata": {},
          "output_type": "display_data"
        },
        {
          "name": "stdout",
          "output_type": "stream",
          "text": [
            "[6] validation loss,  validation accuracy: 42.729, 0.5308370044052864. train loss, train accuracy: 677.927, 0.8712291129303578\n"
          ]
        },
        {
          "data": {
            "application/vnd.jupyter.widget-view+json": {
              "model_id": "c0d35ce444974452b89f7ef7424f86d2",
              "version_major": 2,
              "version_minor": 0
            },
            "text/plain": [
              "  0%|          | 0/2230 [00:00<?, ?it/s]"
            ]
          },
          "metadata": {},
          "output_type": "display_data"
        },
        {
          "data": {
            "application/vnd.jupyter.widget-view+json": {
              "model_id": "82a399a304614b45a11888faac66d101",
              "version_major": 2,
              "version_minor": 0
            },
            "text/plain": [
              "  0%|          | 0/22 [00:00<?, ?it/s]"
            ]
          },
          "metadata": {},
          "output_type": "display_data"
        },
        {
          "name": "stdout",
          "output_type": "stream",
          "text": [
            "[7] validation loss,  validation accuracy: 43.956, 0.526431718061674. train loss, train accuracy: 574.998, 0.8939946170236627\n"
          ]
        },
        {
          "data": {
            "application/vnd.jupyter.widget-view+json": {
              "model_id": "f228b62fac814a8e974506d8f1298a42",
              "version_major": 2,
              "version_minor": 0
            },
            "text/plain": [
              "  0%|          | 0/2230 [00:00<?, ?it/s]"
            ]
          },
          "metadata": {},
          "output_type": "display_data"
        },
        {
          "data": {
            "application/vnd.jupyter.widget-view+json": {
              "model_id": "5863b859a7d340c9aa35d13fef5b8643",
              "version_major": 2,
              "version_minor": 0
            },
            "text/plain": [
              "  0%|          | 0/22 [00:00<?, ?it/s]"
            ]
          },
          "metadata": {},
          "output_type": "display_data"
        },
        {
          "name": "stdout",
          "output_type": "stream",
          "text": [
            "[8] validation loss,  validation accuracy: 48.887, 0.5447870778267254. train loss, train accuracy: 482.562, 0.9115243355388584\n"
          ]
        },
        {
          "data": {
            "application/vnd.jupyter.widget-view+json": {
              "model_id": "9cca6eb83f6a43299ab738ed2a7e8a5a",
              "version_major": 2,
              "version_minor": 0
            },
            "text/plain": [
              "  0%|          | 0/2230 [00:00<?, ?it/s]"
            ]
          },
          "metadata": {},
          "output_type": "display_data"
        },
        {
          "data": {
            "application/vnd.jupyter.widget-view+json": {
              "model_id": "31924c7b0afc4f7b8f744935076df4aa",
              "version_major": 2,
              "version_minor": 0
            },
            "text/plain": [
              "  0%|          | 0/22 [00:00<?, ?it/s]"
            ]
          },
          "metadata": {},
          "output_type": "display_data"
        },
        {
          "name": "stdout",
          "output_type": "stream",
          "text": [
            "[9] validation loss,  validation accuracy: 50.047, 0.5425844346549192. train loss, train accuracy: 425.571, 0.9229140966692834\n"
          ]
        },
        {
          "data": {
            "application/vnd.jupyter.widget-view+json": {
              "model_id": "169b98fb1c844254bd704a68093b170e",
              "version_major": 2,
              "version_minor": 0
            },
            "text/plain": [
              "  0%|          | 0/2230 [00:00<?, ?it/s]"
            ]
          },
          "metadata": {},
          "output_type": "display_data"
        },
        {
          "data": {
            "application/vnd.jupyter.widget-view+json": {
              "model_id": "53f79d07de804fff8b21d55c6d94abb8",
              "version_major": 2,
              "version_minor": 0
            },
            "text/plain": [
              "  0%|          | 0/22 [00:00<?, ?it/s]"
            ]
          },
          "metadata": {},
          "output_type": "display_data"
        },
        {
          "name": "stdout",
          "output_type": "stream",
          "text": [
            "[10] validation loss,  validation accuracy: 56.712, 0.5315712187958884. train loss, train accuracy: 373.935, 0.9327408321184255\n",
            "Finished Training\n"
          ]
        },
        {
          "data": {
            "text/plain": [
              "([1907.4377993047237,\n",
              "  1498.0268660187721,\n",
              "  1234.1260098069906,\n",
              "  1001.9461295008659,\n",
              "  825.4979017525911,\n",
              "  677.9271319881082,\n",
              "  574.9980086237192,\n",
              "  482.56190081872046,\n",
              "  425.5713594891131,\n",
              "  373.935325731989],\n",
              " [0.5720814175171022,\n",
              "  0.6944950656050242,\n",
              "  0.7537218234832342,\n",
              "  0.8044675899966356,\n",
              "  0.8407325894359089,\n",
              "  0.8712291129303578,\n",
              "  0.8939946170236627,\n",
              "  0.9115243355388584,\n",
              "  0.9229140966692834,\n",
              "  0.9327408321184255],\n",
              " [22.669596910476685,\n",
              "  23.700080931186676,\n",
              "  26.409769356250763,\n",
              "  31.67371928691864,\n",
              "  35.65787994861603,\n",
              "  42.728824853897095,\n",
              "  43.95581543445587,\n",
              "  48.88666796684265,\n",
              "  50.04688662290573,\n",
              "  56.71221423149109],\n",
              " [0.4985315712187959,\n",
              "  0.5234948604992657,\n",
              "  0.5462555066079295,\n",
              "  0.5234948604992657,\n",
              "  0.5220264317180616,\n",
              "  0.5308370044052864,\n",
              "  0.526431718061674,\n",
              "  0.5447870778267254,\n",
              "  0.5425844346549192,\n",
              "  0.5315712187958884])"
            ]
          },
          "execution_count": 51,
          "metadata": {},
          "output_type": "execute_result"
        }
      ],
      "source": [
        "net6 = build_2d_net('mspec')\n",
        "\n",
        "net6 = train_model(net6, 'mspec', epochs=10)"
      ]
    },
    {
      "cell_type": "markdown",
      "source": [
        "### Experiment 2: Learning Rate and Batch Size"
      ],
      "metadata": {
        "id": "vxsDJ-UI6Uz0"
      }
    },
    {
      "cell_type": "code",
      "source": [
        "# Remove unnecessary input feature columnns\n",
        "dataset = dataset.remove_columns([\"log_mspec\", \"mfcc\"])"
      ],
      "metadata": {
        "id": "lOaF6PD5xVK_"
      },
      "execution_count": null,
      "outputs": []
    },
    {
      "cell_type": "markdown",
      "source": [
        "#### Batch Size 32"
      ],
      "metadata": {
        "id": "Ds_O5DD9BeON"
      }
    },
    {
      "cell_type": "code",
      "source": [
        "# Batching\n",
        "dataloader = DataLoader(dataset, batch_size=32)"
      ],
      "metadata": {
        "id": "JMFYz3x1710d"
      },
      "execution_count": null,
      "outputs": []
    },
    {
      "cell_type": "code",
      "execution_count": null,
      "metadata": {
        "colab": {
          "referenced_widgets": [
            "8e1a1b5e957b447bb66149ea305a1df0",
            "4129f49cb8a44967bae0c7a14f010283",
            "2b476370b4de4a698b96cb716ef80b2b",
            "ddca0a3c9a1346429431e0212d9f613a",
            "e4d792589afc4e6897979c1a59df0965",
            "80764ed4c4414c24a3811b4ce8912f4f",
            "b243eb6eb3cb47cfb1470548e6e8ef59",
            "85c360ec7e2f47fc9fb66507a6c9edd5",
            "962cda527d044d42b081e5511477498d",
            "c38d54bbc4cb4fb19e726842b0bdec85",
            "3bf423542b0d4800937d9f23656df429",
            "7bf897ff56d24020822be6ec755378ef",
            "957242efe4074fe590d5828b5d1db9a4",
            "975bb027e0154157a33c200dd8e135b2",
            "6034d50bfa77463f976ec6fbcf1dda96",
            "dd47405a8d3445429e0c099392796a8c",
            "1153cf2791d54f4ca27b8dd55c6cd1d3",
            "e61a94047210429882ce71b63f0f62da",
            "a16a12c0d2784d9795fb3a20d38a4707",
            "cb1f7b5f4b65459c9af5dc25a1be5a3c",
            "913ee1e9b9484b85ac918be36521c8e2",
            "b15d2ef18fa449ea9c1a5031b997c160",
            "9312c9234f384c929fe1b46175642ee8",
            "b191c7d8197c4afa92a9a5d6b5dd7db0",
            "4e7e463a2d1b4100b445efd446935775",
            "39871c183e794d7ca60080ebd306e627",
            "7a0a57df840e486f96e92e5038e38269",
            "8d46bff86a2d4c749421993fefa012b2",
            "78ef2bc13723491ca9662a45e4b625d7",
            "3433980f0abd4e3c8b08d68e94644207",
            "1375c2f0d411402f84e4bd4b8e9ee747",
            "26dc3c1840534908962997131d994315",
            "047da4f6f7df4d808c88d2ebd4a82285",
            "9b2bf4e34e2742beb4e23359e21fea8b",
            "3002b1c43a8b40b2a535c492fe58c7e4",
            "3a690b842b0c412f871893dd815fcd23",
            "8043e6513b12416cba39518323a68faa",
            "a84a2ef0200548429f847efad8d7a2f9",
            "2af3acbe3dd844bebdc1e5354d660731",
            "37ac3d375d6a4bf3b25bb91294d76cba",
            "42e3651eb15149738b4e6e4b777d35bc",
            "5386976411a14cfebbc4dc067ccd6405",
            "22849c0b24a0483897f5dc73ffea8c6c",
            "57ab1f74d6454f6c91a3a920bca14c2e",
            "37ea109f08f949f0b120a8bbb6ff3037",
            "4b6b675b424d4e01b469873617cea00e",
            "426bd32b1e8c4a40b0d50a7ad3573f15",
            "5ead4d0fdc2140b9adfbad734d3125da",
            "f0e2d490a5834d54ade64c0230c2a62a",
            "671fa9f30ae949a9acb3c17c6aabc7c5",
            "f07ac7b178b14f59aa22faeb0b3a2ae3",
            "a424d01fd4e042e592e08b6629eca308",
            "d4daf74351454d10ade45bbe8d2d9077",
            "a570f8c6fe994a8ba5fb979dafbc9dc9",
            "94a843b5dca44b5fb7e7e8df10c60684",
            "b3549673053040afb53cc98ca3ac8aef",
            "871eea770bb945ceb3af662b9597c0ca",
            "11f374b01e3640ad992a5efc9e669ae9",
            "4155526b45f94631b83b03478df1f458",
            "f00fdfac70b442c28d4972908ddd218c",
            "e2cb7beb78744908b5031f7e8e32884e",
            "9ac6f607433c44a391f8e1413ee26a5b",
            "8fd7400c93cb4a068cc40e1306176d8e",
            "ddb9bbace2924441ae2349041d785089",
            "12266d4bb5a041d08fe64905d3f1ea58",
            "f763fa834e80497b87473014e53c17a0",
            "4c779982f9b74eec95e98d520054a6ca",
            "1b0885b95f1e478b96340173cbacea9f",
            "20552c6c24ed483c98c446af1e9ed739",
            "94fdbc44c54d4650949c46aca26009ed",
            "e50867ecac544247ae87efde8040e96c",
            "35c70a3ca5db4ff4bb085142d4632c91",
            "19ebc4fc89aa4b60befa053bf40a55b7",
            "2248196d728c4b66bb1645767d39289b",
            "e1435dad00fc4c52b44893a2030b1833",
            "d5c200c31797470e89f608996b91fbbf",
            "d0a0e9e261284ac2aa593b30d33e15ed",
            "c1aa827ae1854d1e839d710376621afd",
            "3a659859fe8a416a91ac97297874f577",
            "bf5fa925cc3f426d9ecacc9be9914148",
            "c20feae09c1b496aae92e0f1a019b936",
            "68ef2e3e46eb438684e7fd047e21b7fc",
            "118c1a2a2641403eacedf832428a58a0",
            "c425621af55b41388fa17f1d4119a7aa",
            "4448ff2b3fe24e43a8810a87919937f7",
            "109cf36df9924ad9b840534150d54b15",
            "d61b747bafcb45668e404b6a2c01c606",
            "d2fd3a5d2ad74b83831885a65e417ad9",
            "53f0e58127504336877863a013d3748c",
            "aaf266fdb918407db0000f6c939244b4",
            "d634b5c1dc0946a19560da065f65da69",
            "32caa5169ed44276ab7ab51b33e27b44",
            "c98882ac97204950bb690e59081f485c",
            "8654ee9713e746aa9d64378d4d4aa726",
            "1fa91db65c234c789053838886f7e669",
            "3529870430de4913ba3abe01ecd0d67e",
            "cb885d1c41104943ace4b34926359fab",
            "b9e2a4b87cb94442b938b297f107ab90",
            "7897180f484749eca56d08d3f3c07cd9",
            "ac58214dd3d7437bb6fb8e202b058f6a"
          ]
        },
        "id": "0VBI4DLm6FMK",
        "outputId": "f123e56e-a64b-4ad2-8544-8be7ddd85525"
      },
      "outputs": [
        {
          "data": {
            "application/vnd.jupyter.widget-view+json": {
              "model_id": "8e1a1b5e957b447bb66149ea305a1df0",
              "version_major": 2,
              "version_minor": 0
            },
            "text/plain": [
              "  0%|          | 0/4459 [00:00<?, ?it/s]"
            ]
          },
          "metadata": {},
          "output_type": "display_data"
        },
        {
          "data": {
            "application/vnd.jupyter.widget-view+json": {
              "model_id": "4129f49cb8a44967bae0c7a14f010283",
              "version_major": 2,
              "version_minor": 0
            },
            "text/plain": [
              "  0%|          | 0/22 [00:00<?, ?it/s]"
            ]
          },
          "metadata": {},
          "output_type": "display_data"
        },
        {
          "name": "stdout",
          "output_type": "stream",
          "text": [
            "[1] validation loss,  validation accuracy: 21.439, 0.5367107195301027. train loss, train accuracy: 3795.718, 0.5794269373107548\n"
          ]
        },
        {
          "data": {
            "application/vnd.jupyter.widget-view+json": {
              "model_id": "2b476370b4de4a698b96cb716ef80b2b",
              "version_major": 2,
              "version_minor": 0
            },
            "text/plain": [
              "  0%|          | 0/4459 [00:00<?, ?it/s]"
            ]
          },
          "metadata": {},
          "output_type": "display_data"
        },
        {
          "data": {
            "application/vnd.jupyter.widget-view+json": {
              "model_id": "ddca0a3c9a1346429431e0212d9f613a",
              "version_major": 2,
              "version_minor": 0
            },
            "text/plain": [
              "  0%|          | 0/22 [00:00<?, ?it/s]"
            ]
          },
          "metadata": {},
          "output_type": "display_data"
        },
        {
          "name": "stdout",
          "output_type": "stream",
          "text": [
            "[2] validation loss,  validation accuracy: 22.784, 0.5594713656387665. train loss, train accuracy: 3034.407, 0.69052792418975\n"
          ]
        },
        {
          "data": {
            "application/vnd.jupyter.widget-view+json": {
              "model_id": "e4d792589afc4e6897979c1a59df0965",
              "version_major": 2,
              "version_minor": 0
            },
            "text/plain": [
              "  0%|          | 0/4459 [00:00<?, ?it/s]"
            ]
          },
          "metadata": {},
          "output_type": "display_data"
        },
        {
          "data": {
            "application/vnd.jupyter.widget-view+json": {
              "model_id": "80764ed4c4414c24a3811b4ce8912f4f",
              "version_major": 2,
              "version_minor": 0
            },
            "text/plain": [
              "  0%|          | 0/22 [00:00<?, ?it/s]"
            ]
          },
          "metadata": {},
          "output_type": "display_data"
        },
        {
          "name": "stdout",
          "output_type": "stream",
          "text": [
            "[3] validation loss,  validation accuracy: 24.579, 0.5433186490455213. train loss, train accuracy: 2580.236, 0.7434465066726478\n"
          ]
        },
        {
          "data": {
            "application/vnd.jupyter.widget-view+json": {
              "model_id": "b243eb6eb3cb47cfb1470548e6e8ef59",
              "version_major": 2,
              "version_minor": 0
            },
            "text/plain": [
              "  0%|          | 0/4459 [00:00<?, ?it/s]"
            ]
          },
          "metadata": {},
          "output_type": "display_data"
        },
        {
          "data": {
            "application/vnd.jupyter.widget-view+json": {
              "model_id": "85c360ec7e2f47fc9fb66507a6c9edd5",
              "version_major": 2,
              "version_minor": 0
            },
            "text/plain": [
              "  0%|          | 0/22 [00:00<?, ?it/s]"
            ]
          },
          "metadata": {},
          "output_type": "display_data"
        },
        {
          "name": "stdout",
          "output_type": "stream",
          "text": [
            "[4] validation loss,  validation accuracy: 29.719, 0.5440528634361234. train loss, train accuracy: 2180.743, 0.7868046988897611\n"
          ]
        },
        {
          "data": {
            "application/vnd.jupyter.widget-view+json": {
              "model_id": "962cda527d044d42b081e5511477498d",
              "version_major": 2,
              "version_minor": 0
            },
            "text/plain": [
              "  0%|          | 0/4459 [00:00<?, ?it/s]"
            ]
          },
          "metadata": {},
          "output_type": "display_data"
        },
        {
          "data": {
            "application/vnd.jupyter.widget-view+json": {
              "model_id": "c38d54bbc4cb4fb19e726842b0bdec85",
              "version_major": 2,
              "version_minor": 0
            },
            "text/plain": [
              "  0%|          | 0/22 [00:00<?, ?it/s]"
            ]
          },
          "metadata": {},
          "output_type": "display_data"
        },
        {
          "name": "stdout",
          "output_type": "stream",
          "text": [
            "[5] validation loss,  validation accuracy: 30.428, 0.5690161527165932. train loss, train accuracy: 1862.330, 0.819936637882696\n"
          ]
        },
        {
          "data": {
            "application/vnd.jupyter.widget-view+json": {
              "model_id": "3bf423542b0d4800937d9f23656df429",
              "version_major": 2,
              "version_minor": 0
            },
            "text/plain": [
              "  0%|          | 0/4459 [00:00<?, ?it/s]"
            ]
          },
          "metadata": {},
          "output_type": "display_data"
        },
        {
          "data": {
            "application/vnd.jupyter.widget-view+json": {
              "model_id": "7bf897ff56d24020822be6ec755378ef",
              "version_major": 2,
              "version_minor": 0
            },
            "text/plain": [
              "  0%|          | 0/22 [00:00<?, ?it/s]"
            ]
          },
          "metadata": {},
          "output_type": "display_data"
        },
        {
          "name": "stdout",
          "output_type": "stream",
          "text": [
            "[6] validation loss,  validation accuracy: 37.562, 0.5675477239353891. train loss, train accuracy: 1606.304, 0.8477206459571605\n"
          ]
        },
        {
          "data": {
            "application/vnd.jupyter.widget-view+json": {
              "model_id": "957242efe4074fe590d5828b5d1db9a4",
              "version_major": 2,
              "version_minor": 0
            },
            "text/plain": [
              "  0%|          | 0/4459 [00:00<?, ?it/s]"
            ]
          },
          "metadata": {},
          "output_type": "display_data"
        },
        {
          "data": {
            "application/vnd.jupyter.widget-view+json": {
              "model_id": "975bb027e0154157a33c200dd8e135b2",
              "version_major": 2,
              "version_minor": 0
            },
            "text/plain": [
              "  0%|          | 0/22 [00:00<?, ?it/s]"
            ]
          },
          "metadata": {},
          "output_type": "display_data"
        },
        {
          "name": "stdout",
          "output_type": "stream",
          "text": [
            "[7] validation loss,  validation accuracy: 41.376, 0.5550660792951542. train loss, train accuracy: 1414.308, 0.8670026354154985\n"
          ]
        },
        {
          "data": {
            "application/vnd.jupyter.widget-view+json": {
              "model_id": "6034d50bfa77463f976ec6fbcf1dda96",
              "version_major": 2,
              "version_minor": 0
            },
            "text/plain": [
              "  0%|          | 0/4459 [00:00<?, ?it/s]"
            ]
          },
          "metadata": {},
          "output_type": "display_data"
        },
        {
          "data": {
            "application/vnd.jupyter.widget-view+json": {
              "model_id": "dd47405a8d3445429e0c099392796a8c",
              "version_major": 2,
              "version_minor": 0
            },
            "text/plain": [
              "  0%|          | 0/22 [00:00<?, ?it/s]"
            ]
          },
          "metadata": {},
          "output_type": "display_data"
        },
        {
          "name": "stdout",
          "output_type": "stream",
          "text": [
            "[8] validation loss,  validation accuracy: 45.838, 0.5506607929515418. train loss, train accuracy: 1275.019, 0.8820651564427499\n"
          ]
        },
        {
          "data": {
            "application/vnd.jupyter.widget-view+json": {
              "model_id": "1153cf2791d54f4ca27b8dd55c6cd1d3",
              "version_major": 2,
              "version_minor": 0
            },
            "text/plain": [
              "  0%|          | 0/4459 [00:00<?, ?it/s]"
            ]
          },
          "metadata": {},
          "output_type": "display_data"
        },
        {
          "data": {
            "application/vnd.jupyter.widget-view+json": {
              "model_id": "e61a94047210429882ce71b63f0f62da",
              "version_major": 2,
              "version_minor": 0
            },
            "text/plain": [
              "  0%|          | 0/22 [00:00<?, ?it/s]"
            ]
          },
          "metadata": {},
          "output_type": "display_data"
        },
        {
          "name": "stdout",
          "output_type": "stream",
          "text": [
            "[9] validation loss,  validation accuracy: 54.775, 0.5580029368575624. train loss, train accuracy: 1156.547, 0.8923334641695637\n"
          ]
        },
        {
          "data": {
            "application/vnd.jupyter.widget-view+json": {
              "model_id": "a16a12c0d2784d9795fb3a20d38a4707",
              "version_major": 2,
              "version_minor": 0
            },
            "text/plain": [
              "  0%|          | 0/4459 [00:00<?, ?it/s]"
            ]
          },
          "metadata": {},
          "output_type": "display_data"
        },
        {
          "data": {
            "application/vnd.jupyter.widget-view+json": {
              "model_id": "cb1f7b5f4b65459c9af5dc25a1be5a3c",
              "version_major": 2,
              "version_minor": 0
            },
            "text/plain": [
              "  0%|          | 0/22 [00:00<?, ?it/s]"
            ]
          },
          "metadata": {},
          "output_type": "display_data"
        },
        {
          "name": "stdout",
          "output_type": "stream",
          "text": [
            "[10] validation loss,  validation accuracy: 54.313, 0.5433186490455213. train loss, train accuracy: 1025.873, 0.9060011775260738\n"
          ]
        },
        {
          "data": {
            "application/vnd.jupyter.widget-view+json": {
              "model_id": "913ee1e9b9484b85ac918be36521c8e2",
              "version_major": 2,
              "version_minor": 0
            },
            "text/plain": [
              "  0%|          | 0/4459 [00:00<?, ?it/s]"
            ]
          },
          "metadata": {},
          "output_type": "display_data"
        },
        {
          "data": {
            "application/vnd.jupyter.widget-view+json": {
              "model_id": "b15d2ef18fa449ea9c1a5031b997c160",
              "version_major": 2,
              "version_minor": 0
            },
            "text/plain": [
              "  0%|          | 0/22 [00:00<?, ?it/s]"
            ]
          },
          "metadata": {},
          "output_type": "display_data"
        },
        {
          "name": "stdout",
          "output_type": "stream",
          "text": [
            "[11] validation loss,  validation accuracy: 55.120, 0.5565345080763583. train loss, train accuracy: 948.294, 0.9132205338118201\n"
          ]
        },
        {
          "data": {
            "application/vnd.jupyter.widget-view+json": {
              "model_id": "9312c9234f384c929fe1b46175642ee8",
              "version_major": 2,
              "version_minor": 0
            },
            "text/plain": [
              "  0%|          | 0/4459 [00:00<?, ?it/s]"
            ]
          },
          "metadata": {},
          "output_type": "display_data"
        },
        {
          "data": {
            "application/vnd.jupyter.widget-view+json": {
              "model_id": "b191c7d8197c4afa92a9a5d6b5dd7db0",
              "version_major": 2,
              "version_minor": 0
            },
            "text/plain": [
              "  0%|          | 0/22 [00:00<?, ?it/s]"
            ]
          },
          "metadata": {},
          "output_type": "display_data"
        },
        {
          "name": "stdout",
          "output_type": "stream",
          "text": [
            "[12] validation loss,  validation accuracy: 50.858, 0.5602055800293686. train loss, train accuracy: 888.870, 0.9203417629247505\n"
          ]
        },
        {
          "data": {
            "application/vnd.jupyter.widget-view+json": {
              "model_id": "4e7e463a2d1b4100b445efd446935775",
              "version_major": 2,
              "version_minor": 0
            },
            "text/plain": [
              "  0%|          | 0/4459 [00:00<?, ?it/s]"
            ]
          },
          "metadata": {},
          "output_type": "display_data"
        },
        {
          "data": {
            "application/vnd.jupyter.widget-view+json": {
              "model_id": "39871c183e794d7ca60080ebd306e627",
              "version_major": 2,
              "version_minor": 0
            },
            "text/plain": [
              "  0%|          | 0/22 [00:00<?, ?it/s]"
            ]
          },
          "metadata": {},
          "output_type": "display_data"
        },
        {
          "name": "stdout",
          "output_type": "stream",
          "text": [
            "[13] validation loss,  validation accuracy: 59.710, 0.5345080763582967. train loss, train accuracy: 817.202, 0.9272877649433666\n"
          ]
        },
        {
          "data": {
            "application/vnd.jupyter.widget-view+json": {
              "model_id": "7a0a57df840e486f96e92e5038e38269",
              "version_major": 2,
              "version_minor": 0
            },
            "text/plain": [
              "  0%|          | 0/4459 [00:00<?, ?it/s]"
            ]
          },
          "metadata": {},
          "output_type": "display_data"
        },
        {
          "data": {
            "application/vnd.jupyter.widget-view+json": {
              "model_id": "8d46bff86a2d4c749421993fefa012b2",
              "version_major": 2,
              "version_minor": 0
            },
            "text/plain": [
              "  0%|          | 0/22 [00:00<?, ?it/s]"
            ]
          },
          "metadata": {},
          "output_type": "display_data"
        },
        {
          "name": "stdout",
          "output_type": "stream",
          "text": [
            "[14] validation loss,  validation accuracy: 61.965, 0.5389133627019089. train loss, train accuracy: 744.288, 0.9339604126948525\n"
          ]
        },
        {
          "data": {
            "application/vnd.jupyter.widget-view+json": {
              "model_id": "78ef2bc13723491ca9662a45e4b625d7",
              "version_major": 2,
              "version_minor": 0
            },
            "text/plain": [
              "  0%|          | 0/4459 [00:00<?, ?it/s]"
            ]
          },
          "metadata": {},
          "output_type": "display_data"
        },
        {
          "data": {
            "application/vnd.jupyter.widget-view+json": {
              "model_id": "3433980f0abd4e3c8b08d68e94644207",
              "version_major": 2,
              "version_minor": 0
            },
            "text/plain": [
              "  0%|          | 0/22 [00:00<?, ?it/s]"
            ]
          },
          "metadata": {},
          "output_type": "display_data"
        },
        {
          "name": "stdout",
          "output_type": "stream",
          "text": [
            "[15] validation loss,  validation accuracy: 70.552, 0.5183553597650514. train loss, train accuracy: 698.390, 0.93850930806325\n"
          ]
        },
        {
          "data": {
            "application/vnd.jupyter.widget-view+json": {
              "model_id": "1375c2f0d411402f84e4bd4b8e9ee747",
              "version_major": 2,
              "version_minor": 0
            },
            "text/plain": [
              "  0%|          | 0/4459 [00:00<?, ?it/s]"
            ]
          },
          "metadata": {},
          "output_type": "display_data"
        },
        {
          "data": {
            "application/vnd.jupyter.widget-view+json": {
              "model_id": "26dc3c1840534908962997131d994315",
              "version_major": 2,
              "version_minor": 0
            },
            "text/plain": [
              "  0%|          | 0/22 [00:00<?, ?it/s]"
            ]
          },
          "metadata": {},
          "output_type": "display_data"
        },
        {
          "name": "stdout",
          "output_type": "stream",
          "text": [
            "[16] validation loss,  validation accuracy: 65.941, 0.5381791483113069. train loss, train accuracy: 659.731, 0.9420418862846248\n"
          ]
        },
        {
          "data": {
            "application/vnd.jupyter.widget-view+json": {
              "model_id": "047da4f6f7df4d808c88d2ebd4a82285",
              "version_major": 2,
              "version_minor": 0
            },
            "text/plain": [
              "  0%|          | 0/4459 [00:00<?, ?it/s]"
            ]
          },
          "metadata": {},
          "output_type": "display_data"
        },
        {
          "data": {
            "application/vnd.jupyter.widget-view+json": {
              "model_id": "9b2bf4e34e2742beb4e23359e21fea8b",
              "version_major": 2,
              "version_minor": 0
            },
            "text/plain": [
              "  0%|          | 0/22 [00:00<?, ?it/s]"
            ]
          },
          "metadata": {},
          "output_type": "display_data"
        },
        {
          "name": "stdout",
          "output_type": "stream",
          "text": [
            "[17] validation loss,  validation accuracy: 65.935, 0.55359765051395. train loss, train accuracy: 612.825, 0.9470043175956039\n"
          ]
        },
        {
          "data": {
            "application/vnd.jupyter.widget-view+json": {
              "model_id": "3002b1c43a8b40b2a535c492fe58c7e4",
              "version_major": 2,
              "version_minor": 0
            },
            "text/plain": [
              "  0%|          | 0/4459 [00:00<?, ?it/s]"
            ]
          },
          "metadata": {},
          "output_type": "display_data"
        },
        {
          "data": {
            "application/vnd.jupyter.widget-view+json": {
              "model_id": "3a690b842b0c412f871893dd815fcd23",
              "version_major": 2,
              "version_minor": 0
            },
            "text/plain": [
              "  0%|          | 0/22 [00:00<?, ?it/s]"
            ]
          },
          "metadata": {},
          "output_type": "display_data"
        },
        {
          "name": "stdout",
          "output_type": "stream",
          "text": [
            "[18] validation loss,  validation accuracy: 78.109, 0.5367107195301027. train loss, train accuracy: 584.401, 0.9491911517326455\n"
          ]
        },
        {
          "data": {
            "application/vnd.jupyter.widget-view+json": {
              "model_id": "8043e6513b12416cba39518323a68faa",
              "version_major": 2,
              "version_minor": 0
            },
            "text/plain": [
              "  0%|          | 0/4459 [00:00<?, ?it/s]"
            ]
          },
          "metadata": {},
          "output_type": "display_data"
        },
        {
          "data": {
            "application/vnd.jupyter.widget-view+json": {
              "model_id": "a84a2ef0200548429f847efad8d7a2f9",
              "version_major": 2,
              "version_minor": 0
            },
            "text/plain": [
              "  0%|          | 0/22 [00:00<?, ?it/s]"
            ]
          },
          "metadata": {},
          "output_type": "display_data"
        },
        {
          "name": "stdout",
          "output_type": "stream",
          "text": [
            "[19] validation loss,  validation accuracy: 78.386, 0.5425844346549192. train loss, train accuracy: 550.225, 0.9524363575193451\n"
          ]
        },
        {
          "data": {
            "application/vnd.jupyter.widget-view+json": {
              "model_id": "2af3acbe3dd844bebdc1e5354d660731",
              "version_major": 2,
              "version_minor": 0
            },
            "text/plain": [
              "  0%|          | 0/4459 [00:00<?, ?it/s]"
            ]
          },
          "metadata": {},
          "output_type": "display_data"
        },
        {
          "data": {
            "application/vnd.jupyter.widget-view+json": {
              "model_id": "37ac3d375d6a4bf3b25bb91294d76cba",
              "version_major": 2,
              "version_minor": 0
            },
            "text/plain": [
              "  0%|          | 0/22 [00:00<?, ?it/s]"
            ]
          },
          "metadata": {},
          "output_type": "display_data"
        },
        {
          "name": "stdout",
          "output_type": "stream",
          "text": [
            "[20] validation loss,  validation accuracy: 81.846, 0.5176211453744494. train loss, train accuracy: 520.790, 0.9563123808455759\n"
          ]
        },
        {
          "data": {
            "application/vnd.jupyter.widget-view+json": {
              "model_id": "42e3651eb15149738b4e6e4b777d35bc",
              "version_major": 2,
              "version_minor": 0
            },
            "text/plain": [
              "  0%|          | 0/4459 [00:00<?, ?it/s]"
            ]
          },
          "metadata": {},
          "output_type": "display_data"
        },
        {
          "data": {
            "application/vnd.jupyter.widget-view+json": {
              "model_id": "5386976411a14cfebbc4dc067ccd6405",
              "version_major": 2,
              "version_minor": 0
            },
            "text/plain": [
              "  0%|          | 0/22 [00:00<?, ?it/s]"
            ]
          },
          "metadata": {},
          "output_type": "display_data"
        },
        {
          "name": "stdout",
          "output_type": "stream",
          "text": [
            "[21] validation loss,  validation accuracy: 83.255, 0.5433186490455213. train loss, train accuracy: 479.541, 0.9587445329146574\n"
          ]
        },
        {
          "data": {
            "application/vnd.jupyter.widget-view+json": {
              "model_id": "22849c0b24a0483897f5dc73ffea8c6c",
              "version_major": 2,
              "version_minor": 0
            },
            "text/plain": [
              "  0%|          | 0/4459 [00:00<?, ?it/s]"
            ]
          },
          "metadata": {},
          "output_type": "display_data"
        },
        {
          "data": {
            "application/vnd.jupyter.widget-view+json": {
              "model_id": "57ab1f74d6454f6c91a3a920bca14c2e",
              "version_major": 2,
              "version_minor": 0
            },
            "text/plain": [
              "  0%|          | 0/22 [00:00<?, ?it/s]"
            ]
          },
          "metadata": {},
          "output_type": "display_data"
        },
        {
          "name": "stdout",
          "output_type": "stream",
          "text": [
            "[22] validation loss,  validation accuracy: 91.173, 0.5425844346549192. train loss, train accuracy: 453.679, 0.9613449029942805\n"
          ]
        },
        {
          "data": {
            "application/vnd.jupyter.widget-view+json": {
              "model_id": "37ea109f08f949f0b120a8bbb6ff3037",
              "version_major": 2,
              "version_minor": 0
            },
            "text/plain": [
              "  0%|          | 0/4459 [00:00<?, ?it/s]"
            ]
          },
          "metadata": {},
          "output_type": "display_data"
        },
        {
          "data": {
            "application/vnd.jupyter.widget-view+json": {
              "model_id": "4b6b675b424d4e01b469873617cea00e",
              "version_major": 2,
              "version_minor": 0
            },
            "text/plain": [
              "  0%|          | 0/22 [00:00<?, ?it/s]"
            ]
          },
          "metadata": {},
          "output_type": "display_data"
        },
        {
          "name": "stdout",
          "output_type": "stream",
          "text": [
            "[23] validation loss,  validation accuracy: 95.338, 0.5389133627019089. train loss, train accuracy: 439.686, 0.9629219468431087\n"
          ]
        },
        {
          "data": {
            "application/vnd.jupyter.widget-view+json": {
              "model_id": "426bd32b1e8c4a40b0d50a7ad3573f15",
              "version_major": 2,
              "version_minor": 0
            },
            "text/plain": [
              "  0%|          | 0/4459 [00:00<?, ?it/s]"
            ]
          },
          "metadata": {},
          "output_type": "display_data"
        },
        {
          "data": {
            "application/vnd.jupyter.widget-view+json": {
              "model_id": "5ead4d0fdc2140b9adfbad734d3125da",
              "version_major": 2,
              "version_minor": 0
            },
            "text/plain": [
              "  0%|          | 0/22 [00:00<?, ?it/s]"
            ]
          },
          "metadata": {},
          "output_type": "display_data"
        },
        {
          "name": "stdout",
          "output_type": "stream",
          "text": [
            "[24] validation loss,  validation accuracy: 88.224, 0.5220264317180616. train loss, train accuracy: 432.588, 0.9644919816081642\n"
          ]
        },
        {
          "data": {
            "application/vnd.jupyter.widget-view+json": {
              "model_id": "f0e2d490a5834d54ade64c0230c2a62a",
              "version_major": 2,
              "version_minor": 0
            },
            "text/plain": [
              "  0%|          | 0/4459 [00:00<?, ?it/s]"
            ]
          },
          "metadata": {},
          "output_type": "display_data"
        },
        {
          "data": {
            "application/vnd.jupyter.widget-view+json": {
              "model_id": "671fa9f30ae949a9acb3c17c6aabc7c5",
              "version_major": 2,
              "version_minor": 0
            },
            "text/plain": [
              "  0%|          | 0/22 [00:00<?, ?it/s]"
            ]
          },
          "metadata": {},
          "output_type": "display_data"
        },
        {
          "name": "stdout",
          "output_type": "stream",
          "text": [
            "[25] validation loss,  validation accuracy: 89.668, 0.5323054331864905. train loss, train accuracy: 401.617, 0.966755915666704\n"
          ]
        },
        {
          "data": {
            "application/vnd.jupyter.widget-view+json": {
              "model_id": "f07ac7b178b14f59aa22faeb0b3a2ae3",
              "version_major": 2,
              "version_minor": 0
            },
            "text/plain": [
              "  0%|          | 0/4459 [00:00<?, ?it/s]"
            ]
          },
          "metadata": {},
          "output_type": "display_data"
        },
        {
          "data": {
            "application/vnd.jupyter.widget-view+json": {
              "model_id": "a424d01fd4e042e592e08b6629eca308",
              "version_major": 2,
              "version_minor": 0
            },
            "text/plain": [
              "  0%|          | 0/22 [00:00<?, ?it/s]"
            ]
          },
          "metadata": {},
          "output_type": "display_data"
        },
        {
          "name": "stdout",
          "output_type": "stream",
          "text": [
            "[26] validation loss,  validation accuracy: 93.744, 0.5345080763582967. train loss, train accuracy: 391.716, 0.9682418414264887\n"
          ]
        },
        {
          "data": {
            "application/vnd.jupyter.widget-view+json": {
              "model_id": "d4daf74351454d10ade45bbe8d2d9077",
              "version_major": 2,
              "version_minor": 0
            },
            "text/plain": [
              "  0%|          | 0/4459 [00:00<?, ?it/s]"
            ]
          },
          "metadata": {},
          "output_type": "display_data"
        },
        {
          "data": {
            "application/vnd.jupyter.widget-view+json": {
              "model_id": "a570f8c6fe994a8ba5fb979dafbc9dc9",
              "version_major": 2,
              "version_minor": 0
            },
            "text/plain": [
              "  0%|          | 0/22 [00:00<?, ?it/s]"
            ]
          },
          "metadata": {},
          "output_type": "display_data"
        },
        {
          "name": "stdout",
          "output_type": "stream",
          "text": [
            "[27] validation loss,  validation accuracy: 93.196, 0.5389133627019089. train loss, train accuracy: 391.461, 0.9676390602220478\n"
          ]
        },
        {
          "data": {
            "application/vnd.jupyter.widget-view+json": {
              "model_id": "94a843b5dca44b5fb7e7e8df10c60684",
              "version_major": 2,
              "version_minor": 0
            },
            "text/plain": [
              "  0%|          | 0/4459 [00:00<?, ?it/s]"
            ]
          },
          "metadata": {},
          "output_type": "display_data"
        },
        {
          "data": {
            "application/vnd.jupyter.widget-view+json": {
              "model_id": "b3549673053040afb53cc98ca3ac8aef",
              "version_major": 2,
              "version_minor": 0
            },
            "text/plain": [
              "  0%|          | 0/22 [00:00<?, ?it/s]"
            ]
          },
          "metadata": {},
          "output_type": "display_data"
        },
        {
          "name": "stdout",
          "output_type": "stream",
          "text": [
            "[28] validation loss,  validation accuracy: 103.955, 0.5506607929515418. train loss, train accuracy: 350.679, 0.9704146573959852\n"
          ]
        },
        {
          "data": {
            "application/vnd.jupyter.widget-view+json": {
              "model_id": "871eea770bb945ceb3af662b9597c0ca",
              "version_major": 2,
              "version_minor": 0
            },
            "text/plain": [
              "  0%|          | 0/4459 [00:00<?, ?it/s]"
            ]
          },
          "metadata": {},
          "output_type": "display_data"
        },
        {
          "data": {
            "application/vnd.jupyter.widget-view+json": {
              "model_id": "11f374b01e3640ad992a5efc9e669ae9",
              "version_major": 2,
              "version_minor": 0
            },
            "text/plain": [
              "  0%|          | 0/22 [00:00<?, ?it/s]"
            ]
          },
          "metadata": {},
          "output_type": "display_data"
        },
        {
          "name": "stdout",
          "output_type": "stream",
          "text": [
            "[29] validation loss,  validation accuracy: 98.339, 0.5411160058737151. train loss, train accuracy: 351.265, 0.9713749018728272\n"
          ]
        },
        {
          "data": {
            "application/vnd.jupyter.widget-view+json": {
              "model_id": "4155526b45f94631b83b03478df1f458",
              "version_major": 2,
              "version_minor": 0
            },
            "text/plain": [
              "  0%|          | 0/4459 [00:00<?, ?it/s]"
            ]
          },
          "metadata": {},
          "output_type": "display_data"
        },
        {
          "data": {
            "application/vnd.jupyter.widget-view+json": {
              "model_id": "f00fdfac70b442c28d4972908ddd218c",
              "version_major": 2,
              "version_minor": 0
            },
            "text/plain": [
              "  0%|          | 0/22 [00:00<?, ?it/s]"
            ]
          },
          "metadata": {},
          "output_type": "display_data"
        },
        {
          "name": "stdout",
          "output_type": "stream",
          "text": [
            "[30] validation loss,  validation accuracy: 100.330, 0.527165932452276. train loss, train accuracy: 357.480, 0.9714309745430078\n"
          ]
        },
        {
          "data": {
            "application/vnd.jupyter.widget-view+json": {
              "model_id": "e2cb7beb78744908b5031f7e8e32884e",
              "version_major": 2,
              "version_minor": 0
            },
            "text/plain": [
              "  0%|          | 0/4459 [00:00<?, ?it/s]"
            ]
          },
          "metadata": {},
          "output_type": "display_data"
        },
        {
          "data": {
            "application/vnd.jupyter.widget-view+json": {
              "model_id": "9ac6f607433c44a391f8e1413ee26a5b",
              "version_major": 2,
              "version_minor": 0
            },
            "text/plain": [
              "  0%|          | 0/22 [00:00<?, ?it/s]"
            ]
          },
          "metadata": {},
          "output_type": "display_data"
        },
        {
          "name": "stdout",
          "output_type": "stream",
          "text": [
            "[31] validation loss,  validation accuracy: 95.913, 0.5469897209985316. train loss, train accuracy: 335.013, 0.9733584725804643\n"
          ]
        },
        {
          "data": {
            "application/vnd.jupyter.widget-view+json": {
              "model_id": "8fd7400c93cb4a068cc40e1306176d8e",
              "version_major": 2,
              "version_minor": 0
            },
            "text/plain": [
              "  0%|          | 0/4459 [00:00<?, ?it/s]"
            ]
          },
          "metadata": {},
          "output_type": "display_data"
        },
        {
          "data": {
            "application/vnd.jupyter.widget-view+json": {
              "model_id": "ddb9bbace2924441ae2349041d785089",
              "version_major": 2,
              "version_minor": 0
            },
            "text/plain": [
              "  0%|          | 0/22 [00:00<?, ?it/s]"
            ]
          },
          "metadata": {},
          "output_type": "display_data"
        },
        {
          "name": "stdout",
          "output_type": "stream",
          "text": [
            "[32] validation loss,  validation accuracy: 122.758, 0.5139500734214391. train loss, train accuracy: 306.590, 0.975510261298643\n"
          ]
        },
        {
          "data": {
            "application/vnd.jupyter.widget-view+json": {
              "model_id": "12266d4bb5a041d08fe64905d3f1ea58",
              "version_major": 2,
              "version_minor": 0
            },
            "text/plain": [
              "  0%|          | 0/4459 [00:00<?, ?it/s]"
            ]
          },
          "metadata": {},
          "output_type": "display_data"
        },
        {
          "data": {
            "application/vnd.jupyter.widget-view+json": {
              "model_id": "f763fa834e80497b87473014e53c17a0",
              "version_major": 2,
              "version_minor": 0
            },
            "text/plain": [
              "  0%|          | 0/22 [00:00<?, ?it/s]"
            ]
          },
          "metadata": {},
          "output_type": "display_data"
        },
        {
          "name": "stdout",
          "output_type": "stream",
          "text": [
            "[33] validation loss,  validation accuracy: 127.075, 0.5293685756240822. train loss, train accuracy: 314.997, 0.9745570259055736\n"
          ]
        },
        {
          "data": {
            "application/vnd.jupyter.widget-view+json": {
              "model_id": "4c779982f9b74eec95e98d520054a6ca",
              "version_major": 2,
              "version_minor": 0
            },
            "text/plain": [
              "  0%|          | 0/4459 [00:00<?, ?it/s]"
            ]
          },
          "metadata": {},
          "output_type": "display_data"
        },
        {
          "data": {
            "application/vnd.jupyter.widget-view+json": {
              "model_id": "1b0885b95f1e478b96340173cbacea9f",
              "version_major": 2,
              "version_minor": 0
            },
            "text/plain": [
              "  0%|          | 0/22 [00:00<?, ?it/s]"
            ]
          },
          "metadata": {},
          "output_type": "display_data"
        },
        {
          "name": "stdout",
          "output_type": "stream",
          "text": [
            "[34] validation loss,  validation accuracy: 125.743, 0.5352422907488987. train loss, train accuracy: 306.658, 0.9754191432095997\n"
          ]
        },
        {
          "data": {
            "application/vnd.jupyter.widget-view+json": {
              "model_id": "20552c6c24ed483c98c446af1e9ed739",
              "version_major": 2,
              "version_minor": 0
            },
            "text/plain": [
              "  0%|          | 0/4459 [00:00<?, ?it/s]"
            ]
          },
          "metadata": {},
          "output_type": "display_data"
        },
        {
          "data": {
            "application/vnd.jupyter.widget-view+json": {
              "model_id": "94fdbc44c54d4650949c46aca26009ed",
              "version_major": 2,
              "version_minor": 0
            },
            "text/plain": [
              "  0%|          | 0/22 [00:00<?, ?it/s]"
            ]
          },
          "metadata": {},
          "output_type": "display_data"
        },
        {
          "name": "stdout",
          "output_type": "stream",
          "text": [
            "[35] validation loss,  validation accuracy: 113.148, 0.5337738619676946. train loss, train accuracy: 290.336, 0.9769611416395648\n"
          ]
        },
        {
          "data": {
            "application/vnd.jupyter.widget-view+json": {
              "model_id": "e50867ecac544247ae87efde8040e96c",
              "version_major": 2,
              "version_minor": 0
            },
            "text/plain": [
              "  0%|          | 0/4459 [00:00<?, ?it/s]"
            ]
          },
          "metadata": {},
          "output_type": "display_data"
        },
        {
          "data": {
            "application/vnd.jupyter.widget-view+json": {
              "model_id": "35c70a3ca5db4ff4bb085142d4632c91",
              "version_major": 2,
              "version_minor": 0
            },
            "text/plain": [
              "  0%|          | 0/22 [00:00<?, ?it/s]"
            ]
          },
          "metadata": {},
          "output_type": "display_data"
        },
        {
          "name": "stdout",
          "output_type": "stream",
          "text": [
            "[36] validation loss,  validation accuracy: 115.627, 0.5418502202643172. train loss, train accuracy: 310.080, 0.9759868789951778\n"
          ]
        },
        {
          "data": {
            "application/vnd.jupyter.widget-view+json": {
              "model_id": "19ebc4fc89aa4b60befa053bf40a55b7",
              "version_major": 2,
              "version_minor": 0
            },
            "text/plain": [
              "  0%|          | 0/4459 [00:00<?, ?it/s]"
            ]
          },
          "metadata": {},
          "output_type": "display_data"
        },
        {
          "data": {
            "application/vnd.jupyter.widget-view+json": {
              "model_id": "2248196d728c4b66bb1645767d39289b",
              "version_major": 2,
              "version_minor": 0
            },
            "text/plain": [
              "  0%|          | 0/22 [00:00<?, ?it/s]"
            ]
          },
          "metadata": {},
          "output_type": "display_data"
        },
        {
          "name": "stdout",
          "output_type": "stream",
          "text": [
            "[37] validation loss,  validation accuracy: 100.310, 0.539647577092511. train loss, train accuracy: 290.947, 0.9771994504878322\n"
          ]
        },
        {
          "data": {
            "application/vnd.jupyter.widget-view+json": {
              "model_id": "e1435dad00fc4c52b44893a2030b1833",
              "version_major": 2,
              "version_minor": 0
            },
            "text/plain": [
              "  0%|          | 0/4459 [00:00<?, ?it/s]"
            ]
          },
          "metadata": {},
          "output_type": "display_data"
        },
        {
          "data": {
            "application/vnd.jupyter.widget-view+json": {
              "model_id": "d5c200c31797470e89f608996b91fbbf",
              "version_major": 2,
              "version_minor": 0
            },
            "text/plain": [
              "  0%|          | 0/22 [00:00<?, ?it/s]"
            ]
          },
          "metadata": {},
          "output_type": "display_data"
        },
        {
          "name": "stdout",
          "output_type": "stream",
          "text": [
            "[38] validation loss,  validation accuracy: 115.398, 0.5484581497797357. train loss, train accuracy: 286.397, 0.9777952226085006\n"
          ]
        },
        {
          "data": {
            "application/vnd.jupyter.widget-view+json": {
              "model_id": "d0a0e9e261284ac2aa593b30d33e15ed",
              "version_major": 2,
              "version_minor": 0
            },
            "text/plain": [
              "  0%|          | 0/4459 [00:00<?, ?it/s]"
            ]
          },
          "metadata": {},
          "output_type": "display_data"
        },
        {
          "data": {
            "application/vnd.jupyter.widget-view+json": {
              "model_id": "c1aa827ae1854d1e839d710376621afd",
              "version_major": 2,
              "version_minor": 0
            },
            "text/plain": [
              "  0%|          | 0/22 [00:00<?, ?it/s]"
            ]
          },
          "metadata": {},
          "output_type": "display_data"
        },
        {
          "name": "stdout",
          "output_type": "stream",
          "text": [
            "[39] validation loss,  validation accuracy: 128.959, 0.5337738619676946. train loss, train accuracy: 270.466, 0.9780755859594034\n"
          ]
        },
        {
          "data": {
            "application/vnd.jupyter.widget-view+json": {
              "model_id": "3a659859fe8a416a91ac97297874f577",
              "version_major": 2,
              "version_minor": 0
            },
            "text/plain": [
              "  0%|          | 0/4459 [00:00<?, ?it/s]"
            ]
          },
          "metadata": {},
          "output_type": "display_data"
        },
        {
          "data": {
            "application/vnd.jupyter.widget-view+json": {
              "model_id": "bf5fa925cc3f426d9ecacc9be9914148",
              "version_major": 2,
              "version_minor": 0
            },
            "text/plain": [
              "  0%|          | 0/22 [00:00<?, ?it/s]"
            ]
          },
          "metadata": {},
          "output_type": "display_data"
        },
        {
          "name": "stdout",
          "output_type": "stream",
          "text": [
            "[40] validation loss,  validation accuracy: 134.540, 0.55359765051395. train loss, train accuracy: 262.643, 0.9789096669283391\n"
          ]
        },
        {
          "data": {
            "application/vnd.jupyter.widget-view+json": {
              "model_id": "c20feae09c1b496aae92e0f1a019b936",
              "version_major": 2,
              "version_minor": 0
            },
            "text/plain": [
              "  0%|          | 0/4459 [00:00<?, ?it/s]"
            ]
          },
          "metadata": {},
          "output_type": "display_data"
        },
        {
          "data": {
            "application/vnd.jupyter.widget-view+json": {
              "model_id": "68ef2e3e46eb438684e7fd047e21b7fc",
              "version_major": 2,
              "version_minor": 0
            },
            "text/plain": [
              "  0%|          | 0/22 [00:00<?, ?it/s]"
            ]
          },
          "metadata": {},
          "output_type": "display_data"
        },
        {
          "name": "stdout",
          "output_type": "stream",
          "text": [
            "[41] validation loss,  validation accuracy: 113.321, 0.5411160058737151. train loss, train accuracy: 264.793, 0.9789236850958842\n"
          ]
        },
        {
          "data": {
            "application/vnd.jupyter.widget-view+json": {
              "model_id": "118c1a2a2641403eacedf832428a58a0",
              "version_major": 2,
              "version_minor": 0
            },
            "text/plain": [
              "  0%|          | 0/4459 [00:00<?, ?it/s]"
            ]
          },
          "metadata": {},
          "output_type": "display_data"
        },
        {
          "data": {
            "application/vnd.jupyter.widget-view+json": {
              "model_id": "c425621af55b41388fa17f1d4119a7aa",
              "version_major": 2,
              "version_minor": 0
            },
            "text/plain": [
              "  0%|          | 0/22 [00:00<?, ?it/s]"
            ]
          },
          "metadata": {},
          "output_type": "display_data"
        },
        {
          "name": "stdout",
          "output_type": "stream",
          "text": [
            "[42] validation loss,  validation accuracy: 115.135, 0.5447870778267254. train loss, train accuracy: 256.298, 0.97951244813278\n"
          ]
        },
        {
          "data": {
            "application/vnd.jupyter.widget-view+json": {
              "model_id": "4448ff2b3fe24e43a8810a87919937f7",
              "version_major": 2,
              "version_minor": 0
            },
            "text/plain": [
              "  0%|          | 0/4459 [00:00<?, ?it/s]"
            ]
          },
          "metadata": {},
          "output_type": "display_data"
        },
        {
          "data": {
            "application/vnd.jupyter.widget-view+json": {
              "model_id": "109cf36df9924ad9b840534150d54b15",
              "version_major": 2,
              "version_minor": 0
            },
            "text/plain": [
              "  0%|          | 0/22 [00:00<?, ?it/s]"
            ]
          },
          "metadata": {},
          "output_type": "display_data"
        },
        {
          "name": "stdout",
          "output_type": "stream",
          "text": [
            "[43] validation loss,  validation accuracy: 136.730, 0.5352422907488987. train loss, train accuracy: 267.692, 0.9790358304362454\n"
          ]
        },
        {
          "data": {
            "application/vnd.jupyter.widget-view+json": {
              "model_id": "d61b747bafcb45668e404b6a2c01c606",
              "version_major": 2,
              "version_minor": 0
            },
            "text/plain": [
              "  0%|          | 0/4459 [00:00<?, ?it/s]"
            ]
          },
          "metadata": {},
          "output_type": "display_data"
        },
        {
          "data": {
            "application/vnd.jupyter.widget-view+json": {
              "model_id": "d2fd3a5d2ad74b83831885a65e417ad9",
              "version_major": 2,
              "version_minor": 0
            },
            "text/plain": [
              "  0%|          | 0/22 [00:00<?, ?it/s]"
            ]
          },
          "metadata": {},
          "output_type": "display_data"
        },
        {
          "name": "stdout",
          "output_type": "stream",
          "text": [
            "[44] validation loss,  validation accuracy: 126.672, 0.5330396475770925. train loss, train accuracy: 239.184, 0.9806759560390266\n"
          ]
        },
        {
          "data": {
            "application/vnd.jupyter.widget-view+json": {
              "model_id": "53f0e58127504336877863a013d3748c",
              "version_major": 2,
              "version_minor": 0
            },
            "text/plain": [
              "  0%|          | 0/4459 [00:00<?, ?it/s]"
            ]
          },
          "metadata": {},
          "output_type": "display_data"
        },
        {
          "data": {
            "application/vnd.jupyter.widget-view+json": {
              "model_id": "aaf266fdb918407db0000f6c939244b4",
              "version_major": 2,
              "version_minor": 0
            },
            "text/plain": [
              "  0%|          | 0/22 [00:00<?, ?it/s]"
            ]
          },
          "metadata": {},
          "output_type": "display_data"
        },
        {
          "name": "stdout",
          "output_type": "stream",
          "text": [
            "[45] validation loss,  validation accuracy: 136.575, 0.5330396475770925. train loss, train accuracy: 241.308, 0.9806969832903443\n"
          ]
        },
        {
          "data": {
            "application/vnd.jupyter.widget-view+json": {
              "model_id": "d634b5c1dc0946a19560da065f65da69",
              "version_major": 2,
              "version_minor": 0
            },
            "text/plain": [
              "  0%|          | 0/4459 [00:00<?, ?it/s]"
            ]
          },
          "metadata": {},
          "output_type": "display_data"
        },
        {
          "data": {
            "application/vnd.jupyter.widget-view+json": {
              "model_id": "32caa5169ed44276ab7ab51b33e27b44",
              "version_major": 2,
              "version_minor": 0
            },
            "text/plain": [
              "  0%|          | 0/22 [00:00<?, ?it/s]"
            ]
          },
          "metadata": {},
          "output_type": "display_data"
        },
        {
          "name": "stdout",
          "output_type": "stream",
          "text": [
            "[46] validation loss,  validation accuracy: 126.949, 0.5352422907488987. train loss, train accuracy: 231.200, 0.9813978916676012\n"
          ]
        },
        {
          "data": {
            "application/vnd.jupyter.widget-view+json": {
              "model_id": "c98882ac97204950bb690e59081f485c",
              "version_major": 2,
              "version_minor": 0
            },
            "text/plain": [
              "  0%|          | 0/4459 [00:00<?, ?it/s]"
            ]
          },
          "metadata": {},
          "output_type": "display_data"
        },
        {
          "data": {
            "application/vnd.jupyter.widget-view+json": {
              "model_id": "8654ee9713e746aa9d64378d4d4aa726",
              "version_major": 2,
              "version_minor": 0
            },
            "text/plain": [
              "  0%|          | 0/22 [00:00<?, ?it/s]"
            ]
          },
          "metadata": {},
          "output_type": "display_data"
        },
        {
          "name": "stdout",
          "output_type": "stream",
          "text": [
            "[47] validation loss,  validation accuracy: 120.262, 0.5469897209985316. train loss, train accuracy: 233.345, 0.9814329370864641\n"
          ]
        },
        {
          "data": {
            "application/vnd.jupyter.widget-view+json": {
              "model_id": "1fa91db65c234c789053838886f7e669",
              "version_major": 2,
              "version_minor": 0
            },
            "text/plain": [
              "  0%|          | 0/4459 [00:00<?, ?it/s]"
            ]
          },
          "metadata": {},
          "output_type": "display_data"
        },
        {
          "data": {
            "application/vnd.jupyter.widget-view+json": {
              "model_id": "3529870430de4913ba3abe01ecd0d67e",
              "version_major": 2,
              "version_minor": 0
            },
            "text/plain": [
              "  0%|          | 0/22 [00:00<?, ?it/s]"
            ]
          },
          "metadata": {},
          "output_type": "display_data"
        },
        {
          "name": "stdout",
          "output_type": "stream",
          "text": [
            "[48] validation loss,  validation accuracy: 147.010, 0.5359765051395007. train loss, train accuracy: 228.704, 0.9819936637882696\n"
          ]
        },
        {
          "data": {
            "application/vnd.jupyter.widget-view+json": {
              "model_id": "cb885d1c41104943ace4b34926359fab",
              "version_major": 2,
              "version_minor": 0
            },
            "text/plain": [
              "  0%|          | 0/4459 [00:00<?, ?it/s]"
            ]
          },
          "metadata": {},
          "output_type": "display_data"
        },
        {
          "data": {
            "application/vnd.jupyter.widget-view+json": {
              "model_id": "b9e2a4b87cb94442b938b297f107ab90",
              "version_major": 2,
              "version_minor": 0
            },
            "text/plain": [
              "  0%|          | 0/22 [00:00<?, ?it/s]"
            ]
          },
          "metadata": {},
          "output_type": "display_data"
        },
        {
          "name": "stdout",
          "output_type": "stream",
          "text": [
            "[49] validation loss,  validation accuracy: 151.247, 0.540381791483113. train loss, train accuracy: 231.520, 0.9818675002803634\n"
          ]
        },
        {
          "data": {
            "application/vnd.jupyter.widget-view+json": {
              "model_id": "7897180f484749eca56d08d3f3c07cd9",
              "version_major": 2,
              "version_minor": 0
            },
            "text/plain": [
              "  0%|          | 0/4459 [00:00<?, ?it/s]"
            ]
          },
          "metadata": {},
          "output_type": "display_data"
        },
        {
          "data": {
            "application/vnd.jupyter.widget-view+json": {
              "model_id": "ac58214dd3d7437bb6fb8e202b058f6a",
              "version_major": 2,
              "version_minor": 0
            },
            "text/plain": [
              "  0%|          | 0/22 [00:00<?, ?it/s]"
            ]
          },
          "metadata": {},
          "output_type": "display_data"
        },
        {
          "name": "stdout",
          "output_type": "stream",
          "text": [
            "[50] validation loss,  validation accuracy: 132.850, 0.5425844346549192. train loss, train accuracy: 221.559, 0.9826455085791186\n",
            "Finished Training\n"
          ]
        },
        {
          "data": {
            "text/plain": [
              "([3795.7184788882732,\n",
              "  3034.406504660845,\n",
              "  2580.2364516854286,\n",
              "  2180.743188664317,\n",
              "  1862.3298946395516,\n",
              "  1606.304493445903,\n",
              "  1414.30825407058,\n",
              "  1275.0191887486726,\n",
              "  1156.5467609837651,\n",
              "  1025.8727226946503,\n",
              "  948.2938462086022,\n",
              "  888.8695690361783,\n",
              "  817.2016572104767,\n",
              "  744.2882745077368,\n",
              "  698.3899033444468,\n",
              "  659.7305507867131,\n",
              "  612.8252860778011,\n",
              "  584.4009887378197,\n",
              "  550.225298082456,\n",
              "  520.7903178595006,\n",
              "  479.541025671002,\n",
              "  453.67867582157487,\n",
              "  439.6857754305238,\n",
              "  432.58751209423644,\n",
              "  401.61723069261643,\n",
              "  391.71638495119987,\n",
              "  391.4606512332102,\n",
              "  350.6786518097142,\n",
              "  351.26502167062426,\n",
              "  357.48003126771073,\n",
              "  335.0134519557105,\n",
              "  306.5904519350297,\n",
              "  314.9966814363652,\n",
              "  306.657979520096,\n",
              "  290.33633406899025,\n",
              "  310.0795941516117,\n",
              "  290.94695770880935,\n",
              "  286.39660439590807,\n",
              "  270.4663383217776,\n",
              "  262.6428526181189,\n",
              "  264.7930070854927,\n",
              "  256.2978170267088,\n",
              "  267.69202990764825,\n",
              "  239.18431518084617,\n",
              "  241.3077972431347,\n",
              "  231.1996131156411,\n",
              "  233.34542511779728,\n",
              "  228.70432906896895,\n",
              "  231.51959586525118,\n",
              "  221.55906706229143],\n",
              " [0.5794269373107548,\n",
              "  0.69052792418975,\n",
              "  0.7434465066726478,\n",
              "  0.7868046988897611,\n",
              "  0.819936637882696,\n",
              "  0.8477206459571605,\n",
              "  0.8670026354154985,\n",
              "  0.8820651564427499,\n",
              "  0.8923334641695637,\n",
              "  0.9060011775260738,\n",
              "  0.9132205338118201,\n",
              "  0.9203417629247505,\n",
              "  0.9272877649433666,\n",
              "  0.9339604126948525,\n",
              "  0.93850930806325,\n",
              "  0.9420418862846248,\n",
              "  0.9470043175956039,\n",
              "  0.9491911517326455,\n",
              "  0.9524363575193451,\n",
              "  0.9563123808455759,\n",
              "  0.9587445329146574,\n",
              "  0.9613449029942805,\n",
              "  0.9629219468431087,\n",
              "  0.9644919816081642,\n",
              "  0.966755915666704,\n",
              "  0.9682418414264887,\n",
              "  0.9676390602220478,\n",
              "  0.9704146573959852,\n",
              "  0.9713749018728272,\n",
              "  0.9714309745430078,\n",
              "  0.9733584725804643,\n",
              "  0.975510261298643,\n",
              "  0.9745570259055736,\n",
              "  0.9754191432095997,\n",
              "  0.9769611416395648,\n",
              "  0.9759868789951778,\n",
              "  0.9771994504878322,\n",
              "  0.9777952226085006,\n",
              "  0.9780755859594034,\n",
              "  0.9789096669283391,\n",
              "  0.9789236850958842,\n",
              "  0.97951244813278,\n",
              "  0.9790358304362454,\n",
              "  0.9806759560390266,\n",
              "  0.9806969832903443,\n",
              "  0.9813978916676012,\n",
              "  0.9814329370864641,\n",
              "  0.9819936637882696,\n",
              "  0.9818675002803634,\n",
              "  0.9826455085791186],\n",
              " [21.438866078853607,\n",
              "  22.783933997154236,\n",
              "  24.57896137237549,\n",
              "  29.7186142206192,\n",
              "  30.42793321609497,\n",
              "  37.56208860874176,\n",
              "  41.37609612941742,\n",
              "  45.83812069892883,\n",
              "  54.77456986904144,\n",
              "  54.313438296318054,\n",
              "  55.11994183063507,\n",
              "  50.85839331150055,\n",
              "  59.71025097370148,\n",
              "  61.96466553211212,\n",
              "  70.55226397514343,\n",
              "  65.94103682041168,\n",
              "  65.93451297283173,\n",
              "  78.10904431343079,\n",
              "  78.38567972183228,\n",
              "  81.8459951877594,\n",
              "  83.25529932975769,\n",
              "  91.17330765724182,\n",
              "  95.33814930915833,\n",
              "  88.22376894950867,\n",
              "  89.66848540306091,\n",
              "  93.74366736412048,\n",
              "  93.19612526893616,\n",
              "  103.95463275909424,\n",
              "  98.3386480808258,\n",
              "  100.33041286468506,\n",
              "  95.91314172744751,\n",
              "  122.7581570148468,\n",
              "  127.0750629901886,\n",
              "  125.7434401512146,\n",
              "  113.14848470687866,\n",
              "  115.62723755836487,\n",
              "  100.31025075912476,\n",
              "  115.39758348464966,\n",
              "  128.95932912826538,\n",
              "  134.53957843780518,\n",
              "  113.32058835029602,\n",
              "  115.13483381271362,\n",
              "  136.73032593727112,\n",
              "  126.67186069488525,\n",
              "  136.57508611679077,\n",
              "  126.94850468635559,\n",
              "  120.26170802116394,\n",
              "  147.0098614692688,\n",
              "  151.246737241745,\n",
              "  132.85040426254272],\n",
              " [0.5367107195301027,\n",
              "  0.5594713656387665,\n",
              "  0.5433186490455213,\n",
              "  0.5440528634361234,\n",
              "  0.5690161527165932,\n",
              "  0.5675477239353891,\n",
              "  0.5550660792951542,\n",
              "  0.5506607929515418,\n",
              "  0.5580029368575624,\n",
              "  0.5433186490455213,\n",
              "  0.5565345080763583,\n",
              "  0.5602055800293686,\n",
              "  0.5345080763582967,\n",
              "  0.5389133627019089,\n",
              "  0.5183553597650514,\n",
              "  0.5381791483113069,\n",
              "  0.55359765051395,\n",
              "  0.5367107195301027,\n",
              "  0.5425844346549192,\n",
              "  0.5176211453744494,\n",
              "  0.5433186490455213,\n",
              "  0.5425844346549192,\n",
              "  0.5389133627019089,\n",
              "  0.5220264317180616,\n",
              "  0.5323054331864905,\n",
              "  0.5345080763582967,\n",
              "  0.5389133627019089,\n",
              "  0.5506607929515418,\n",
              "  0.5411160058737151,\n",
              "  0.527165932452276,\n",
              "  0.5469897209985316,\n",
              "  0.5139500734214391,\n",
              "  0.5293685756240822,\n",
              "  0.5352422907488987,\n",
              "  0.5337738619676946,\n",
              "  0.5418502202643172,\n",
              "  0.539647577092511,\n",
              "  0.5484581497797357,\n",
              "  0.5337738619676946,\n",
              "  0.55359765051395,\n",
              "  0.5411160058737151,\n",
              "  0.5447870778267254,\n",
              "  0.5352422907488987,\n",
              "  0.5330396475770925,\n",
              "  0.5330396475770925,\n",
              "  0.5352422907488987,\n",
              "  0.5469897209985316,\n",
              "  0.5359765051395007,\n",
              "  0.540381791483113,\n",
              "  0.5425844346549192])"
            ]
          },
          "execution_count": 86,
          "metadata": {},
          "output_type": "execute_result"
        }
      ],
      "source": [
        "# Batch Size 32, learning rate 0.001\n",
        "\n",
        "net7 = build_2d_net(\"mspec\")\n",
        "\n",
        "net7 = train_model(net7, \"mspec\", epochs=50)\n",
        "\n",
        "# Whilst the model was trained for 50 epochs only the first 20 epochs were compared to the other models.\n",
        "# This is because this was the first model trained, after this the number of epochs analysed for this experiment was reduced to 20 to save time."
      ]
    },
    {
      "cell_type": "code",
      "execution_count": null,
      "metadata": {
        "colab": {
          "referenced_widgets": [
            "a4ef98784ed74ad68c6c833b37037193",
            "733461296b9a47409b0e0b67f0d788fd",
            "fc6fe1cf7876456f9741d77f6c5ed1dc",
            "884dcf0aa8c347afa6913accc04d4ca5",
            "8320da7fcf364cf88d0a37e7babad65e",
            "533034cd46c446f8915cfde2e7883b20",
            "b2dc51174c7d45e886bc02cbd00017f1",
            "0aff3682c0c4424eb917a47e73d27791",
            "8992c629bc534d93a5b73a0ef0617348",
            "127ccc0be80b45bfa16b8672d317d3d5",
            "b113d99116ec4e958171620cc6b6d355",
            "dff4510e364b4ec1a399963a8250c9d6",
            "0d674b9dd6974a7da4b866363f1dd9b1",
            "89aee42e4ab34f32a622335e1adcd1d8",
            "444cee0886cd469f8ebd6b06eaf79e7e",
            "06e7857f3a084f379e13898a7e78c03b",
            "c319bc7152d04472858a7c60fadc0d8b",
            "4aa6e596db274fd8a984ef60edcfa81b",
            "4417bef6d29a4499aba09d17e02d71f8",
            "744189a91b344161a0582c7bc605de13",
            "40876ddceec346508d86a8510f3e7ea8",
            "f07332328a1d425b8f2662c546334306",
            "8c971fcb10794e2985eda7734638f2a0",
            "84f9c10d79784a04b9b0170ab43b855d",
            "09364ac2dff24a38a5c001ff3fa5233e",
            "69d2aafced1e4f04867aece1596f5bae",
            "d2d7ecdbca4a40dc8be2af823b193bfa",
            "77fb577ff6694d42b538bc00779f41a8",
            "299f8323d84440d3a98d81ed6066f989",
            "7e2d00e998b24802bb46b8e814fc8264",
            "d3c9143fcab8430891fb2abdadfbc265",
            "966a34dba88c40f0bcbd5b06a7818d02",
            "1271c5bea93b42d09d521400a09b243e",
            "ea1b4aabfa304f388022d178b12e6786",
            "bde53a41165d4c77a66f74cb2743cd3b",
            "66d68cdcf95f4722b4c53c595f426b27",
            "62e09854cf8b4c5d83824a97baede5a3",
            "eba49c05775f498a8361c87bfba807e4",
            "57b1338552014e7f987dbf68d4320f2b",
            "ce772debdfe34a62b847163c4a6e6632"
          ]
        },
        "id": "gJP9CJQY6FMI",
        "outputId": "48655409-085b-4c6e-aacf-ba0f40b87e52"
      },
      "outputs": [
        {
          "data": {
            "application/vnd.jupyter.widget-view+json": {
              "model_id": "a4ef98784ed74ad68c6c833b37037193",
              "version_major": 2,
              "version_minor": 0
            },
            "text/plain": [
              "  0%|          | 0/4459 [00:00<?, ?it/s]"
            ]
          },
          "metadata": {},
          "output_type": "display_data"
        },
        {
          "data": {
            "application/vnd.jupyter.widget-view+json": {
              "model_id": "733461296b9a47409b0e0b67f0d788fd",
              "version_major": 2,
              "version_minor": 0
            },
            "text/plain": [
              "  0%|          | 0/22 [00:00<?, ?it/s]"
            ]
          },
          "metadata": {},
          "output_type": "display_data"
        },
        {
          "name": "stdout",
          "output_type": "stream",
          "text": [
            "[1] validation loss,  validation accuracy: 22.492, 0.4955947136563877. train loss, train accuracy: 3892.887, 0.5624649545811371\n"
          ]
        },
        {
          "data": {
            "application/vnd.jupyter.widget-view+json": {
              "model_id": "fc6fe1cf7876456f9741d77f6c5ed1dc",
              "version_major": 2,
              "version_minor": 0
            },
            "text/plain": [
              "  0%|          | 0/4459 [00:00<?, ?it/s]"
            ]
          },
          "metadata": {},
          "output_type": "display_data"
        },
        {
          "data": {
            "application/vnd.jupyter.widget-view+json": {
              "model_id": "884dcf0aa8c347afa6913accc04d4ca5",
              "version_major": 2,
              "version_minor": 0
            },
            "text/plain": [
              "  0%|          | 0/22 [00:00<?, ?it/s]"
            ]
          },
          "metadata": {},
          "output_type": "display_data"
        },
        {
          "name": "stdout",
          "output_type": "stream",
          "text": [
            "[2] validation loss,  validation accuracy: 23.257, 0.5286343612334802. train loss, train accuracy: 3059.801, 0.686280419423573\n"
          ]
        },
        {
          "data": {
            "application/vnd.jupyter.widget-view+json": {
              "model_id": "8320da7fcf364cf88d0a37e7babad65e",
              "version_major": 2,
              "version_minor": 0
            },
            "text/plain": [
              "  0%|          | 0/4459 [00:00<?, ?it/s]"
            ]
          },
          "metadata": {},
          "output_type": "display_data"
        },
        {
          "data": {
            "application/vnd.jupyter.widget-view+json": {
              "model_id": "533034cd46c446f8915cfde2e7883b20",
              "version_major": 2,
              "version_minor": 0
            },
            "text/plain": [
              "  0%|          | 0/22 [00:00<?, ?it/s]"
            ]
          },
          "metadata": {},
          "output_type": "display_data"
        },
        {
          "name": "stdout",
          "output_type": "stream",
          "text": [
            "[3] validation loss,  validation accuracy: 25.981, 0.5374449339207048. train loss, train accuracy: 2405.194, 0.7628967141415274\n"
          ]
        },
        {
          "data": {
            "application/vnd.jupyter.widget-view+json": {
              "model_id": "b2dc51174c7d45e886bc02cbd00017f1",
              "version_major": 2,
              "version_minor": 0
            },
            "text/plain": [
              "  0%|          | 0/4459 [00:00<?, ?it/s]"
            ]
          },
          "metadata": {},
          "output_type": "display_data"
        },
        {
          "data": {
            "application/vnd.jupyter.widget-view+json": {
              "model_id": "0aff3682c0c4424eb917a47e73d27791",
              "version_major": 2,
              "version_minor": 0
            },
            "text/plain": [
              "  0%|          | 0/22 [00:00<?, ?it/s]"
            ]
          },
          "metadata": {},
          "output_type": "display_data"
        },
        {
          "name": "stdout",
          "output_type": "stream",
          "text": [
            "[4] validation loss,  validation accuracy: 31.653, 0.5161527165932452. train loss, train accuracy: 1774.130, 0.8311581810025793\n"
          ]
        },
        {
          "data": {
            "application/vnd.jupyter.widget-view+json": {
              "model_id": "8992c629bc534d93a5b73a0ef0617348",
              "version_major": 2,
              "version_minor": 0
            },
            "text/plain": [
              "  0%|          | 0/4459 [00:00<?, ?it/s]"
            ]
          },
          "metadata": {},
          "output_type": "display_data"
        },
        {
          "data": {
            "application/vnd.jupyter.widget-view+json": {
              "model_id": "127ccc0be80b45bfa16b8672d317d3d5",
              "version_major": 2,
              "version_minor": 0
            },
            "text/plain": [
              "  0%|          | 0/22 [00:00<?, ?it/s]"
            ]
          },
          "metadata": {},
          "output_type": "display_data"
        },
        {
          "name": "stdout",
          "output_type": "stream",
          "text": [
            "[5] validation loss,  validation accuracy: 39.886, 0.5323054331864905. train loss, train accuracy: 1233.981, 0.8851982168890883\n"
          ]
        },
        {
          "data": {
            "application/vnd.jupyter.widget-view+json": {
              "model_id": "b113d99116ec4e958171620cc6b6d355",
              "version_major": 2,
              "version_minor": 0
            },
            "text/plain": [
              "  0%|          | 0/4459 [00:00<?, ?it/s]"
            ]
          },
          "metadata": {},
          "output_type": "display_data"
        },
        {
          "data": {
            "application/vnd.jupyter.widget-view+json": {
              "model_id": "dff4510e364b4ec1a399963a8250c9d6",
              "version_major": 2,
              "version_minor": 0
            },
            "text/plain": [
              "  0%|          | 0/22 [00:00<?, ?it/s]"
            ]
          },
          "metadata": {},
          "output_type": "display_data"
        },
        {
          "name": "stdout",
          "output_type": "stream",
          "text": [
            "[6] validation loss,  validation accuracy: 46.449, 0.5227606461086637. train loss, train accuracy: 844.996, 0.9226687787372435\n"
          ]
        },
        {
          "data": {
            "application/vnd.jupyter.widget-view+json": {
              "model_id": "0d674b9dd6974a7da4b866363f1dd9b1",
              "version_major": 2,
              "version_minor": 0
            },
            "text/plain": [
              "  0%|          | 0/4459 [00:00<?, ?it/s]"
            ]
          },
          "metadata": {},
          "output_type": "display_data"
        },
        {
          "data": {
            "application/vnd.jupyter.widget-view+json": {
              "model_id": "89aee42e4ab34f32a622335e1adcd1d8",
              "version_major": 2,
              "version_minor": 0
            },
            "text/plain": [
              "  0%|          | 0/22 [00:00<?, ?it/s]"
            ]
          },
          "metadata": {},
          "output_type": "display_data"
        },
        {
          "name": "stdout",
          "output_type": "stream",
          "text": [
            "[7] validation loss,  validation accuracy: 58.703, 0.5117474302496329. train loss, train accuracy: 612.575, 0.9454132555792307\n"
          ]
        },
        {
          "data": {
            "application/vnd.jupyter.widget-view+json": {
              "model_id": "444cee0886cd469f8ebd6b06eaf79e7e",
              "version_major": 2,
              "version_minor": 0
            },
            "text/plain": [
              "  0%|          | 0/4459 [00:00<?, ?it/s]"
            ]
          },
          "metadata": {},
          "output_type": "display_data"
        },
        {
          "data": {
            "application/vnd.jupyter.widget-view+json": {
              "model_id": "06e7857f3a084f379e13898a7e78c03b",
              "version_major": 2,
              "version_minor": 0
            },
            "text/plain": [
              "  0%|          | 0/22 [00:00<?, ?it/s]"
            ]
          },
          "metadata": {},
          "output_type": "display_data"
        },
        {
          "name": "stdout",
          "output_type": "stream",
          "text": [
            "[8] validation loss,  validation accuracy: 66.002, 0.5073421439060205. train loss, train accuracy: 489.497, 0.9577702702702703\n"
          ]
        },
        {
          "data": {
            "application/vnd.jupyter.widget-view+json": {
              "model_id": "c319bc7152d04472858a7c60fadc0d8b",
              "version_major": 2,
              "version_minor": 0
            },
            "text/plain": [
              "  0%|          | 0/4459 [00:00<?, ?it/s]"
            ]
          },
          "metadata": {},
          "output_type": "display_data"
        },
        {
          "data": {
            "application/vnd.jupyter.widget-view+json": {
              "model_id": "4aa6e596db274fd8a984ef60edcfa81b",
              "version_major": 2,
              "version_minor": 0
            },
            "text/plain": [
              "  0%|          | 0/22 [00:00<?, ?it/s]"
            ]
          },
          "metadata": {},
          "output_type": "display_data"
        },
        {
          "name": "stdout",
          "output_type": "stream",
          "text": [
            "[9] validation loss,  validation accuracy: 71.685, 0.5190895741556535. train loss, train accuracy: 394.652, 0.9662792979701693\n"
          ]
        },
        {
          "data": {
            "application/vnd.jupyter.widget-view+json": {
              "model_id": "4417bef6d29a4499aba09d17e02d71f8",
              "version_major": 2,
              "version_minor": 0
            },
            "text/plain": [
              "  0%|          | 0/4459 [00:00<?, ?it/s]"
            ]
          },
          "metadata": {},
          "output_type": "display_data"
        },
        {
          "data": {
            "application/vnd.jupyter.widget-view+json": {
              "model_id": "744189a91b344161a0582c7bc605de13",
              "version_major": 2,
              "version_minor": 0
            },
            "text/plain": [
              "  0%|          | 0/22 [00:00<?, ?it/s]"
            ]
          },
          "metadata": {},
          "output_type": "display_data"
        },
        {
          "name": "stdout",
          "output_type": "stream",
          "text": [
            "[10] validation loss,  validation accuracy: 73.517, 0.5190895741556535. train loss, train accuracy: 330.527, 0.9720898284176293\n"
          ]
        },
        {
          "data": {
            "application/vnd.jupyter.widget-view+json": {
              "model_id": "40876ddceec346508d86a8510f3e7ea8",
              "version_major": 2,
              "version_minor": 0
            },
            "text/plain": [
              "  0%|          | 0/4459 [00:00<?, ?it/s]"
            ]
          },
          "metadata": {},
          "output_type": "display_data"
        },
        {
          "data": {
            "application/vnd.jupyter.widget-view+json": {
              "model_id": "f07332328a1d425b8f2662c546334306",
              "version_major": 2,
              "version_minor": 0
            },
            "text/plain": [
              "  0%|          | 0/22 [00:00<?, ?it/s]"
            ]
          },
          "metadata": {},
          "output_type": "display_data"
        },
        {
          "name": "stdout",
          "output_type": "stream",
          "text": [
            "[11] validation loss,  validation accuracy: 80.392, 0.5117474302496329. train loss, train accuracy: 300.490, 0.9747532802512056\n"
          ]
        },
        {
          "data": {
            "application/vnd.jupyter.widget-view+json": {
              "model_id": "8c971fcb10794e2985eda7734638f2a0",
              "version_major": 2,
              "version_minor": 0
            },
            "text/plain": [
              "  0%|          | 0/4459 [00:00<?, ?it/s]"
            ]
          },
          "metadata": {},
          "output_type": "display_data"
        },
        {
          "data": {
            "application/vnd.jupyter.widget-view+json": {
              "model_id": "84f9c10d79784a04b9b0170ab43b855d",
              "version_major": 2,
              "version_minor": 0
            },
            "text/plain": [
              "  0%|          | 0/22 [00:00<?, ?it/s]"
            ]
          },
          "metadata": {},
          "output_type": "display_data"
        },
        {
          "name": "stdout",
          "output_type": "stream",
          "text": [
            "[12] validation loss,  validation accuracy: 82.126, 0.5036710719530103. train loss, train accuracy: 265.576, 0.9781386677133566\n"
          ]
        },
        {
          "data": {
            "application/vnd.jupyter.widget-view+json": {
              "model_id": "09364ac2dff24a38a5c001ff3fa5233e",
              "version_major": 2,
              "version_minor": 0
            },
            "text/plain": [
              "  0%|          | 0/4459 [00:00<?, ?it/s]"
            ]
          },
          "metadata": {},
          "output_type": "display_data"
        },
        {
          "data": {
            "application/vnd.jupyter.widget-view+json": {
              "model_id": "69d2aafced1e4f04867aece1596f5bae",
              "version_major": 2,
              "version_minor": 0
            },
            "text/plain": [
              "  0%|          | 0/22 [00:00<?, ?it/s]"
            ]
          },
          "metadata": {},
          "output_type": "display_data"
        },
        {
          "name": "stdout",
          "output_type": "stream",
          "text": [
            "[13] validation loss,  validation accuracy: 78.720, 0.5198237885462555. train loss, train accuracy: 240.607, 0.9801713020074015\n"
          ]
        },
        {
          "data": {
            "application/vnd.jupyter.widget-view+json": {
              "model_id": "d2d7ecdbca4a40dc8be2af823b193bfa",
              "version_major": 2,
              "version_minor": 0
            },
            "text/plain": [
              "  0%|          | 0/4459 [00:00<?, ?it/s]"
            ]
          },
          "metadata": {},
          "output_type": "display_data"
        },
        {
          "data": {
            "application/vnd.jupyter.widget-view+json": {
              "model_id": "77fb577ff6694d42b538bc00779f41a8",
              "version_major": 2,
              "version_minor": 0
            },
            "text/plain": [
              "  0%|          | 0/22 [00:00<?, ?it/s]"
            ]
          },
          "metadata": {},
          "output_type": "display_data"
        },
        {
          "name": "stdout",
          "output_type": "stream",
          "text": [
            "[14] validation loss,  validation accuracy: 87.719, 0.5051395007342144. train loss, train accuracy: 216.457, 0.9821408545474936\n"
          ]
        },
        {
          "data": {
            "application/vnd.jupyter.widget-view+json": {
              "model_id": "299f8323d84440d3a98d81ed6066f989",
              "version_major": 2,
              "version_minor": 0
            },
            "text/plain": [
              "  0%|          | 0/4459 [00:00<?, ?it/s]"
            ]
          },
          "metadata": {},
          "output_type": "display_data"
        },
        {
          "data": {
            "application/vnd.jupyter.widget-view+json": {
              "model_id": "7e2d00e998b24802bb46b8e814fc8264",
              "version_major": 2,
              "version_minor": 0
            },
            "text/plain": [
              "  0%|          | 0/22 [00:00<?, ?it/s]"
            ]
          },
          "metadata": {},
          "output_type": "display_data"
        },
        {
          "name": "stdout",
          "output_type": "stream",
          "text": [
            "[15] validation loss,  validation accuracy: 97.057, 0.5124816446402349. train loss, train accuracy: 197.309, 0.9840963889200404\n"
          ]
        },
        {
          "data": {
            "application/vnd.jupyter.widget-view+json": {
              "model_id": "d3c9143fcab8430891fb2abdadfbc265",
              "version_major": 2,
              "version_minor": 0
            },
            "text/plain": [
              "  0%|          | 0/4459 [00:00<?, ?it/s]"
            ]
          },
          "metadata": {},
          "output_type": "display_data"
        },
        {
          "data": {
            "application/vnd.jupyter.widget-view+json": {
              "model_id": "966a34dba88c40f0bcbd5b06a7818d02",
              "version_major": 2,
              "version_minor": 0
            },
            "text/plain": [
              "  0%|          | 0/22 [00:00<?, ?it/s]"
            ]
          },
          "metadata": {},
          "output_type": "display_data"
        },
        {
          "name": "stdout",
          "output_type": "stream",
          "text": [
            "[16] validation loss,  validation accuracy: 91.897, 0.526431718061674. train loss, train accuracy: 178.327, 0.9855612874285073\n"
          ]
        },
        {
          "data": {
            "application/vnd.jupyter.widget-view+json": {
              "model_id": "1271c5bea93b42d09d521400a09b243e",
              "version_major": 2,
              "version_minor": 0
            },
            "text/plain": [
              "  0%|          | 0/4459 [00:00<?, ?it/s]"
            ]
          },
          "metadata": {},
          "output_type": "display_data"
        },
        {
          "data": {
            "application/vnd.jupyter.widget-view+json": {
              "model_id": "ea1b4aabfa304f388022d178b12e6786",
              "version_major": 2,
              "version_minor": 0
            },
            "text/plain": [
              "  0%|          | 0/22 [00:00<?, ?it/s]"
            ]
          },
          "metadata": {},
          "output_type": "display_data"
        },
        {
          "name": "stdout",
          "output_type": "stream",
          "text": [
            "[17] validation loss,  validation accuracy: 96.121, 0.5315712187958884. train loss, train accuracy: 168.521, 0.9863463048110351\n"
          ]
        },
        {
          "data": {
            "application/vnd.jupyter.widget-view+json": {
              "model_id": "bde53a41165d4c77a66f74cb2743cd3b",
              "version_major": 2,
              "version_minor": 0
            },
            "text/plain": [
              "  0%|          | 0/4459 [00:00<?, ?it/s]"
            ]
          },
          "metadata": {},
          "output_type": "display_data"
        },
        {
          "data": {
            "application/vnd.jupyter.widget-view+json": {
              "model_id": "66d68cdcf95f4722b4c53c595f426b27",
              "version_major": 2,
              "version_minor": 0
            },
            "text/plain": [
              "  0%|          | 0/22 [00:00<?, ?it/s]"
            ]
          },
          "metadata": {},
          "output_type": "display_data"
        },
        {
          "name": "stdout",
          "output_type": "stream",
          "text": [
            "[18] validation loss,  validation accuracy: 92.343, 0.5330396475770925. train loss, train accuracy: 160.962, 0.9874537400471011\n"
          ]
        },
        {
          "data": {
            "application/vnd.jupyter.widget-view+json": {
              "model_id": "62e09854cf8b4c5d83824a97baede5a3",
              "version_major": 2,
              "version_minor": 0
            },
            "text/plain": [
              "  0%|          | 0/4459 [00:00<?, ?it/s]"
            ]
          },
          "metadata": {},
          "output_type": "display_data"
        },
        {
          "data": {
            "application/vnd.jupyter.widget-view+json": {
              "model_id": "eba49c05775f498a8361c87bfba807e4",
              "version_major": 2,
              "version_minor": 0
            },
            "text/plain": [
              "  0%|          | 0/22 [00:00<?, ?it/s]"
            ]
          },
          "metadata": {},
          "output_type": "display_data"
        },
        {
          "name": "stdout",
          "output_type": "stream",
          "text": [
            "[19] validation loss,  validation accuracy: 95.844, 0.5124816446402349. train loss, train accuracy: 146.351, 0.988315857351127\n"
          ]
        },
        {
          "data": {
            "application/vnd.jupyter.widget-view+json": {
              "model_id": "57b1338552014e7f987dbf68d4320f2b",
              "version_major": 2,
              "version_minor": 0
            },
            "text/plain": [
              "  0%|          | 0/4459 [00:00<?, ?it/s]"
            ]
          },
          "metadata": {},
          "output_type": "display_data"
        },
        {
          "data": {
            "application/vnd.jupyter.widget-view+json": {
              "model_id": "ce772debdfe34a62b847163c4a6e6632",
              "version_major": 2,
              "version_minor": 0
            },
            "text/plain": [
              "  0%|          | 0/22 [00:00<?, ?it/s]"
            ]
          },
          "metadata": {},
          "output_type": "display_data"
        },
        {
          "name": "stdout",
          "output_type": "stream",
          "text": [
            "[20] validation loss,  validation accuracy: 101.613, 0.5242290748898678. train loss, train accuracy: 137.896, 0.9890728383985645\n",
            "Finished Training\n"
          ]
        },
        {
          "data": {
            "text/plain": [
              "([3892.8871406018734,\n",
              "  3059.800730586052,\n",
              "  2405.1941450983286,\n",
              "  1774.1302393302321,\n",
              "  1233.9809079859406,\n",
              "  844.9959965357557,\n",
              "  612.5746300970204,\n",
              "  489.4973758496344,\n",
              "  394.65179529134184,\n",
              "  330.5266137806466,\n",
              "  300.48985338112107,\n",
              "  265.57565122283995,\n",
              "  240.60740415440523,\n",
              "  216.45667836570647,\n",
              "  197.3089499322814,\n",
              "  178.32738079303817,\n",
              "  168.5210762953575,\n",
              "  160.96247124243382,\n",
              "  146.3509637776424,\n",
              "  137.89591214011307],\n",
              " [0.5624649545811371,\n",
              "  0.686280419423573,\n",
              "  0.7628967141415274,\n",
              "  0.8311581810025793,\n",
              "  0.8851982168890883,\n",
              "  0.9226687787372435,\n",
              "  0.9454132555792307,\n",
              "  0.9577702702702703,\n",
              "  0.9662792979701693,\n",
              "  0.9720898284176293,\n",
              "  0.9747532802512056,\n",
              "  0.9781386677133566,\n",
              "  0.9801713020074015,\n",
              "  0.9821408545474936,\n",
              "  0.9840963889200404,\n",
              "  0.9855612874285073,\n",
              "  0.9863463048110351,\n",
              "  0.9874537400471011,\n",
              "  0.988315857351127,\n",
              "  0.9890728383985645],\n",
              " [22.49151861667633,\n",
              "  23.25655210018158,\n",
              "  25.98081648349762,\n",
              "  31.653149962425232,\n",
              "  39.885964035987854,\n",
              "  46.448978424072266,\n",
              "  58.70345616340637,\n",
              "  66.00167036056519,\n",
              "  71.68500185012817,\n",
              "  73.51706743240356,\n",
              "  80.39184617996216,\n",
              "  82.12593078613281,\n",
              "  78.7197916507721,\n",
              "  87.71928858757019,\n",
              "  97.0566246509552,\n",
              "  91.89701962471008,\n",
              "  96.12112951278687,\n",
              "  92.34279370307922,\n",
              "  95.84364986419678,\n",
              "  101.61294054985046],\n",
              " [0.4955947136563877,\n",
              "  0.5286343612334802,\n",
              "  0.5374449339207048,\n",
              "  0.5161527165932452,\n",
              "  0.5323054331864905,\n",
              "  0.5227606461086637,\n",
              "  0.5117474302496329,\n",
              "  0.5073421439060205,\n",
              "  0.5190895741556535,\n",
              "  0.5190895741556535,\n",
              "  0.5117474302496329,\n",
              "  0.5036710719530103,\n",
              "  0.5198237885462555,\n",
              "  0.5051395007342144,\n",
              "  0.5124816446402349,\n",
              "  0.526431718061674,\n",
              "  0.5315712187958884,\n",
              "  0.5330396475770925,\n",
              "  0.5124816446402349,\n",
              "  0.5242290748898678])"
            ]
          },
          "execution_count": 41,
          "metadata": {},
          "output_type": "execute_result"
        }
      ],
      "source": [
        "# Batch Size 32, learning rate 0.0001\n",
        "\n",
        "net8 = build_2d_net(\"mspec\")\n",
        "\n",
        "net8 = train_model(net8, \"mspec\", epochs=20, lr=0.0001)"
      ]
    },
    {
      "cell_type": "code",
      "execution_count": null,
      "metadata": {
        "colab": {
          "referenced_widgets": [
            "29330c1566d54282a0b34d0808079ccd",
            "0ee092b14fcf4ec9bee8912c504c7052",
            "c0db66c2e78f4025ad58dd611e8a41e4",
            "0b2de49270b44b7295328d1ad7f2216f",
            "ddfbee5a0e994b5386f618c45674c469",
            "561e72ea8f3a482696858a015e028dac",
            "25efbb3d2e954398a647fed89a6cea0d",
            "bce245ed082a4bdc802b59942f3fb1eb",
            "c4fa8be360824caf8369e2f667e6a3ce",
            "ee0ec030efd74daaa75eeae6b9603fa9",
            "8cc86821208c46b88d05f0da683752b1",
            "7032da6efd42406995ce6a2f58b1799c",
            "a804d30d39314493bf1a9394cd0f4968",
            "857a5c90bfca400ea539e2f5655ed9dd",
            "7b0a6b4390b14157a762dc7f990f9957",
            "9c2da9d714974337b2d35d29d5576642",
            "146c2e860d67498a92d6e3486da8fa0f",
            "ac364d6400aa457982b3518458215e49",
            "7cfadc079f3243fb9b7aa6ba4f2bca21",
            "23b99cd12d284663aa4fe8e4a774ea9d",
            "29e7c778748b40e5a4f818d0612fab92",
            "dd48ddb38d7243b99505bbd8da7dcaf6",
            "b5c9e039b8914d0c98ddda67c5bca3b9",
            "404c5f7cabba414fb3309ba6c0907544",
            "f954fa2721a34749bbf3fce023054d89",
            "eacdcec9dcaf4152b07dd5c271dd0015",
            "297a4b9c3c41402db8b42bec9814055b",
            "4b96987be4ae405e976c0a4e7ed90987",
            "53f82473441c499eb390783385941bf7",
            "2ca4a96391ba4c53adc3964e7c238024",
            "2eae238c4649413aa2f8c60554e897af",
            "e2a4bc4734d74b08b2adcd77d7d886e4",
            "b4e38ba9fc8a4ce7b31426516f6e23a4",
            "e72d928280c94fcfbb39a2c1a9e4514d",
            "b6227bf7c654468e9aeb7f53e0899895",
            "a9259f71617b48cab45874052a138035",
            "39976c282a59433eba03bd878bc6e11f",
            "caf4b463217a47979f705e57b9ccb978",
            "0fae90ee595e419dbbb8efb1322312db",
            "fe6f3a37cd6c444d8f29eba3a3cc6474"
          ]
        },
        "id": "0rPNPXBQ6FMJ",
        "outputId": "673bc654-5788-4f28-dcb2-249e1b040fe8"
      },
      "outputs": [
        {
          "data": {
            "application/vnd.jupyter.widget-view+json": {
              "model_id": "29330c1566d54282a0b34d0808079ccd",
              "version_major": 2,
              "version_minor": 0
            },
            "text/plain": [
              "  0%|          | 0/4459 [00:00<?, ?it/s]"
            ]
          },
          "metadata": {},
          "output_type": "display_data"
        },
        {
          "data": {
            "application/vnd.jupyter.widget-view+json": {
              "model_id": "0ee092b14fcf4ec9bee8912c504c7052",
              "version_major": 2,
              "version_minor": 0
            },
            "text/plain": [
              "  0%|          | 0/22 [00:00<?, ?it/s]"
            ]
          },
          "metadata": {},
          "output_type": "display_data"
        },
        {
          "name": "stdout",
          "output_type": "stream",
          "text": [
            "[1] validation loss,  validation accuracy: 23.555, 0.4155653450807636. train loss, train accuracy: 4292.989, 0.5009532353930695\n"
          ]
        },
        {
          "data": {
            "application/vnd.jupyter.widget-view+json": {
              "model_id": "c0db66c2e78f4025ad58dd611e8a41e4",
              "version_major": 2,
              "version_minor": 0
            },
            "text/plain": [
              "  0%|          | 0/4459 [00:00<?, ?it/s]"
            ]
          },
          "metadata": {},
          "output_type": "display_data"
        },
        {
          "data": {
            "application/vnd.jupyter.widget-view+json": {
              "model_id": "0b2de49270b44b7295328d1ad7f2216f",
              "version_major": 2,
              "version_minor": 0
            },
            "text/plain": [
              "  0%|          | 0/22 [00:00<?, ?it/s]"
            ]
          },
          "metadata": {},
          "output_type": "display_data"
        },
        {
          "name": "stdout",
          "output_type": "stream",
          "text": [
            "[2] validation loss,  validation accuracy: 23.097, 0.47944199706314244. train loss, train accuracy: 3803.607, 0.5852865313446226\n"
          ]
        },
        {
          "data": {
            "application/vnd.jupyter.widget-view+json": {
              "model_id": "ddfbee5a0e994b5386f618c45674c469",
              "version_major": 2,
              "version_minor": 0
            },
            "text/plain": [
              "  0%|          | 0/4459 [00:00<?, ?it/s]"
            ]
          },
          "metadata": {},
          "output_type": "display_data"
        },
        {
          "data": {
            "application/vnd.jupyter.widget-view+json": {
              "model_id": "561e72ea8f3a482696858a015e028dac",
              "version_major": 2,
              "version_minor": 0
            },
            "text/plain": [
              "  0%|          | 0/22 [00:00<?, ?it/s]"
            ]
          },
          "metadata": {},
          "output_type": "display_data"
        },
        {
          "name": "stdout",
          "output_type": "stream",
          "text": [
            "[3] validation loss,  validation accuracy: 23.099, 0.48604992657856094. train loss, train accuracy: 3482.393, 0.6338664909723001\n"
          ]
        },
        {
          "data": {
            "application/vnd.jupyter.widget-view+json": {
              "model_id": "25efbb3d2e954398a647fed89a6cea0d",
              "version_major": 2,
              "version_minor": 0
            },
            "text/plain": [
              "  0%|          | 0/4459 [00:00<?, ?it/s]"
            ]
          },
          "metadata": {},
          "output_type": "display_data"
        },
        {
          "data": {
            "application/vnd.jupyter.widget-view+json": {
              "model_id": "bce245ed082a4bdc802b59942f3fb1eb",
              "version_major": 2,
              "version_minor": 0
            },
            "text/plain": [
              "  0%|          | 0/22 [00:00<?, ?it/s]"
            ]
          },
          "metadata": {},
          "output_type": "display_data"
        },
        {
          "name": "stdout",
          "output_type": "stream",
          "text": [
            "[4] validation loss,  validation accuracy: 23.076, 0.49632892804698975. train loss, train accuracy: 3210.512, 0.6714211618257261\n"
          ]
        },
        {
          "data": {
            "application/vnd.jupyter.widget-view+json": {
              "model_id": "c4fa8be360824caf8369e2f667e6a3ce",
              "version_major": 2,
              "version_minor": 0
            },
            "text/plain": [
              "  0%|          | 0/4459 [00:00<?, ?it/s]"
            ]
          },
          "metadata": {},
          "output_type": "display_data"
        },
        {
          "data": {
            "application/vnd.jupyter.widget-view+json": {
              "model_id": "ee0ec030efd74daaa75eeae6b9603fa9",
              "version_major": 2,
              "version_minor": 0
            },
            "text/plain": [
              "  0%|          | 0/22 [00:00<?, ?it/s]"
            ]
          },
          "metadata": {},
          "output_type": "display_data"
        },
        {
          "name": "stdout",
          "output_type": "stream",
          "text": [
            "[5] validation loss,  validation accuracy: 23.475, 0.4985315712187959. train loss, train accuracy: 2965.345, 0.7034526746663676\n"
          ]
        },
        {
          "data": {
            "application/vnd.jupyter.widget-view+json": {
              "model_id": "8cc86821208c46b88d05f0da683752b1",
              "version_major": 2,
              "version_minor": 0
            },
            "text/plain": [
              "  0%|          | 0/4459 [00:00<?, ?it/s]"
            ]
          },
          "metadata": {},
          "output_type": "display_data"
        },
        {
          "data": {
            "application/vnd.jupyter.widget-view+json": {
              "model_id": "7032da6efd42406995ce6a2f58b1799c",
              "version_major": 2,
              "version_minor": 0
            },
            "text/plain": [
              "  0%|          | 0/22 [00:00<?, ?it/s]"
            ]
          },
          "metadata": {},
          "output_type": "display_data"
        },
        {
          "name": "stdout",
          "output_type": "stream",
          "text": [
            "[6] validation loss,  validation accuracy: 23.549, 0.5168869309838473. train loss, train accuracy: 2735.642, 0.7314259280026915\n"
          ]
        },
        {
          "data": {
            "application/vnd.jupyter.widget-view+json": {
              "model_id": "a804d30d39314493bf1a9394cd0f4968",
              "version_major": 2,
              "version_minor": 0
            },
            "text/plain": [
              "  0%|          | 0/4459 [00:00<?, ?it/s]"
            ]
          },
          "metadata": {},
          "output_type": "display_data"
        },
        {
          "data": {
            "application/vnd.jupyter.widget-view+json": {
              "model_id": "857a5c90bfca400ea539e2f5655ed9dd",
              "version_major": 2,
              "version_minor": 0
            },
            "text/plain": [
              "  0%|          | 0/22 [00:00<?, ?it/s]"
            ]
          },
          "metadata": {},
          "output_type": "display_data"
        },
        {
          "name": "stdout",
          "output_type": "stream",
          "text": [
            "[7] validation loss,  validation accuracy: 24.669, 0.5124816446402349. train loss, train accuracy: 2507.217, 0.7589576090613435\n"
          ]
        },
        {
          "data": {
            "application/vnd.jupyter.widget-view+json": {
              "model_id": "7b0a6b4390b14157a762dc7f990f9957",
              "version_major": 2,
              "version_minor": 0
            },
            "text/plain": [
              "  0%|          | 0/4459 [00:00<?, ?it/s]"
            ]
          },
          "metadata": {},
          "output_type": "display_data"
        },
        {
          "data": {
            "application/vnd.jupyter.widget-view+json": {
              "model_id": "9c2da9d714974337b2d35d29d5576642",
              "version_major": 2,
              "version_minor": 0
            },
            "text/plain": [
              "  0%|          | 0/22 [00:00<?, ?it/s]"
            ]
          },
          "metadata": {},
          "output_type": "display_data"
        },
        {
          "name": "stdout",
          "output_type": "stream",
          "text": [
            "[8] validation loss,  validation accuracy: 25.843, 0.4985315712187959. train loss, train accuracy: 2281.930, 0.7847790736794886\n"
          ]
        },
        {
          "data": {
            "application/vnd.jupyter.widget-view+json": {
              "model_id": "146c2e860d67498a92d6e3486da8fa0f",
              "version_major": 2,
              "version_minor": 0
            },
            "text/plain": [
              "  0%|          | 0/4459 [00:00<?, ?it/s]"
            ]
          },
          "metadata": {},
          "output_type": "display_data"
        },
        {
          "data": {
            "application/vnd.jupyter.widget-view+json": {
              "model_id": "ac364d6400aa457982b3518458215e49",
              "version_major": 2,
              "version_minor": 0
            },
            "text/plain": [
              "  0%|          | 0/22 [00:00<?, ?it/s]"
            ]
          },
          "metadata": {},
          "output_type": "display_data"
        },
        {
          "name": "stdout",
          "output_type": "stream",
          "text": [
            "[9] validation loss,  validation accuracy: 26.907, 0.5117474302496329. train loss, train accuracy: 2066.052, 0.809458057642705\n"
          ]
        },
        {
          "data": {
            "application/vnd.jupyter.widget-view+json": {
              "model_id": "7cfadc079f3243fb9b7aa6ba4f2bca21",
              "version_major": 2,
              "version_minor": 0
            },
            "text/plain": [
              "  0%|          | 0/4459 [00:00<?, ?it/s]"
            ]
          },
          "metadata": {},
          "output_type": "display_data"
        },
        {
          "data": {
            "application/vnd.jupyter.widget-view+json": {
              "model_id": "23b99cd12d284663aa4fe8e4a774ea9d",
              "version_major": 2,
              "version_minor": 0
            },
            "text/plain": [
              "  0%|          | 0/22 [00:00<?, ?it/s]"
            ]
          },
          "metadata": {},
          "output_type": "display_data"
        },
        {
          "name": "stdout",
          "output_type": "stream",
          "text": [
            "[10] validation loss,  validation accuracy: 27.907, 0.5227606461086637. train loss, train accuracy: 1840.474, 0.8337375238308848\n"
          ]
        },
        {
          "data": {
            "application/vnd.jupyter.widget-view+json": {
              "model_id": "29e7c778748b40e5a4f818d0612fab92",
              "version_major": 2,
              "version_minor": 0
            },
            "text/plain": [
              "  0%|          | 0/4459 [00:00<?, ?it/s]"
            ]
          },
          "metadata": {},
          "output_type": "display_data"
        },
        {
          "data": {
            "application/vnd.jupyter.widget-view+json": {
              "model_id": "dd48ddb38d7243b99505bbd8da7dcaf6",
              "version_major": 2,
              "version_minor": 0
            },
            "text/plain": [
              "  0%|          | 0/22 [00:00<?, ?it/s]"
            ]
          },
          "metadata": {},
          "output_type": "display_data"
        },
        {
          "name": "stdout",
          "output_type": "stream",
          "text": [
            "[11] validation loss,  validation accuracy: 29.701, 0.5146842878120411. train loss, train accuracy: 1626.925, 0.8566992822698217\n"
          ]
        },
        {
          "data": {
            "application/vnd.jupyter.widget-view+json": {
              "model_id": "b5c9e039b8914d0c98ddda67c5bca3b9",
              "version_major": 2,
              "version_minor": 0
            },
            "text/plain": [
              "  0%|          | 0/4459 [00:00<?, ?it/s]"
            ]
          },
          "metadata": {},
          "output_type": "display_data"
        },
        {
          "data": {
            "application/vnd.jupyter.widget-view+json": {
              "model_id": "404c5f7cabba414fb3309ba6c0907544",
              "version_major": 2,
              "version_minor": 0
            },
            "text/plain": [
              "  0%|          | 0/22 [00:00<?, ?it/s]"
            ]
          },
          "metadata": {},
          "output_type": "display_data"
        },
        {
          "name": "stdout",
          "output_type": "stream",
          "text": [
            "[12] validation loss,  validation accuracy: 31.565, 0.5117474302496329. train loss, train accuracy: 1418.429, 0.8778176516765729\n"
          ]
        },
        {
          "data": {
            "application/vnd.jupyter.widget-view+json": {
              "model_id": "f954fa2721a34749bbf3fce023054d89",
              "version_major": 2,
              "version_minor": 0
            },
            "text/plain": [
              "  0%|          | 0/4459 [00:00<?, ?it/s]"
            ]
          },
          "metadata": {},
          "output_type": "display_data"
        },
        {
          "data": {
            "application/vnd.jupyter.widget-view+json": {
              "model_id": "eacdcec9dcaf4152b07dd5c271dd0015",
              "version_major": 2,
              "version_minor": 0
            },
            "text/plain": [
              "  0%|          | 0/22 [00:00<?, ?it/s]"
            ]
          },
          "metadata": {},
          "output_type": "display_data"
        },
        {
          "name": "stdout",
          "output_type": "stream",
          "text": [
            "[13] validation loss,  validation accuracy: 32.931, 0.5256975036710719. train loss, train accuracy: 1218.782, 0.8980598856117529\n"
          ]
        },
        {
          "data": {
            "application/vnd.jupyter.widget-view+json": {
              "model_id": "297a4b9c3c41402db8b42bec9814055b",
              "version_major": 2,
              "version_minor": 0
            },
            "text/plain": [
              "  0%|          | 0/4459 [00:00<?, ?it/s]"
            ]
          },
          "metadata": {},
          "output_type": "display_data"
        },
        {
          "data": {
            "application/vnd.jupyter.widget-view+json": {
              "model_id": "4b96987be4ae405e976c0a4e7ed90987",
              "version_major": 2,
              "version_minor": 0
            },
            "text/plain": [
              "  0%|          | 0/22 [00:00<?, ?it/s]"
            ]
          },
          "metadata": {},
          "output_type": "display_data"
        },
        {
          "name": "stdout",
          "output_type": "stream",
          "text": [
            "[14] validation loss,  validation accuracy: 36.163, 0.5058737151248165. train loss, train accuracy: 1032.514, 0.9161082763261187\n"
          ]
        },
        {
          "data": {
            "application/vnd.jupyter.widget-view+json": {
              "model_id": "53f82473441c499eb390783385941bf7",
              "version_major": 2,
              "version_minor": 0
            },
            "text/plain": [
              "  0%|          | 0/4459 [00:00<?, ?it/s]"
            ]
          },
          "metadata": {},
          "output_type": "display_data"
        },
        {
          "data": {
            "application/vnd.jupyter.widget-view+json": {
              "model_id": "2ca4a96391ba4c53adc3964e7c238024",
              "version_major": 2,
              "version_minor": 0
            },
            "text/plain": [
              "  0%|          | 0/22 [00:00<?, ?it/s]"
            ]
          },
          "metadata": {},
          "output_type": "display_data"
        },
        {
          "name": "stdout",
          "output_type": "stream",
          "text": [
            "[15] validation loss,  validation accuracy: 38.820, 0.5168869309838473. train loss, train accuracy: 865.156, 0.931738533138948\n"
          ]
        },
        {
          "data": {
            "application/vnd.jupyter.widget-view+json": {
              "model_id": "2eae238c4649413aa2f8c60554e897af",
              "version_major": 2,
              "version_minor": 0
            },
            "text/plain": [
              "  0%|          | 0/4459 [00:00<?, ?it/s]"
            ]
          },
          "metadata": {},
          "output_type": "display_data"
        },
        {
          "data": {
            "application/vnd.jupyter.widget-view+json": {
              "model_id": "e2a4bc4734d74b08b2adcd77d7d886e4",
              "version_major": 2,
              "version_minor": 0
            },
            "text/plain": [
              "  0%|          | 0/22 [00:00<?, ?it/s]"
            ]
          },
          "metadata": {},
          "output_type": "display_data"
        },
        {
          "name": "stdout",
          "output_type": "stream",
          "text": [
            "[16] validation loss,  validation accuracy: 40.929, 0.5007342143906021. train loss, train accuracy: 720.336, 0.9452310194011438\n"
          ]
        },
        {
          "data": {
            "application/vnd.jupyter.widget-view+json": {
              "model_id": "b4e38ba9fc8a4ce7b31426516f6e23a4",
              "version_major": 2,
              "version_minor": 0
            },
            "text/plain": [
              "  0%|          | 0/4459 [00:00<?, ?it/s]"
            ]
          },
          "metadata": {},
          "output_type": "display_data"
        },
        {
          "data": {
            "application/vnd.jupyter.widget-view+json": {
              "model_id": "e72d928280c94fcfbb39a2c1a9e4514d",
              "version_major": 2,
              "version_minor": 0
            },
            "text/plain": [
              "  0%|          | 0/22 [00:00<?, ?it/s]"
            ]
          },
          "metadata": {},
          "output_type": "display_data"
        },
        {
          "name": "stdout",
          "output_type": "stream",
          "text": [
            "[17] validation loss,  validation accuracy: 43.847, 0.5029368575624082. train loss, train accuracy: 591.430, 0.9572586071548728\n"
          ]
        },
        {
          "data": {
            "application/vnd.jupyter.widget-view+json": {
              "model_id": "b6227bf7c654468e9aeb7f53e0899895",
              "version_major": 2,
              "version_minor": 0
            },
            "text/plain": [
              "  0%|          | 0/4459 [00:00<?, ?it/s]"
            ]
          },
          "metadata": {},
          "output_type": "display_data"
        },
        {
          "data": {
            "application/vnd.jupyter.widget-view+json": {
              "model_id": "a9259f71617b48cab45874052a138035",
              "version_major": 2,
              "version_minor": 0
            },
            "text/plain": [
              "  0%|          | 0/22 [00:00<?, ?it/s]"
            ]
          },
          "metadata": {},
          "output_type": "display_data"
        },
        {
          "name": "stdout",
          "output_type": "stream",
          "text": [
            "[18] validation loss,  validation accuracy: 47.124, 0.5022026431718062. train loss, train accuracy: 487.384, 0.9656554895144107\n"
          ]
        },
        {
          "data": {
            "application/vnd.jupyter.widget-view+json": {
              "model_id": "39976c282a59433eba03bd878bc6e11f",
              "version_major": 2,
              "version_minor": 0
            },
            "text/plain": [
              "  0%|          | 0/4459 [00:00<?, ?it/s]"
            ]
          },
          "metadata": {},
          "output_type": "display_data"
        },
        {
          "data": {
            "application/vnd.jupyter.widget-view+json": {
              "model_id": "caf4b463217a47979f705e57b9ccb978",
              "version_major": 2,
              "version_minor": 0
            },
            "text/plain": [
              "  0%|          | 0/22 [00:00<?, ?it/s]"
            ]
          },
          "metadata": {},
          "output_type": "display_data"
        },
        {
          "name": "stdout",
          "output_type": "stream",
          "text": [
            "[19] validation loss,  validation accuracy: 51.277, 0.5051395007342144. train loss, train accuracy: 396.498, 0.9733584725804643\n"
          ]
        },
        {
          "data": {
            "application/vnd.jupyter.widget-view+json": {
              "model_id": "0fae90ee595e419dbbb8efb1322312db",
              "version_major": 2,
              "version_minor": 0
            },
            "text/plain": [
              "  0%|          | 0/4459 [00:00<?, ?it/s]"
            ]
          },
          "metadata": {},
          "output_type": "display_data"
        },
        {
          "data": {
            "application/vnd.jupyter.widget-view+json": {
              "model_id": "fe6f3a37cd6c444d8f29eba3a3cc6474",
              "version_major": 2,
              "version_minor": 0
            },
            "text/plain": [
              "  0%|          | 0/22 [00:00<?, ?it/s]"
            ]
          },
          "metadata": {},
          "output_type": "display_data"
        },
        {
          "name": "stdout",
          "output_type": "stream",
          "text": [
            "[20] validation loss,  validation accuracy: 54.181, 0.4985315712187959. train loss, train accuracy: 328.945, 0.9780265223729954\n",
            "Finished Training\n"
          ]
        },
        {
          "data": {
            "text/plain": [
              "([4292.988604307175,\n",
              "  3803.606884509325,\n",
              "  3482.3929119706154,\n",
              "  3210.5120456516743,\n",
              "  2965.3453435003757,\n",
              "  2735.6423392295837,\n",
              "  2507.217102497816,\n",
              "  2281.9301447421312,\n",
              "  2066.0519775152206,\n",
              "  1840.4740542769432,\n",
              "  1626.9249223023653,\n",
              "  1418.429077297449,\n",
              "  1218.78228969872,\n",
              "  1032.514303099364,\n",
              "  865.1559033095837,\n",
              "  720.3360560126603,\n",
              "  591.4301172532141,\n",
              "  487.38408575952053,\n",
              "  396.49769630935043,\n",
              "  328.9451332464814],\n",
              " [0.5009532353930695,\n",
              "  0.5852865313446226,\n",
              "  0.6338664909723001,\n",
              "  0.6714211618257261,\n",
              "  0.7034526746663676,\n",
              "  0.7314259280026915,\n",
              "  0.7589576090613435,\n",
              "  0.7847790736794886,\n",
              "  0.809458057642705,\n",
              "  0.8337375238308848,\n",
              "  0.8566992822698217,\n",
              "  0.8778176516765729,\n",
              "  0.8980598856117529,\n",
              "  0.9161082763261187,\n",
              "  0.931738533138948,\n",
              "  0.9452310194011438,\n",
              "  0.9572586071548728,\n",
              "  0.9656554895144107,\n",
              "  0.9733584725804643,\n",
              "  0.9780265223729954],\n",
              " [23.554876506328583,\n",
              "  23.096678912639618,\n",
              "  23.098905622959137,\n",
              "  23.07581388950348,\n",
              "  23.474530458450317,\n",
              "  23.548819839954376,\n",
              "  24.668529629707336,\n",
              "  25.84325283765793,\n",
              "  26.90687072277069,\n",
              "  27.906577229499817,\n",
              "  29.701467752456665,\n",
              "  31.564815282821655,\n",
              "  32.93142056465149,\n",
              "  36.162561774253845,\n",
              "  38.819775342941284,\n",
              "  40.9287303686142,\n",
              "  43.84725821018219,\n",
              "  47.123666644096375,\n",
              "  51.27650773525238,\n",
              "  54.18131649494171],\n",
              " [0.4155653450807636,\n",
              "  0.47944199706314244,\n",
              "  0.48604992657856094,\n",
              "  0.49632892804698975,\n",
              "  0.4985315712187959,\n",
              "  0.5168869309838473,\n",
              "  0.5124816446402349,\n",
              "  0.4985315712187959,\n",
              "  0.5117474302496329,\n",
              "  0.5227606461086637,\n",
              "  0.5146842878120411,\n",
              "  0.5117474302496329,\n",
              "  0.5256975036710719,\n",
              "  0.5058737151248165,\n",
              "  0.5168869309838473,\n",
              "  0.5007342143906021,\n",
              "  0.5029368575624082,\n",
              "  0.5022026431718062,\n",
              "  0.5051395007342144,\n",
              "  0.4985315712187959])"
            ]
          },
          "execution_count": 42,
          "metadata": {},
          "output_type": "execute_result"
        }
      ],
      "source": [
        "# Batch Size 32, learning rate 0.00001\n",
        "net9 = build_2d_net(\"mspec\")\n",
        "\n",
        "net9 = train_model(net9, \"mspec\", epochs=20, lr=0.00001)"
      ]
    },
    {
      "cell_type": "markdown",
      "source": [
        "#### Batch Size 64"
      ],
      "metadata": {
        "id": "7M8UrXygEs_3"
      }
    },
    {
      "cell_type": "code",
      "source": [
        "# Batching\n",
        "dataloader = DataLoader(dataset, batch_size=64)"
      ],
      "metadata": {
        "id": "-tsRnyEZCvH6"
      },
      "execution_count": null,
      "outputs": []
    },
    {
      "cell_type": "code",
      "execution_count": null,
      "metadata": {
        "id": "9YPKJn3V6FML",
        "outputId": "31e5e513-d2f2-4f9c-c457-305e122af21f",
        "colab": {
          "referenced_widgets": [
            "1f91106d544c4c88a6fb9950925ef8e9",
            "4a4de0e1237e4055a6f6a13307438b43",
            "d015f3f8c1894f5dba8549919e5745ae",
            "0364fbcf5b3b40d88992e6fbe07fa651",
            "04a827b65b744e46b865d4ca683e56c4",
            "0e3b3b64955844bea38b55124110e971",
            "04b73f21c63f41d1be53b6f37aa9e5ff",
            "b1950b94f43f41c08149a41f43c9acea",
            "8e5b7e6733f94b46a8f61744a50aa895",
            "9d1fadd2817147949cdb159ae83060f0",
            "617a5918a6e441ef8fbee729af967c5e",
            "666322de2d7c4c4d8dc7f81f5416d187",
            "2993ac96bace4029a438c7c9bfeb5cbb",
            "1d29852820464597a6efc90c881d456b",
            "5adda299f1c948a380160b7b12cb27d7",
            "dff0a094fcac41cb8b322b805a87b6d7",
            "5ba9f57742374e489c437c54436bf102",
            "1871c45c6f70471eb5f116c68d0a51d5",
            "bf96dd6175884fbdb8fd025e0ae0e7f2",
            "e2b70a143a0e4099b907e8244f1dce0c",
            "8a1af8e993e54a3e90c27068bd4a4735",
            "b250793327874e5b98c0fbf2919a2e01",
            "25577d0576894e62943359231f220234",
            "cc5f1ea762604ef49145c609f125d842",
            "f9011d96577a4036bd52c8eb47d6ea5e",
            "17df0c3f91674f9ebd66a405ece100a3",
            "0f631dc16a72436ca4e8cd8685a57ab1",
            "c72f107d61fc4f7a88f9c334424ad5c2",
            "d3935e84828b49bab11923cd3a5b55b8",
            "10e2ed1defd74597b667be19db7a03ae",
            "701934a239284089a3e46f71e0539376",
            "f65e644eaa764ff99272e101671a1c68",
            "3b4cc2c5f4ce4b309f26889adfb0ee84",
            "995415bdab87474d9c450ec37888c5df",
            "b19ec094372648b39204ae877046a6b1",
            "c94aa3f05fb14cc0995b79606444c1ee",
            "e947aed6549549b9b494d2599adbce1b",
            "b5c79998b2ea41f084fbd23c3f86caff",
            "475f4ce2a0954d5883c6c60cd5af73d8",
            "09e95c4175414d79af0ccd497011a073",
            "3727d89d74b34088bed52593ca7ff44d",
            "44103db23cb442ad94a7c0811a89e055",
            "542a01b38bdf414ba46651bb85483d68"
          ]
        }
      },
      "outputs": [
        {
          "data": {
            "application/vnd.jupyter.widget-view+json": {
              "model_id": "1f91106d544c4c88a6fb9950925ef8e9",
              "version_major": 2,
              "version_minor": 0
            },
            "text/plain": [
              "  0%|          | 0/2230 [00:00<?, ?it/s]"
            ]
          },
          "metadata": {},
          "output_type": "display_data"
        },
        {
          "data": {
            "application/vnd.jupyter.widget-view+json": {
              "model_id": "4a4de0e1237e4055a6f6a13307438b43",
              "version_major": 2,
              "version_minor": 0
            },
            "text/plain": [
              "  0%|          | 0/22 [00:00<?, ?it/s]"
            ]
          },
          "metadata": {},
          "output_type": "display_data"
        },
        {
          "name": "stdout",
          "output_type": "stream",
          "text": [
            "[1] validation loss,  validation accuracy: 23.687, 0.4118942731277533. train loss, train accuracy: 2169.138, 0.49253532578221376\n"
          ]
        },
        {
          "data": {
            "application/vnd.jupyter.widget-view+json": {
              "model_id": "d015f3f8c1894f5dba8549919e5745ae",
              "version_major": 2,
              "version_minor": 0
            },
            "text/plain": [
              "  0%|          | 0/2230 [00:00<?, ?it/s]"
            ]
          },
          "metadata": {},
          "output_type": "display_data"
        },
        {
          "data": {
            "application/vnd.jupyter.widget-view+json": {
              "model_id": "0364fbcf5b3b40d88992e6fbe07fa651",
              "version_major": 2,
              "version_minor": 0
            },
            "text/plain": [
              "  0%|          | 0/22 [00:00<?, ?it/s]"
            ]
          },
          "metadata": {},
          "output_type": "display_data"
        },
        {
          "name": "stdout",
          "output_type": "stream",
          "text": [
            "[2] validation loss,  validation accuracy: 23.940, 0.4177679882525698. train loss, train accuracy: 1951.034, 0.5666283503420433\n"
          ]
        },
        {
          "data": {
            "application/vnd.jupyter.widget-view+json": {
              "model_id": "04a827b65b744e46b865d4ca683e56c4",
              "version_major": 2,
              "version_minor": 0
            },
            "text/plain": [
              "  0%|          | 0/2230 [00:00<?, ?it/s]"
            ]
          },
          "metadata": {},
          "output_type": "display_data"
        },
        {
          "data": {
            "application/vnd.jupyter.widget-view+json": {
              "model_id": "0e3b3b64955844bea38b55124110e971",
              "version_major": 2,
              "version_minor": 0
            },
            "text/plain": [
              "  0%|          | 0/22 [00:00<?, ?it/s]"
            ]
          },
          "metadata": {},
          "output_type": "display_data"
        },
        {
          "name": "stdout",
          "output_type": "stream",
          "text": [
            "[3] validation loss,  validation accuracy: 24.475, 0.4280469897209985. train loss, train accuracy: 1818.171, 0.6077576539194797\n"
          ]
        },
        {
          "data": {
            "application/vnd.jupyter.widget-view+json": {
              "model_id": "04b73f21c63f41d1be53b6f37aa9e5ff",
              "version_major": 2,
              "version_minor": 0
            },
            "text/plain": [
              "  0%|          | 0/2230 [00:00<?, ?it/s]"
            ]
          },
          "metadata": {},
          "output_type": "display_data"
        },
        {
          "data": {
            "application/vnd.jupyter.widget-view+json": {
              "model_id": "b1950b94f43f41c08149a41f43c9acea",
              "version_major": 2,
              "version_minor": 0
            },
            "text/plain": [
              "  0%|          | 0/22 [00:00<?, ?it/s]"
            ]
          },
          "metadata": {},
          "output_type": "display_data"
        },
        {
          "name": "stdout",
          "output_type": "stream",
          "text": [
            "[4] validation loss,  validation accuracy: 24.166, 0.44493392070484583. train loss, train accuracy: 1707.066, 0.6390812492990916\n"
          ]
        },
        {
          "data": {
            "application/vnd.jupyter.widget-view+json": {
              "model_id": "8e5b7e6733f94b46a8f61744a50aa895",
              "version_major": 2,
              "version_minor": 0
            },
            "text/plain": [
              "  0%|          | 0/2230 [00:00<?, ?it/s]"
            ]
          },
          "metadata": {},
          "output_type": "display_data"
        },
        {
          "data": {
            "application/vnd.jupyter.widget-view+json": {
              "model_id": "9d1fadd2817147949cdb159ae83060f0",
              "version_major": 2,
              "version_minor": 0
            },
            "text/plain": [
              "  0%|          | 0/22 [00:00<?, ?it/s]"
            ]
          },
          "metadata": {},
          "output_type": "display_data"
        },
        {
          "name": "stdout",
          "output_type": "stream",
          "text": [
            "[5] validation loss,  validation accuracy: 24.761, 0.45080763582966227. train loss, train accuracy: 1609.655, 0.6675241112481777\n"
          ]
        },
        {
          "data": {
            "application/vnd.jupyter.widget-view+json": {
              "model_id": "617a5918a6e441ef8fbee729af967c5e",
              "version_major": 2,
              "version_minor": 0
            },
            "text/plain": [
              "  0%|          | 0/2230 [00:00<?, ?it/s]"
            ]
          },
          "metadata": {},
          "output_type": "display_data"
        },
        {
          "data": {
            "application/vnd.jupyter.widget-view+json": {
              "model_id": "666322de2d7c4c4d8dc7f81f5416d187",
              "version_major": 2,
              "version_minor": 0
            },
            "text/plain": [
              "  0%|          | 0/22 [00:00<?, ?it/s]"
            ]
          },
          "metadata": {},
          "output_type": "display_data"
        },
        {
          "name": "stdout",
          "output_type": "stream",
          "text": [
            "[6] validation loss,  validation accuracy: 24.958, 0.45741556534508077. train loss, train accuracy: 1512.358, 0.6927007401592464\n"
          ]
        },
        {
          "data": {
            "application/vnd.jupyter.widget-view+json": {
              "model_id": "2993ac96bace4029a438c7c9bfeb5cbb",
              "version_major": 2,
              "version_minor": 0
            },
            "text/plain": [
              "  0%|          | 0/2230 [00:00<?, ?it/s]"
            ]
          },
          "metadata": {},
          "output_type": "display_data"
        },
        {
          "data": {
            "application/vnd.jupyter.widget-view+json": {
              "model_id": "1d29852820464597a6efc90c881d456b",
              "version_major": 2,
              "version_minor": 0
            },
            "text/plain": [
              "  0%|          | 0/22 [00:00<?, ?it/s]"
            ]
          },
          "metadata": {},
          "output_type": "display_data"
        },
        {
          "name": "stdout",
          "output_type": "stream",
          "text": [
            "[7] validation loss,  validation accuracy: 25.325, 0.46622613803230545. train loss, train accuracy: 1420.135, 0.7145620724458899\n"
          ]
        },
        {
          "data": {
            "application/vnd.jupyter.widget-view+json": {
              "model_id": "5adda299f1c948a380160b7b12cb27d7",
              "version_major": 2,
              "version_minor": 0
            },
            "text/plain": [
              "  0%|          | 0/2230 [00:00<?, ?it/s]"
            ]
          },
          "metadata": {},
          "output_type": "display_data"
        },
        {
          "data": {
            "application/vnd.jupyter.widget-view+json": {
              "model_id": "dff0a094fcac41cb8b322b805a87b6d7",
              "version_major": 2,
              "version_minor": 0
            },
            "text/plain": [
              "  0%|          | 0/22 [00:00<?, ?it/s]"
            ]
          },
          "metadata": {},
          "output_type": "display_data"
        },
        {
          "name": "stdout",
          "output_type": "stream",
          "text": [
            "[8] validation loss,  validation accuracy: 25.846, 0.4684287812041116. train loss, train accuracy: 1332.103, 0.7354561511719188\n"
          ]
        },
        {
          "data": {
            "application/vnd.jupyter.widget-view+json": {
              "model_id": "5ba9f57742374e489c437c54436bf102",
              "version_major": 2,
              "version_minor": 0
            },
            "text/plain": [
              "  0%|          | 0/2230 [00:00<?, ?it/s]"
            ]
          },
          "metadata": {},
          "output_type": "display_data"
        },
        {
          "data": {
            "application/vnd.jupyter.widget-view+json": {
              "model_id": "1871c45c6f70471eb5f116c68d0a51d5",
              "version_major": 2,
              "version_minor": 0
            },
            "text/plain": [
              "  0%|          | 0/22 [00:00<?, ?it/s]"
            ]
          },
          "metadata": {},
          "output_type": "display_data"
        },
        {
          "name": "stdout",
          "output_type": "stream",
          "text": [
            "[9] validation loss,  validation accuracy: 26.514, 0.46916299559471364. train loss, train accuracy: 1240.233, 0.7582567006840866\n"
          ]
        },
        {
          "data": {
            "application/vnd.jupyter.widget-view+json": {
              "model_id": "bf96dd6175884fbdb8fd025e0ae0e7f2",
              "version_major": 2,
              "version_minor": 0
            },
            "text/plain": [
              "  0%|          | 0/2230 [00:00<?, ?it/s]"
            ]
          },
          "metadata": {},
          "output_type": "display_data"
        },
        {
          "data": {
            "application/vnd.jupyter.widget-view+json": {
              "model_id": "e2b70a143a0e4099b907e8244f1dce0c",
              "version_major": 2,
              "version_minor": 0
            },
            "text/plain": [
              "  0%|          | 0/22 [00:00<?, ?it/s]"
            ]
          },
          "metadata": {},
          "output_type": "display_data"
        },
        {
          "name": "stdout",
          "output_type": "stream",
          "text": [
            "[10] validation loss,  validation accuracy: 27.085, 0.4853157121879589. train loss, train accuracy: 1152.055, 0.7790105977346641\n"
          ]
        },
        {
          "data": {
            "application/vnd.jupyter.widget-view+json": {
              "model_id": "8a1af8e993e54a3e90c27068bd4a4735",
              "version_major": 2,
              "version_minor": 0
            },
            "text/plain": [
              "  0%|          | 0/2230 [00:00<?, ?it/s]"
            ]
          },
          "metadata": {},
          "output_type": "display_data"
        },
        {
          "data": {
            "application/vnd.jupyter.widget-view+json": {
              "model_id": "b250793327874e5b98c0fbf2919a2e01",
              "version_major": 2,
              "version_minor": 0
            },
            "text/plain": [
              "  0%|          | 0/22 [00:00<?, ?it/s]"
            ]
          },
          "metadata": {},
          "output_type": "display_data"
        },
        {
          "name": "stdout",
          "output_type": "stream",
          "text": [
            "[11] validation loss,  validation accuracy: 27.245, 0.4845814977973568. train loss, train accuracy: 1066.559, 0.7983416507794101\n"
          ]
        },
        {
          "data": {
            "application/vnd.jupyter.widget-view+json": {
              "model_id": "25577d0576894e62943359231f220234",
              "version_major": 2,
              "version_minor": 0
            },
            "text/plain": [
              "  0%|          | 0/2230 [00:00<?, ?it/s]"
            ]
          },
          "metadata": {},
          "output_type": "display_data"
        },
        {
          "data": {
            "application/vnd.jupyter.widget-view+json": {
              "model_id": "cc5f1ea762604ef49145c609f125d842",
              "version_major": 2,
              "version_minor": 0
            },
            "text/plain": [
              "  0%|          | 0/22 [00:00<?, ?it/s]"
            ]
          },
          "metadata": {},
          "output_type": "display_data"
        },
        {
          "name": "stdout",
          "output_type": "stream",
          "text": [
            "[12] validation loss,  validation accuracy: 28.741, 0.4911894273127753. train loss, train accuracy: 981.528, 0.8157732421217898\n"
          ]
        },
        {
          "data": {
            "application/vnd.jupyter.widget-view+json": {
              "model_id": "f9011d96577a4036bd52c8eb47d6ea5e",
              "version_major": 2,
              "version_minor": 0
            },
            "text/plain": [
              "  0%|          | 0/2230 [00:00<?, ?it/s]"
            ]
          },
          "metadata": {},
          "output_type": "display_data"
        },
        {
          "data": {
            "application/vnd.jupyter.widget-view+json": {
              "model_id": "17df0c3f91674f9ebd66a405ece100a3",
              "version_major": 2,
              "version_minor": 0
            },
            "text/plain": [
              "  0%|          | 0/22 [00:00<?, ?it/s]"
            ]
          },
          "metadata": {},
          "output_type": "display_data"
        },
        {
          "name": "stdout",
          "output_type": "stream",
          "text": [
            "[13] validation loss,  validation accuracy: 29.095, 0.4919236417033774. train loss, train accuracy: 894.909, 0.8350692497476729\n"
          ]
        },
        {
          "data": {
            "application/vnd.jupyter.widget-view+json": {
              "model_id": "0f631dc16a72436ca4e8cd8685a57ab1",
              "version_major": 2,
              "version_minor": 0
            },
            "text/plain": [
              "  0%|          | 0/2230 [00:00<?, ?it/s]"
            ]
          },
          "metadata": {},
          "output_type": "display_data"
        },
        {
          "data": {
            "application/vnd.jupyter.widget-view+json": {
              "model_id": "c72f107d61fc4f7a88f9c334424ad5c2",
              "version_major": 2,
              "version_minor": 0
            },
            "text/plain": [
              "  0%|          | 0/22 [00:00<?, ?it/s]"
            ]
          },
          "metadata": {},
          "output_type": "display_data"
        },
        {
          "name": "stdout",
          "output_type": "stream",
          "text": [
            "[14] validation loss,  validation accuracy: 30.773, 0.4919236417033774. train loss, train accuracy: 813.345, 0.8523326230795111\n"
          ]
        },
        {
          "data": {
            "application/vnd.jupyter.widget-view+json": {
              "model_id": "d3935e84828b49bab11923cd3a5b55b8",
              "version_major": 2,
              "version_minor": 0
            },
            "text/plain": [
              "  0%|          | 0/2230 [00:00<?, ?it/s]"
            ]
          },
          "metadata": {},
          "output_type": "display_data"
        },
        {
          "data": {
            "application/vnd.jupyter.widget-view+json": {
              "model_id": "10e2ed1defd74597b667be19db7a03ae",
              "version_major": 2,
              "version_minor": 0
            },
            "text/plain": [
              "  0%|          | 0/22 [00:00<?, ?it/s]"
            ]
          },
          "metadata": {},
          "output_type": "display_data"
        },
        {
          "name": "stdout",
          "output_type": "stream",
          "text": [
            "[15] validation loss,  validation accuracy: 31.855, 0.4889867841409692. train loss, train accuracy: 735.161, 0.868166143321745\n"
          ]
        },
        {
          "data": {
            "application/vnd.jupyter.widget-view+json": {
              "model_id": "701934a239284089a3e46f71e0539376",
              "version_major": 2,
              "version_minor": 0
            },
            "text/plain": [
              "  0%|          | 0/2230 [00:00<?, ?it/s]"
            ]
          },
          "metadata": {},
          "output_type": "display_data"
        },
        {
          "data": {
            "application/vnd.jupyter.widget-view+json": {
              "model_id": "f65e644eaa764ff99272e101671a1c68",
              "version_major": 2,
              "version_minor": 0
            },
            "text/plain": [
              "  0%|          | 0/22 [00:00<?, ?it/s]"
            ]
          },
          "metadata": {},
          "output_type": "display_data"
        },
        {
          "name": "stdout",
          "output_type": "stream",
          "text": [
            "[16] validation loss,  validation accuracy: 32.983, 0.5014684287812041. train loss, train accuracy: 660.653, 0.8838735000560727\n"
          ]
        },
        {
          "data": {
            "application/vnd.jupyter.widget-view+json": {
              "model_id": "3b4cc2c5f4ce4b309f26889adfb0ee84",
              "version_major": 2,
              "version_minor": 0
            },
            "text/plain": [
              "  0%|          | 0/2230 [00:00<?, ?it/s]"
            ]
          },
          "metadata": {},
          "output_type": "display_data"
        },
        {
          "data": {
            "application/vnd.jupyter.widget-view+json": {
              "model_id": "995415bdab87474d9c450ec37888c5df",
              "version_major": 2,
              "version_minor": 0
            },
            "text/plain": [
              "  0%|          | 0/22 [00:00<?, ?it/s]"
            ]
          },
          "metadata": {},
          "output_type": "display_data"
        },
        {
          "name": "stdout",
          "output_type": "stream",
          "text": [
            "[17] validation loss,  validation accuracy: 35.419, 0.4831130690161527. train loss, train accuracy: 586.833, 0.8990902209263205\n"
          ]
        },
        {
          "data": {
            "application/vnd.jupyter.widget-view+json": {
              "model_id": "b19ec094372648b39204ae877046a6b1",
              "version_major": 2,
              "version_minor": 0
            },
            "text/plain": [
              "  0%|          | 0/2230 [00:00<?, ?it/s]"
            ]
          },
          "metadata": {},
          "output_type": "display_data"
        },
        {
          "data": {
            "application/vnd.jupyter.widget-view+json": {
              "model_id": "c94aa3f05fb14cc0995b79606444c1ee",
              "version_major": 2,
              "version_minor": 0
            },
            "text/plain": [
              "  0%|          | 0/22 [00:00<?, ?it/s]"
            ]
          },
          "metadata": {},
          "output_type": "display_data"
        },
        {
          "name": "stdout",
          "output_type": "stream",
          "text": [
            "[18] validation loss,  validation accuracy: 37.236, 0.4985315712187959. train loss, train accuracy: 520.386, 0.9127929797016934\n"
          ]
        },
        {
          "data": {
            "application/vnd.jupyter.widget-view+json": {
              "model_id": "e947aed6549549b9b494d2599adbce1b",
              "version_major": 2,
              "version_minor": 0
            },
            "text/plain": [
              "  0%|          | 0/2230 [00:00<?, ?it/s]"
            ]
          },
          "metadata": {},
          "output_type": "display_data"
        },
        {
          "data": {
            "application/vnd.jupyter.widget-view+json": {
              "model_id": "b5c79998b2ea41f084fbd23c3f86caff",
              "version_major": 2,
              "version_minor": 0
            },
            "text/plain": [
              "  0%|          | 0/22 [00:00<?, ?it/s]"
            ]
          },
          "metadata": {},
          "output_type": "display_data"
        },
        {
          "name": "stdout",
          "output_type": "stream",
          "text": [
            "[19] validation loss,  validation accuracy: 39.076, 0.4933920704845815. train loss, train accuracy: 458.406, 0.9247504766176965\n"
          ]
        },
        {
          "data": {
            "application/vnd.jupyter.widget-view+json": {
              "model_id": "475f4ce2a0954d5883c6c60cd5af73d8",
              "version_major": 2,
              "version_minor": 0
            },
            "text/plain": [
              "  0%|          | 0/2230 [00:00<?, ?it/s]"
            ]
          },
          "metadata": {},
          "output_type": "display_data"
        },
        {
          "data": {
            "application/vnd.jupyter.widget-view+json": {
              "model_id": "09e95c4175414d79af0ccd497011a073",
              "version_major": 2,
              "version_minor": 0
            },
            "text/plain": [
              "  0%|          | 0/22 [00:00<?, ?it/s]"
            ]
          },
          "metadata": {},
          "output_type": "display_data"
        },
        {
          "name": "stdout",
          "output_type": "stream",
          "text": [
            "[20] validation loss,  validation accuracy: 41.576, 0.4911894273127753. train loss, train accuracy: 401.999, 0.935628574632724\n"
          ]
        }
      ],
      "source": [
        "# Batch size 64, learning rate 0.00001\n",
        "net10 = build_2d_net(\"mspec\")\n",
        "\n",
        "net10 = train_model(net10, \"mspec\", epochs=20, lr=0.00001)"
      ]
    },
    {
      "cell_type": "code",
      "execution_count": null,
      "metadata": {
        "colab": {
          "referenced_widgets": [
            "cf48dde407404edc973a7d67bbacd341",
            "9f4160f0c4484e2eb367b872a8a13f40",
            "a45bfa06e80340d5904fe2b83bf5b72c",
            "99b94338ff774db3b6dfdb19013afb92",
            "d1379366e83a4fa6805e1ecbc12cc34b",
            "e9a985d6c3814b01818e9d1fc70f6b23",
            "4f7b69a2a63c4fe39b1ec4bcd37b07de",
            "2c1eb69226fd4c0c858ff779d5a424f2",
            "127211ab5abd4a91a827d544d1eb5d64",
            "dfb430f3a064461788db454b93b7ac7f",
            "1b5e0c2391a64f73af3e92358f211f16",
            "9daf6aa304a64a6d9b183afc735ee293",
            "62ebd286d7e04d63b7352abf0a5548a8",
            "143ff1031a22494e8230f2ee37a6488a",
            "327b44b5f1394ad89a196a2ce842b6f3",
            "6e9f564698ff4c10a138d5aa71b330ce",
            "0f335865fea648daa46238581b426f41",
            "94d776997dc54a7fba9d914466c5e5b9",
            "129e116bbf464817864b039e311705eb",
            "9bf5ca700c9e4b6ca81abc8b0dd0480c",
            "947afd1b0b0d49039dddaf0d9bea1c69",
            "5a35524ba31a4cf99212f55240bdb1c8",
            "466c53ec7d99478593adb2c823d41e46",
            "ea3618da3f8e466c98052bec7ebd134c",
            "66156380e4264c1ba10c28a44ba350b4",
            "d313e609a2ac4d488dfa6716f1e30507",
            "e18f6f11cd614f29b05cca67a0ab3a1d",
            "85b0fb9245a44de0b077a9ef8130e9fa",
            "8e74cdbd7bab435bafc1477d9d8c8755",
            "d64869f9b8214851af047e889378d546",
            "cd0dff3748cd42638daef69f740cc1e8",
            "5df1b45f39c44f49b74dd2e9c46cd4e3",
            "302b202635a84b85874202a43d14585c",
            "26edc9e3879f46e9ac08369aad88db1e",
            "ab272fb1476541c18ac99de3e1bf7498",
            "dbd5d3114eab4224a31c802b9c8f2379",
            "3e9daea48bd547b8871ec0278ec21151",
            "bef915b1e1c24cf39cb284196febb6d1",
            "f28140f3865d481aabd6a14e3dccdef2",
            "1fd8ce86ec084df18bd2f4f748682f8b",
            "9978d0f563e2475e9277229cfe3c183a",
            "59701ec980644618be4064e6d6d5d8e5",
            "335b3937495744f689bb8510e8b86adf",
            "20455bf065484d50b78fa2a122da9c65",
            "ddd39f67bff741118c75a1382728caa5",
            "182cb2b10228426fa82c3ab175462dda",
            "633d1795be8e4679b68f6da59fa268fb",
            "0644f871c4554760aae8c9af2c895d19",
            "dea965cc6d6e4dbc9b143fb07d77414a",
            "08298e307fbe4335bde64835faedeec6"
          ]
        },
        "id": "xgxoCo6e6FML",
        "outputId": "4b31efc3-378f-42f7-8f4a-fd36d693b3eb"
      },
      "outputs": [
        {
          "data": {
            "application/vnd.jupyter.widget-view+json": {
              "model_id": "cf48dde407404edc973a7d67bbacd341",
              "version_major": 2,
              "version_minor": 0
            },
            "text/plain": [
              "  0%|          | 0/2230 [00:00<?, ?it/s]"
            ]
          },
          "metadata": {},
          "output_type": "display_data"
        },
        {
          "data": {
            "application/vnd.jupyter.widget-view+json": {
              "model_id": "9f4160f0c4484e2eb367b872a8a13f40",
              "version_major": 2,
              "version_minor": 0
            },
            "text/plain": [
              "  0%|          | 0/22 [00:00<?, ?it/s]"
            ]
          },
          "metadata": {},
          "output_type": "display_data"
        },
        {
          "name": "stdout",
          "output_type": "stream",
          "text": [
            "[1] validation loss,  validation accuracy: 23.274, 0.4779735682819383. train loss, train accuracy: 1984.514, 0.5508368846024447\n"
          ]
        },
        {
          "data": {
            "application/vnd.jupyter.widget-view+json": {
              "model_id": "a45bfa06e80340d5904fe2b83bf5b72c",
              "version_major": 2,
              "version_minor": 0
            },
            "text/plain": [
              "  0%|          | 0/2230 [00:00<?, ?it/s]"
            ]
          },
          "metadata": {},
          "output_type": "display_data"
        },
        {
          "data": {
            "application/vnd.jupyter.widget-view+json": {
              "model_id": "99b94338ff774db3b6dfdb19013afb92",
              "version_major": 2,
              "version_minor": 0
            },
            "text/plain": [
              "  0%|          | 0/22 [00:00<?, ?it/s]"
            ]
          },
          "metadata": {},
          "output_type": "display_data"
        },
        {
          "name": "stdout",
          "output_type": "stream",
          "text": [
            "[2] validation loss,  validation accuracy: 23.750, 0.5102790014684288. train loss, train accuracy: 1576.064, 0.6734397779522261\n"
          ]
        },
        {
          "data": {
            "application/vnd.jupyter.widget-view+json": {
              "model_id": "d1379366e83a4fa6805e1ecbc12cc34b",
              "version_major": 2,
              "version_minor": 0
            },
            "text/plain": [
              "  0%|          | 0/2230 [00:00<?, ?it/s]"
            ]
          },
          "metadata": {},
          "output_type": "display_data"
        },
        {
          "data": {
            "application/vnd.jupyter.widget-view+json": {
              "model_id": "e9a985d6c3814b01818e9d1fc70f6b23",
              "version_major": 2,
              "version_minor": 0
            },
            "text/plain": [
              "  0%|          | 0/22 [00:00<?, ?it/s]"
            ]
          },
          "metadata": {},
          "output_type": "display_data"
        },
        {
          "name": "stdout",
          "output_type": "stream",
          "text": [
            "[3] validation loss,  validation accuracy: 26.259, 0.5161527165932452. train loss, train accuracy: 1253.143, 0.7503013906022205\n"
          ]
        },
        {
          "data": {
            "application/vnd.jupyter.widget-view+json": {
              "model_id": "4f7b69a2a63c4fe39b1ec4bcd37b07de",
              "version_major": 2,
              "version_minor": 0
            },
            "text/plain": [
              "  0%|          | 0/2230 [00:00<?, ?it/s]"
            ]
          },
          "metadata": {},
          "output_type": "display_data"
        },
        {
          "data": {
            "application/vnd.jupyter.widget-view+json": {
              "model_id": "2c1eb69226fd4c0c858ff779d5a424f2",
              "version_major": 2,
              "version_minor": 0
            },
            "text/plain": [
              "  0%|          | 0/22 [00:00<?, ?it/s]"
            ]
          },
          "metadata": {},
          "output_type": "display_data"
        },
        {
          "name": "stdout",
          "output_type": "stream",
          "text": [
            "[4] validation loss,  validation accuracy: 30.482, 0.5293685756240822. train loss, train accuracy: 947.437, 0.8170839407872603\n"
          ]
        },
        {
          "data": {
            "application/vnd.jupyter.widget-view+json": {
              "model_id": "127211ab5abd4a91a827d544d1eb5d64",
              "version_major": 2,
              "version_minor": 0
            },
            "text/plain": [
              "  0%|          | 0/2230 [00:00<?, ?it/s]"
            ]
          },
          "metadata": {},
          "output_type": "display_data"
        },
        {
          "data": {
            "application/vnd.jupyter.widget-view+json": {
              "model_id": "dfb430f3a064461788db454b93b7ac7f",
              "version_major": 2,
              "version_minor": 0
            },
            "text/plain": [
              "  0%|          | 0/22 [00:00<?, ?it/s]"
            ]
          },
          "metadata": {},
          "output_type": "display_data"
        },
        {
          "name": "stdout",
          "output_type": "stream",
          "text": [
            "[5] validation loss,  validation accuracy: 38.525, 0.5. train loss, train accuracy: 684.883, 0.8706824043960973\n"
          ]
        },
        {
          "data": {
            "application/vnd.jupyter.widget-view+json": {
              "model_id": "1b5e0c2391a64f73af3e92358f211f16",
              "version_major": 2,
              "version_minor": 0
            },
            "text/plain": [
              "  0%|          | 0/2230 [00:00<?, ?it/s]"
            ]
          },
          "metadata": {},
          "output_type": "display_data"
        },
        {
          "data": {
            "application/vnd.jupyter.widget-view+json": {
              "model_id": "9daf6aa304a64a6d9b183afc735ee293",
              "version_major": 2,
              "version_minor": 0
            },
            "text/plain": [
              "  0%|          | 0/22 [00:00<?, ?it/s]"
            ]
          },
          "metadata": {},
          "output_type": "display_data"
        },
        {
          "name": "stdout",
          "output_type": "stream",
          "text": [
            "[6] validation loss,  validation accuracy: 45.044, 0.5. train loss, train accuracy: 485.241, 0.9100734551979365\n"
          ]
        },
        {
          "data": {
            "application/vnd.jupyter.widget-view+json": {
              "model_id": "62ebd286d7e04d63b7352abf0a5548a8",
              "version_major": 2,
              "version_minor": 0
            },
            "text/plain": [
              "  0%|          | 0/2230 [00:00<?, ?it/s]"
            ]
          },
          "metadata": {},
          "output_type": "display_data"
        },
        {
          "data": {
            "application/vnd.jupyter.widget-view+json": {
              "model_id": "143ff1031a22494e8230f2ee37a6488a",
              "version_major": 2,
              "version_minor": 0
            },
            "text/plain": [
              "  0%|          | 0/22 [00:00<?, ?it/s]"
            ]
          },
          "metadata": {},
          "output_type": "display_data"
        },
        {
          "name": "stdout",
          "output_type": "stream",
          "text": [
            "[7] validation loss,  validation accuracy: 57.812, 0.45594713656387664. train loss, train accuracy: 360.595, 0.9351449478524168\n"
          ]
        },
        {
          "data": {
            "application/vnd.jupyter.widget-view+json": {
              "model_id": "327b44b5f1394ad89a196a2ce842b6f3",
              "version_major": 2,
              "version_minor": 0
            },
            "text/plain": [
              "  0%|          | 0/2230 [00:00<?, ?it/s]"
            ]
          },
          "metadata": {},
          "output_type": "display_data"
        },
        {
          "data": {
            "application/vnd.jupyter.widget-view+json": {
              "model_id": "6e9f564698ff4c10a138d5aa71b330ce",
              "version_major": 2,
              "version_minor": 0
            },
            "text/plain": [
              "  0%|          | 0/22 [00:00<?, ?it/s]"
            ]
          },
          "metadata": {},
          "output_type": "display_data"
        },
        {
          "name": "stdout",
          "output_type": "stream",
          "text": [
            "[8] validation loss,  validation accuracy: 65.754, 0.4831130690161527. train loss, train accuracy: 269.552, 0.951721430974543\n"
          ]
        },
        {
          "data": {
            "application/vnd.jupyter.widget-view+json": {
              "model_id": "0f335865fea648daa46238581b426f41",
              "version_major": 2,
              "version_minor": 0
            },
            "text/plain": [
              "  0%|          | 0/2230 [00:00<?, ?it/s]"
            ]
          },
          "metadata": {},
          "output_type": "display_data"
        },
        {
          "data": {
            "application/vnd.jupyter.widget-view+json": {
              "model_id": "94d776997dc54a7fba9d914466c5e5b9",
              "version_major": 2,
              "version_minor": 0
            },
            "text/plain": [
              "  0%|          | 0/22 [00:00<?, ?it/s]"
            ]
          },
          "metadata": {},
          "output_type": "display_data"
        },
        {
          "name": "stdout",
          "output_type": "stream",
          "text": [
            "[9] validation loss,  validation accuracy: 67.287, 0.49045521292217326. train loss, train accuracy: 212.834, 0.9634266008747336\n"
          ]
        },
        {
          "data": {
            "application/vnd.jupyter.widget-view+json": {
              "model_id": "129e116bbf464817864b039e311705eb",
              "version_major": 2,
              "version_minor": 0
            },
            "text/plain": [
              "  0%|          | 0/2230 [00:00<?, ?it/s]"
            ]
          },
          "metadata": {},
          "output_type": "display_data"
        },
        {
          "data": {
            "application/vnd.jupyter.widget-view+json": {
              "model_id": "9bf5ca700c9e4b6ca81abc8b0dd0480c",
              "version_major": 2,
              "version_minor": 0
            },
            "text/plain": [
              "  0%|          | 0/22 [00:00<?, ?it/s]"
            ]
          },
          "metadata": {},
          "output_type": "display_data"
        },
        {
          "name": "stdout",
          "output_type": "stream",
          "text": [
            "[10] validation loss,  validation accuracy: 72.610, 0.5058737151248165. train loss, train accuracy: 175.633, 0.970498766401256\n"
          ]
        },
        {
          "data": {
            "application/vnd.jupyter.widget-view+json": {
              "model_id": "947afd1b0b0d49039dddaf0d9bea1c69",
              "version_major": 2,
              "version_minor": 0
            },
            "text/plain": [
              "  0%|          | 0/2230 [00:00<?, ?it/s]"
            ]
          },
          "metadata": {},
          "output_type": "display_data"
        },
        {
          "data": {
            "application/vnd.jupyter.widget-view+json": {
              "model_id": "5a35524ba31a4cf99212f55240bdb1c8",
              "version_major": 2,
              "version_minor": 0
            },
            "text/plain": [
              "  0%|          | 0/22 [00:00<?, ?it/s]"
            ]
          },
          "metadata": {},
          "output_type": "display_data"
        },
        {
          "name": "stdout",
          "output_type": "stream",
          "text": [
            "[11] validation loss,  validation accuracy: 77.570, 0.49926578560939794. train loss, train accuracy: 138.586, 0.9760289334978132\n"
          ]
        },
        {
          "data": {
            "application/vnd.jupyter.widget-view+json": {
              "model_id": "466c53ec7d99478593adb2c823d41e46",
              "version_major": 2,
              "version_minor": 0
            },
            "text/plain": [
              "  0%|          | 0/2230 [00:00<?, ?it/s]"
            ]
          },
          "metadata": {},
          "output_type": "display_data"
        },
        {
          "data": {
            "application/vnd.jupyter.widget-view+json": {
              "model_id": "ea3618da3f8e466c98052bec7ebd134c",
              "version_major": 2,
              "version_minor": 0
            },
            "text/plain": [
              "  0%|          | 0/22 [00:00<?, ?it/s]"
            ]
          },
          "metadata": {},
          "output_type": "display_data"
        },
        {
          "name": "stdout",
          "output_type": "stream",
          "text": [
            "[12] validation loss,  validation accuracy: 78.461, 0.5088105726872246. train loss, train accuracy: 126.413, 0.9791760121116968\n"
          ]
        },
        {
          "data": {
            "application/vnd.jupyter.widget-view+json": {
              "model_id": "66156380e4264c1ba10c28a44ba350b4",
              "version_major": 2,
              "version_minor": 0
            },
            "text/plain": [
              "  0%|          | 0/2230 [00:00<?, ?it/s]"
            ]
          },
          "metadata": {},
          "output_type": "display_data"
        },
        {
          "data": {
            "application/vnd.jupyter.widget-view+json": {
              "model_id": "d313e609a2ac4d488dfa6716f1e30507",
              "version_major": 2,
              "version_minor": 0
            },
            "text/plain": [
              "  0%|          | 0/22 [00:00<?, ?it/s]"
            ]
          },
          "metadata": {},
          "output_type": "display_data"
        },
        {
          "name": "stdout",
          "output_type": "stream",
          "text": [
            "[13] validation loss,  validation accuracy: 79.902, 0.5293685756240822. train loss, train accuracy: 110.122, 0.9818394639452731\n"
          ]
        },
        {
          "data": {
            "application/vnd.jupyter.widget-view+json": {
              "model_id": "e18f6f11cd614f29b05cca67a0ab3a1d",
              "version_major": 2,
              "version_minor": 0
            },
            "text/plain": [
              "  0%|          | 0/2230 [00:00<?, ?it/s]"
            ]
          },
          "metadata": {},
          "output_type": "display_data"
        },
        {
          "data": {
            "application/vnd.jupyter.widget-view+json": {
              "model_id": "85b0fb9245a44de0b077a9ef8130e9fa",
              "version_major": 2,
              "version_minor": 0
            },
            "text/plain": [
              "  0%|          | 0/22 [00:00<?, ?it/s]"
            ]
          },
          "metadata": {},
          "output_type": "display_data"
        },
        {
          "name": "stdout",
          "output_type": "stream",
          "text": [
            "[14] validation loss,  validation accuracy: 86.038, 0.526431718061674. train loss, train accuracy: 99.065, 0.9840753616687227\n"
          ]
        },
        {
          "data": {
            "application/vnd.jupyter.widget-view+json": {
              "model_id": "8e74cdbd7bab435bafc1477d9d8c8755",
              "version_major": 2,
              "version_minor": 0
            },
            "text/plain": [
              "  0%|          | 0/2230 [00:00<?, ?it/s]"
            ]
          },
          "metadata": {},
          "output_type": "display_data"
        },
        {
          "data": {
            "application/vnd.jupyter.widget-view+json": {
              "model_id": "d64869f9b8214851af047e889378d546",
              "version_major": 2,
              "version_minor": 0
            },
            "text/plain": [
              "  0%|          | 0/22 [00:00<?, ?it/s]"
            ]
          },
          "metadata": {},
          "output_type": "display_data"
        },
        {
          "name": "stdout",
          "output_type": "stream",
          "text": [
            "[15] validation loss,  validation accuracy: 87.722, 0.5212922173274597. train loss, train accuracy: 92.774, 0.9854911965907817\n"
          ]
        },
        {
          "data": {
            "application/vnd.jupyter.widget-view+json": {
              "model_id": "cd0dff3748cd42638daef69f740cc1e8",
              "version_major": 2,
              "version_minor": 0
            },
            "text/plain": [
              "  0%|          | 0/2230 [00:00<?, ?it/s]"
            ]
          },
          "metadata": {},
          "output_type": "display_data"
        },
        {
          "data": {
            "application/vnd.jupyter.widget-view+json": {
              "model_id": "5df1b45f39c44f49b74dd2e9c46cd4e3",
              "version_major": 2,
              "version_minor": 0
            },
            "text/plain": [
              "  0%|          | 0/22 [00:00<?, ?it/s]"
            ]
          },
          "metadata": {},
          "output_type": "display_data"
        },
        {
          "name": "stdout",
          "output_type": "stream",
          "text": [
            "[16] validation loss,  validation accuracy: 90.594, 0.5161527165932452. train loss, train accuracy: 83.262, 0.9865285409891219\n"
          ]
        },
        {
          "data": {
            "application/vnd.jupyter.widget-view+json": {
              "model_id": "302b202635a84b85874202a43d14585c",
              "version_major": 2,
              "version_minor": 0
            },
            "text/plain": [
              "  0%|          | 0/2230 [00:00<?, ?it/s]"
            ]
          },
          "metadata": {},
          "output_type": "display_data"
        },
        {
          "data": {
            "application/vnd.jupyter.widget-view+json": {
              "model_id": "26edc9e3879f46e9ac08369aad88db1e",
              "version_major": 2,
              "version_minor": 0
            },
            "text/plain": [
              "  0%|          | 0/22 [00:00<?, ?it/s]"
            ]
          },
          "metadata": {},
          "output_type": "display_data"
        },
        {
          "name": "stdout",
          "output_type": "stream",
          "text": [
            "[17] validation loss,  validation accuracy: 91.424, 0.5323054331864905. train loss, train accuracy: 81.657, 0.986949086015476\n"
          ]
        },
        {
          "data": {
            "application/vnd.jupyter.widget-view+json": {
              "model_id": "ab272fb1476541c18ac99de3e1bf7498",
              "version_major": 2,
              "version_minor": 0
            },
            "text/plain": [
              "  0%|          | 0/2230 [00:00<?, ?it/s]"
            ]
          },
          "metadata": {},
          "output_type": "display_data"
        },
        {
          "data": {
            "application/vnd.jupyter.widget-view+json": {
              "model_id": "dbd5d3114eab4224a31c802b9c8f2379",
              "version_major": 2,
              "version_minor": 0
            },
            "text/plain": [
              "  0%|          | 0/22 [00:00<?, ?it/s]"
            ]
          },
          "metadata": {},
          "output_type": "display_data"
        },
        {
          "name": "stdout",
          "output_type": "stream",
          "text": [
            "[18] validation loss,  validation accuracy: 97.865, 0.5110132158590308. train loss, train accuracy: 69.366, 0.9890798474823371\n"
          ]
        },
        {
          "data": {
            "application/vnd.jupyter.widget-view+json": {
              "model_id": "3e9daea48bd547b8871ec0278ec21151",
              "version_major": 2,
              "version_minor": 0
            },
            "text/plain": [
              "  0%|          | 0/2230 [00:00<?, ?it/s]"
            ]
          },
          "metadata": {},
          "output_type": "display_data"
        },
        {
          "data": {
            "application/vnd.jupyter.widget-view+json": {
              "model_id": "bef915b1e1c24cf39cb284196febb6d1",
              "version_major": 2,
              "version_minor": 0
            },
            "text/plain": [
              "  0%|          | 0/22 [00:00<?, ?it/s]"
            ]
          },
          "metadata": {},
          "output_type": "display_data"
        },
        {
          "name": "stdout",
          "output_type": "stream",
          "text": [
            "[19] validation loss,  validation accuracy: 97.724, 0.5139500734214391. train loss, train accuracy: 69.524, 0.9888064932152069\n"
          ]
        },
        {
          "data": {
            "application/vnd.jupyter.widget-view+json": {
              "model_id": "f28140f3865d481aabd6a14e3dccdef2",
              "version_major": 2,
              "version_minor": 0
            },
            "text/plain": [
              "  0%|          | 0/2230 [00:00<?, ?it/s]"
            ]
          },
          "metadata": {},
          "output_type": "display_data"
        },
        {
          "data": {
            "application/vnd.jupyter.widget-view+json": {
              "model_id": "1fd8ce86ec084df18bd2f4f748682f8b",
              "version_major": 2,
              "version_minor": 0
            },
            "text/plain": [
              "  0%|          | 0/22 [00:00<?, ?it/s]"
            ]
          },
          "metadata": {},
          "output_type": "display_data"
        },
        {
          "name": "stdout",
          "output_type": "stream",
          "text": [
            "[20] validation loss,  validation accuracy: 96.534, 0.5205580029368576. train loss, train accuracy: 65.967, 0.9895634742626443\n"
          ]
        },
        {
          "data": {
            "application/vnd.jupyter.widget-view+json": {
              "model_id": "9978d0f563e2475e9277229cfe3c183a",
              "version_major": 2,
              "version_minor": 0
            },
            "text/plain": [
              "  0%|          | 0/2230 [00:00<?, ?it/s]"
            ]
          },
          "metadata": {},
          "output_type": "display_data"
        },
        {
          "data": {
            "application/vnd.jupyter.widget-view+json": {
              "model_id": "59701ec980644618be4064e6d6d5d8e5",
              "version_major": 2,
              "version_minor": 0
            },
            "text/plain": [
              "  0%|          | 0/22 [00:00<?, ?it/s]"
            ]
          },
          "metadata": {},
          "output_type": "display_data"
        },
        {
          "name": "stdout",
          "output_type": "stream",
          "text": [
            "[21] validation loss,  validation accuracy: 103.998, 0.5117474302496329. train loss, train accuracy: 61.157, 0.9903414825613995\n"
          ]
        },
        {
          "data": {
            "application/vnd.jupyter.widget-view+json": {
              "model_id": "335b3937495744f689bb8510e8b86adf",
              "version_major": 2,
              "version_minor": 0
            },
            "text/plain": [
              "  0%|          | 0/2230 [00:00<?, ?it/s]"
            ]
          },
          "metadata": {},
          "output_type": "display_data"
        },
        {
          "data": {
            "application/vnd.jupyter.widget-view+json": {
              "model_id": "20455bf065484d50b78fa2a122da9c65",
              "version_major": 2,
              "version_minor": 0
            },
            "text/plain": [
              "  0%|          | 0/22 [00:00<?, ?it/s]"
            ]
          },
          "metadata": {},
          "output_type": "display_data"
        },
        {
          "name": "stdout",
          "output_type": "stream",
          "text": [
            "[22] validation loss,  validation accuracy: 104.902, 0.5051395007342144. train loss, train accuracy: 56.504, 0.9908952001794326\n"
          ]
        },
        {
          "data": {
            "application/vnd.jupyter.widget-view+json": {
              "model_id": "ddd39f67bff741118c75a1382728caa5",
              "version_major": 2,
              "version_minor": 0
            },
            "text/plain": [
              "  0%|          | 0/2230 [00:00<?, ?it/s]"
            ]
          },
          "metadata": {},
          "output_type": "display_data"
        },
        {
          "data": {
            "application/vnd.jupyter.widget-view+json": {
              "model_id": "182cb2b10228426fa82c3ab175462dda",
              "version_major": 2,
              "version_minor": 0
            },
            "text/plain": [
              "  0%|          | 0/22 [00:00<?, ?it/s]"
            ]
          },
          "metadata": {},
          "output_type": "display_data"
        },
        {
          "name": "stdout",
          "output_type": "stream",
          "text": [
            "[23] validation loss,  validation accuracy: 108.967, 0.5168869309838473. train loss, train accuracy: 57.244, 0.9906989458338006\n"
          ]
        },
        {
          "data": {
            "application/vnd.jupyter.widget-view+json": {
              "model_id": "633d1795be8e4679b68f6da59fa268fb",
              "version_major": 2,
              "version_minor": 0
            },
            "text/plain": [
              "  0%|          | 0/2230 [00:00<?, ?it/s]"
            ]
          },
          "metadata": {},
          "output_type": "display_data"
        },
        {
          "data": {
            "application/vnd.jupyter.widget-view+json": {
              "model_id": "0644f871c4554760aae8c9af2c895d19",
              "version_major": 2,
              "version_minor": 0
            },
            "text/plain": [
              "  0%|          | 0/22 [00:00<?, ?it/s]"
            ]
          },
          "metadata": {},
          "output_type": "display_data"
        },
        {
          "name": "stdout",
          "output_type": "stream",
          "text": [
            "[24] validation loss,  validation accuracy: 106.810, 0.5168869309838473. train loss, train accuracy: 52.349, 0.9919115173264551\n"
          ]
        },
        {
          "data": {
            "application/vnd.jupyter.widget-view+json": {
              "model_id": "dea965cc6d6e4dbc9b143fb07d77414a",
              "version_major": 2,
              "version_minor": 0
            },
            "text/plain": [
              "  0%|          | 0/2230 [00:00<?, ?it/s]"
            ]
          },
          "metadata": {},
          "output_type": "display_data"
        },
        {
          "data": {
            "application/vnd.jupyter.widget-view+json": {
              "model_id": "08298e307fbe4335bde64835faedeec6",
              "version_major": 2,
              "version_minor": 0
            },
            "text/plain": [
              "  0%|          | 0/22 [00:00<?, ?it/s]"
            ]
          },
          "metadata": {},
          "output_type": "display_data"
        },
        {
          "name": "stdout",
          "output_type": "stream",
          "text": [
            "[25] validation loss,  validation accuracy: 113.862, 0.5227606461086637. train loss, train accuracy: 51.446, 0.9917713356510037\n",
            "Finished Training\n"
          ]
        },
        {
          "data": {
            "text/plain": [
              "([1984.5144962072372,\n",
              "  1576.0636328160763,\n",
              "  1253.1427696943283,\n",
              "  947.4369780123234,\n",
              "  684.8834644183517,\n",
              "  485.24097269400954,\n",
              "  360.59540624916553,\n",
              "  269.55162998102605,\n",
              "  212.83445910550654,\n",
              "  175.6330265053548,\n",
              "  138.58603835082613,\n",
              "  126.41262272023596,\n",
              "  110.12196150003001,\n",
              "  99.06453744438477,\n",
              "  92.77422425092664,\n",
              "  83.26222233241424,\n",
              "  81.65674275200581,\n",
              "  69.36564367217943,\n",
              "  69.52363865080406,\n",
              "  65.96667714609066,\n",
              "  61.15690438213642,\n",
              "  56.5036246143718,\n",
              "  57.243843908800045,\n",
              "  52.348721994421794,\n",
              "  51.44572185451398],\n",
              " [0.5508368846024447,\n",
              "  0.6734397779522261,\n",
              "  0.7503013906022205,\n",
              "  0.8170839407872603,\n",
              "  0.8706824043960973,\n",
              "  0.9100734551979365,\n",
              "  0.9351449478524168,\n",
              "  0.951721430974543,\n",
              "  0.9634266008747336,\n",
              "  0.970498766401256,\n",
              "  0.9760289334978132,\n",
              "  0.9791760121116968,\n",
              "  0.9818394639452731,\n",
              "  0.9840753616687227,\n",
              "  0.9854911965907817,\n",
              "  0.9865285409891219,\n",
              "  0.986949086015476,\n",
              "  0.9890798474823371,\n",
              "  0.9888064932152069,\n",
              "  0.9895634742626443,\n",
              "  0.9903414825613995,\n",
              "  0.9908952001794326,\n",
              "  0.9906989458338006,\n",
              "  0.9919115173264551,\n",
              "  0.9917713356510037],\n",
              " [23.273517549037933,\n",
              "  23.750453412532806,\n",
              "  26.25855839252472,\n",
              "  30.482330322265625,\n",
              "  38.525368094444275,\n",
              "  45.04419422149658,\n",
              "  57.8118200302124,\n",
              "  65.75407886505127,\n",
              "  67.28676223754883,\n",
              "  72.6101222038269,\n",
              "  77.57008838653564,\n",
              "  78.46074795722961,\n",
              "  79.90150880813599,\n",
              "  86.03758454322815,\n",
              "  87.72169733047485,\n",
              "  90.59418320655823,\n",
              "  91.4238862991333,\n",
              "  97.86499094963074,\n",
              "  97.72429466247559,\n",
              "  96.53414225578308,\n",
              "  103.99849534034729,\n",
              "  104.90208125114441,\n",
              "  108.967280626297,\n",
              "  106.81000590324402,\n",
              "  113.86150860786438],\n",
              " [0.4779735682819383,\n",
              "  0.5102790014684288,\n",
              "  0.5161527165932452,\n",
              "  0.5293685756240822,\n",
              "  0.5,\n",
              "  0.5,\n",
              "  0.45594713656387664,\n",
              "  0.4831130690161527,\n",
              "  0.49045521292217326,\n",
              "  0.5058737151248165,\n",
              "  0.49926578560939794,\n",
              "  0.5088105726872246,\n",
              "  0.5293685756240822,\n",
              "  0.526431718061674,\n",
              "  0.5212922173274597,\n",
              "  0.5161527165932452,\n",
              "  0.5323054331864905,\n",
              "  0.5110132158590308,\n",
              "  0.5139500734214391,\n",
              "  0.5205580029368576,\n",
              "  0.5117474302496329,\n",
              "  0.5051395007342144,\n",
              "  0.5168869309838473,\n",
              "  0.5168869309838473,\n",
              "  0.5227606461086637])"
            ]
          },
          "execution_count": 34,
          "metadata": {},
          "output_type": "execute_result"
        }
      ],
      "source": [
        "# Batch size 64, learning rate 0.0001\n",
        "\n",
        "net11 = build_2d_net(\"mspec\")\n",
        "\n",
        "net11 = train_model(net11, \"mspec\", epochs=25, lr=0.0001)\n",
        "\n",
        "# Again only the first 20 epochs were analysed."
      ]
    },
    {
      "cell_type": "code",
      "execution_count": null,
      "metadata": {
        "colab": {
          "referenced_widgets": [
            "db4b44448a8343f1a5ee5f1e15dfd32a",
            "88bb49f4fbc94e28a64128a2994b28e5",
            "1d8184f4faa24db4a16a008b9e5e62dd",
            "9756a07cc78244ffb3ff49098b14c4a7",
            "c29f02b4c80a4caea1fdb47cc3f676cc",
            "6e70cb5705c94ad286b041458724df88",
            "8e758f3090694087ab10249b605b8724",
            "30e0307986494ad5a331416a692f7acb",
            "d68b90a53d6a491abbc2dc7f847fdb73",
            "5d34272757d44c48bcb11f82f12b71e5",
            "8a841cfbca754659b77f8a9ed690fef4",
            "60792137f8d84b9e828cd79809558c16",
            "aaed204a89b240f6a728feb974168d6c",
            "4955c58e1ae14233b1529e647c2da4ed",
            "3ef33742bfb445f8adc4c3cb64b63eb3",
            "240c773f7f324b548befaf71f48248c6",
            "cd4c3e33b54a490d8f6315584be0ba6d",
            "3849b71abe254faabc2e700307626647",
            "3ecca11cf6614d3693d33c6dc06ceea8",
            "e8602cdcf07c485088746f0e206bb1d4",
            "b508ce0d92694af0a1c42523369f6a7b",
            "a5e56c9ed0354b0991f28d31c31a36f4",
            "39d8492aecc64591b354c07ac5659eab",
            "50c24608ac40403db50a9450ffa7ca30",
            "8b01d88419584ec4a1085ddf1c66533c",
            "148b77e936264622a2f36c00c54607d5",
            "3c78fb5367484335aa308eaa0fb1fa10",
            "dd9f6e8dbd3c46debec24bcab847dd52",
            "2acae14b0afc46bb92568ba8f23c5906",
            "70b82400e4b74e9f9eb17bb827f581fc",
            "21aa99c09bc44c9b97677c705e5a5f94",
            "957f59908b6f498b98396890d0ee5a83",
            "500ca88aa86f4c3ba9c7e248da3eb760",
            "907a7c61ef5a4fa38813e1572ae79cf9",
            "c5edcc6afcc74bb6860034f6c4270024",
            "3e2672562c4041fcacfcfe966f06d541",
            "d26e76d7101545d492b87dc75556b99c",
            "8d33cefd08b54e6ab74903cd39ede7e2",
            "95804cef2d2b4913abb400124ce9ca6d",
            "99bd04afd1394e33ae64702bac2f4112",
            "df3b4fb646f14f4c9eb594ac7d227a34",
            "cbcf64f2aad944a292d63268e2abacec",
            "f701fb3bc2d4475d8e20fe43a8c10144",
            "294a12187eb34e33998c5957128ecea7",
            "4642e1442773442ca370492a2d68a717",
            "6e398c7e41a04a6da5bab4f74ca4f7a6",
            "2b3e9849720b4fa6861b997ef74b4409",
            "3345a70983954d13adf0cc5d110c2891",
            "750ed481ed17461986eae4749e3bf5d4",
            "e1b6a40aa96c4ee6b638090ec8c26038",
            "2181853db8ec40c99cbed366747c2669",
            "0e906dbcf0b141918722da17d4a99333",
            "7f3388a5d11b4f7d851399eb4f36924a",
            "ce573e94016444c78e3eb664635f866b",
            "146adc92069048bd8f5e95126d1c1397",
            "a5e72b82c4a047da859245051e53d98a",
            "8bfa9eaeb2ef4df99c6a9f9b8b79936a",
            "0990660745ca453e8d6efa9e607c98aa",
            "2ec8cd0d6c544dc3bf9281f40e1efd08",
            "9dfa5864c92947eabc9a17ad60e8c0c1",
            "484140d8f0224d858460a1940946fef3",
            "a3d3a38d9ab54d8fa45b66d639dbce93",
            "9299abea99fc419e866a01d1a832e65e",
            "8cad8c856d5a4461a214648b8868219f",
            "eda3af6ca6ce427abb70cdb4f05d085b",
            "7c45b63114bd487bae3363c18c13923a",
            "b108cb0389bc472da37b48d7475b8a42",
            "adb1caa3255b4dbb9a912713ca38faba",
            "8fac8647f39044c1b7f5632f7be42554",
            "135989040cac4b0497c71876015bb52d",
            "42f2c440d57c44a0b5efe32728202fb6",
            "3810237df13a4a08ba8dea91c81c40e4",
            "47ead968de734fc1b72ecccaa027f996",
            "77ef88bf08924682aab3243637a47c39",
            "14f43afde50746d6af49de66f54250c3",
            "c7535bb54ab2489a8433ced809b7ea3b",
            "1467c62c40ac46668a91cc7fc7ece205",
            "713917bf3cbf4e18850e7ca2bc77d668",
            "9182ccd4d19a41c59adc012078a6798a",
            "a7d9b82b480b49d3a0147891f48ebb39",
            "912078316b5748c9a3f6e53f81c089e0",
            "ec1efaf4effc44939141202dfb4bfe4d",
            "0d0cf9826f724d63a6a4f681ae8122f4",
            "32ff1c958ffb48a8a52277d34f69eb8e",
            "aa1808b203a344d4b652aa712aa86d5a",
            "5ebdd3748e03415fb36db6f431772030",
            "34128381263d46d18a38707b137f0971",
            "6f938dcb800943bdbf31f2653f1c2159",
            "53c2a1f7da23442e885df95ab251e679",
            "b804ea1989074e128abbb913a05f2e59",
            "4f05c56918a147aea14ecbeee3819e04",
            "23cf28f5e8c448a892b816a043feb41f",
            "c182941113404ad8bb677e27c420f11f",
            "45d5169186df4725ae4e4fa0c213fb2b",
            "cf41454fa9a646bdb05e14edddb76203",
            "432b3eca986740d686591861a601b375",
            "f3d9f1b04df3468c931d8e643e465aae",
            "9f36041a726a408e934029808a47f084",
            "e57896dce9d54e019520f4718d077357",
            "5ae30c9c0f6f492481bbee0fd84776f4"
          ]
        },
        "id": "VsZkFzvO6BkT",
        "outputId": "d862fcbe-047c-4275-fe1a-e5d11733c459"
      },
      "outputs": [
        {
          "data": {
            "application/vnd.jupyter.widget-view+json": {
              "model_id": "db4b44448a8343f1a5ee5f1e15dfd32a",
              "version_major": 2,
              "version_minor": 0
            },
            "text/plain": [
              "  0%|          | 0/2230 [00:00<?, ?it/s]"
            ]
          },
          "metadata": {},
          "output_type": "display_data"
        },
        {
          "data": {
            "application/vnd.jupyter.widget-view+json": {
              "model_id": "88bb49f4fbc94e28a64128a2994b28e5",
              "version_major": 2,
              "version_minor": 0
            },
            "text/plain": [
              "  0%|          | 0/22 [00:00<?, ?it/s]"
            ]
          },
          "metadata": {},
          "output_type": "display_data"
        },
        {
          "name": "stdout",
          "output_type": "stream",
          "text": [
            "[1] validation loss,  validation accuracy: 23.439, 0.49045521292217326. train loss, train accuracy: 1932.273, 0.5660465963889201\n"
          ]
        },
        {
          "data": {
            "application/vnd.jupyter.widget-view+json": {
              "model_id": "1d8184f4faa24db4a16a008b9e5e62dd",
              "version_major": 2,
              "version_minor": 0
            },
            "text/plain": [
              "  0%|          | 0/2230 [00:00<?, ?it/s]"
            ]
          },
          "metadata": {},
          "output_type": "display_data"
        },
        {
          "data": {
            "application/vnd.jupyter.widget-view+json": {
              "model_id": "9756a07cc78244ffb3ff49098b14c4a7",
              "version_major": 2,
              "version_minor": 0
            },
            "text/plain": [
              "  0%|          | 0/22 [00:00<?, ?it/s]"
            ]
          },
          "metadata": {},
          "output_type": "display_data"
        },
        {
          "name": "stdout",
          "output_type": "stream",
          "text": [
            "[2] validation loss,  validation accuracy: 24.011, 0.5139500734214391. train loss, train accuracy: 1485.903, 0.6972566446114163\n"
          ]
        },
        {
          "data": {
            "application/vnd.jupyter.widget-view+json": {
              "model_id": "c29f02b4c80a4caea1fdb47cc3f676cc",
              "version_major": 2,
              "version_minor": 0
            },
            "text/plain": [
              "  0%|          | 0/2230 [00:00<?, ?it/s]"
            ]
          },
          "metadata": {},
          "output_type": "display_data"
        },
        {
          "data": {
            "application/vnd.jupyter.widget-view+json": {
              "model_id": "6e70cb5705c94ad286b041458724df88",
              "version_major": 2,
              "version_minor": 0
            },
            "text/plain": [
              "  0%|          | 0/22 [00:00<?, ?it/s]"
            ]
          },
          "metadata": {},
          "output_type": "display_data"
        },
        {
          "name": "stdout",
          "output_type": "stream",
          "text": [
            "[3] validation loss,  validation accuracy: 27.266, 0.5051395007342144. train loss, train accuracy: 1201.754, 0.7626023326230795\n"
          ]
        },
        {
          "data": {
            "application/vnd.jupyter.widget-view+json": {
              "model_id": "8e758f3090694087ab10249b605b8724",
              "version_major": 2,
              "version_minor": 0
            },
            "text/plain": [
              "  0%|          | 0/2230 [00:00<?, ?it/s]"
            ]
          },
          "metadata": {},
          "output_type": "display_data"
        },
        {
          "data": {
            "application/vnd.jupyter.widget-view+json": {
              "model_id": "30e0307986494ad5a331416a692f7acb",
              "version_major": 2,
              "version_minor": 0
            },
            "text/plain": [
              "  0%|          | 0/22 [00:00<?, ?it/s]"
            ]
          },
          "metadata": {},
          "output_type": "display_data"
        },
        {
          "name": "stdout",
          "output_type": "stream",
          "text": [
            "[4] validation loss,  validation accuracy: 31.436, 0.5227606461086637. train loss, train accuracy: 957.791, 0.8159835146349669\n"
          ]
        },
        {
          "data": {
            "application/vnd.jupyter.widget-view+json": {
              "model_id": "d68b90a53d6a491abbc2dc7f847fdb73",
              "version_major": 2,
              "version_minor": 0
            },
            "text/plain": [
              "  0%|          | 0/2230 [00:00<?, ?it/s]"
            ]
          },
          "metadata": {},
          "output_type": "display_data"
        },
        {
          "data": {
            "application/vnd.jupyter.widget-view+json": {
              "model_id": "5d34272757d44c48bcb11f82f12b71e5",
              "version_major": 2,
              "version_minor": 0
            },
            "text/plain": [
              "  0%|          | 0/22 [00:00<?, ?it/s]"
            ]
          },
          "metadata": {},
          "output_type": "display_data"
        },
        {
          "name": "stdout",
          "output_type": "stream",
          "text": [
            "[5] validation loss,  validation accuracy: 41.468, 0.5058737151248165. train loss, train accuracy: 769.032, 0.8546035662218234\n"
          ]
        },
        {
          "data": {
            "application/vnd.jupyter.widget-view+json": {
              "model_id": "8a841cfbca754659b77f8a9ed690fef4",
              "version_major": 2,
              "version_minor": 0
            },
            "text/plain": [
              "  0%|          | 0/2230 [00:00<?, ?it/s]"
            ]
          },
          "metadata": {},
          "output_type": "display_data"
        },
        {
          "data": {
            "application/vnd.jupyter.widget-view+json": {
              "model_id": "60792137f8d84b9e828cd79809558c16",
              "version_major": 2,
              "version_minor": 0
            },
            "text/plain": [
              "  0%|          | 0/22 [00:00<?, ?it/s]"
            ]
          },
          "metadata": {},
          "output_type": "display_data"
        },
        {
          "name": "stdout",
          "output_type": "stream",
          "text": [
            "[6] validation loss,  validation accuracy: 43.798, 0.5308370044052864. train loss, train accuracy: 632.743, 0.8825207468879668\n"
          ]
        },
        {
          "data": {
            "application/vnd.jupyter.widget-view+json": {
              "model_id": "aaed204a89b240f6a728feb974168d6c",
              "version_major": 2,
              "version_minor": 0
            },
            "text/plain": [
              "  0%|          | 0/2230 [00:00<?, ?it/s]"
            ]
          },
          "metadata": {},
          "output_type": "display_data"
        },
        {
          "data": {
            "application/vnd.jupyter.widget-view+json": {
              "model_id": "4955c58e1ae14233b1529e647c2da4ed",
              "version_major": 2,
              "version_minor": 0
            },
            "text/plain": [
              "  0%|          | 0/22 [00:00<?, ?it/s]"
            ]
          },
          "metadata": {},
          "output_type": "display_data"
        },
        {
          "name": "stdout",
          "output_type": "stream",
          "text": [
            "[7] validation loss,  validation accuracy: 52.593, 0.5095447870778267. train loss, train accuracy: 538.035, 0.9015504093304924\n"
          ]
        },
        {
          "data": {
            "application/vnd.jupyter.widget-view+json": {
              "model_id": "3ef33742bfb445f8adc4c3cb64b63eb3",
              "version_major": 2,
              "version_minor": 0
            },
            "text/plain": [
              "  0%|          | 0/2230 [00:00<?, ?it/s]"
            ]
          },
          "metadata": {},
          "output_type": "display_data"
        },
        {
          "data": {
            "application/vnd.jupyter.widget-view+json": {
              "model_id": "240c773f7f324b548befaf71f48248c6",
              "version_major": 2,
              "version_minor": 0
            },
            "text/plain": [
              "  0%|          | 0/22 [00:00<?, ?it/s]"
            ]
          },
          "metadata": {},
          "output_type": "display_data"
        },
        {
          "name": "stdout",
          "output_type": "stream",
          "text": [
            "[8] validation loss,  validation accuracy: 55.445, 0.5315712187958884. train loss, train accuracy: 462.362, 0.9173418750700908\n"
          ]
        },
        {
          "data": {
            "application/vnd.jupyter.widget-view+json": {
              "model_id": "cd4c3e33b54a490d8f6315584be0ba6d",
              "version_major": 2,
              "version_minor": 0
            },
            "text/plain": [
              "  0%|          | 0/2230 [00:00<?, ?it/s]"
            ]
          },
          "metadata": {},
          "output_type": "display_data"
        },
        {
          "data": {
            "application/vnd.jupyter.widget-view+json": {
              "model_id": "3849b71abe254faabc2e700307626647",
              "version_major": 2,
              "version_minor": 0
            },
            "text/plain": [
              "  0%|          | 0/22 [00:00<?, ?it/s]"
            ]
          },
          "metadata": {},
          "output_type": "display_data"
        },
        {
          "name": "stdout",
          "output_type": "stream",
          "text": [
            "[9] validation loss,  validation accuracy: 58.855, 0.5176211453744494. train loss, train accuracy: 392.052, 0.9312338791073231\n"
          ]
        },
        {
          "data": {
            "application/vnd.jupyter.widget-view+json": {
              "model_id": "3ecca11cf6614d3693d33c6dc06ceea8",
              "version_major": 2,
              "version_minor": 0
            },
            "text/plain": [
              "  0%|          | 0/2230 [00:00<?, ?it/s]"
            ]
          },
          "metadata": {},
          "output_type": "display_data"
        },
        {
          "data": {
            "application/vnd.jupyter.widget-view+json": {
              "model_id": "e8602cdcf07c485088746f0e206bb1d4",
              "version_major": 2,
              "version_minor": 0
            },
            "text/plain": [
              "  0%|          | 0/22 [00:00<?, ?it/s]"
            ]
          },
          "metadata": {},
          "output_type": "display_data"
        },
        {
          "name": "stdout",
          "output_type": "stream",
          "text": [
            "[10] validation loss,  validation accuracy: 61.463, 0.5249632892804699. train loss, train accuracy: 350.476, 0.9380186721991701\n"
          ]
        },
        {
          "data": {
            "application/vnd.jupyter.widget-view+json": {
              "model_id": "b508ce0d92694af0a1c42523369f6a7b",
              "version_major": 2,
              "version_minor": 0
            },
            "text/plain": [
              "  0%|          | 0/2230 [00:00<?, ?it/s]"
            ]
          },
          "metadata": {},
          "output_type": "display_data"
        },
        {
          "data": {
            "application/vnd.jupyter.widget-view+json": {
              "model_id": "a5e56c9ed0354b0991f28d31c31a36f4",
              "version_major": 2,
              "version_minor": 0
            },
            "text/plain": [
              "  0%|          | 0/22 [00:00<?, ?it/s]"
            ]
          },
          "metadata": {},
          "output_type": "display_data"
        },
        {
          "name": "stdout",
          "output_type": "stream",
          "text": [
            "[11] validation loss,  validation accuracy: 66.648, 0.5183553597650514. train loss, train accuracy: 309.566, 0.9458898732757653\n"
          ]
        },
        {
          "data": {
            "application/vnd.jupyter.widget-view+json": {
              "model_id": "39d8492aecc64591b354c07ac5659eab",
              "version_major": 2,
              "version_minor": 0
            },
            "text/plain": [
              "  0%|          | 0/2230 [00:00<?, ?it/s]"
            ]
          },
          "metadata": {},
          "output_type": "display_data"
        },
        {
          "data": {
            "application/vnd.jupyter.widget-view+json": {
              "model_id": "50c24608ac40403db50a9450ffa7ca30",
              "version_major": 2,
              "version_minor": 0
            },
            "text/plain": [
              "  0%|          | 0/22 [00:00<?, ?it/s]"
            ]
          },
          "metadata": {},
          "output_type": "display_data"
        },
        {
          "name": "stdout",
          "output_type": "stream",
          "text": [
            "[12] validation loss,  validation accuracy: 67.454, 0.5469897209985316. train loss, train accuracy: 281.323, 0.9509714590108781\n"
          ]
        },
        {
          "data": {
            "application/vnd.jupyter.widget-view+json": {
              "model_id": "8b01d88419584ec4a1085ddf1c66533c",
              "version_major": 2,
              "version_minor": 0
            },
            "text/plain": [
              "  0%|          | 0/2230 [00:00<?, ?it/s]"
            ]
          },
          "metadata": {},
          "output_type": "display_data"
        },
        {
          "data": {
            "application/vnd.jupyter.widget-view+json": {
              "model_id": "148b77e936264622a2f36c00c54607d5",
              "version_major": 2,
              "version_minor": 0
            },
            "text/plain": [
              "  0%|          | 0/22 [00:00<?, ?it/s]"
            ]
          },
          "metadata": {},
          "output_type": "display_data"
        },
        {
          "name": "stdout",
          "output_type": "stream",
          "text": [
            "[13] validation loss,  validation accuracy: 72.380, 0.527165932452276. train loss, train accuracy: 254.484, 0.9573777615790064\n"
          ]
        },
        {
          "data": {
            "application/vnd.jupyter.widget-view+json": {
              "model_id": "3c78fb5367484335aa308eaa0fb1fa10",
              "version_major": 2,
              "version_minor": 0
            },
            "text/plain": [
              "  0%|          | 0/2230 [00:00<?, ?it/s]"
            ]
          },
          "metadata": {},
          "output_type": "display_data"
        },
        {
          "data": {
            "application/vnd.jupyter.widget-view+json": {
              "model_id": "dd9f6e8dbd3c46debec24bcab847dd52",
              "version_major": 2,
              "version_minor": 0
            },
            "text/plain": [
              "  0%|          | 0/22 [00:00<?, ?it/s]"
            ]
          },
          "metadata": {},
          "output_type": "display_data"
        },
        {
          "name": "stdout",
          "output_type": "stream",
          "text": [
            "[14] validation loss,  validation accuracy: 76.807, 0.5389133627019089. train loss, train accuracy: 231.008, 0.960573903779298\n"
          ]
        },
        {
          "data": {
            "application/vnd.jupyter.widget-view+json": {
              "model_id": "2acae14b0afc46bb92568ba8f23c5906",
              "version_major": 2,
              "version_minor": 0
            },
            "text/plain": [
              "  0%|          | 0/2230 [00:00<?, ?it/s]"
            ]
          },
          "metadata": {},
          "output_type": "display_data"
        },
        {
          "data": {
            "application/vnd.jupyter.widget-view+json": {
              "model_id": "70b82400e4b74e9f9eb17bb827f581fc",
              "version_major": 2,
              "version_minor": 0
            },
            "text/plain": [
              "  0%|          | 0/22 [00:00<?, ?it/s]"
            ]
          },
          "metadata": {},
          "output_type": "display_data"
        },
        {
          "name": "stdout",
          "output_type": "stream",
          "text": [
            "[15] validation loss,  validation accuracy: 74.881, 0.526431718061674. train loss, train accuracy: 211.611, 0.9646321632836156\n"
          ]
        },
        {
          "data": {
            "application/vnd.jupyter.widget-view+json": {
              "model_id": "21aa99c09bc44c9b97677c705e5a5f94",
              "version_major": 2,
              "version_minor": 0
            },
            "text/plain": [
              "  0%|          | 0/2230 [00:00<?, ?it/s]"
            ]
          },
          "metadata": {},
          "output_type": "display_data"
        },
        {
          "data": {
            "application/vnd.jupyter.widget-view+json": {
              "model_id": "957f59908b6f498b98396890d0ee5a83",
              "version_major": 2,
              "version_minor": 0
            },
            "text/plain": [
              "  0%|          | 0/22 [00:00<?, ?it/s]"
            ]
          },
          "metadata": {},
          "output_type": "display_data"
        },
        {
          "name": "stdout",
          "output_type": "stream",
          "text": [
            "[16] validation loss,  validation accuracy: 84.138, 0.5374449339207048. train loss, train accuracy: 198.164, 0.9671133789391051\n"
          ]
        },
        {
          "data": {
            "application/vnd.jupyter.widget-view+json": {
              "model_id": "500ca88aa86f4c3ba9c7e248da3eb760",
              "version_major": 2,
              "version_minor": 0
            },
            "text/plain": [
              "  0%|          | 0/2230 [00:00<?, ?it/s]"
            ]
          },
          "metadata": {},
          "output_type": "display_data"
        },
        {
          "data": {
            "application/vnd.jupyter.widget-view+json": {
              "model_id": "907a7c61ef5a4fa38813e1572ae79cf9",
              "version_major": 2,
              "version_minor": 0
            },
            "text/plain": [
              "  0%|          | 0/22 [00:00<?, ?it/s]"
            ]
          },
          "metadata": {},
          "output_type": "display_data"
        },
        {
          "name": "stdout",
          "output_type": "stream",
          "text": [
            "[17] validation loss,  validation accuracy: 89.798, 0.5227606461086637. train loss, train accuracy: 184.082, 0.969538521924414\n"
          ]
        },
        {
          "data": {
            "application/vnd.jupyter.widget-view+json": {
              "model_id": "c5edcc6afcc74bb6860034f6c4270024",
              "version_major": 2,
              "version_minor": 0
            },
            "text/plain": [
              "  0%|          | 0/2230 [00:00<?, ?it/s]"
            ]
          },
          "metadata": {},
          "output_type": "display_data"
        },
        {
          "data": {
            "application/vnd.jupyter.widget-view+json": {
              "model_id": "3e2672562c4041fcacfcfe966f06d541",
              "version_major": 2,
              "version_minor": 0
            },
            "text/plain": [
              "  0%|          | 0/22 [00:00<?, ?it/s]"
            ]
          },
          "metadata": {},
          "output_type": "display_data"
        },
        {
          "name": "stdout",
          "output_type": "stream",
          "text": [
            "[18] validation loss,  validation accuracy: 89.443, 0.5447870778267254. train loss, train accuracy: 174.304, 0.971101547605697\n"
          ]
        },
        {
          "data": {
            "application/vnd.jupyter.widget-view+json": {
              "model_id": "d26e76d7101545d492b87dc75556b99c",
              "version_major": 2,
              "version_minor": 0
            },
            "text/plain": [
              "  0%|          | 0/2230 [00:00<?, ?it/s]"
            ]
          },
          "metadata": {},
          "output_type": "display_data"
        },
        {
          "data": {
            "application/vnd.jupyter.widget-view+json": {
              "model_id": "8d33cefd08b54e6ab74903cd39ede7e2",
              "version_major": 2,
              "version_minor": 0
            },
            "text/plain": [
              "  0%|          | 0/22 [00:00<?, ?it/s]"
            ]
          },
          "metadata": {},
          "output_type": "display_data"
        },
        {
          "name": "stdout",
          "output_type": "stream",
          "text": [
            "[19] validation loss,  validation accuracy: 86.154, 0.539647577092511. train loss, train accuracy: 164.171, 0.9731482000672872\n"
          ]
        },
        {
          "data": {
            "application/vnd.jupyter.widget-view+json": {
              "model_id": "95804cef2d2b4913abb400124ce9ca6d",
              "version_major": 2,
              "version_minor": 0
            },
            "text/plain": [
              "  0%|          | 0/2230 [00:00<?, ?it/s]"
            ]
          },
          "metadata": {},
          "output_type": "display_data"
        },
        {
          "data": {
            "application/vnd.jupyter.widget-view+json": {
              "model_id": "99bd04afd1394e33ae64702bac2f4112",
              "version_major": 2,
              "version_minor": 0
            },
            "text/plain": [
              "  0%|          | 0/22 [00:00<?, ?it/s]"
            ]
          },
          "metadata": {},
          "output_type": "display_data"
        },
        {
          "name": "stdout",
          "output_type": "stream",
          "text": [
            "[20] validation loss,  validation accuracy: 88.398, 0.5359765051395007. train loss, train accuracy: 157.094, 0.9745780531568913\n"
          ]
        },
        {
          "data": {
            "application/vnd.jupyter.widget-view+json": {
              "model_id": "df3b4fb646f14f4c9eb594ac7d227a34",
              "version_major": 2,
              "version_minor": 0
            },
            "text/plain": [
              "  0%|          | 0/2230 [00:00<?, ?it/s]"
            ]
          },
          "metadata": {},
          "output_type": "display_data"
        },
        {
          "data": {
            "application/vnd.jupyter.widget-view+json": {
              "model_id": "cbcf64f2aad944a292d63268e2abacec",
              "version_major": 2,
              "version_minor": 0
            },
            "text/plain": [
              "  0%|          | 0/22 [00:00<?, ?it/s]"
            ]
          },
          "metadata": {},
          "output_type": "display_data"
        },
        {
          "name": "stdout",
          "output_type": "stream",
          "text": [
            "[21] validation loss,  validation accuracy: 89.487, 0.5242290748898678. train loss, train accuracy: 146.221, 0.9761901424245822\n"
          ]
        },
        {
          "data": {
            "application/vnd.jupyter.widget-view+json": {
              "model_id": "f701fb3bc2d4475d8e20fe43a8c10144",
              "version_major": 2,
              "version_minor": 0
            },
            "text/plain": [
              "  0%|          | 0/2230 [00:00<?, ?it/s]"
            ]
          },
          "metadata": {},
          "output_type": "display_data"
        },
        {
          "data": {
            "application/vnd.jupyter.widget-view+json": {
              "model_id": "294a12187eb34e33998c5957128ecea7",
              "version_major": 2,
              "version_minor": 0
            },
            "text/plain": [
              "  0%|          | 0/22 [00:00<?, ?it/s]"
            ]
          },
          "metadata": {},
          "output_type": "display_data"
        },
        {
          "name": "stdout",
          "output_type": "stream",
          "text": [
            "[22] validation loss,  validation accuracy: 95.324, 0.5330396475770925. train loss, train accuracy: 142.038, 0.9774657956711899\n"
          ]
        },
        {
          "data": {
            "application/vnd.jupyter.widget-view+json": {
              "model_id": "4642e1442773442ca370492a2d68a717",
              "version_major": 2,
              "version_minor": 0
            },
            "text/plain": [
              "  0%|          | 0/2230 [00:00<?, ?it/s]"
            ]
          },
          "metadata": {},
          "output_type": "display_data"
        },
        {
          "data": {
            "application/vnd.jupyter.widget-view+json": {
              "model_id": "6e398c7e41a04a6da5bab4f74ca4f7a6",
              "version_major": 2,
              "version_minor": 0
            },
            "text/plain": [
              "  0%|          | 0/22 [00:00<?, ?it/s]"
            ]
          },
          "metadata": {},
          "output_type": "display_data"
        },
        {
          "name": "stdout",
          "output_type": "stream",
          "text": [
            "[23] validation loss,  validation accuracy: 92.768, 0.5308370044052864. train loss, train accuracy: 132.332, 0.978587249074801\n"
          ]
        },
        {
          "data": {
            "application/vnd.jupyter.widget-view+json": {
              "model_id": "2b3e9849720b4fa6861b997ef74b4409",
              "version_major": 2,
              "version_minor": 0
            },
            "text/plain": [
              "  0%|          | 0/2230 [00:00<?, ?it/s]"
            ]
          },
          "metadata": {},
          "output_type": "display_data"
        },
        {
          "data": {
            "application/vnd.jupyter.widget-view+json": {
              "model_id": "3345a70983954d13adf0cc5d110c2891",
              "version_major": 2,
              "version_minor": 0
            },
            "text/plain": [
              "  0%|          | 0/22 [00:00<?, ?it/s]"
            ]
          },
          "metadata": {},
          "output_type": "display_data"
        },
        {
          "name": "stdout",
          "output_type": "stream",
          "text": [
            "[24] validation loss,  validation accuracy: 101.945, 0.5279001468428781. train loss, train accuracy: 122.441, 0.9806128742850735\n"
          ]
        },
        {
          "data": {
            "application/vnd.jupyter.widget-view+json": {
              "model_id": "750ed481ed17461986eae4749e3bf5d4",
              "version_major": 2,
              "version_minor": 0
            },
            "text/plain": [
              "  0%|          | 0/2230 [00:00<?, ?it/s]"
            ]
          },
          "metadata": {},
          "output_type": "display_data"
        },
        {
          "data": {
            "application/vnd.jupyter.widget-view+json": {
              "model_id": "e1b6a40aa96c4ee6b638090ec8c26038",
              "version_major": 2,
              "version_minor": 0
            },
            "text/plain": [
              "  0%|          | 0/22 [00:00<?, ?it/s]"
            ]
          },
          "metadata": {},
          "output_type": "display_data"
        },
        {
          "name": "stdout",
          "output_type": "stream",
          "text": [
            "[25] validation loss,  validation accuracy: 102.954, 0.5308370044052864. train loss, train accuracy: 120.600, 0.9810824828978356\n"
          ]
        },
        {
          "data": {
            "application/vnd.jupyter.widget-view+json": {
              "model_id": "2181853db8ec40c99cbed366747c2669",
              "version_major": 2,
              "version_minor": 0
            },
            "text/plain": [
              "  0%|          | 0/2230 [00:00<?, ?it/s]"
            ]
          },
          "metadata": {},
          "output_type": "display_data"
        },
        {
          "data": {
            "application/vnd.jupyter.widget-view+json": {
              "model_id": "0e906dbcf0b141918722da17d4a99333",
              "version_major": 2,
              "version_minor": 0
            },
            "text/plain": [
              "  0%|          | 0/22 [00:00<?, ?it/s]"
            ]
          },
          "metadata": {},
          "output_type": "display_data"
        },
        {
          "name": "stdout",
          "output_type": "stream",
          "text": [
            "[26] validation loss,  validation accuracy: 95.701, 0.5418502202643172. train loss, train accuracy: 123.233, 0.9805357743635752\n"
          ]
        },
        {
          "data": {
            "application/vnd.jupyter.widget-view+json": {
              "model_id": "7f3388a5d11b4f7d851399eb4f36924a",
              "version_major": 2,
              "version_minor": 0
            },
            "text/plain": [
              "  0%|          | 0/2230 [00:00<?, ?it/s]"
            ]
          },
          "metadata": {},
          "output_type": "display_data"
        },
        {
          "data": {
            "application/vnd.jupyter.widget-view+json": {
              "model_id": "ce573e94016444c78e3eb664635f866b",
              "version_major": 2,
              "version_minor": 0
            },
            "text/plain": [
              "  0%|          | 0/22 [00:00<?, ?it/s]"
            ]
          },
          "metadata": {},
          "output_type": "display_data"
        },
        {
          "name": "stdout",
          "output_type": "stream",
          "text": [
            "[27] validation loss,  validation accuracy: 100.756, 0.5389133627019089. train loss, train accuracy: 116.066, 0.9817273186049119\n"
          ]
        },
        {
          "data": {
            "application/vnd.jupyter.widget-view+json": {
              "model_id": "146adc92069048bd8f5e95126d1c1397",
              "version_major": 2,
              "version_minor": 0
            },
            "text/plain": [
              "  0%|          | 0/2230 [00:00<?, ?it/s]"
            ]
          },
          "metadata": {},
          "output_type": "display_data"
        },
        {
          "data": {
            "application/vnd.jupyter.widget-view+json": {
              "model_id": "a5e72b82c4a047da859245051e53d98a",
              "version_major": 2,
              "version_minor": 0
            },
            "text/plain": [
              "  0%|          | 0/22 [00:00<?, ?it/s]"
            ]
          },
          "metadata": {},
          "output_type": "display_data"
        },
        {
          "name": "stdout",
          "output_type": "stream",
          "text": [
            "[28] validation loss,  validation accuracy: 101.610, 0.5447870778267254. train loss, train accuracy: 110.908, 0.982834753840978\n"
          ]
        },
        {
          "data": {
            "application/vnd.jupyter.widget-view+json": {
              "model_id": "8bfa9eaeb2ef4df99c6a9f9b8b79936a",
              "version_major": 2,
              "version_minor": 0
            },
            "text/plain": [
              "  0%|          | 0/2230 [00:00<?, ?it/s]"
            ]
          },
          "metadata": {},
          "output_type": "display_data"
        },
        {
          "data": {
            "application/vnd.jupyter.widget-view+json": {
              "model_id": "0990660745ca453e8d6efa9e607c98aa",
              "version_major": 2,
              "version_minor": 0
            },
            "text/plain": [
              "  0%|          | 0/22 [00:00<?, ?it/s]"
            ]
          },
          "metadata": {},
          "output_type": "display_data"
        },
        {
          "name": "stdout",
          "output_type": "stream",
          "text": [
            "[29] validation loss,  validation accuracy: 108.647, 0.5433186490455213. train loss, train accuracy: 97.877, 0.984411797689806\n"
          ]
        },
        {
          "data": {
            "application/vnd.jupyter.widget-view+json": {
              "model_id": "2ec8cd0d6c544dc3bf9281f40e1efd08",
              "version_major": 2,
              "version_minor": 0
            },
            "text/plain": [
              "  0%|          | 0/2230 [00:00<?, ?it/s]"
            ]
          },
          "metadata": {},
          "output_type": "display_data"
        },
        {
          "data": {
            "application/vnd.jupyter.widget-view+json": {
              "model_id": "9dfa5864c92947eabc9a17ad60e8c0c1",
              "version_major": 2,
              "version_minor": 0
            },
            "text/plain": [
              "  0%|          | 0/22 [00:00<?, ?it/s]"
            ]
          },
          "metadata": {},
          "output_type": "display_data"
        },
        {
          "name": "stdout",
          "output_type": "stream",
          "text": [
            "[30] validation loss,  validation accuracy: 109.550, 0.5220264317180616. train loss, train accuracy: 99.202, 0.9842786250981271\n"
          ]
        },
        {
          "data": {
            "application/vnd.jupyter.widget-view+json": {
              "model_id": "484140d8f0224d858460a1940946fef3",
              "version_major": 2,
              "version_minor": 0
            },
            "text/plain": [
              "  0%|          | 0/2230 [00:00<?, ?it/s]"
            ]
          },
          "metadata": {},
          "output_type": "display_data"
        },
        {
          "data": {
            "application/vnd.jupyter.widget-view+json": {
              "model_id": "a3d3a38d9ab54d8fa45b66d639dbce93",
              "version_major": 2,
              "version_minor": 0
            },
            "text/plain": [
              "  0%|          | 0/22 [00:00<?, ?it/s]"
            ]
          },
          "metadata": {},
          "output_type": "display_data"
        },
        {
          "name": "stdout",
          "output_type": "stream",
          "text": [
            "[31] validation loss,  validation accuracy: 110.009, 0.5154185022026432. train loss, train accuracy: 97.855, 0.9850916788157452\n"
          ]
        },
        {
          "data": {
            "application/vnd.jupyter.widget-view+json": {
              "model_id": "9299abea99fc419e866a01d1a832e65e",
              "version_major": 2,
              "version_minor": 0
            },
            "text/plain": [
              "  0%|          | 0/2230 [00:00<?, ?it/s]"
            ]
          },
          "metadata": {},
          "output_type": "display_data"
        },
        {
          "data": {
            "application/vnd.jupyter.widget-view+json": {
              "model_id": "8cad8c856d5a4461a214648b8868219f",
              "version_major": 2,
              "version_minor": 0
            },
            "text/plain": [
              "  0%|          | 0/22 [00:00<?, ?it/s]"
            ]
          },
          "metadata": {},
          "output_type": "display_data"
        },
        {
          "name": "stdout",
          "output_type": "stream",
          "text": [
            "[32] validation loss,  validation accuracy: 124.292, 0.5323054331864905. train loss, train accuracy: 92.677, 0.9856383873500056\n"
          ]
        },
        {
          "data": {
            "application/vnd.jupyter.widget-view+json": {
              "model_id": "eda3af6ca6ce427abb70cdb4f05d085b",
              "version_major": 2,
              "version_minor": 0
            },
            "text/plain": [
              "  0%|          | 0/2230 [00:00<?, ?it/s]"
            ]
          },
          "metadata": {},
          "output_type": "display_data"
        },
        {
          "data": {
            "application/vnd.jupyter.widget-view+json": {
              "model_id": "7c45b63114bd487bae3363c18c13923a",
              "version_major": 2,
              "version_minor": 0
            },
            "text/plain": [
              "  0%|          | 0/22 [00:00<?, ?it/s]"
            ]
          },
          "metadata": {},
          "output_type": "display_data"
        },
        {
          "name": "stdout",
          "output_type": "stream",
          "text": [
            "[33] validation loss,  validation accuracy: 106.620, 0.5411160058737151. train loss, train accuracy: 96.976, 0.98532297858024\n"
          ]
        },
        {
          "data": {
            "application/vnd.jupyter.widget-view+json": {
              "model_id": "b108cb0389bc472da37b48d7475b8a42",
              "version_major": 2,
              "version_minor": 0
            },
            "text/plain": [
              "  0%|          | 0/2230 [00:00<?, ?it/s]"
            ]
          },
          "metadata": {},
          "output_type": "display_data"
        },
        {
          "data": {
            "application/vnd.jupyter.widget-view+json": {
              "model_id": "adb1caa3255b4dbb9a912713ca38faba",
              "version_major": 2,
              "version_minor": 0
            },
            "text/plain": [
              "  0%|          | 0/22 [00:00<?, ?it/s]"
            ]
          },
          "metadata": {},
          "output_type": "display_data"
        },
        {
          "name": "stdout",
          "output_type": "stream",
          "text": [
            "[34] validation loss,  validation accuracy: 109.415, 0.5367107195301027. train loss, train accuracy: 87.813, 0.9867037680834362\n"
          ]
        },
        {
          "data": {
            "application/vnd.jupyter.widget-view+json": {
              "model_id": "8fac8647f39044c1b7f5632f7be42554",
              "version_major": 2,
              "version_minor": 0
            },
            "text/plain": [
              "  0%|          | 0/2230 [00:00<?, ?it/s]"
            ]
          },
          "metadata": {},
          "output_type": "display_data"
        },
        {
          "data": {
            "application/vnd.jupyter.widget-view+json": {
              "model_id": "135989040cac4b0497c71876015bb52d",
              "version_major": 2,
              "version_minor": 0
            },
            "text/plain": [
              "  0%|          | 0/22 [00:00<?, ?it/s]"
            ]
          },
          "metadata": {},
          "output_type": "display_data"
        },
        {
          "name": "stdout",
          "output_type": "stream",
          "text": [
            "[35] validation loss,  validation accuracy: 116.099, 0.5491923641703378. train loss, train accuracy: 87.166, 0.9863813502298979\n"
          ]
        },
        {
          "data": {
            "application/vnd.jupyter.widget-view+json": {
              "model_id": "42f2c440d57c44a0b5efe32728202fb6",
              "version_major": 2,
              "version_minor": 0
            },
            "text/plain": [
              "  0%|          | 0/2230 [00:00<?, ?it/s]"
            ]
          },
          "metadata": {},
          "output_type": "display_data"
        },
        {
          "data": {
            "application/vnd.jupyter.widget-view+json": {
              "model_id": "3810237df13a4a08ba8dea91c81c40e4",
              "version_major": 2,
              "version_minor": 0
            },
            "text/plain": [
              "  0%|          | 0/22 [00:00<?, ?it/s]"
            ]
          },
          "metadata": {},
          "output_type": "display_data"
        },
        {
          "name": "stdout",
          "output_type": "stream",
          "text": [
            "[36] validation loss,  validation accuracy: 113.835, 0.5337738619676946. train loss, train accuracy: 91.513, 0.9865145228215768\n"
          ]
        },
        {
          "data": {
            "application/vnd.jupyter.widget-view+json": {
              "model_id": "47ead968de734fc1b72ecccaa027f996",
              "version_major": 2,
              "version_minor": 0
            },
            "text/plain": [
              "  0%|          | 0/2230 [00:00<?, ?it/s]"
            ]
          },
          "metadata": {},
          "output_type": "display_data"
        },
        {
          "data": {
            "application/vnd.jupyter.widget-view+json": {
              "model_id": "77ef88bf08924682aab3243637a47c39",
              "version_major": 2,
              "version_minor": 0
            },
            "text/plain": [
              "  0%|          | 0/22 [00:00<?, ?it/s]"
            ]
          },
          "metadata": {},
          "output_type": "display_data"
        },
        {
          "name": "stdout",
          "output_type": "stream",
          "text": [
            "[37] validation loss,  validation accuracy: 120.982, 0.5323054331864905. train loss, train accuracy: 86.217, 0.9870612313558371\n"
          ]
        },
        {
          "data": {
            "application/vnd.jupyter.widget-view+json": {
              "model_id": "14f43afde50746d6af49de66f54250c3",
              "version_major": 2,
              "version_minor": 0
            },
            "text/plain": [
              "  0%|          | 0/2230 [00:00<?, ?it/s]"
            ]
          },
          "metadata": {},
          "output_type": "display_data"
        },
        {
          "data": {
            "application/vnd.jupyter.widget-view+json": {
              "model_id": "c7535bb54ab2489a8433ced809b7ea3b",
              "version_major": 2,
              "version_minor": 0
            },
            "text/plain": [
              "  0%|          | 0/22 [00:00<?, ?it/s]"
            ]
          },
          "metadata": {},
          "output_type": "display_data"
        },
        {
          "name": "stdout",
          "output_type": "stream",
          "text": [
            "[38] validation loss,  validation accuracy: 116.229, 0.5301027900146843. train loss, train accuracy: 82.094, 0.9877691488168666\n"
          ]
        },
        {
          "data": {
            "application/vnd.jupyter.widget-view+json": {
              "model_id": "1467c62c40ac46668a91cc7fc7ece205",
              "version_major": 2,
              "version_minor": 0
            },
            "text/plain": [
              "  0%|          | 0/2230 [00:00<?, ?it/s]"
            ]
          },
          "metadata": {},
          "output_type": "display_data"
        },
        {
          "data": {
            "application/vnd.jupyter.widget-view+json": {
              "model_id": "713917bf3cbf4e18850e7ca2bc77d668",
              "version_major": 2,
              "version_minor": 0
            },
            "text/plain": [
              "  0%|          | 0/22 [00:00<?, ?it/s]"
            ]
          },
          "metadata": {},
          "output_type": "display_data"
        },
        {
          "name": "stdout",
          "output_type": "stream",
          "text": [
            "[39] validation loss,  validation accuracy: 115.391, 0.5381791483113069. train loss, train accuracy: 79.580, 0.9881406302568129\n"
          ]
        },
        {
          "data": {
            "application/vnd.jupyter.widget-view+json": {
              "model_id": "9182ccd4d19a41c59adc012078a6798a",
              "version_major": 2,
              "version_minor": 0
            },
            "text/plain": [
              "  0%|          | 0/2230 [00:00<?, ?it/s]"
            ]
          },
          "metadata": {},
          "output_type": "display_data"
        },
        {
          "data": {
            "application/vnd.jupyter.widget-view+json": {
              "model_id": "a7d9b82b480b49d3a0147891f48ebb39",
              "version_major": 2,
              "version_minor": 0
            },
            "text/plain": [
              "  0%|          | 0/22 [00:00<?, ?it/s]"
            ]
          },
          "metadata": {},
          "output_type": "display_data"
        },
        {
          "name": "stdout",
          "output_type": "stream",
          "text": [
            "[40] validation loss,  validation accuracy: 129.508, 0.5352422907488987. train loss, train accuracy: 80.770, 0.9877691488168666\n"
          ]
        },
        {
          "data": {
            "application/vnd.jupyter.widget-view+json": {
              "model_id": "912078316b5748c9a3f6e53f81c089e0",
              "version_major": 2,
              "version_minor": 0
            },
            "text/plain": [
              "  0%|          | 0/2230 [00:00<?, ?it/s]"
            ]
          },
          "metadata": {},
          "output_type": "display_data"
        },
        {
          "data": {
            "application/vnd.jupyter.widget-view+json": {
              "model_id": "ec1efaf4effc44939141202dfb4bfe4d",
              "version_major": 2,
              "version_minor": 0
            },
            "text/plain": [
              "  0%|          | 0/22 [00:00<?, ?it/s]"
            ]
          },
          "metadata": {},
          "output_type": "display_data"
        },
        {
          "name": "stdout",
          "output_type": "stream",
          "text": [
            "[41] validation loss,  validation accuracy: 136.691, 0.5168869309838473. train loss, train accuracy: 71.817, 0.989374229000785\n"
          ]
        },
        {
          "data": {
            "application/vnd.jupyter.widget-view+json": {
              "model_id": "0d0cf9826f724d63a6a4f681ae8122f4",
              "version_major": 2,
              "version_minor": 0
            },
            "text/plain": [
              "  0%|          | 0/2230 [00:00<?, ?it/s]"
            ]
          },
          "metadata": {},
          "output_type": "display_data"
        },
        {
          "data": {
            "application/vnd.jupyter.widget-view+json": {
              "model_id": "32ff1c958ffb48a8a52277d34f69eb8e",
              "version_major": 2,
              "version_minor": 0
            },
            "text/plain": [
              "  0%|          | 0/22 [00:00<?, ?it/s]"
            ]
          },
          "metadata": {},
          "output_type": "display_data"
        },
        {
          "name": "stdout",
          "output_type": "stream",
          "text": [
            "[42] validation loss,  validation accuracy: 128.683, 0.5337738619676946. train loss, train accuracy: 74.728, 0.9887434114612538\n"
          ]
        },
        {
          "data": {
            "application/vnd.jupyter.widget-view+json": {
              "model_id": "aa1808b203a344d4b652aa712aa86d5a",
              "version_major": 2,
              "version_minor": 0
            },
            "text/plain": [
              "  0%|          | 0/2230 [00:00<?, ?it/s]"
            ]
          },
          "metadata": {},
          "output_type": "display_data"
        },
        {
          "data": {
            "application/vnd.jupyter.widget-view+json": {
              "model_id": "5ebdd3748e03415fb36db6f431772030",
              "version_major": 2,
              "version_minor": 0
            },
            "text/plain": [
              "  0%|          | 0/22 [00:00<?, ?it/s]"
            ]
          },
          "metadata": {},
          "output_type": "display_data"
        },
        {
          "name": "stdout",
          "output_type": "stream",
          "text": [
            "[43] validation loss,  validation accuracy: 128.995, 0.5381791483113069. train loss, train accuracy: 75.921, 0.9886032297858024\n"
          ]
        },
        {
          "data": {
            "application/vnd.jupyter.widget-view+json": {
              "model_id": "34128381263d46d18a38707b137f0971",
              "version_major": 2,
              "version_minor": 0
            },
            "text/plain": [
              "  0%|          | 0/2230 [00:00<?, ?it/s]"
            ]
          },
          "metadata": {},
          "output_type": "display_data"
        },
        {
          "data": {
            "application/vnd.jupyter.widget-view+json": {
              "model_id": "6f938dcb800943bdbf31f2653f1c2159",
              "version_major": 2,
              "version_minor": 0
            },
            "text/plain": [
              "  0%|          | 0/22 [00:00<?, ?it/s]"
            ]
          },
          "metadata": {},
          "output_type": "display_data"
        },
        {
          "name": "stdout",
          "output_type": "stream",
          "text": [
            "[44] validation loss,  validation accuracy: 134.704, 0.5242290748898678. train loss, train accuracy: 74.527, 0.9890518111472468\n"
          ]
        },
        {
          "data": {
            "application/vnd.jupyter.widget-view+json": {
              "model_id": "53c2a1f7da23442e885df95ab251e679",
              "version_major": 2,
              "version_minor": 0
            },
            "text/plain": [
              "  0%|          | 0/2230 [00:00<?, ?it/s]"
            ]
          },
          "metadata": {},
          "output_type": "display_data"
        },
        {
          "data": {
            "application/vnd.jupyter.widget-view+json": {
              "model_id": "b804ea1989074e128abbb913a05f2e59",
              "version_major": 2,
              "version_minor": 0
            },
            "text/plain": [
              "  0%|          | 0/22 [00:00<?, ?it/s]"
            ]
          },
          "metadata": {},
          "output_type": "display_data"
        },
        {
          "name": "stdout",
          "output_type": "stream",
          "text": [
            "[45] validation loss,  validation accuracy: 139.990, 0.5389133627019089. train loss, train accuracy: 70.095, 0.9895634742626443\n"
          ]
        },
        {
          "data": {
            "application/vnd.jupyter.widget-view+json": {
              "model_id": "4f05c56918a147aea14ecbeee3819e04",
              "version_major": 2,
              "version_minor": 0
            },
            "text/plain": [
              "  0%|          | 0/2230 [00:00<?, ?it/s]"
            ]
          },
          "metadata": {},
          "output_type": "display_data"
        },
        {
          "data": {
            "application/vnd.jupyter.widget-view+json": {
              "model_id": "23cf28f5e8c448a892b816a043feb41f",
              "version_major": 2,
              "version_minor": 0
            },
            "text/plain": [
              "  0%|          | 0/22 [00:00<?, ?it/s]"
            ]
          },
          "metadata": {},
          "output_type": "display_data"
        },
        {
          "name": "stdout",
          "output_type": "stream",
          "text": [
            "[46] validation loss,  validation accuracy: 123.061, 0.5337738619676946. train loss, train accuracy: 66.521, 0.9900821464618145\n"
          ]
        },
        {
          "data": {
            "application/vnd.jupyter.widget-view+json": {
              "model_id": "c182941113404ad8bb677e27c420f11f",
              "version_major": 2,
              "version_minor": 0
            },
            "text/plain": [
              "  0%|          | 0/2230 [00:00<?, ?it/s]"
            ]
          },
          "metadata": {},
          "output_type": "display_data"
        },
        {
          "data": {
            "application/vnd.jupyter.widget-view+json": {
              "model_id": "45d5169186df4725ae4e4fa0c213fb2b",
              "version_major": 2,
              "version_minor": 0
            },
            "text/plain": [
              "  0%|          | 0/22 [00:00<?, ?it/s]"
            ]
          },
          "metadata": {},
          "output_type": "display_data"
        },
        {
          "name": "stdout",
          "output_type": "stream",
          "text": [
            "[47] validation loss,  validation accuracy: 128.239, 0.5491923641703378. train loss, train accuracy: 70.291, 0.9891078838174274\n"
          ]
        },
        {
          "data": {
            "application/vnd.jupyter.widget-view+json": {
              "model_id": "cf41454fa9a646bdb05e14edddb76203",
              "version_major": 2,
              "version_minor": 0
            },
            "text/plain": [
              "  0%|          | 0/2230 [00:00<?, ?it/s]"
            ]
          },
          "metadata": {},
          "output_type": "display_data"
        },
        {
          "data": {
            "application/vnd.jupyter.widget-view+json": {
              "model_id": "432b3eca986740d686591861a601b375",
              "version_major": 2,
              "version_minor": 0
            },
            "text/plain": [
              "  0%|          | 0/22 [00:00<?, ?it/s]"
            ]
          },
          "metadata": {},
          "output_type": "display_data"
        },
        {
          "name": "stdout",
          "output_type": "stream",
          "text": [
            "[48] validation loss,  validation accuracy: 126.380, 0.5242290748898678. train loss, train accuracy: 64.894, 0.9904115733991252\n"
          ]
        },
        {
          "data": {
            "application/vnd.jupyter.widget-view+json": {
              "model_id": "f3d9f1b04df3468c931d8e643e465aae",
              "version_major": 2,
              "version_minor": 0
            },
            "text/plain": [
              "  0%|          | 0/2230 [00:00<?, ?it/s]"
            ]
          },
          "metadata": {},
          "output_type": "display_data"
        },
        {
          "data": {
            "application/vnd.jupyter.widget-view+json": {
              "model_id": "9f36041a726a408e934029808a47f084",
              "version_major": 2,
              "version_minor": 0
            },
            "text/plain": [
              "  0%|          | 0/22 [00:00<?, ?it/s]"
            ]
          },
          "metadata": {},
          "output_type": "display_data"
        },
        {
          "name": "stdout",
          "output_type": "stream",
          "text": [
            "[49] validation loss,  validation accuracy: 145.799, 0.5154185022026432. train loss, train accuracy: 62.671, 0.9906498822473926\n"
          ]
        },
        {
          "data": {
            "application/vnd.jupyter.widget-view+json": {
              "model_id": "e57896dce9d54e019520f4718d077357",
              "version_major": 2,
              "version_minor": 0
            },
            "text/plain": [
              "  0%|          | 0/2230 [00:00<?, ?it/s]"
            ]
          },
          "metadata": {},
          "output_type": "display_data"
        },
        {
          "data": {
            "application/vnd.jupyter.widget-view+json": {
              "model_id": "5ae30c9c0f6f492481bbee0fd84776f4",
              "version_major": 2,
              "version_minor": 0
            },
            "text/plain": [
              "  0%|          | 0/22 [00:00<?, ?it/s]"
            ]
          },
          "metadata": {},
          "output_type": "display_data"
        },
        {
          "name": "stdout",
          "output_type": "stream",
          "text": [
            "[50] validation loss,  validation accuracy: 152.788, 0.5176211453744494. train loss, train accuracy: 60.730, 0.9909652910171582\n",
            "Finished Training\n"
          ]
        },
        {
          "data": {
            "text/plain": [
              "([1932.2734615504742,\n",
              "  1485.9027992784977,\n",
              "  1201.754179880023,\n",
              "  957.7913580089808,\n",
              "  769.03187828511,\n",
              "  632.7427128739655,\n",
              "  538.0347276208922,\n",
              "  462.3619026597589,\n",
              "  392.0523455962539,\n",
              "  350.47646223567426,\n",
              "  309.56550105288625,\n",
              "  281.3231094516814,\n",
              "  254.48353481851518,\n",
              "  231.00751410675002,\n",
              "  211.61054600554053,\n",
              "  198.16398232150823,\n",
              "  184.08160877099726,\n",
              "  174.30401333910413,\n",
              "  164.17092982085887,\n",
              "  157.09408137912396,\n",
              "  146.22059576865286,\n",
              "  142.03805354540236,\n",
              "  132.33246813050937,\n",
              "  122.44145282619866,\n",
              "  120.60048007121077,\n",
              "  123.23269235951011,\n",
              "  116.06572626158595,\n",
              "  110.90794022992486,\n",
              "  97.87742427295598,\n",
              "  99.20197896767058,\n",
              "  97.85464752907865,\n",
              "  92.67674076875846,\n",
              "  96.97591346810805,\n",
              "  87.81304777106561,\n",
              "  87.16585389270404,\n",
              "  91.51329156395514,\n",
              "  86.21703066193732,\n",
              "  82.09436062077293,\n",
              "  79.58036339502723,\n",
              "  80.77049934549723,\n",
              "  71.81695100515208,\n",
              "  74.7281896044442,\n",
              "  75.92086176415614,\n",
              "  74.52711686423845,\n",
              "  70.0950423211907,\n",
              "  66.52073199856386,\n",
              "  70.2914427916694,\n",
              "  64.89405883783184,\n",
              "  62.6713077400309,\n",
              "  60.72987046754861],\n",
              " [0.5660465963889201,\n",
              "  0.6972566446114163,\n",
              "  0.7626023326230795,\n",
              "  0.8159835146349669,\n",
              "  0.8546035662218234,\n",
              "  0.8825207468879668,\n",
              "  0.9015504093304924,\n",
              "  0.9173418750700908,\n",
              "  0.9312338791073231,\n",
              "  0.9380186721991701,\n",
              "  0.9458898732757653,\n",
              "  0.9509714590108781,\n",
              "  0.9573777615790064,\n",
              "  0.960573903779298,\n",
              "  0.9646321632836156,\n",
              "  0.9671133789391051,\n",
              "  0.969538521924414,\n",
              "  0.971101547605697,\n",
              "  0.9731482000672872,\n",
              "  0.9745780531568913,\n",
              "  0.9761901424245822,\n",
              "  0.9774657956711899,\n",
              "  0.978587249074801,\n",
              "  0.9806128742850735,\n",
              "  0.9810824828978356,\n",
              "  0.9805357743635752,\n",
              "  0.9817273186049119,\n",
              "  0.982834753840978,\n",
              "  0.984411797689806,\n",
              "  0.9842786250981271,\n",
              "  0.9850916788157452,\n",
              "  0.9856383873500056,\n",
              "  0.98532297858024,\n",
              "  0.9867037680834362,\n",
              "  0.9863813502298979,\n",
              "  0.9865145228215768,\n",
              "  0.9870612313558371,\n",
              "  0.9877691488168666,\n",
              "  0.9881406302568129,\n",
              "  0.9877691488168666,\n",
              "  0.989374229000785,\n",
              "  0.9887434114612538,\n",
              "  0.9886032297858024,\n",
              "  0.9890518111472468,\n",
              "  0.9895634742626443,\n",
              "  0.9900821464618145,\n",
              "  0.9891078838174274,\n",
              "  0.9904115733991252,\n",
              "  0.9906498822473926,\n",
              "  0.9909652910171582],\n",
              " [23.439209938049316,\n",
              "  24.01148682832718,\n",
              "  27.26607036590576,\n",
              "  31.436286330223083,\n",
              "  41.46826195716858,\n",
              "  43.79847848415375,\n",
              "  52.59294128417969,\n",
              "  55.445109486579895,\n",
              "  58.85490536689758,\n",
              "  61.46303737163544,\n",
              "  66.6483986377716,\n",
              "  67.45395648479462,\n",
              "  72.38012087345123,\n",
              "  76.80701780319214,\n",
              "  74.88143503665924,\n",
              "  84.13800072669983,\n",
              "  89.79826235771179,\n",
              "  89.44323110580444,\n",
              "  86.15442085266113,\n",
              "  88.397958278656,\n",
              "  89.48664402961731,\n",
              "  95.32384753227234,\n",
              "  92.76813507080078,\n",
              "  101.94488382339478,\n",
              "  102.95392107963562,\n",
              "  95.70123219490051,\n",
              "  100.75635123252869,\n",
              "  101.61044526100159,\n",
              "  108.64658212661743,\n",
              "  109.55028557777405,\n",
              "  110.00880289077759,\n",
              "  124.29247498512268,\n",
              "  106.62047815322876,\n",
              "  109.41457462310791,\n",
              "  116.09933018684387,\n",
              "  113.83470702171326,\n",
              "  120.98231315612793,\n",
              "  116.2290825843811,\n",
              "  115.39148116111755,\n",
              "  129.5077781677246,\n",
              "  136.691153049469,\n",
              "  128.68342995643616,\n",
              "  128.99452543258667,\n",
              "  134.70402479171753,\n",
              "  139.98973059654236,\n",
              "  123.0607979297638,\n",
              "  128.23880672454834,\n",
              "  126.3796739578247,\n",
              "  145.7988634109497,\n",
              "  152.78800439834595],\n",
              " [0.49045521292217326,\n",
              "  0.5139500734214391,\n",
              "  0.5051395007342144,\n",
              "  0.5227606461086637,\n",
              "  0.5058737151248165,\n",
              "  0.5308370044052864,\n",
              "  0.5095447870778267,\n",
              "  0.5315712187958884,\n",
              "  0.5176211453744494,\n",
              "  0.5249632892804699,\n",
              "  0.5183553597650514,\n",
              "  0.5469897209985316,\n",
              "  0.527165932452276,\n",
              "  0.5389133627019089,\n",
              "  0.526431718061674,\n",
              "  0.5374449339207048,\n",
              "  0.5227606461086637,\n",
              "  0.5447870778267254,\n",
              "  0.539647577092511,\n",
              "  0.5359765051395007,\n",
              "  0.5242290748898678,\n",
              "  0.5330396475770925,\n",
              "  0.5308370044052864,\n",
              "  0.5279001468428781,\n",
              "  0.5308370044052864,\n",
              "  0.5418502202643172,\n",
              "  0.5389133627019089,\n",
              "  0.5447870778267254,\n",
              "  0.5433186490455213,\n",
              "  0.5220264317180616,\n",
              "  0.5154185022026432,\n",
              "  0.5323054331864905,\n",
              "  0.5411160058737151,\n",
              "  0.5367107195301027,\n",
              "  0.5491923641703378,\n",
              "  0.5337738619676946,\n",
              "  0.5323054331864905,\n",
              "  0.5301027900146843,\n",
              "  0.5381791483113069,\n",
              "  0.5352422907488987,\n",
              "  0.5168869309838473,\n",
              "  0.5337738619676946,\n",
              "  0.5381791483113069,\n",
              "  0.5242290748898678,\n",
              "  0.5389133627019089,\n",
              "  0.5337738619676946,\n",
              "  0.5491923641703378,\n",
              "  0.5242290748898678,\n",
              "  0.5154185022026432,\n",
              "  0.5176211453744494])"
            ]
          },
          "execution_count": 54,
          "metadata": {},
          "output_type": "execute_result"
        }
      ],
      "source": [
        "# Batch size 64, learning rate 0.001\n",
        "\n",
        "net12 = build_2d_net(\"mspec\")\n",
        "\n",
        "net12 = train_model(net12, \"mspec\", epochs=50) # Again only the first 20 epochs were analysed."
      ]
    },
    {
      "cell_type": "markdown",
      "source": [
        "#### Batch Size 128"
      ],
      "metadata": {
        "id": "Xu3yXGChFlH3"
      }
    },
    {
      "cell_type": "code",
      "source": [
        "# Batching\n",
        "dataloader = DataLoader(dataset, batch_size=128)"
      ],
      "metadata": {
        "id": "_aFPgrVivcj5"
      },
      "execution_count": null,
      "outputs": []
    },
    {
      "cell_type": "code",
      "execution_count": null,
      "metadata": {
        "colab": {
          "referenced_widgets": [
            "3cbecb126b4c44f287212f1f7da7a38e",
            "fb00618332a74d19983acdc6dd67a9ee",
            "09b5a42e6d7a4980aa3715bab394e987",
            "83e72dbd46904614b464d2c40e193a0e",
            "72701b3a9808471083850e04c5f0cf33",
            "7cbe08664f4b48fbb0c685576e3c7d8b",
            "093c6ddfe7ed4ad38010abeab5d0f4d8",
            "63cba91209424bbf97c72bb9d7f06728",
            "57eefe23f08c4099ab9abd51b9f44a56",
            "b5fd4dad4ff94324a417f162eacbe68c",
            "3fdf6153ca58453cb20ce1c4daec0b04",
            "ecdd151b08cb42fca2281e9b43987573",
            "542238f4609e49e3b889a84e288586d4",
            "1aeea78b92f94427a6a493514adad2cb",
            "acb80124b8cf402296208eb8c9c9abad",
            "b8cce8f8136c48299f3079c0db4f084c",
            "907fbdb211e04ddbad1dcec140a13b48",
            "88e5b0fb86354301aa93486cd507ac26",
            "25cc2908fa434bae8f533835d069a309",
            "81a155479abf495ca823fc29df5db8b2",
            "122f69554433443f9a9227f7503322c3",
            "b631ff14894644518774b4c247f5100e",
            "3acc5859201f4617a3d0ec48e12ea196",
            "bd8928358b2547b2ad96cfd3d213391e",
            "29e1987f7aeb46c7b0596a6c483ecebd",
            "13fc3bf465a74ca689141a64d254400c",
            "6f9d48ac815142c597d582b198c73597",
            "e9ff540c306a4370b1b58c06753dcc7b",
            "95273707e61240d9ad1fef4c3c296a61",
            "79a058d70d5c4ad38cfa78d473de739e",
            "357cce0aa1134a97bc9d32bf9846f2c3",
            "51d3371f0b504626af4b55d1c0e7d18f",
            "3345f021d3154910be9751bbde695e7c",
            "cd26e351f41548ff85a0a3157a6b14c5",
            "2a877ef0f32444c2b32b680bfc14116b",
            "b5bcb77053f64b65bd49d4bdcc749609",
            "89fd25b6779541de86175807beed2ea2",
            "cf0c2b5a2d7f4e679239daf0e03810f7",
            "f54f3dbe4bd04869989ae7cbe621e365",
            "b6cdb47d1b49485ca9f08db8344814fd"
          ]
        },
        "id": "6YpGdkQF6FML",
        "outputId": "b1c62c40-861a-438d-e922-69d53e517581"
      },
      "outputs": [
        {
          "data": {
            "application/vnd.jupyter.widget-view+json": {
              "model_id": "3cbecb126b4c44f287212f1f7da7a38e",
              "version_major": 2,
              "version_minor": 0
            },
            "text/plain": [
              "  0%|          | 0/1115 [00:00<?, ?it/s]"
            ]
          },
          "metadata": {},
          "output_type": "display_data"
        },
        {
          "data": {
            "application/vnd.jupyter.widget-view+json": {
              "model_id": "fb00618332a74d19983acdc6dd67a9ee",
              "version_major": 2,
              "version_minor": 0
            },
            "text/plain": [
              "  0%|          | 0/22 [00:00<?, ?it/s]"
            ]
          },
          "metadata": {},
          "output_type": "display_data"
        },
        {
          "name": "stdout",
          "output_type": "stream",
          "text": [
            "[1] validation loss,  validation accuracy: 22.689, 0.48091042584434657. train loss, train accuracy: 974.372, 0.5640209711786476\n"
          ]
        },
        {
          "data": {
            "application/vnd.jupyter.widget-view+json": {
              "model_id": "09b5a42e6d7a4980aa3715bab394e987",
              "version_major": 2,
              "version_minor": 0
            },
            "text/plain": [
              "  0%|          | 0/1115 [00:00<?, ?it/s]"
            ]
          },
          "metadata": {},
          "output_type": "display_data"
        },
        {
          "data": {
            "application/vnd.jupyter.widget-view+json": {
              "model_id": "83e72dbd46904614b464d2c40e193a0e",
              "version_major": 2,
              "version_minor": 0
            },
            "text/plain": [
              "  0%|          | 0/22 [00:00<?, ?it/s]"
            ]
          },
          "metadata": {},
          "output_type": "display_data"
        },
        {
          "name": "stdout",
          "output_type": "stream",
          "text": [
            "[2] validation loss,  validation accuracy: 23.870, 0.5124816446402349. train loss, train accuracy: 757.230, 0.6892382527755971\n"
          ]
        },
        {
          "data": {
            "application/vnd.jupyter.widget-view+json": {
              "model_id": "72701b3a9808471083850e04c5f0cf33",
              "version_major": 2,
              "version_minor": 0
            },
            "text/plain": [
              "  0%|          | 0/1115 [00:00<?, ?it/s]"
            ]
          },
          "metadata": {},
          "output_type": "display_data"
        },
        {
          "data": {
            "application/vnd.jupyter.widget-view+json": {
              "model_id": "7cbe08664f4b48fbb0c685576e3c7d8b",
              "version_major": 2,
              "version_minor": 0
            },
            "text/plain": [
              "  0%|          | 0/22 [00:00<?, ?it/s]"
            ]
          },
          "metadata": {},
          "output_type": "display_data"
        },
        {
          "name": "stdout",
          "output_type": "stream",
          "text": [
            "[3] validation loss,  validation accuracy: 26.368, 0.5411160058737151. train loss, train accuracy: 623.935, 0.749137882695974\n"
          ]
        },
        {
          "data": {
            "application/vnd.jupyter.widget-view+json": {
              "model_id": "093c6ddfe7ed4ad38010abeab5d0f4d8",
              "version_major": 2,
              "version_minor": 0
            },
            "text/plain": [
              "  0%|          | 0/1115 [00:00<?, ?it/s]"
            ]
          },
          "metadata": {},
          "output_type": "display_data"
        },
        {
          "data": {
            "application/vnd.jupyter.widget-view+json": {
              "model_id": "63cba91209424bbf97c72bb9d7f06728",
              "version_major": 2,
              "version_minor": 0
            },
            "text/plain": [
              "  0%|          | 0/22 [00:00<?, ?it/s]"
            ]
          },
          "metadata": {},
          "output_type": "display_data"
        },
        {
          "name": "stdout",
          "output_type": "stream",
          "text": [
            "[4] validation loss,  validation accuracy: 29.516, 0.5330396475770925. train loss, train accuracy: 505.961, 0.7992598407536167\n"
          ]
        },
        {
          "data": {
            "application/vnd.jupyter.widget-view+json": {
              "model_id": "57eefe23f08c4099ab9abd51b9f44a56",
              "version_major": 2,
              "version_minor": 0
            },
            "text/plain": [
              "  0%|          | 0/1115 [00:00<?, ?it/s]"
            ]
          },
          "metadata": {},
          "output_type": "display_data"
        },
        {
          "data": {
            "application/vnd.jupyter.widget-view+json": {
              "model_id": "b5fd4dad4ff94324a417f162eacbe68c",
              "version_major": 2,
              "version_minor": 0
            },
            "text/plain": [
              "  0%|          | 0/22 [00:00<?, ?it/s]"
            ]
          },
          "metadata": {},
          "output_type": "display_data"
        },
        {
          "name": "stdout",
          "output_type": "stream",
          "text": [
            "[5] validation loss,  validation accuracy: 33.852, 0.5499265785609398. train loss, train accuracy: 407.210, 0.8406975440170461\n"
          ]
        },
        {
          "data": {
            "application/vnd.jupyter.widget-view+json": {
              "model_id": "3fdf6153ca58453cb20ce1c4daec0b04",
              "version_major": 2,
              "version_minor": 0
            },
            "text/plain": [
              "  0%|          | 0/1115 [00:00<?, ?it/s]"
            ]
          },
          "metadata": {},
          "output_type": "display_data"
        },
        {
          "data": {
            "application/vnd.jupyter.widget-view+json": {
              "model_id": "ecdd151b08cb42fca2281e9b43987573",
              "version_major": 2,
              "version_minor": 0
            },
            "text/plain": [
              "  0%|          | 0/22 [00:00<?, ?it/s]"
            ]
          },
          "metadata": {},
          "output_type": "display_data"
        },
        {
          "name": "stdout",
          "output_type": "stream",
          "text": [
            "[6] validation loss,  validation accuracy: 42.303, 0.5161527165932452. train loss, train accuracy: 333.462, 0.8721963664909723\n"
          ]
        },
        {
          "data": {
            "application/vnd.jupyter.widget-view+json": {
              "model_id": "542238f4609e49e3b889a84e288586d4",
              "version_major": 2,
              "version_minor": 0
            },
            "text/plain": [
              "  0%|          | 0/1115 [00:00<?, ?it/s]"
            ]
          },
          "metadata": {},
          "output_type": "display_data"
        },
        {
          "data": {
            "application/vnd.jupyter.widget-view+json": {
              "model_id": "1aeea78b92f94427a6a493514adad2cb",
              "version_major": 2,
              "version_minor": 0
            },
            "text/plain": [
              "  0%|          | 0/22 [00:00<?, ?it/s]"
            ]
          },
          "metadata": {},
          "output_type": "display_data"
        },
        {
          "name": "stdout",
          "output_type": "stream",
          "text": [
            "[7] validation loss,  validation accuracy: 46.812, 0.5168869309838473. train loss, train accuracy: 279.606, 0.8944081529662442\n"
          ]
        },
        {
          "data": {
            "application/vnd.jupyter.widget-view+json": {
              "model_id": "acb80124b8cf402296208eb8c9c9abad",
              "version_major": 2,
              "version_minor": 0
            },
            "text/plain": [
              "  0%|          | 0/1115 [00:00<?, ?it/s]"
            ]
          },
          "metadata": {},
          "output_type": "display_data"
        },
        {
          "data": {
            "application/vnd.jupyter.widget-view+json": {
              "model_id": "b8cce8f8136c48299f3079c0db4f084c",
              "version_major": 2,
              "version_minor": 0
            },
            "text/plain": [
              "  0%|          | 0/22 [00:00<?, ?it/s]"
            ]
          },
          "metadata": {},
          "output_type": "display_data"
        },
        {
          "name": "stdout",
          "output_type": "stream",
          "text": [
            "[8] validation loss,  validation accuracy: 47.085, 0.540381791483113. train loss, train accuracy: 238.768, 0.9108164180778289\n"
          ]
        },
        {
          "data": {
            "application/vnd.jupyter.widget-view+json": {
              "model_id": "907fbdb211e04ddbad1dcec140a13b48",
              "version_major": 2,
              "version_minor": 0
            },
            "text/plain": [
              "  0%|          | 0/1115 [00:00<?, ?it/s]"
            ]
          },
          "metadata": {},
          "output_type": "display_data"
        },
        {
          "data": {
            "application/vnd.jupyter.widget-view+json": {
              "model_id": "88e5b0fb86354301aa93486cd507ac26",
              "version_major": 2,
              "version_minor": 0
            },
            "text/plain": [
              "  0%|          | 0/22 [00:00<?, ?it/s]"
            ]
          },
          "metadata": {},
          "output_type": "display_data"
        },
        {
          "name": "stdout",
          "output_type": "stream",
          "text": [
            "[9] validation loss,  validation accuracy: 53.646, 0.5323054331864905. train loss, train accuracy: 200.491, 0.926467702141976\n"
          ]
        },
        {
          "data": {
            "application/vnd.jupyter.widget-view+json": {
              "model_id": "25cc2908fa434bae8f533835d069a309",
              "version_major": 2,
              "version_minor": 0
            },
            "text/plain": [
              "  0%|          | 0/1115 [00:00<?, ?it/s]"
            ]
          },
          "metadata": {},
          "output_type": "display_data"
        },
        {
          "data": {
            "application/vnd.jupyter.widget-view+json": {
              "model_id": "81a155479abf495ca823fc29df5db8b2",
              "version_major": 2,
              "version_minor": 0
            },
            "text/plain": [
              "  0%|          | 0/22 [00:00<?, ?it/s]"
            ]
          },
          "metadata": {},
          "output_type": "display_data"
        },
        {
          "name": "stdout",
          "output_type": "stream",
          "text": [
            "[10] validation loss,  validation accuracy: 61.719, 0.5234948604992657. train loss, train accuracy: 175.289, 0.9365467646069305\n"
          ]
        },
        {
          "data": {
            "application/vnd.jupyter.widget-view+json": {
              "model_id": "122f69554433443f9a9227f7503322c3",
              "version_major": 2,
              "version_minor": 0
            },
            "text/plain": [
              "  0%|          | 0/1115 [00:00<?, ?it/s]"
            ]
          },
          "metadata": {},
          "output_type": "display_data"
        },
        {
          "data": {
            "application/vnd.jupyter.widget-view+json": {
              "model_id": "b631ff14894644518774b4c247f5100e",
              "version_major": 2,
              "version_minor": 0
            },
            "text/plain": [
              "  0%|          | 0/22 [00:00<?, ?it/s]"
            ]
          },
          "metadata": {},
          "output_type": "display_data"
        },
        {
          "name": "stdout",
          "output_type": "stream",
          "text": [
            "[11] validation loss,  validation accuracy: 62.678, 0.5587371512481645. train loss, train accuracy: 152.160, 0.9455954917573175\n"
          ]
        },
        {
          "data": {
            "application/vnd.jupyter.widget-view+json": {
              "model_id": "3acc5859201f4617a3d0ec48e12ea196",
              "version_major": 2,
              "version_minor": 0
            },
            "text/plain": [
              "  0%|          | 0/1115 [00:00<?, ?it/s]"
            ]
          },
          "metadata": {},
          "output_type": "display_data"
        },
        {
          "data": {
            "application/vnd.jupyter.widget-view+json": {
              "model_id": "bd8928358b2547b2ad96cfd3d213391e",
              "version_major": 2,
              "version_minor": 0
            },
            "text/plain": [
              "  0%|          | 0/22 [00:00<?, ?it/s]"
            ]
          },
          "metadata": {},
          "output_type": "display_data"
        },
        {
          "name": "stdout",
          "output_type": "stream",
          "text": [
            "[12] validation loss,  validation accuracy: 68.800, 0.5543318649045521. train loss, train accuracy: 135.442, 0.9522961758438937\n"
          ]
        },
        {
          "data": {
            "application/vnd.jupyter.widget-view+json": {
              "model_id": "29e1987f7aeb46c7b0596a6c483ecebd",
              "version_major": 2,
              "version_minor": 0
            },
            "text/plain": [
              "  0%|          | 0/1115 [00:00<?, ?it/s]"
            ]
          },
          "metadata": {},
          "output_type": "display_data"
        },
        {
          "data": {
            "application/vnd.jupyter.widget-view+json": {
              "model_id": "13fc3bf465a74ca689141a64d254400c",
              "version_major": 2,
              "version_minor": 0
            },
            "text/plain": [
              "  0%|          | 0/22 [00:00<?, ?it/s]"
            ]
          },
          "metadata": {},
          "output_type": "display_data"
        },
        {
          "name": "stdout",
          "output_type": "stream",
          "text": [
            "[13] validation loss,  validation accuracy: 70.794, 0.5234948604992657. train loss, train accuracy: 122.950, 0.9568660984636088\n"
          ]
        },
        {
          "data": {
            "application/vnd.jupyter.widget-view+json": {
              "model_id": "6f9d48ac815142c597d582b198c73597",
              "version_major": 2,
              "version_minor": 0
            },
            "text/plain": [
              "  0%|          | 0/1115 [00:00<?, ?it/s]"
            ]
          },
          "metadata": {},
          "output_type": "display_data"
        },
        {
          "data": {
            "application/vnd.jupyter.widget-view+json": {
              "model_id": "e9ff540c306a4370b1b58c06753dcc7b",
              "version_major": 2,
              "version_minor": 0
            },
            "text/plain": [
              "  0%|          | 0/22 [00:00<?, ?it/s]"
            ]
          },
          "metadata": {},
          "output_type": "display_data"
        },
        {
          "name": "stdout",
          "output_type": "stream",
          "text": [
            "[14] validation loss,  validation accuracy: 79.103, 0.5234948604992657. train loss, train accuracy: 112.424, 0.9602584950095323\n"
          ]
        },
        {
          "data": {
            "application/vnd.jupyter.widget-view+json": {
              "model_id": "95273707e61240d9ad1fef4c3c296a61",
              "version_major": 2,
              "version_minor": 0
            },
            "text/plain": [
              "  0%|          | 0/1115 [00:00<?, ?it/s]"
            ]
          },
          "metadata": {},
          "output_type": "display_data"
        },
        {
          "data": {
            "application/vnd.jupyter.widget-view+json": {
              "model_id": "79a058d70d5c4ad38cfa78d473de739e",
              "version_major": 2,
              "version_minor": 0
            },
            "text/plain": [
              "  0%|          | 0/22 [00:00<?, ?it/s]"
            ]
          },
          "metadata": {},
          "output_type": "display_data"
        },
        {
          "name": "stdout",
          "output_type": "stream",
          "text": [
            "[15] validation loss,  validation accuracy: 83.397, 0.5124816446402349. train loss, train accuracy: 100.368, 0.9658447347762701\n"
          ]
        },
        {
          "data": {
            "application/vnd.jupyter.widget-view+json": {
              "model_id": "357cce0aa1134a97bc9d32bf9846f2c3",
              "version_major": 2,
              "version_minor": 0
            },
            "text/plain": [
              "  0%|          | 0/1115 [00:00<?, ?it/s]"
            ]
          },
          "metadata": {},
          "output_type": "display_data"
        },
        {
          "data": {
            "application/vnd.jupyter.widget-view+json": {
              "model_id": "51d3371f0b504626af4b55d1c0e7d18f",
              "version_major": 2,
              "version_minor": 0
            },
            "text/plain": [
              "  0%|          | 0/22 [00:00<?, ?it/s]"
            ]
          },
          "metadata": {},
          "output_type": "display_data"
        },
        {
          "name": "stdout",
          "output_type": "stream",
          "text": [
            "[16] validation loss,  validation accuracy: 77.454, 0.5323054331864905. train loss, train accuracy: 93.471, 0.9682138050913984\n"
          ]
        },
        {
          "data": {
            "application/vnd.jupyter.widget-view+json": {
              "model_id": "3345f021d3154910be9751bbde695e7c",
              "version_major": 2,
              "version_minor": 0
            },
            "text/plain": [
              "  0%|          | 0/1115 [00:00<?, ?it/s]"
            ]
          },
          "metadata": {},
          "output_type": "display_data"
        },
        {
          "data": {
            "application/vnd.jupyter.widget-view+json": {
              "model_id": "cd26e351f41548ff85a0a3157a6b14c5",
              "version_major": 2,
              "version_minor": 0
            },
            "text/plain": [
              "  0%|          | 0/22 [00:00<?, ?it/s]"
            ]
          },
          "metadata": {},
          "output_type": "display_data"
        },
        {
          "name": "stdout",
          "output_type": "stream",
          "text": [
            "[17] validation loss,  validation accuracy: 85.445, 0.526431718061674. train loss, train accuracy: 87.648, 0.9698399125266345\n"
          ]
        },
        {
          "data": {
            "application/vnd.jupyter.widget-view+json": {
              "model_id": "2a877ef0f32444c2b32b680bfc14116b",
              "version_major": 2,
              "version_minor": 0
            },
            "text/plain": [
              "  0%|          | 0/1115 [00:00<?, ?it/s]"
            ]
          },
          "metadata": {},
          "output_type": "display_data"
        },
        {
          "data": {
            "application/vnd.jupyter.widget-view+json": {
              "model_id": "b5bcb77053f64b65bd49d4bdcc749609",
              "version_major": 2,
              "version_minor": 0
            },
            "text/plain": [
              "  0%|          | 0/22 [00:00<?, ?it/s]"
            ]
          },
          "metadata": {},
          "output_type": "display_data"
        },
        {
          "name": "stdout",
          "output_type": "stream",
          "text": [
            "[18] validation loss,  validation accuracy: 86.838, 0.5352422907488987. train loss, train accuracy: 81.265, 0.9722790736794886\n"
          ]
        },
        {
          "data": {
            "application/vnd.jupyter.widget-view+json": {
              "model_id": "89fd25b6779541de86175807beed2ea2",
              "version_major": 2,
              "version_minor": 0
            },
            "text/plain": [
              "  0%|          | 0/1115 [00:00<?, ?it/s]"
            ]
          },
          "metadata": {},
          "output_type": "display_data"
        },
        {
          "data": {
            "application/vnd.jupyter.widget-view+json": {
              "model_id": "cf0c2b5a2d7f4e679239daf0e03810f7",
              "version_major": 2,
              "version_minor": 0
            },
            "text/plain": [
              "  0%|          | 0/22 [00:00<?, ?it/s]"
            ]
          },
          "metadata": {},
          "output_type": "display_data"
        },
        {
          "name": "stdout",
          "output_type": "stream",
          "text": [
            "[19] validation loss,  validation accuracy: 84.895, 0.5558002936857562. train loss, train accuracy: 73.542, 0.9755873612201413\n"
          ]
        },
        {
          "data": {
            "application/vnd.jupyter.widget-view+json": {
              "model_id": "f54f3dbe4bd04869989ae7cbe621e365",
              "version_major": 2,
              "version_minor": 0
            },
            "text/plain": [
              "  0%|          | 0/1115 [00:00<?, ?it/s]"
            ]
          },
          "metadata": {},
          "output_type": "display_data"
        },
        {
          "data": {
            "application/vnd.jupyter.widget-view+json": {
              "model_id": "b6cdb47d1b49485ca9f08db8344814fd",
              "version_major": 2,
              "version_minor": 0
            },
            "text/plain": [
              "  0%|          | 0/22 [00:00<?, ?it/s]"
            ]
          },
          "metadata": {},
          "output_type": "display_data"
        },
        {
          "name": "stdout",
          "output_type": "stream",
          "text": [
            "[20] validation loss,  validation accuracy: 89.224, 0.5484581497797357. train loss, train accuracy: 71.944, 0.9768419872154313\n",
            "Finished Training\n"
          ]
        },
        {
          "data": {
            "text/plain": [
              "([974.3721143007278,\n",
              "  757.2304196059704,\n",
              "  623.9348364472389,\n",
              "  505.9612306654453,\n",
              "  407.2104552388191,\n",
              "  333.46241268515587,\n",
              "  279.60622131824493,\n",
              "  238.76847031712532,\n",
              "  200.49141619354486,\n",
              "  175.28924180939794,\n",
              "  152.16032180190086,\n",
              "  135.4417199138552,\n",
              "  122.94962126761675,\n",
              "  112.42425833083689,\n",
              "  100.36847023665905,\n",
              "  93.47088153008372,\n",
              "  87.6476834830828,\n",
              "  81.26487550791353,\n",
              "  73.54235142469406,\n",
              "  71.94391293637455],\n",
              " [0.5640209711786476,\n",
              "  0.6892382527755971,\n",
              "  0.749137882695974,\n",
              "  0.7992598407536167,\n",
              "  0.8406975440170461,\n",
              "  0.8721963664909723,\n",
              "  0.8944081529662442,\n",
              "  0.9108164180778289,\n",
              "  0.926467702141976,\n",
              "  0.9365467646069305,\n",
              "  0.9455954917573175,\n",
              "  0.9522961758438937,\n",
              "  0.9568660984636088,\n",
              "  0.9602584950095323,\n",
              "  0.9658447347762701,\n",
              "  0.9682138050913984,\n",
              "  0.9698399125266345,\n",
              "  0.9722790736794886,\n",
              "  0.9755873612201413,\n",
              "  0.9768419872154313],\n",
              " [22.688940286636353,\n",
              "  23.870427131652832,\n",
              "  26.36815220117569,\n",
              "  29.515783607959747,\n",
              "  33.85211169719696,\n",
              "  42.30327534675598,\n",
              "  46.81165647506714,\n",
              "  47.08535099029541,\n",
              "  53.64591884613037,\n",
              "  61.718567848205566,\n",
              "  62.678038239479065,\n",
              "  68.80010747909546,\n",
              "  70.79402327537537,\n",
              "  79.10254144668579,\n",
              "  83.39691853523254,\n",
              "  77.45398187637329,\n",
              "  85.44456553459167,\n",
              "  86.83759570121765,\n",
              "  84.89507675170898,\n",
              "  89.22412657737732],\n",
              " [0.48091042584434657,\n",
              "  0.5124816446402349,\n",
              "  0.5411160058737151,\n",
              "  0.5330396475770925,\n",
              "  0.5499265785609398,\n",
              "  0.5161527165932452,\n",
              "  0.5168869309838473,\n",
              "  0.540381791483113,\n",
              "  0.5323054331864905,\n",
              "  0.5234948604992657,\n",
              "  0.5587371512481645,\n",
              "  0.5543318649045521,\n",
              "  0.5234948604992657,\n",
              "  0.5234948604992657,\n",
              "  0.5124816446402349,\n",
              "  0.5323054331864905,\n",
              "  0.526431718061674,\n",
              "  0.5352422907488987,\n",
              "  0.5558002936857562,\n",
              "  0.5484581497797357])"
            ]
          },
          "execution_count": 91,
          "metadata": {},
          "output_type": "execute_result"
        }
      ],
      "source": [
        "# Batch size 128, learning rate 0.001\n",
        "\n",
        "net13 = build_2d_net(\"mspec\")\n",
        "\n",
        "net13 = train_model(net13, \"mspec\", epochs=20)"
      ]
    },
    {
      "cell_type": "markdown",
      "source": [
        "#### Batch Size 16"
      ],
      "metadata": {
        "id": "JAfv3OcxFpy2"
      }
    },
    {
      "cell_type": "code",
      "source": [
        "# Batching\n",
        "dataloader = DataLoader(dataset, batch_size=16)"
      ],
      "metadata": {
        "id": "rpZovLTkyV9l"
      },
      "execution_count": null,
      "outputs": []
    },
    {
      "cell_type": "code",
      "execution_count": null,
      "metadata": {
        "id": "KRaG1vrX6BkT",
        "outputId": "4f842ac0-cdb5-4004-f47c-e1d2d6b197a1",
        "colab": {
          "referenced_widgets": [
            "aeb145f33ca243f790a530229a89fe11",
            "0325ac6fb5954625a90ec7b48ea3f952",
            "dda6dd464b8a4cf1b6aa9ee4d0f57434",
            "27b33c1b5e9c4735a3a160a1b7d3228c",
            "88525696c6414fb09f9cec7a91f0ce2a",
            "feae1c0bcd0341908dd739568d81df78",
            "2f544b2a24644da78ecff43669d40b5f",
            "2e7451fc4c34491ea8998edc46f84272",
            "14177d4d2d9d4535bf7b5bea721aa82d",
            "349a4b44a52842669a0001bc5779b6ff",
            "a27c390f894d4ade81eaf78cdc3bca79",
            "30866815536641e2851739153d0c4fa1",
            "2d594c0bbe3b4960a844ef48c3942abc",
            "dad84ba0675149f6827f9e34c657a2bd",
            "b2376f83af2d4c7189cbfa554d77c1fd",
            "72518bf72f554f4aa1b9850269bf542e",
            "3aa7f78bd31744f085803e91332a2ba8",
            "71e7634427044f078daef1f7685970e9",
            "eb450c739f264667a3ab6360a6090216",
            "0e5819eb1a6b4e5eba4f8000c861e380",
            "8d5cf8a6f15c4b1196a74da4a20f9139",
            "4d7de59608ed4a618da50081f7eaa83e",
            "bac00ca811ef4d4cba1b7442d561746e",
            "2d91944e85a742fc9297eb305ff52927",
            "cc28de0b454b46019022bc6340d8bafe",
            "0c116451603742a3938110954c21e4ba",
            "9f10fecac7c04ff49edb82197f97b90c",
            "ff56d74b8c3d4949a402f994b382c853",
            "1490ada8dbfe4ccca19bd7a688b5d979",
            "64be1bf97305408d8466bf77c03cf72a",
            "4bb2aee98f864ac2b1bee77a867c768a",
            "e80dd42307dc4a8c8d520aa7ca137ffe",
            "ecbb3774e16b443c9aec4a03cb72579b",
            "cef5fbebb9ed4ed1946c4d36a852fd9f",
            "88a558e48c554cddbc82e2a1ad199479",
            "60e761ff4f8f4dab99bf918347025830",
            "6c0af9025bbf43d2aef131124388630c",
            "d48137b916c6401f9f202daf3af7f3c8",
            "d32f6b83635f4b788211e96efec2d1ff",
            "e53f4df61f0f4448988d999f1fa9e0ca",
            "5c1cc6f79c4842008be9e4dec8845c61",
            "8ce18158db3a4cfda84fca8e3654b4c1",
            "6243943b4e6e4ad4a5410f1b52b55152",
            "eb097136282a4b8684ef83663ef7254f",
            "e1ab06943b2d4a519688708d00df7b3b",
            "2175d4dc0da040dcacdbfd1671eea865",
            "4c7b8de7984f4b80b83348bda7e3bc92",
            "443480a05f3046899423dc079f3faa79",
            "3212839ffa354320a01e31bb79e1bd50",
            "ee22ffdea4d643d7ae8a2299da44b2a3",
            "ba3c84e2f9c045c582bac0392d06124e",
            "631fee6dd2074328b0dbadf908392541",
            "44dd0dd27a0b44f4a6a83ac438ca2413",
            "182e42d5415b4a56aadf4b809dd1ca23",
            "1bbb9be06dc142c097f9718e2106d152",
            "666f3264d4224ba58aa8c077741fcf6a",
            "8045967b13e645f2a8c7b6e1eca11af6",
            "dff0cbe761db4a32b0bda0910dd84a3b",
            "75f5a04d348a4b4c96d3c328d054a825",
            "c5b8fa9ea88b4ac7a4dd3d5a020729d8",
            "3a565b9b541c481ab1f4450f4a622e75",
            "fd5ba08bfd4741a39adf2e6e4c9ef2c9",
            "ed3f921e59d549cf8ea1820ddc243f3d",
            "fb69bb78f16c4a54bfbc7685dd568b92",
            "15c25ae55080445aa807bcfcff89a010",
            "5600146a2bf84e83a40ccaaad9e43273",
            "52a2f4d8b06d4cf0be4018ef80ece82c",
            "b4c5cbbaa27646b7b6d9deaf340665a8",
            "f7184a02c7bd44debe5ef515faea3be0",
            "79a2004b051e43c2bb943aeb68154b74",
            "276607206505435cb8c875f8fd8f6965",
            "6514525259954dc693635cc37c780467",
            "2df1e33d057b4354ac3f004f630a95b0",
            "cfecad4b43974126b842940377b308c1",
            "c5baa0565a9d43949d58e4581cc9cbd8"
          ]
        }
      },
      "outputs": [
        {
          "data": {
            "application/vnd.jupyter.widget-view+json": {
              "model_id": "aeb145f33ca243f790a530229a89fe11",
              "version_major": 2,
              "version_minor": 0
            },
            "text/plain": [
              "  0%|          | 0/8917 [00:00<?, ?it/s]"
            ]
          },
          "metadata": {},
          "output_type": "display_data"
        },
        {
          "data": {
            "application/vnd.jupyter.widget-view+json": {
              "model_id": "0325ac6fb5954625a90ec7b48ea3f952",
              "version_major": 2,
              "version_minor": 0
            },
            "text/plain": [
              "  0%|          | 0/22 [00:00<?, ?it/s]"
            ]
          },
          "metadata": {},
          "output_type": "display_data"
        },
        {
          "name": "stdout",
          "output_type": "stream",
          "text": [
            "[1] validation loss,  validation accuracy: 22.807, 0.5095447870778267. train loss, train accuracy: 7813.546, 0.5624369182460469\n"
          ]
        },
        {
          "data": {
            "application/vnd.jupyter.widget-view+json": {
              "model_id": "dda6dd464b8a4cf1b6aa9ee4d0f57434",
              "version_major": 2,
              "version_minor": 0
            },
            "text/plain": [
              "  0%|          | 0/8917 [00:00<?, ?it/s]"
            ]
          },
          "metadata": {},
          "output_type": "display_data"
        },
        {
          "data": {
            "application/vnd.jupyter.widget-view+json": {
              "model_id": "27b33c1b5e9c4735a3a160a1b7d3228c",
              "version_major": 2,
              "version_minor": 0
            },
            "text/plain": [
              "  0%|          | 0/22 [00:00<?, ?it/s]"
            ]
          },
          "metadata": {},
          "output_type": "display_data"
        },
        {
          "name": "stdout",
          "output_type": "stream",
          "text": [
            "[2] validation loss,  validation accuracy: 24.450, 0.55359765051395. train loss, train accuracy: 6494.340, 0.6660522036559381\n"
          ]
        },
        {
          "data": {
            "application/vnd.jupyter.widget-view+json": {
              "model_id": "88525696c6414fb09f9cec7a91f0ce2a",
              "version_major": 2,
              "version_minor": 0
            },
            "text/plain": [
              "  0%|          | 0/8917 [00:00<?, ?it/s]"
            ]
          },
          "metadata": {},
          "output_type": "display_data"
        },
        {
          "data": {
            "application/vnd.jupyter.widget-view+json": {
              "model_id": "feae1c0bcd0341908dd739568d81df78",
              "version_major": 2,
              "version_minor": 0
            },
            "text/plain": [
              "  0%|          | 0/22 [00:00<?, ?it/s]"
            ]
          },
          "metadata": {},
          "output_type": "display_data"
        },
        {
          "name": "stdout",
          "output_type": "stream",
          "text": [
            "[3] validation loss,  validation accuracy: 24.744, 0.5367107195301027. train loss, train accuracy: 5691.275, 0.7143517999327128\n"
          ]
        },
        {
          "data": {
            "application/vnd.jupyter.widget-view+json": {
              "model_id": "2f544b2a24644da78ecff43669d40b5f",
              "version_major": 2,
              "version_minor": 0
            },
            "text/plain": [
              "  0%|          | 0/8917 [00:00<?, ?it/s]"
            ]
          },
          "metadata": {},
          "output_type": "display_data"
        },
        {
          "data": {
            "application/vnd.jupyter.widget-view+json": {
              "model_id": "2e7451fc4c34491ea8998edc46f84272",
              "version_major": 2,
              "version_minor": 0
            },
            "text/plain": [
              "  0%|          | 0/22 [00:00<?, ?it/s]"
            ]
          },
          "metadata": {},
          "output_type": "display_data"
        },
        {
          "name": "stdout",
          "output_type": "stream",
          "text": [
            "[4] validation loss,  validation accuracy: 25.796, 0.5279001468428781. train loss, train accuracy: 5005.896, 0.7517522709431423\n"
          ]
        },
        {
          "data": {
            "application/vnd.jupyter.widget-view+json": {
              "model_id": "14177d4d2d9d4535bf7b5bea721aa82d",
              "version_major": 2,
              "version_minor": 0
            },
            "text/plain": [
              "  0%|          | 0/8917 [00:00<?, ?it/s]"
            ]
          },
          "metadata": {},
          "output_type": "display_data"
        },
        {
          "data": {
            "application/vnd.jupyter.widget-view+json": {
              "model_id": "349a4b44a52842669a0001bc5779b6ff",
              "version_major": 2,
              "version_minor": 0
            },
            "text/plain": [
              "  0%|          | 0/22 [00:00<?, ?it/s]"
            ]
          },
          "metadata": {},
          "output_type": "display_data"
        },
        {
          "name": "stdout",
          "output_type": "stream",
          "text": [
            "[5] validation loss,  validation accuracy: 30.790, 0.5440528634361234. train loss, train accuracy: 4473.101, 0.7809380957721207\n"
          ]
        },
        {
          "data": {
            "application/vnd.jupyter.widget-view+json": {
              "model_id": "a27c390f894d4ade81eaf78cdc3bca79",
              "version_major": 2,
              "version_minor": 0
            },
            "text/plain": [
              "  0%|          | 0/8917 [00:00<?, ?it/s]"
            ]
          },
          "metadata": {},
          "output_type": "display_data"
        },
        {
          "data": {
            "application/vnd.jupyter.widget-view+json": {
              "model_id": "30866815536641e2851739153d0c4fa1",
              "version_major": 2,
              "version_minor": 0
            },
            "text/plain": [
              "  0%|          | 0/22 [00:00<?, ?it/s]"
            ]
          },
          "metadata": {},
          "output_type": "display_data"
        },
        {
          "name": "stdout",
          "output_type": "stream",
          "text": [
            "[6] validation loss,  validation accuracy: 34.556, 0.5352422907488987. train loss, train accuracy: 4050.406, 0.8018321744981496\n"
          ]
        },
        {
          "data": {
            "application/vnd.jupyter.widget-view+json": {
              "model_id": "2d594c0bbe3b4960a844ef48c3942abc",
              "version_major": 2,
              "version_minor": 0
            },
            "text/plain": [
              "  0%|          | 0/8917 [00:00<?, ?it/s]"
            ]
          },
          "metadata": {},
          "output_type": "display_data"
        },
        {
          "data": {
            "application/vnd.jupyter.widget-view+json": {
              "model_id": "dad84ba0675149f6827f9e34c657a2bd",
              "version_major": 2,
              "version_minor": 0
            },
            "text/plain": [
              "  0%|          | 0/22 [00:00<?, ?it/s]"
            ]
          },
          "metadata": {},
          "output_type": "display_data"
        },
        {
          "name": "stdout",
          "output_type": "stream",
          "text": [
            "[7] validation loss,  validation accuracy: 36.055, 0.5249632892804699. train loss, train accuracy: 3739.606, 0.8190114388247168\n"
          ]
        },
        {
          "data": {
            "application/vnd.jupyter.widget-view+json": {
              "model_id": "b2376f83af2d4c7189cbfa554d77c1fd",
              "version_major": 2,
              "version_minor": 0
            },
            "text/plain": [
              "  0%|          | 0/8917 [00:00<?, ?it/s]"
            ]
          },
          "metadata": {},
          "output_type": "display_data"
        },
        {
          "data": {
            "application/vnd.jupyter.widget-view+json": {
              "model_id": "72518bf72f554f4aa1b9850269bf542e",
              "version_major": 2,
              "version_minor": 0
            },
            "text/plain": [
              "  0%|          | 0/22 [00:00<?, ?it/s]"
            ]
          },
          "metadata": {},
          "output_type": "display_data"
        },
        {
          "name": "stdout",
          "output_type": "stream",
          "text": [
            "[8] validation loss,  validation accuracy: 34.841, 0.539647577092511. train loss, train accuracy: 3434.047, 0.8343613322866434\n"
          ]
        },
        {
          "data": {
            "application/vnd.jupyter.widget-view+json": {
              "model_id": "3aa7f78bd31744f085803e91332a2ba8",
              "version_major": 2,
              "version_minor": 0
            },
            "text/plain": [
              "  0%|          | 0/8917 [00:00<?, ?it/s]"
            ]
          },
          "metadata": {},
          "output_type": "display_data"
        },
        {
          "data": {
            "application/vnd.jupyter.widget-view+json": {
              "model_id": "71e7634427044f078daef1f7685970e9",
              "version_major": 2,
              "version_minor": 0
            },
            "text/plain": [
              "  0%|          | 0/22 [00:00<?, ?it/s]"
            ]
          },
          "metadata": {},
          "output_type": "display_data"
        },
        {
          "name": "stdout",
          "output_type": "stream",
          "text": [
            "[9] validation loss,  validation accuracy: 48.555, 0.5389133627019089. train loss, train accuracy: 3178.861, 0.846963664909723\n"
          ]
        },
        {
          "data": {
            "application/vnd.jupyter.widget-view+json": {
              "model_id": "eb450c739f264667a3ab6360a6090216",
              "version_major": 2,
              "version_minor": 0
            },
            "text/plain": [
              "  0%|          | 0/8917 [00:00<?, ?it/s]"
            ]
          },
          "metadata": {},
          "output_type": "display_data"
        },
        {
          "data": {
            "application/vnd.jupyter.widget-view+json": {
              "model_id": "0e5819eb1a6b4e5eba4f8000c861e380",
              "version_major": 2,
              "version_minor": 0
            },
            "text/plain": [
              "  0%|          | 0/22 [00:00<?, ?it/s]"
            ]
          },
          "metadata": {},
          "output_type": "display_data"
        },
        {
          "name": "stdout",
          "output_type": "stream",
          "text": [
            "[10] validation loss,  validation accuracy: 56.480, 0.5337738619676946. train loss, train accuracy: 2944.740, 0.8574001906470786\n"
          ]
        },
        {
          "data": {
            "application/vnd.jupyter.widget-view+json": {
              "model_id": "8d5cf8a6f15c4b1196a74da4a20f9139",
              "version_major": 2,
              "version_minor": 0
            },
            "text/plain": [
              "  0%|          | 0/8917 [00:00<?, ?it/s]"
            ]
          },
          "metadata": {},
          "output_type": "display_data"
        },
        {
          "data": {
            "application/vnd.jupyter.widget-view+json": {
              "model_id": "4d7de59608ed4a618da50081f7eaa83e",
              "version_major": 2,
              "version_minor": 0
            },
            "text/plain": [
              "  0%|          | 0/22 [00:00<?, ?it/s]"
            ]
          },
          "metadata": {},
          "output_type": "display_data"
        },
        {
          "name": "stdout",
          "output_type": "stream",
          "text": [
            "[11] validation loss,  validation accuracy: 43.995, 0.5477239353891337. train loss, train accuracy: 2768.996, 0.8675493439497589\n"
          ]
        },
        {
          "data": {
            "application/vnd.jupyter.widget-view+json": {
              "model_id": "bac00ca811ef4d4cba1b7442d561746e",
              "version_major": 2,
              "version_minor": 0
            },
            "text/plain": [
              "  0%|          | 0/8917 [00:00<?, ?it/s]"
            ]
          },
          "metadata": {},
          "output_type": "display_data"
        },
        {
          "data": {
            "application/vnd.jupyter.widget-view+json": {
              "model_id": "2d91944e85a742fc9297eb305ff52927",
              "version_major": 2,
              "version_minor": 0
            },
            "text/plain": [
              "  0%|          | 0/22 [00:00<?, ?it/s]"
            ]
          },
          "metadata": {},
          "output_type": "display_data"
        },
        {
          "name": "stdout",
          "output_type": "stream",
          "text": [
            "[12] validation loss,  validation accuracy: 64.861, 0.5242290748898678. train loss, train accuracy: 2594.792, 0.876675171021644\n"
          ]
        },
        {
          "data": {
            "application/vnd.jupyter.widget-view+json": {
              "model_id": "cc28de0b454b46019022bc6340d8bafe",
              "version_major": 2,
              "version_minor": 0
            },
            "text/plain": [
              "  0%|          | 0/8917 [00:00<?, ?it/s]"
            ]
          },
          "metadata": {},
          "output_type": "display_data"
        },
        {
          "data": {
            "application/vnd.jupyter.widget-view+json": {
              "model_id": "0c116451603742a3938110954c21e4ba",
              "version_major": 2,
              "version_minor": 0
            },
            "text/plain": [
              "  0%|          | 0/22 [00:00<?, ?it/s]"
            ]
          },
          "metadata": {},
          "output_type": "display_data"
        },
        {
          "name": "stdout",
          "output_type": "stream",
          "text": [
            "[13] validation loss,  validation accuracy: 60.414, 0.5176211453744494. train loss, train accuracy: 2434.256, 0.8843781540876977\n"
          ]
        },
        {
          "data": {
            "application/vnd.jupyter.widget-view+json": {
              "model_id": "9f10fecac7c04ff49edb82197f97b90c",
              "version_major": 2,
              "version_minor": 0
            },
            "text/plain": [
              "  0%|          | 0/8917 [00:00<?, ?it/s]"
            ]
          },
          "metadata": {},
          "output_type": "display_data"
        },
        {
          "data": {
            "application/vnd.jupyter.widget-view+json": {
              "model_id": "ff56d74b8c3d4949a402f994b382c853",
              "version_major": 2,
              "version_minor": 0
            },
            "text/plain": [
              "  0%|          | 0/22 [00:00<?, ?it/s]"
            ]
          },
          "metadata": {},
          "output_type": "display_data"
        },
        {
          "name": "stdout",
          "output_type": "stream",
          "text": [
            "[14] validation loss,  validation accuracy: 60.713, 0.5190895741556535. train loss, train accuracy: 2315.035, 0.8908195020746889\n"
          ]
        },
        {
          "data": {
            "application/vnd.jupyter.widget-view+json": {
              "model_id": "1490ada8dbfe4ccca19bd7a688b5d979",
              "version_major": 2,
              "version_minor": 0
            },
            "text/plain": [
              "  0%|          | 0/8917 [00:00<?, ?it/s]"
            ]
          },
          "metadata": {},
          "output_type": "display_data"
        },
        {
          "data": {
            "application/vnd.jupyter.widget-view+json": {
              "model_id": "64be1bf97305408d8466bf77c03cf72a",
              "version_major": 2,
              "version_minor": 0
            },
            "text/plain": [
              "  0%|          | 0/22 [00:00<?, ?it/s]"
            ]
          },
          "metadata": {},
          "output_type": "display_data"
        },
        {
          "name": "stdout",
          "output_type": "stream",
          "text": [
            "[15] validation loss,  validation accuracy: 75.136, 0.5139500734214391. train loss, train accuracy: 2202.582, 0.8956697880453067\n"
          ]
        },
        {
          "data": {
            "application/vnd.jupyter.widget-view+json": {
              "model_id": "4bb2aee98f864ac2b1bee77a867c768a",
              "version_major": 2,
              "version_minor": 0
            },
            "text/plain": [
              "  0%|          | 0/8917 [00:00<?, ?it/s]"
            ]
          },
          "metadata": {},
          "output_type": "display_data"
        },
        {
          "data": {
            "application/vnd.jupyter.widget-view+json": {
              "model_id": "e80dd42307dc4a8c8d520aa7ca137ffe",
              "version_major": 2,
              "version_minor": 0
            },
            "text/plain": [
              "  0%|          | 0/22 [00:00<?, ?it/s]"
            ]
          },
          "metadata": {},
          "output_type": "display_data"
        },
        {
          "name": "stdout",
          "output_type": "stream",
          "text": [
            "[16] validation loss,  validation accuracy: 76.963, 0.5088105726872246. train loss, train accuracy: 2105.362, 0.9014663003252215\n"
          ]
        },
        {
          "data": {
            "application/vnd.jupyter.widget-view+json": {
              "model_id": "ecbb3774e16b443c9aec4a03cb72579b",
              "version_major": 2,
              "version_minor": 0
            },
            "text/plain": [
              "  0%|          | 0/8917 [00:00<?, ?it/s]"
            ]
          },
          "metadata": {},
          "output_type": "display_data"
        },
        {
          "data": {
            "application/vnd.jupyter.widget-view+json": {
              "model_id": "cef5fbebb9ed4ed1946c4d36a852fd9f",
              "version_major": 2,
              "version_minor": 0
            },
            "text/plain": [
              "  0%|          | 0/22 [00:00<?, ?it/s]"
            ]
          },
          "metadata": {},
          "output_type": "display_data"
        },
        {
          "name": "stdout",
          "output_type": "stream",
          "text": [
            "[17] validation loss,  validation accuracy: 77.429, 0.5220264317180616. train loss, train accuracy: 1966.695, 0.907949702814848\n"
          ]
        },
        {
          "data": {
            "application/vnd.jupyter.widget-view+json": {
              "model_id": "88a558e48c554cddbc82e2a1ad199479",
              "version_major": 2,
              "version_minor": 0
            },
            "text/plain": [
              "  0%|          | 0/8917 [00:00<?, ?it/s]"
            ]
          },
          "metadata": {},
          "output_type": "display_data"
        },
        {
          "data": {
            "application/vnd.jupyter.widget-view+json": {
              "model_id": "60e761ff4f8f4dab99bf918347025830",
              "version_major": 2,
              "version_minor": 0
            },
            "text/plain": [
              "  0%|          | 0/22 [00:00<?, ?it/s]"
            ]
          },
          "metadata": {},
          "output_type": "display_data"
        },
        {
          "name": "stdout",
          "output_type": "stream",
          "text": [
            "[18] validation loss,  validation accuracy: 70.271, 0.5139500734214391. train loss, train accuracy: 1921.725, 0.9104028821352472\n"
          ]
        },
        {
          "data": {
            "application/vnd.jupyter.widget-view+json": {
              "model_id": "6c0af9025bbf43d2aef131124388630c",
              "version_major": 2,
              "version_minor": 0
            },
            "text/plain": [
              "  0%|          | 0/8917 [00:00<?, ?it/s]"
            ]
          },
          "metadata": {},
          "output_type": "display_data"
        },
        {
          "data": {
            "application/vnd.jupyter.widget-view+json": {
              "model_id": "d48137b916c6401f9f202daf3af7f3c8",
              "version_major": 2,
              "version_minor": 0
            },
            "text/plain": [
              "  0%|          | 0/22 [00:00<?, ?it/s]"
            ]
          },
          "metadata": {},
          "output_type": "display_data"
        },
        {
          "name": "stdout",
          "output_type": "stream",
          "text": [
            "[19] validation loss,  validation accuracy: 72.391, 0.5161527165932452. train loss, train accuracy: 1818.495, 0.9150499046764607\n"
          ]
        },
        {
          "data": {
            "application/vnd.jupyter.widget-view+json": {
              "model_id": "d32f6b83635f4b788211e96efec2d1ff",
              "version_major": 2,
              "version_minor": 0
            },
            "text/plain": [
              "  0%|          | 0/8917 [00:00<?, ?it/s]"
            ]
          },
          "metadata": {},
          "output_type": "display_data"
        },
        {
          "data": {
            "application/vnd.jupyter.widget-view+json": {
              "model_id": "e53f4df61f0f4448988d999f1fa9e0ca",
              "version_major": 2,
              "version_minor": 0
            },
            "text/plain": [
              "  0%|          | 0/22 [00:00<?, ?it/s]"
            ]
          },
          "metadata": {},
          "output_type": "display_data"
        },
        {
          "name": "stdout",
          "output_type": "stream",
          "text": [
            "[20] validation loss,  validation accuracy: 93.142, 0.513215859030837. train loss, train accuracy: 1730.789, 0.9192273186049119\n"
          ]
        }
      ],
      "source": [
        "# Batch size 16, learning rate 0.001\n",
        "net14 = build_2d_net(\"mspec\")\n",
        "\n",
        "train_model(net14, \"mspec\", epochs=20)"
      ]
    },
    {
      "cell_type": "markdown",
      "source": [
        "### Test Set Results\n"
      ],
      "metadata": {
        "id": "GZ88NXoG6ZM6"
      }
    },
    {
      "cell_type": "markdown",
      "source": [
        "#### Training"
      ],
      "metadata": {
        "id": "WO1A4SgxzU09"
      }
    },
    {
      "cell_type": "code",
      "execution_count": null,
      "metadata": {
        "colab": {
          "referenced_widgets": [
            "80f9519f51dc4e079ad05cf9770ef418",
            "0cc61eeddb71478bb9887f52e6150108",
            "2dee01120b2746e4992ea90f4833eb8c",
            "14eeb1a2609e411cac1d57e4f5cb30bd",
            "dedba89830e54428a9d85851b124697f",
            "55cf734a68ca4c98892f8e7549779901",
            "3f67d10d206549359dada68eb3473913",
            "287590667c18444a8e386b4e50547598",
            "3b8a9305979b4c918b0c75a924e99efb",
            "614031f337e44f5590a2510df76e4c40"
          ]
        },
        "id": "g6xtTind6FMH",
        "outputId": "78e5f4c9-100c-432e-cbd6-19892ae28c07"
      },
      "outputs": [
        {
          "data": {
            "application/vnd.jupyter.widget-view+json": {
              "model_id": "80f9519f51dc4e079ad05cf9770ef418",
              "version_major": 2,
              "version_minor": 0
            },
            "text/plain": [
              "  0%|          | 0/4459 [00:00<?, ?it/s]"
            ]
          },
          "metadata": {},
          "output_type": "display_data"
        },
        {
          "data": {
            "application/vnd.jupyter.widget-view+json": {
              "model_id": "0cc61eeddb71478bb9887f52e6150108",
              "version_major": 2,
              "version_minor": 0
            },
            "text/plain": [
              "  0%|          | 0/18 [00:00<?, ?it/s]"
            ]
          },
          "metadata": {},
          "output_type": "display_data"
        },
        {
          "name": "stdout",
          "output_type": "stream",
          "text": [
            "[1] test loss,  test accuracy: 17.736, 0.5166217430368374. train loss, train accuracy: 3897.694, 0.5634672535606146\n"
          ]
        },
        {
          "data": {
            "application/vnd.jupyter.widget-view+json": {
              "model_id": "2dee01120b2746e4992ea90f4833eb8c",
              "version_major": 2,
              "version_minor": 0
            },
            "text/plain": [
              "  0%|          | 0/4459 [00:00<?, ?it/s]"
            ]
          },
          "metadata": {},
          "output_type": "display_data"
        },
        {
          "data": {
            "application/vnd.jupyter.widget-view+json": {
              "model_id": "14eeb1a2609e411cac1d57e4f5cb30bd",
              "version_major": 2,
              "version_minor": 0
            },
            "text/plain": [
              "  0%|          | 0/18 [00:00<?, ?it/s]"
            ]
          },
          "metadata": {},
          "output_type": "display_data"
        },
        {
          "name": "stdout",
          "output_type": "stream",
          "text": [
            "[2] test loss,  test accuracy: 17.458, 0.527403414195867. train loss, train accuracy: 3124.550, 0.681983851070988\n"
          ]
        },
        {
          "data": {
            "application/vnd.jupyter.widget-view+json": {
              "model_id": "dedba89830e54428a9d85851b124697f",
              "version_major": 2,
              "version_minor": 0
            },
            "text/plain": [
              "  0%|          | 0/4459 [00:00<?, ?it/s]"
            ]
          },
          "metadata": {},
          "output_type": "display_data"
        },
        {
          "data": {
            "application/vnd.jupyter.widget-view+json": {
              "model_id": "55cf734a68ca4c98892f8e7549779901",
              "version_major": 2,
              "version_minor": 0
            },
            "text/plain": [
              "  0%|          | 0/18 [00:00<?, ?it/s]"
            ]
          },
          "metadata": {},
          "output_type": "display_data"
        },
        {
          "name": "stdout",
          "output_type": "stream",
          "text": [
            "[3] test loss,  test accuracy: 18.700, 0.5831087151841868. train loss, train accuracy: 2683.433, 0.7348393517999328\n"
          ]
        },
        {
          "data": {
            "application/vnd.jupyter.widget-view+json": {
              "model_id": "3f67d10d206549359dada68eb3473913",
              "version_major": 2,
              "version_minor": 0
            },
            "text/plain": [
              "  0%|          | 0/4459 [00:00<?, ?it/s]"
            ]
          },
          "metadata": {},
          "output_type": "display_data"
        },
        {
          "data": {
            "application/vnd.jupyter.widget-view+json": {
              "model_id": "287590667c18444a8e386b4e50547598",
              "version_major": 2,
              "version_minor": 0
            },
            "text/plain": [
              "  0%|          | 0/18 [00:00<?, ?it/s]"
            ]
          },
          "metadata": {},
          "output_type": "display_data"
        },
        {
          "name": "stdout",
          "output_type": "stream",
          "text": [
            "[4] test loss,  test accuracy: 21.542, 0.5579514824797843. train loss, train accuracy: 2289.070, 0.7774756083884714\n"
          ]
        },
        {
          "data": {
            "application/vnd.jupyter.widget-view+json": {
              "model_id": "3b8a9305979b4c918b0c75a924e99efb",
              "version_major": 2,
              "version_minor": 0
            },
            "text/plain": [
              "  0%|          | 0/4459 [00:00<?, ?it/s]"
            ]
          },
          "metadata": {},
          "output_type": "display_data"
        },
        {
          "data": {
            "application/vnd.jupyter.widget-view+json": {
              "model_id": "614031f337e44f5590a2510df76e4c40",
              "version_major": 2,
              "version_minor": 0
            },
            "text/plain": [
              "  0%|          | 0/18 [00:00<?, ?it/s]"
            ]
          },
          "metadata": {},
          "output_type": "display_data"
        },
        {
          "name": "stdout",
          "output_type": "stream",
          "text": [
            "[5] test loss,  test accuracy: 22.933, 0.5543575920934412. train loss, train accuracy: 1979.603, 0.8106496018840417\n",
            "Finished Training\n"
          ]
        }
      ],
      "source": [
        "# Retrain model with test data just to see how the test data performs across all epochs. This is the model that is used for the final analysis.\n",
        "net_final = build_2d_net('mspec')\n",
        "\n",
        "net_final = train_model(net_final, 'mspec', epochs=5, evalloader=testloader)"
      ]
    },
    {
      "cell_type": "code",
      "source": [
        "!pip install seaborn torchmetrics"
      ],
      "metadata": {
        "id": "nN7KWGjTIi4z"
      },
      "execution_count": null,
      "outputs": []
    },
    {
      "cell_type": "code",
      "execution_count": null,
      "metadata": {
        "id": "xCc3RXcB6FMI",
        "outputId": "9bbc0197-2101-4d50-8c66-f85156d871e3"
      },
      "outputs": [
        {
          "name": "stdout",
          "output_type": "stream",
          "text": [
            "torch.Size([1113]) torch.Size([1113])\n"
          ]
        },
        {
          "data": {
            "image/png": "[encoded data removed]",
            "text/plain": [
              "<Figure size 1200x500 with 2 Axes>"
            ]
          },
          "metadata": {},
          "output_type": "display_data"
        }
      ],
      "source": [
        "from sklearn.metrics import confusion_matrix\n",
        "import seaborn as sns\n",
        "import matplotlib.pyplot as plt\n",
        "from torchmetrics.classification import MulticlassROC\n",
        "\n",
        "# Confusion matrix of CNN after 5 epochs\n",
        "outputs, labels, _ = generate_outputs(net_final, 'mspec', test)\n",
        "predictions = calculate_predictions(outputs)\n",
        "\n",
        "confmat1 = confusion_matrix(labels, predictions)\n",
        "\n",
        "fig, (ax1, ax2) = plt.subplots(1, 2, figsize=(12, 5))\n",
        "\n",
        "sns.heatmap(confmat1.T,\n",
        "            square=True,\n",
        "            annot=True,\n",
        "            fmt='d',\n",
        "            cmap='vlag',\n",
        "            cbar=False,\n",
        "            ax=ax1)\n",
        "\n",
        "# ROC Curve\n",
        "metric = MulticlassROC(num_classes=3)\n",
        "metric.update(outputs, labels)\n",
        "_fix, _ax = metric.plot(score=True, ax=ax2)\n",
        "\n",
        "ax2.set_title(\"One-vs-Rest ROC curves for CNN model classes\")\n",
        "ax2.legend(fontsize=\"10\", loc =\"lower right\")\n",
        "\n",
        "ax1.set(title='Confusion Matrix for Test Set', xlabel='True label', ylabel='Predicted label');\n",
        "#fig.savefig(\"cnn_metrics.png\")"
      ]
    },
    {
      "cell_type": "code",
      "execution_count": null,
      "metadata": {
        "colab": {
          "referenced_widgets": [
            "3ad9d42b26424dffaafc9c3d9b1d280a",
            "3d48ef02ed60459f9bb9d2c7227466c9",
            "a5d43bbf78824aa59b66d7f8522e0f96",
            "f06400e39fd54e78a0d835e5e01c9f2e",
            "5bce0c2dcd784f1a8e6207dd886eae4c",
            "305b0b9530404b7480b74b302cfb8ff3",
            "0218cfade6e949508682654fe9ba973d",
            "13928f933cb246d8a899445aa8bd66ee",
            "2b2560133e4e4628b95172aa4cdaecc3",
            "890489cfff224b9f95b2327df3cf6d02",
            "0ae84d43594a4267be89c3718270a95c",
            "3074cffcfe0b450c8d0416a1674e1d31",
            "b68a98a51805402a97e46fb64909c248",
            "e3cc3c2478d7475aad48712872b3e90c",
            "0447209ec367400fb8d3959ed3f3f9be",
            "7f298dbcfa6548098a8f0fac7a0bf865",
            "af9650160e184db6aae472edcb0af8ca",
            "471c4511ad4a47f483c15bbc331e23e5",
            "7b2dda253e4745a6a383e5975af73b2c",
            "16e1d40c84184010b080e330e7a5f639",
            "ff43c8a50d73459c88fc12e50d7ef31f",
            "e3269aa55fef4c4eafef646721b8a01c",
            "0b46204473e14697b3b0933b5e61514c",
            "9f9f173f867644ebb7a519c3da5f5785",
            "35c2035c2e8349ba92cd304a341b5926",
            "68b9339c53824eac869b933602a28b01",
            "4379593f27594a169aaa369cc0b6583b",
            "735a32b95cac4221895f7356508a2b86",
            "44df0aee57204bc897c1c515a8033d5d",
            "a9c7fcf1e11e428c849aeadf3aa8b9a8",
            "5fb87d86977340dbabfad7d58f60b9cc",
            "2eb857bec47d4375958b77ddf0e9fcb0",
            "c5df9d2b50254b1f821a736c63d6d2f3",
            "b743519ec4d347848731fab2076de8b7",
            "d974f0e636fb4790bc805a8bda8965e4",
            "22ee8bdb28f34773bc092958f830b657",
            "1e1856ede3c94fd8a73691a18436548a",
            "eaee1336552448068e2df1ab9a835c4a",
            "3a87ed300d34435b86dd2f78f0a30cb9",
            "defc99a39069499e92a3562ecf437cfa"
          ]
        },
        "id": "fmdlVukA6FMI",
        "outputId": "5bc217c6-d8b7-4baa-99f5-2c0bd3bac7f5"
      },
      "outputs": [
        {
          "data": {
            "application/vnd.jupyter.widget-view+json": {
              "model_id": "3ad9d42b26424dffaafc9c3d9b1d280a",
              "version_major": 2,
              "version_minor": 0
            },
            "text/plain": [
              "  0%|          | 0/4459 [00:00<?, ?it/s]"
            ]
          },
          "metadata": {},
          "output_type": "display_data"
        },
        {
          "data": {
            "application/vnd.jupyter.widget-view+json": {
              "model_id": "3d48ef02ed60459f9bb9d2c7227466c9",
              "version_major": 2,
              "version_minor": 0
            },
            "text/plain": [
              "  0%|          | 0/18 [00:00<?, ?it/s]"
            ]
          },
          "metadata": {},
          "output_type": "display_data"
        },
        {
          "name": "stdout",
          "output_type": "stream",
          "text": [
            "[1] test loss,  test accuracy: 33.450, 0.5336927223719676. train loss, train accuracy: 1622.818, 0.8455057754850286\n"
          ]
        },
        {
          "data": {
            "application/vnd.jupyter.widget-view+json": {
              "model_id": "a5d43bbf78824aa59b66d7f8522e0f96",
              "version_major": 2,
              "version_minor": 0
            },
            "text/plain": [
              "  0%|          | 0/4459 [00:00<?, ?it/s]"
            ]
          },
          "metadata": {},
          "output_type": "display_data"
        },
        {
          "data": {
            "application/vnd.jupyter.widget-view+json": {
              "model_id": "f06400e39fd54e78a0d835e5e01c9f2e",
              "version_major": 2,
              "version_minor": 0
            },
            "text/plain": [
              "  0%|          | 0/18 [00:00<?, ?it/s]"
            ]
          },
          "metadata": {},
          "output_type": "display_data"
        },
        {
          "name": "stdout",
          "output_type": "stream",
          "text": [
            "[2] test loss,  test accuracy: 34.638, 0.5265049415992812. train loss, train accuracy: 1386.438, 0.8689932152069082\n"
          ]
        },
        {
          "data": {
            "application/vnd.jupyter.widget-view+json": {
              "model_id": "5bce0c2dcd784f1a8e6207dd886eae4c",
              "version_major": 2,
              "version_minor": 0
            },
            "text/plain": [
              "  0%|          | 0/4459 [00:00<?, ?it/s]"
            ]
          },
          "metadata": {},
          "output_type": "display_data"
        },
        {
          "data": {
            "application/vnd.jupyter.widget-view+json": {
              "model_id": "305b0b9530404b7480b74b302cfb8ff3",
              "version_major": 2,
              "version_minor": 0
            },
            "text/plain": [
              "  0%|          | 0/18 [00:00<?, ?it/s]"
            ]
          },
          "metadata": {},
          "output_type": "display_data"
        },
        {
          "name": "stdout",
          "output_type": "stream",
          "text": [
            "[3] test loss,  test accuracy: 36.204, 0.4995507637017071. train loss, train accuracy: 1214.739, 0.8871116967589997\n"
          ]
        },
        {
          "data": {
            "application/vnd.jupyter.widget-view+json": {
              "model_id": "0218cfade6e949508682654fe9ba973d",
              "version_major": 2,
              "version_minor": 0
            },
            "text/plain": [
              "  0%|          | 0/4459 [00:00<?, ?it/s]"
            ]
          },
          "metadata": {},
          "output_type": "display_data"
        },
        {
          "data": {
            "application/vnd.jupyter.widget-view+json": {
              "model_id": "13928f933cb246d8a899445aa8bd66ee",
              "version_major": 2,
              "version_minor": 0
            },
            "text/plain": [
              "  0%|          | 0/18 [00:00<?, ?it/s]"
            ]
          },
          "metadata": {},
          "output_type": "display_data"
        },
        {
          "name": "stdout",
          "output_type": "stream",
          "text": [
            "[4] test loss,  test accuracy: 37.349, 0.504941599281222. train loss, train accuracy: 1075.888, 0.900660255691376\n"
          ]
        },
        {
          "data": {
            "application/vnd.jupyter.widget-view+json": {
              "model_id": "2b2560133e4e4628b95172aa4cdaecc3",
              "version_major": 2,
              "version_minor": 0
            },
            "text/plain": [
              "  0%|          | 0/4459 [00:00<?, ?it/s]"
            ]
          },
          "metadata": {},
          "output_type": "display_data"
        },
        {
          "data": {
            "application/vnd.jupyter.widget-view+json": {
              "model_id": "890489cfff224b9f95b2327df3cf6d02",
              "version_major": 2,
              "version_minor": 0
            },
            "text/plain": [
              "  0%|          | 0/18 [00:00<?, ?it/s]"
            ]
          },
          "metadata": {},
          "output_type": "display_data"
        },
        {
          "name": "stdout",
          "output_type": "stream",
          "text": [
            "[5] test loss,  test accuracy: 41.427, 0.5076370170709793. train loss, train accuracy: 957.887, 0.9132625883144555\n"
          ]
        },
        {
          "data": {
            "application/vnd.jupyter.widget-view+json": {
              "model_id": "0ae84d43594a4267be89c3718270a95c",
              "version_major": 2,
              "version_minor": 0
            },
            "text/plain": [
              "  0%|          | 0/4459 [00:00<?, ?it/s]"
            ]
          },
          "metadata": {},
          "output_type": "display_data"
        },
        {
          "data": {
            "application/vnd.jupyter.widget-view+json": {
              "model_id": "3074cffcfe0b450c8d0416a1674e1d31",
              "version_major": 2,
              "version_minor": 0
            },
            "text/plain": [
              "  0%|          | 0/18 [00:00<?, ?it/s]"
            ]
          },
          "metadata": {},
          "output_type": "display_data"
        },
        {
          "name": "stdout",
          "output_type": "stream",
          "text": [
            "[6] test loss,  test accuracy: 51.147, 0.49326145552560646. train loss, train accuracy: 864.707, 0.9223954244701132\n"
          ]
        },
        {
          "data": {
            "application/vnd.jupyter.widget-view+json": {
              "model_id": "b68a98a51805402a97e46fb64909c248",
              "version_major": 2,
              "version_minor": 0
            },
            "text/plain": [
              "  0%|          | 0/4459 [00:00<?, ?it/s]"
            ]
          },
          "metadata": {},
          "output_type": "display_data"
        },
        {
          "data": {
            "application/vnd.jupyter.widget-view+json": {
              "model_id": "e3cc3c2478d7475aad48712872b3e90c",
              "version_major": 2,
              "version_minor": 0
            },
            "text/plain": [
              "  0%|          | 0/18 [00:00<?, ?it/s]"
            ]
          },
          "metadata": {},
          "output_type": "display_data"
        },
        {
          "name": "stdout",
          "output_type": "stream",
          "text": [
            "[7] test loss,  test accuracy: 54.837, 0.4968553459119497. train loss, train accuracy: 784.430, 0.9304418526410227\n"
          ]
        },
        {
          "data": {
            "application/vnd.jupyter.widget-view+json": {
              "model_id": "0447209ec367400fb8d3959ed3f3f9be",
              "version_major": 2,
              "version_minor": 0
            },
            "text/plain": [
              "  0%|          | 0/4459 [00:00<?, ?it/s]"
            ]
          },
          "metadata": {},
          "output_type": "display_data"
        },
        {
          "data": {
            "application/vnd.jupyter.widget-view+json": {
              "model_id": "7f298dbcfa6548098a8f0fac7a0bf865",
              "version_major": 2,
              "version_minor": 0
            },
            "text/plain": [
              "  0%|          | 0/18 [00:00<?, ?it/s]"
            ]
          },
          "metadata": {},
          "output_type": "display_data"
        },
        {
          "name": "stdout",
          "output_type": "stream",
          "text": [
            "[8] test loss,  test accuracy: 55.350, 0.4941599281221923. train loss, train accuracy: 713.329, 0.9369042278793316\n"
          ]
        },
        {
          "data": {
            "application/vnd.jupyter.widget-view+json": {
              "model_id": "af9650160e184db6aae472edcb0af8ca",
              "version_major": 2,
              "version_minor": 0
            },
            "text/plain": [
              "  0%|          | 0/4459 [00:00<?, ?it/s]"
            ]
          },
          "metadata": {},
          "output_type": "display_data"
        },
        {
          "data": {
            "application/vnd.jupyter.widget-view+json": {
              "model_id": "471c4511ad4a47f483c15bbc331e23e5",
              "version_major": 2,
              "version_minor": 0
            },
            "text/plain": [
              "  0%|          | 0/18 [00:00<?, ?it/s]"
            ]
          },
          "metadata": {},
          "output_type": "display_data"
        },
        {
          "name": "stdout",
          "output_type": "stream",
          "text": [
            "[9] test loss,  test accuracy: 53.347, 0.5220125786163522. train loss, train accuracy: 677.394, 0.9410115509700572\n"
          ]
        },
        {
          "data": {
            "application/vnd.jupyter.widget-view+json": {
              "model_id": "7b2dda253e4745a6a383e5975af73b2c",
              "version_major": 2,
              "version_minor": 0
            },
            "text/plain": [
              "  0%|          | 0/4459 [00:00<?, ?it/s]"
            ]
          },
          "metadata": {},
          "output_type": "display_data"
        },
        {
          "data": {
            "application/vnd.jupyter.widget-view+json": {
              "model_id": "16e1d40c84184010b080e330e7a5f639",
              "version_major": 2,
              "version_minor": 0
            },
            "text/plain": [
              "  0%|          | 0/18 [00:00<?, ?it/s]"
            ]
          },
          "metadata": {},
          "output_type": "display_data"
        },
        {
          "name": "stdout",
          "output_type": "stream",
          "text": [
            "[10] test loss,  test accuracy: 61.485, 0.5220125786163522. train loss, train accuracy: 606.889, 0.9473898172030952\n"
          ]
        },
        {
          "data": {
            "application/vnd.jupyter.widget-view+json": {
              "model_id": "ff43c8a50d73459c88fc12e50d7ef31f",
              "version_major": 2,
              "version_minor": 0
            },
            "text/plain": [
              "  0%|          | 0/4459 [00:00<?, ?it/s]"
            ]
          },
          "metadata": {},
          "output_type": "display_data"
        },
        {
          "data": {
            "application/vnd.jupyter.widget-view+json": {
              "model_id": "e3269aa55fef4c4eafef646721b8a01c",
              "version_major": 2,
              "version_minor": 0
            },
            "text/plain": [
              "  0%|          | 0/18 [00:00<?, ?it/s]"
            ]
          },
          "metadata": {},
          "output_type": "display_data"
        },
        {
          "name": "stdout",
          "output_type": "stream",
          "text": [
            "[11] test loss,  test accuracy: 56.372, 0.518418688230009. train loss, train accuracy: 586.252, 0.9494574969160031\n"
          ]
        },
        {
          "data": {
            "application/vnd.jupyter.widget-view+json": {
              "model_id": "0b46204473e14697b3b0933b5e61514c",
              "version_major": 2,
              "version_minor": 0
            },
            "text/plain": [
              "  0%|          | 0/4459 [00:00<?, ?it/s]"
            ]
          },
          "metadata": {},
          "output_type": "display_data"
        },
        {
          "data": {
            "application/vnd.jupyter.widget-view+json": {
              "model_id": "9f9f173f867644ebb7a519c3da5f5785",
              "version_major": 2,
              "version_minor": 0
            },
            "text/plain": [
              "  0%|          | 0/18 [00:00<?, ?it/s]"
            ]
          },
          "metadata": {},
          "output_type": "display_data"
        },
        {
          "name": "stdout",
          "output_type": "stream",
          "text": [
            "[12] test loss,  test accuracy: 64.951, 0.522911051212938. train loss, train accuracy: 534.714, 0.9541956375462599\n"
          ]
        },
        {
          "data": {
            "application/vnd.jupyter.widget-view+json": {
              "model_id": "35c2035c2e8349ba92cd304a341b5926",
              "version_major": 2,
              "version_minor": 0
            },
            "text/plain": [
              "  0%|          | 0/4459 [00:00<?, ?it/s]"
            ]
          },
          "metadata": {},
          "output_type": "display_data"
        },
        {
          "data": {
            "application/vnd.jupyter.widget-view+json": {
              "model_id": "68b9339c53824eac869b933602a28b01",
              "version_major": 2,
              "version_minor": 0
            },
            "text/plain": [
              "  0%|          | 0/18 [00:00<?, ?it/s]"
            ]
          },
          "metadata": {},
          "output_type": "display_data"
        },
        {
          "name": "stdout",
          "output_type": "stream",
          "text": [
            "[13] test loss,  test accuracy: 65.150, 0.5265049415992812. train loss, train accuracy: 510.037, 0.956473589772345\n"
          ]
        },
        {
          "data": {
            "application/vnd.jupyter.widget-view+json": {
              "model_id": "4379593f27594a169aaa369cc0b6583b",
              "version_major": 2,
              "version_minor": 0
            },
            "text/plain": [
              "  0%|          | 0/4459 [00:00<?, ?it/s]"
            ]
          },
          "metadata": {},
          "output_type": "display_data"
        },
        {
          "data": {
            "application/vnd.jupyter.widget-view+json": {
              "model_id": "735a32b95cac4221895f7356508a2b86",
              "version_major": 2,
              "version_minor": 0
            },
            "text/plain": [
              "  0%|          | 0/18 [00:00<?, ?it/s]"
            ]
          },
          "metadata": {},
          "output_type": "display_data"
        },
        {
          "name": "stdout",
          "output_type": "stream",
          "text": [
            "[14] test loss,  test accuracy: 65.743, 0.5372866127583109. train loss, train accuracy: 493.445, 0.959256196030055\n"
          ]
        },
        {
          "data": {
            "application/vnd.jupyter.widget-view+json": {
              "model_id": "44df0aee57204bc897c1c515a8033d5d",
              "version_major": 2,
              "version_minor": 0
            },
            "text/plain": [
              "  0%|          | 0/4459 [00:00<?, ?it/s]"
            ]
          },
          "metadata": {},
          "output_type": "display_data"
        },
        {
          "data": {
            "application/vnd.jupyter.widget-view+json": {
              "model_id": "a9c7fcf1e11e428c849aeadf3aa8b9a8",
              "version_major": 2,
              "version_minor": 0
            },
            "text/plain": [
              "  0%|          | 0/18 [00:00<?, ?it/s]"
            ]
          },
          "metadata": {},
          "output_type": "display_data"
        },
        {
          "name": "stdout",
          "output_type": "stream",
          "text": [
            "[15] test loss,  test accuracy: 73.944, 0.5372866127583109. train loss, train accuracy: 453.395, 0.9617163844342268\n"
          ]
        },
        {
          "data": {
            "application/vnd.jupyter.widget-view+json": {
              "model_id": "5fb87d86977340dbabfad7d58f60b9cc",
              "version_major": 2,
              "version_minor": 0
            },
            "text/plain": [
              "  0%|          | 0/4459 [00:00<?, ?it/s]"
            ]
          },
          "metadata": {},
          "output_type": "display_data"
        },
        {
          "data": {
            "application/vnd.jupyter.widget-view+json": {
              "model_id": "2eb857bec47d4375958b77ddf0e9fcb0",
              "version_major": 2,
              "version_minor": 0
            },
            "text/plain": [
              "  0%|          | 0/18 [00:00<?, ?it/s]"
            ]
          },
          "metadata": {},
          "output_type": "display_data"
        },
        {
          "name": "stdout",
          "output_type": "stream",
          "text": [
            "[16] test loss,  test accuracy: 82.637, 0.48966756513926324. train loss, train accuracy: 431.260, 0.9641976000897162\n"
          ]
        },
        {
          "data": {
            "application/vnd.jupyter.widget-view+json": {
              "model_id": "c5df9d2b50254b1f821a736c63d6d2f3",
              "version_major": 2,
              "version_minor": 0
            },
            "text/plain": [
              "  0%|          | 0/4459 [00:00<?, ?it/s]"
            ]
          },
          "metadata": {},
          "output_type": "display_data"
        },
        {
          "data": {
            "application/vnd.jupyter.widget-view+json": {
              "model_id": "b743519ec4d347848731fab2076de8b7",
              "version_major": 2,
              "version_minor": 0
            },
            "text/plain": [
              "  0%|          | 0/18 [00:00<?, ?it/s]"
            ]
          },
          "metadata": {},
          "output_type": "display_data"
        },
        {
          "name": "stdout",
          "output_type": "stream",
          "text": [
            "[17] test loss,  test accuracy: 82.678, 0.5067385444743935. train loss, train accuracy: 414.408, 0.9654031624985981\n"
          ]
        },
        {
          "data": {
            "application/vnd.jupyter.widget-view+json": {
              "model_id": "d974f0e636fb4790bc805a8bda8965e4",
              "version_major": 2,
              "version_minor": 0
            },
            "text/plain": [
              "  0%|          | 0/4459 [00:00<?, ?it/s]"
            ]
          },
          "metadata": {},
          "output_type": "display_data"
        },
        {
          "data": {
            "application/vnd.jupyter.widget-view+json": {
              "model_id": "22ee8bdb28f34773bc092958f830b657",
              "version_major": 2,
              "version_minor": 0
            },
            "text/plain": [
              "  0%|          | 0/18 [00:00<?, ?it/s]"
            ]
          },
          "metadata": {},
          "output_type": "display_data"
        },
        {
          "name": "stdout",
          "output_type": "stream",
          "text": [
            "[18] test loss,  test accuracy: 82.440, 0.522911051212938. train loss, train accuracy: 421.563, 0.9652419535718291\n"
          ]
        },
        {
          "data": {
            "application/vnd.jupyter.widget-view+json": {
              "model_id": "1e1856ede3c94fd8a73691a18436548a",
              "version_major": 2,
              "version_minor": 0
            },
            "text/plain": [
              "  0%|          | 0/4459 [00:00<?, ?it/s]"
            ]
          },
          "metadata": {},
          "output_type": "display_data"
        },
        {
          "data": {
            "application/vnd.jupyter.widget-view+json": {
              "model_id": "eaee1336552448068e2df1ab9a835c4a",
              "version_major": 2,
              "version_minor": 0
            },
            "text/plain": [
              "  0%|          | 0/18 [00:00<?, ?it/s]"
            ]
          },
          "metadata": {},
          "output_type": "display_data"
        },
        {
          "name": "stdout",
          "output_type": "stream",
          "text": [
            "[19] test loss,  test accuracy: 81.804, 0.5121293800539084. train loss, train accuracy: 374.629, 0.9689217225524279\n"
          ]
        },
        {
          "data": {
            "application/vnd.jupyter.widget-view+json": {
              "model_id": "3a87ed300d34435b86dd2f78f0a30cb9",
              "version_major": 2,
              "version_minor": 0
            },
            "text/plain": [
              "  0%|          | 0/4459 [00:00<?, ?it/s]"
            ]
          },
          "metadata": {},
          "output_type": "display_data"
        },
        {
          "data": {
            "application/vnd.jupyter.widget-view+json": {
              "model_id": "defc99a39069499e92a3562ecf437cfa",
              "version_major": 2,
              "version_minor": 0
            },
            "text/plain": [
              "  0%|          | 0/18 [00:00<?, ?it/s]"
            ]
          },
          "metadata": {},
          "output_type": "display_data"
        },
        {
          "name": "stdout",
          "output_type": "stream",
          "text": [
            "[20] test loss,  test accuracy: 94.135, 0.48427672955974843. train loss, train accuracy: 365.433, 0.9701132667937648\n",
            "Finished Training\n"
          ]
        },
        {
          "data": {
            "text/plain": [
              "([1622.8176894336939,\n",
              "  1386.4375148303807,\n",
              "  1214.739313416183,\n",
              "  1075.8878328558058,\n",
              "  957.8873230712488,\n",
              "  864.7071212986484,\n",
              "  784.4303647847846,\n",
              "  713.3289337255992,\n",
              "  677.3942921482958,\n",
              "  606.8892610550392,\n",
              "  586.2518462750595,\n",
              "  534.7140477433568,\n",
              "  510.0368830433581,\n",
              "  493.44545494706836,\n",
              "  453.39538217463996,\n",
              "  431.2604200502392,\n",
              "  414.4081912614638,\n",
              "  421.562933307403,\n",
              "  374.62864198937314,\n",
              "  365.43342406839656],\n",
              " [0.8455057754850286,\n",
              "  0.8689932152069082,\n",
              "  0.8871116967589997,\n",
              "  0.900660255691376,\n",
              "  0.9132625883144555,\n",
              "  0.9223954244701132,\n",
              "  0.9304418526410227,\n",
              "  0.9369042278793316,\n",
              "  0.9410115509700572,\n",
              "  0.9473898172030952,\n",
              "  0.9494574969160031,\n",
              "  0.9541956375462599,\n",
              "  0.956473589772345,\n",
              "  0.959256196030055,\n",
              "  0.9617163844342268,\n",
              "  0.9641976000897162,\n",
              "  0.9654031624985981,\n",
              "  0.9652419535718291,\n",
              "  0.9689217225524279,\n",
              "  0.9701132667937648],\n",
              " [33.45046281814575,\n",
              "  34.63766658306122,\n",
              "  36.204177021980286,\n",
              "  37.348814725875854,\n",
              "  41.42718040943146,\n",
              "  51.14672291278839,\n",
              "  54.83684420585632,\n",
              "  55.350255250930786,\n",
              "  53.34683978557587,\n",
              "  61.48474335670471,\n",
              "  56.37158906459808,\n",
              "  64.95069432258606,\n",
              "  65.15034484863281,\n",
              "  65.7427339553833,\n",
              "  73.94361543655396,\n",
              "  82.63734292984009,\n",
              "  82.67781674861908,\n",
              "  82.44006168842316,\n",
              "  81.80360913276672,\n",
              "  94.13476037979126],\n",
              " [0.5336927223719676,\n",
              "  0.5265049415992812,\n",
              "  0.4995507637017071,\n",
              "  0.504941599281222,\n",
              "  0.5076370170709793,\n",
              "  0.49326145552560646,\n",
              "  0.4968553459119497,\n",
              "  0.4941599281221923,\n",
              "  0.5220125786163522,\n",
              "  0.5220125786163522,\n",
              "  0.518418688230009,\n",
              "  0.522911051212938,\n",
              "  0.5265049415992812,\n",
              "  0.5372866127583109,\n",
              "  0.5372866127583109,\n",
              "  0.48966756513926324,\n",
              "  0.5067385444743935,\n",
              "  0.522911051212938,\n",
              "  0.5121293800539084,\n",
              "  0.48427672955974843])"
            ]
          },
          "execution_count": 60,
          "metadata": {},
          "output_type": "execute_result"
        }
      ],
      "source": [
        "# Train for a further 20 epochs just to see test accuracy.\n",
        "net15 = train_model(net_final, 'mspec', epochs=20)"
      ]
    },
    {
      "cell_type": "markdown",
      "source": [
        "#### Visualisations"
      ],
      "metadata": {
        "id": "4I_09vLWJKm9"
      }
    },
    {
      "cell_type": "markdown",
      "source": [
        "The code for training history visualisations used in the dissertation was performed in another file. The code for the confusion matrix and ROC curve for the `final_net` model after 5 epochs was completed in this file."
      ],
      "metadata": {
        "id": "S9klOHOiv5tO"
      }
    },
    {
      "cell_type": "markdown",
      "source": [
        "### Reference list"
      ],
      "metadata": {
        "id": "Hla0dTuDTlBc"
      }
    },
    {
      "cell_type": "markdown",
      "source": [
        "Librosa 0.10.1 documentation: https://librosa.org/doc/main/"
      ],
      "metadata": {
        "id": "aA8onz5fULlN"
      }
    },
    {
      "cell_type": "markdown",
      "source": [
        "Precision-Recall, Scikit-learn 1.3.0 documentation: https://scikit-learn.org/stable/auto_examples/model_selection/plot_precision_recall.html#:~:text=Precision%2Drecall%20curves%20are%20typically,necessary%20to%20binarize%20the%20output."
      ],
      "metadata": {
        "id": "U1P2uvBeTmSt"
      }
    }
  ],
  "metadata": {
    "colab": {
      "provenance": [],
      "gpuType": "T4",
      "collapsed_sections": [
        "EVE9fYiRvmip"
      ]
    },
    "kernelspec": {
      "display_name": "Python 3",
      "name": "python3"
    },
    "language_info": {
      "name": "python"
    },
    "accelerator": "GPU"
  },
  "nbformat": 4,
  "nbformat_minor": 0
}